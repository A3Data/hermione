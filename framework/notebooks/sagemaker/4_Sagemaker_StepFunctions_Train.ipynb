{
 "cells": [
  {
   "cell_type": "markdown",
   "metadata": {},
   "source": [
    "# Build machine learning workflow to train a model with Amazon SageMaker and AWS Step Functions"
   ]
  },
  {
   "cell_type": "markdown",
   "metadata": {},
   "source": [
    "This script creates a Step Function state machine to preprocess the training data and train a model with the images in ECR."
   ]
  },
  {
   "cell_type": "markdown",
   "metadata": {},
   "source": [
    "## Import modules"
   ]
  },
  {
   "cell_type": "code",
   "execution_count": 1,
   "metadata": {},
   "outputs": [],
   "source": [
    "import uuid\n",
    "import boto3\n",
    "import sagemaker\n",
    "from sagemaker import get_execution_role\n",
    "from sagemaker.processing import Processor, ProcessingInput, ProcessingOutput\n",
    "import stepfunctions\n",
    "from stepfunctions.inputs import ExecutionInput\n",
    "from stepfunctions.workflow import Workflow\n",
    "from stepfunctions.steps import (\n",
    "    TrainingStep, \n",
    "    Chain,\n",
    "    ProcessingStep,\n",
    ")"
   ]
  },
  {
   "cell_type": "markdown",
   "metadata": {},
   "source": [
    "## Setup"
   ]
  },
  {
   "cell_type": "markdown",
   "metadata": {},
   "source": [
    "Modify according to your configurations."
   ]
  },
  {
   "cell_type": "code",
   "execution_count": 2,
   "metadata": {},
   "outputs": [],
   "source": [
    "# Bucket name in S3\n",
    "bucket = \"hermione-sagemaker\""
   ]
  },
  {
   "cell_type": "code",
   "execution_count": 3,
   "metadata": {},
   "outputs": [],
   "source": [
    "# Set session\n",
    "region_name=\"us-east-1\"\n",
    "boto3.setup_default_session(region_name=region_name)"
   ]
  },
  {
   "cell_type": "code",
   "execution_count": 4,
   "metadata": {},
   "outputs": [],
   "source": [
    "# Get user role\n",
    "role = get_execution_role()"
   ]
  },
  {
   "cell_type": "code",
   "execution_count": 5,
   "metadata": {},
   "outputs": [],
   "source": [
    "# Role to create and execute step functions\n",
    "# paste the AmazonSageMaker-StepFunctionsWorkflowExecutionRole ARN\n",
    "workflow_execution_role = \"\""
   ]
  },
  {
   "cell_type": "code",
   "execution_count": 6,
   "metadata": {},
   "outputs": [],
   "source": [
    "# SageMaker expects unique names for each job, model and endpoint.\n",
    "# Otherwise, the execution will fail. The ExecutionInput creates\n",
    "# dynamically names for each execution.\n",
    "execution_input = ExecutionInput(\n",
    "    schema={\n",
    "        \"PreprocessingJobName\": str,\n",
    "        \"TrainingJobName\": str\n",
    "    }\n",
    ")"
   ]
  },
  {
   "cell_type": "code",
   "execution_count": 7,
   "metadata": {},
   "outputs": [],
   "source": [
    "# Get AWS Account ID\n",
    "account_number = boto3.client(\"sts\").get_caller_identity()[\"Account\"]"
   ]
  },
  {
   "cell_type": "code",
   "execution_count": 8,
   "metadata": {},
   "outputs": [],
   "source": [
    "# Processor image name previous uploaded in ECR\n",
    "image_name_processor = \"hermione-processor\""
   ]
  },
  {
   "cell_type": "code",
   "execution_count": 9,
   "metadata": {},
   "outputs": [],
   "source": [
    "# Training image name previous uploaded in ECR\n",
    "image_name_train = \"hermione-train\""
   ]
  },
  {
   "cell_type": "code",
   "execution_count": 10,
   "metadata": {},
   "outputs": [],
   "source": [
    "# Input and output paths to execute\n",
    "paths = {\n",
    "    'train_raw': f\"s3://{bucket}/TRAIN_RAW\",\n",
    "    'expectations': f\"s3://{bucket}/PREPROCESSING/EXPECTATIONS\",\n",
    "    'preprocessing': f\"s3://{bucket}/PREPROCESSING/PREPROCESSING\",\n",
    "    'train_processed': f\"s3://{bucket}/PREPROCESSING/TRAIN_PROCESSED\",\n",
    "    'val_processed': f\"s3://{bucket}/PREPROCESSING/VAL_PROCESSED\",\n",
    "    'model': f\"s3://{bucket}/PREPROCESSING/MODEL\"\n",
    "}"
   ]
  },
  {
   "cell_type": "code",
   "execution_count": 11,
   "metadata": {},
   "outputs": [],
   "source": [
    "# instance to run the code\n",
    "instance_type_preprocessing=\"ml.t3.medium\"\n",
    "instance_type_train=\"ml.m5.large\""
   ]
  },
  {
   "cell_type": "markdown",
   "metadata": {},
   "source": [
    "## Preprocessing Step"
   ]
  },
  {
   "cell_type": "code",
   "execution_count": 12,
   "metadata": {},
   "outputs": [],
   "source": [
    "# Processor image previous uploaded in ECR\n",
    "image_uri_processor = f\"{account_number}.dkr.ecr.{region_name}.amazonaws.com/{image_name_processor}\""
   ]
  },
  {
   "cell_type": "code",
   "execution_count": 13,
   "metadata": {},
   "outputs": [],
   "source": [
    "# Creates the processor to access the ECR image\n",
    "processor = Processor(image_uri=image_uri_processor,\n",
    "                     role=role,\n",
    "                     instance_count=1,\n",
    "                     instance_type=instance_type_preprocessing)"
   ]
  },
  {
   "cell_type": "code",
   "execution_count": 14,
   "metadata": {},
   "outputs": [],
   "source": [
    "# Creates input and output objects for ProcessingStep\n",
    "inputs=[\n",
    "    ProcessingInput(source=paths['train_raw'], \n",
    "                    destination='/opt/ml/processing/input/raw_data', \n",
    "                    input_name=\"raw_data\")\n",
    "]\n",
    "outputs = [\n",
    "    ProcessingOutput(\n",
    "        source=\"/opt/ml/processing/output/expectations\",\n",
    "        destination=paths['expectations'],\n",
    "        output_name=\"expectations\",\n",
    "    ),\n",
    "    ProcessingOutput(\n",
    "        source=\"/opt/ml/processing/output/preprocessing\",\n",
    "        destination=paths['preprocessing'],\n",
    "        output_name=\"preprocessing\",\n",
    "    ),\n",
    "    ProcessingOutput(\n",
    "        source=\"/opt/ml/processing/output/processed/train\",\n",
    "        destination=paths['train_processed'],\n",
    "        output_name=\"train_data\",\n",
    "    ),\n",
    "    ProcessingOutput(\n",
    "        source=\"/opt/ml/processing/output/processed/val\",\n",
    "        destination=paths['val_processed'],\n",
    "        output_name=\"val_data\",\n",
    "    )\n",
    "]"
   ]
  },
  {
   "cell_type": "code",
   "execution_count": 15,
   "metadata": {},
   "outputs": [],
   "source": [
    "# Creates the ProcessingStep\n",
    "processing_step = ProcessingStep(\n",
    "    \"Preprocessing step\",\n",
    "    processor=processor,\n",
    "    job_name=execution_input[\"PreprocessingJobName\"],\n",
    "    inputs=inputs,\n",
    "    outputs=outputs,\n",
    "    container_arguments=[\"--step\", \"train\"]\n",
    ")"
   ]
  },
  {
   "cell_type": "markdown",
   "metadata": {},
   "source": [
    "## TrainingStep"
   ]
  },
  {
   "cell_type": "code",
   "execution_count": 16,
   "metadata": {},
   "outputs": [],
   "source": [
    "# Training image previous uploaded in ECR\n",
    "image_uri_train = f\"{account_number}.dkr.ecr.{region_name}.amazonaws.com/{image_name_train}\""
   ]
  },
  {
   "cell_type": "code",
   "execution_count": 17,
   "metadata": {},
   "outputs": [],
   "source": [
    "# Creates input and output objects for TrainingStep\n",
    "train_config = sagemaker.inputs.TrainingInput(\n",
    "    paths['train_processed'],\n",
    "    content_type='text/csv',\n",
    ")\n",
    "val_config = sagemaker.inputs.TrainingInput(\n",
    "    paths['val_processed'],\n",
    "    content_type='text/csv'\n",
    ")\n",
    "output_path = paths['model']"
   ]
  },
  {
   "cell_type": "code",
   "execution_count": 18,
   "metadata": {},
   "outputs": [],
   "source": [
    "# Creates the estimator to access the ECR image\n",
    "est = sagemaker.estimator.Estimator(\n",
    "    image_uri_train,\n",
    "    role, \n",
    "    instance_count=1, \n",
    "    instance_type=instance_type_train,\n",
    "    volume_size = 30,\n",
    "    output_path = output_path,\n",
    "    base_job_name = \"Hermione-Train\",\n",
    "    use_spot_instances=True,  # Usar instâncias SPOT\n",
    "    max_run = 24*60*60,\n",
    "    max_wait = 24*60*60       # timeout em segundos. Required if use_spot_instances == True\n",
    ")"
   ]
  },
  {
   "cell_type": "code",
   "execution_count": 19,
   "metadata": {},
   "outputs": [],
   "source": [
    "# Creates the TrainingStep\n",
    "training_step = TrainingStep(\n",
    "    'TrainStep',\n",
    "    estimator=est,\n",
    "    data={\n",
    "        'train': train_config,\n",
    "        'validation': val_config\n",
    "    }, \n",
    "    job_name=execution_input[\"TrainingJobName\"] \n",
    ")"
   ]
  },
  {
   "cell_type": "markdown",
   "metadata": {},
   "source": [
    "## Create Workflow and Execute"
   ]
  },
  {
   "cell_type": "code",
   "execution_count": 20,
   "metadata": {},
   "outputs": [],
   "source": [
    "# Creates Fail state to mark the workflow failed in case any of the steps fail.\n",
    "failed_state_sagemaker_processing_failure = stepfunctions.steps.states.Fail(\n",
    "    \"ML Workflow failed\", cause=\"SageMakerProcessingJobFailed\"\n",
    ")"
   ]
  },
  {
   "cell_type": "code",
   "execution_count": 21,
   "metadata": {},
   "outputs": [],
   "source": [
    "# Adds the Error handling in the workflow\n",
    "catch_state_processing = stepfunctions.steps.states.Catch(\n",
    "    error_equals=[\"States.TaskFailed\"],\n",
    "    next_step=failed_state_sagemaker_processing_failure,\n",
    ")\n",
    "\n",
    "processing_step.add_catch(catch_state_processing)\n",
    "training_step.add_catch(catch_state_processing)"
   ]
  },
  {
   "cell_type": "code",
   "execution_count": null,
   "metadata": {},
   "outputs": [],
   "source": [
    "# Creates workflow with Pre-Processing Job and Training Job\n",
    "workflow_graph = Chain([processing_step, training_step])\n",
    "branching_workflow = Workflow(\n",
    "    name=\"SFN_Hermione_Train\",\n",
    "    definition=workflow_graph,\n",
    "    role=workflow_execution_role,\n",
    ")\n",
    "branching_workflow.create()"
   ]
  },
  {
   "cell_type": "code",
   "execution_count": 23,
   "metadata": {},
   "outputs": [],
   "source": [
    "# Generates unique names for Pre-Processing Job and Training Job\n",
    "# Each job requires a unique name\n",
    "preprocessing_job_name = \"Hermione-Preprocessing-{}\".format(\n",
    "    uuid.uuid1().hex\n",
    ") \n",
    "training_job_name = \"Hermione-Training-{}\".format(\n",
    "    uuid.uuid1().hex\n",
    ") "
   ]
  },
  {
   "cell_type": "code",
   "execution_count": 24,
   "metadata": {},
   "outputs": [
    {
     "data": {
      "text/html": [
       "\n",
       "<link rel=\"stylesheet\" type=\"text/css\" href=\"https://do0of8uwbahzz.cloudfront.net/graph.css\">\n",
       "<div id=\"graph-813\" class=\"workflowgraph\">\n",
       "    \n",
       "    <style>\n",
       "        .graph-legend ul {\n",
       "            list-style-type: none;\n",
       "            padding: 10px;\n",
       "            padding-left: 0;\n",
       "            margin: 0;\n",
       "            position: absolute;\n",
       "            top: 0;\n",
       "            background: transparent;\n",
       "        }\n",
       "\n",
       "        .graph-legend li {\n",
       "            margin-left: 10px;\n",
       "            display: inline-block;\n",
       "        }\n",
       "\n",
       "        .graph-legend li > div {\n",
       "            width: 10px;\n",
       "            height: 10px;\n",
       "            display: inline-block;\n",
       "        }\n",
       "\n",
       "        .graph-legend .success { background-color: #2BD62E }\n",
       "        .graph-legend .failed { background-color: #DE322F }\n",
       "        .graph-legend .cancelled { background-color: #DDDDDD }\n",
       "        .graph-legend .in-progress { background-color: #53C9ED }\n",
       "        .graph-legend .caught-error { background-color: #FFA500 }\n",
       "    </style>\n",
       "    <div class=\"graph-legend\">\n",
       "        <ul>\n",
       "            <li>\n",
       "                <div class=\"success\"></div>\n",
       "                <span>Success</span>\n",
       "            </li>\n",
       "            <li>\n",
       "                <div class=\"failed\"></div>\n",
       "                <span>Failed</span>\n",
       "            </li>\n",
       "            <li>\n",
       "                <div class=\"cancelled\"></div>\n",
       "                <span>Cancelled</span>\n",
       "            </li>\n",
       "            <li>\n",
       "                <div class=\"in-progress\"></div>\n",
       "                <span>In Progress</span>\n",
       "            </li>\n",
       "            <li>\n",
       "                <div class=\"caught-error\"></div>\n",
       "                <span>Caught Error</span>\n",
       "            </li>\n",
       "        </ul>\n",
       "    </div>\n",
       "\n",
       "    <svg></svg>\n",
       "    <a href=\"https://console.aws.amazon.com/states/home?region=us-east-1#/executions/details/arn:aws:states:us-east-1:127012818163:execution:SFN_Hermione_Train:e6363910-0e90-4764-a22e-38d50634f8d4\" target=\"_blank\"> Inspect in AWS Step Functions </a>\n",
       "</div>\n",
       "\n",
       "<script type=\"text/javascript\">\n",
       "\n",
       "require.config({\n",
       "    paths: {\n",
       "        sfn: \"https://do0of8uwbahzz.cloudfront.net/sfn\",\n",
       "    }\n",
       "});\n",
       "\n",
       "require(['sfn'], function(sfn) {\n",
       "    var element = document.getElementById('graph-813')\n",
       "\n",
       "    var options = {\n",
       "        width: parseFloat(getComputedStyle(element, null).width.replace(\"px\", \"\")),\n",
       "        height: 1000,\n",
       "        layout: 'LR',\n",
       "        resizeHeight: true\n",
       "    };\n",
       "\n",
       "    var definition = {\"StartAt\": \"Preprocessing step\", \"States\": {\"Preprocessing step\": {\"Resource\": \"arn:aws:states:::sagemaker:createProcessingJob.sync\", \"Parameters\": {\"ProcessingJobName.$\": \"$$.Execution.Input['PreprocessingJobName']\", \"ProcessingInputs\": [{\"InputName\": \"raw_data\", \"AppManaged\": false, \"S3Input\": {\"S3Uri\": \"s3://hermione-sagemaker/TRAIN_RAW\", \"LocalPath\": \"/opt/ml/processing/input/raw_data\", \"S3DataType\": \"S3Prefix\", \"S3InputMode\": \"File\", \"S3DataDistributionType\": \"FullyReplicated\", \"S3CompressionType\": \"None\"}}], \"ProcessingOutputConfig\": {\"Outputs\": [{\"OutputName\": \"expectations\", \"AppManaged\": false, \"S3Output\": {\"S3Uri\": \"s3://hermione-sagemaker/PREPROCESSING/EXPECTATIONS\", \"LocalPath\": \"/opt/ml/processing/output/expectations\", \"S3UploadMode\": \"EndOfJob\"}}, {\"OutputName\": \"preprocessing\", \"AppManaged\": false, \"S3Output\": {\"S3Uri\": \"s3://hermione-sagemaker/PREPROCESSING/PREPROCESSING\", \"LocalPath\": \"/opt/ml/processing/output/preprocessing\", \"S3UploadMode\": \"EndOfJob\"}}, {\"OutputName\": \"train_data\", \"AppManaged\": false, \"S3Output\": {\"S3Uri\": \"s3://hermione-sagemaker/PREPROCESSING/TRAIN_PROCESSED\", \"LocalPath\": \"/opt/ml/processing/output/processed/train\", \"S3UploadMode\": \"EndOfJob\"}}, {\"OutputName\": \"val_data\", \"AppManaged\": false, \"S3Output\": {\"S3Uri\": \"s3://hermione-sagemaker/PREPROCESSING/VAL_PROCESSED\", \"LocalPath\": \"/opt/ml/processing/output/processed/val\", \"S3UploadMode\": \"EndOfJob\"}}]}, \"AppSpecification\": {\"ImageUri\": \"127012818163.dkr.ecr.us-east-1.amazonaws.com/hermione-processor\", \"ContainerArguments\": [\"--step\", \"train\"]}, \"RoleArn\": \"arn:aws:iam::127012818163:role/service-role/AmazonSageMaker-ExecutionRole-20210518T105032\", \"ProcessingResources\": {\"ClusterConfig\": {\"InstanceCount\": 1, \"InstanceType\": \"ml.t3.medium\", \"VolumeSizeInGB\": 30}}}, \"Type\": \"Task\", \"Next\": \"TrainStep\", \"Catch\": [{\"ErrorEquals\": [\"States.TaskFailed\"], \"Next\": \"ML Workflow failed\"}]}, \"TrainStep\": {\"Resource\": \"arn:aws:states:::sagemaker:createTrainingJob.sync\", \"Parameters\": {\"AlgorithmSpecification\": {\"TrainingImage\": \"127012818163.dkr.ecr.us-east-1.amazonaws.com/hermione-train\", \"TrainingInputMode\": \"File\"}, \"OutputDataConfig\": {\"S3OutputPath\": \"s3://hermione-sagemaker/PREPROCESSING/MODEL\"}, \"StoppingCondition\": {\"MaxRuntimeInSeconds\": 86400, \"MaxWaitTimeInSeconds\": 86400}, \"ResourceConfig\": {\"InstanceCount\": 1, \"InstanceType\": \"ml.m5.large\", \"VolumeSizeInGB\": 30}, \"RoleArn\": \"arn:aws:iam::127012818163:role/service-role/AmazonSageMaker-ExecutionRole-20210518T105032\", \"InputDataConfig\": [{\"DataSource\": {\"S3DataSource\": {\"S3DataType\": \"S3Prefix\", \"S3Uri\": \"s3://hermione-sagemaker/PREPROCESSING/TRAIN_PROCESSED\", \"S3DataDistributionType\": \"FullyReplicated\"}}, \"ContentType\": \"text/csv\", \"ChannelName\": \"train\"}, {\"DataSource\": {\"S3DataSource\": {\"S3DataType\": \"S3Prefix\", \"S3Uri\": \"s3://hermione-sagemaker/PREPROCESSING/VAL_PROCESSED\", \"S3DataDistributionType\": \"FullyReplicated\"}}, \"ContentType\": \"text/csv\", \"ChannelName\": \"validation\"}], \"EnableManagedSpotTraining\": true, \"TrainingJobName.$\": \"$$.Execution.Input['TrainingJobName']\"}, \"Type\": \"Task\", \"End\": true, \"Catch\": [{\"ErrorEquals\": [\"States.TaskFailed\"], \"Next\": \"ML Workflow failed\"}]}, \"ML Workflow failed\": {\"Cause\": \"SageMakerProcessingJobFailed\", \"Type\": \"Fail\"}}};\n",
       "    var elementId = '#graph-813';\n",
       "    var events = { 'events': [{\"timestamp\": 1622034910.492, \"type\": \"ExecutionStarted\", \"id\": 1, \"previousEventId\": 0, \"executionStartedEventDetails\": {\"input\": \"{\\n    \\\"PreprocessingJobName\\\": \\\"Hermione-Preprocessing-6562e0bebe2411ebbd7412923cfd829f\\\",\\n    \\\"TrainingJobName\\\": \\\"Hermione-Training-6562ec6cbe2411ebbd7412923cfd829f\\\"\\n}\", \"inputDetails\": {\"truncated\": false}, \"roleArn\": \"arn:aws:iam::127012818163:role/Execution-Step-Functions\"}}, {\"timestamp\": 1622034910.526, \"type\": \"TaskStateEntered\", \"id\": 2, \"previousEventId\": 0, \"stateEnteredEventDetails\": {\"name\": \"Preprocessing step\", \"input\": \"{\\n    \\\"PreprocessingJobName\\\": \\\"Hermione-Preprocessing-6562e0bebe2411ebbd7412923cfd829f\\\",\\n    \\\"TrainingJobName\\\": \\\"Hermione-Training-6562ec6cbe2411ebbd7412923cfd829f\\\"\\n}\", \"inputDetails\": {\"truncated\": false}}}, {\"timestamp\": 1622034910.526, \"type\": \"TaskScheduled\", \"id\": 3, \"previousEventId\": 2, \"taskScheduledEventDetails\": {\"resourceType\": \"sagemaker\", \"resource\": \"createProcessingJob.sync\", \"region\": \"us-east-1\", \"parameters\": \"{\\\"ProcessingInputs\\\":[{\\\"InputName\\\":\\\"raw_data\\\",\\\"AppManaged\\\":false,\\\"S3Input\\\":{\\\"S3Uri\\\":\\\"s3://hermione-sagemaker/TRAIN_RAW\\\",\\\"LocalPath\\\":\\\"/opt/ml/processing/input/raw_data\\\",\\\"S3DataType\\\":\\\"S3Prefix\\\",\\\"S3InputMode\\\":\\\"File\\\",\\\"S3DataDistributionType\\\":\\\"FullyReplicated\\\",\\\"S3CompressionType\\\":\\\"None\\\"}}],\\\"ProcessingOutputConfig\\\":{\\\"Outputs\\\":[{\\\"OutputName\\\":\\\"expectations\\\",\\\"AppManaged\\\":false,\\\"S3Output\\\":{\\\"S3Uri\\\":\\\"s3://hermione-sagemaker/PREPROCESSING/EXPECTATIONS\\\",\\\"LocalPath\\\":\\\"/opt/ml/processing/output/expectations\\\",\\\"S3UploadMode\\\":\\\"EndOfJob\\\"}},{\\\"OutputName\\\":\\\"preprocessing\\\",\\\"AppManaged\\\":false,\\\"S3Output\\\":{\\\"S3Uri\\\":\\\"s3://hermione-sagemaker/PREPROCESSING/PREPROCESSING\\\",\\\"LocalPath\\\":\\\"/opt/ml/processing/output/preprocessing\\\",\\\"S3UploadMode\\\":\\\"EndOfJob\\\"}},{\\\"OutputName\\\":\\\"train_data\\\",\\\"AppManaged\\\":false,\\\"S3Output\\\":{\\\"S3Uri\\\":\\\"s3://hermione-sagemaker/PREPROCESSING/TRAIN_PROCESSED\\\",\\\"LocalPath\\\":\\\"/opt/ml/processing/output/processed/train\\\",\\\"S3UploadMode\\\":\\\"EndOfJob\\\"}},{\\\"OutputName\\\":\\\"val_data\\\",\\\"AppManaged\\\":false,\\\"S3Output\\\":{\\\"S3Uri\\\":\\\"s3://hermione-sagemaker/PREPROCESSING/VAL_PROCESSED\\\",\\\"LocalPath\\\":\\\"/opt/ml/processing/output/processed/val\\\",\\\"S3UploadMode\\\":\\\"EndOfJob\\\"}}]},\\\"AppSpecification\\\":{\\\"ImageUri\\\":\\\"127012818163.dkr.ecr.us-east-1.amazonaws.com/hermione-processor\\\",\\\"ContainerArguments\\\":[\\\"--step\\\",\\\"train\\\"]},\\\"RoleArn\\\":\\\"arn:aws:iam::127012818163:role/service-role/AmazonSageMaker-ExecutionRole-20210518T105032\\\",\\\"ProcessingResources\\\":{\\\"ClusterConfig\\\":{\\\"InstanceCount\\\":1,\\\"InstanceType\\\":\\\"ml.t3.medium\\\",\\\"VolumeSizeInGB\\\":30}},\\\"ProcessingJobName\\\":\\\"Hermione-Preprocessing-6562e0bebe2411ebbd7412923cfd829f\\\",\\\"Tags\\\":[{\\\"Key\\\":\\\"MANAGED_BY_AWS\\\",\\\"Value\\\":\\\"STARTED_BY_STEP_FUNCTIONS\\\"}]}\"}}, {\"timestamp\": 1622034910.566, \"type\": \"TaskStarted\", \"id\": 4, \"previousEventId\": 3, \"taskStartedEventDetails\": {\"resourceType\": \"sagemaker\", \"resource\": \"createProcessingJob.sync\"}}] };\n",
       "\n",
       "    var graph = new sfn.StateMachineExecutionGraph(definition, events, elementId, options);\n",
       "    graph.render();\n",
       "});\n",
       "\n",
       "</script>\n"
      ],
      "text/plain": [
       "<IPython.core.display.HTML object>"
      ]
     },
     "execution_count": 24,
     "metadata": {},
     "output_type": "execute_result"
    }
   ],
   "source": [
    "# Executes the workflow\n",
    "execution = branching_workflow.execute(\n",
    "    inputs={\n",
    "        \"PreprocessingJobName\": preprocessing_job_name,\n",
    "        \"TrainingJobName\": training_job_name\n",
    "    }\n",
    ")\n",
    "execution_output = execution.get_output(wait=False)\n",
    "execution.render_progress()"
   ]
  }
 ],
 "metadata": {
  "kernelspec": {
   "display_name": "conda_python3",
   "language": "python",
   "name": "conda_python3"
  },
  "language_info": {
   "codemirror_mode": {
    "name": "ipython",
    "version": 3
   },
   "file_extension": ".py",
   "mimetype": "text/x-python",
   "name": "python",
   "nbconvert_exporter": "python",
   "pygments_lexer": "ipython3",
   "version": "3.6.13"
  }
 },
 "nbformat": 4,
 "nbformat_minor": 4
}
