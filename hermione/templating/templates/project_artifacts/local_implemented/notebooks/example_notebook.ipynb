{
 "cells": [
  {
   "cell_type": "markdown",
   "metadata": {},
   "source": [
    "# Notebook example"
   ]
  },
  {
   "cell_type": "code",
   "execution_count": 1,
   "metadata": {
    "pycharm": {
     "name": "#%%\n"
    }
   },
   "outputs": [],
   "source": [
    "%load_ext autoreload\n",
    "%autoreload 2"
   ]
  },
  {
   "cell_type": "code",
   "execution_count": 2,
   "metadata": {},
   "outputs": [],
   "source": [
    "import warnings\n",
    "warnings.filterwarnings('ignore')"
   ]
  },
  {
   "cell_type": "code",
   "execution_count": 3,
   "metadata": {},
   "outputs": [
    {
     "name": "stderr",
     "output_type": "stream",
     "text": [
      "/home/alex/projects/hermione_dev/project_test/project_test_env/lib/python3.8/site-packages/mlflow/types/schema.py:49: DeprecationWarning: `np.object` is a deprecated alias for the builtin `object`. To silence this warning, use `object` by itself. Doing this will not modify any behavior and is safe. \n",
      "Deprecated in NumPy 1.20; for more details and guidance: https://numpy.org/devdocs/release/1.20.0-notes.html#deprecations\n",
      "  binary = (7, np.dtype(\"bytes\"), \"BinaryType\", np.object)\n"
     ]
    },
    {
     "name": "stdout",
     "output_type": "stream",
     "text": [
      "Could not import lightgbm, required if using LGBMExplainableModel\n"
     ]
    }
   ],
   "source": [
    "import pandas as pd\n",
    "\n",
    "from src.data_source.spreadsheet import Spreadsheet\n",
    "from src.preprocessing._preprocessing import Preprocessing\n",
    "from src.model import TrainerSklearn\n",
    "\n",
    "from sklearn.model_selection import train_test_split\n",
    "from sklearn.ensemble import RandomForestClassifier"
   ]
  },
  {
   "cell_type": "code",
   "execution_count": 4,
   "metadata": {},
   "outputs": [],
   "source": [
    "df = Spreadsheet().get_data('../data/raw/train.csv')"
   ]
  },
  {
   "cell_type": "code",
   "execution_count": 5,
   "metadata": {},
   "outputs": [
    {
     "data": {
      "text/plain": [
       "Index(['Survived', 'Pclass', 'Sex', 'Age'], dtype='object')"
      ]
     },
     "execution_count": 5,
     "metadata": {},
     "output_type": "execute_result"
    }
   ],
   "source": [
    "df.columns"
   ]
  },
  {
   "cell_type": "code",
   "execution_count": 6,
   "metadata": {},
   "outputs": [],
   "source": [
    "p = Preprocessing()"
   ]
  },
  {
   "cell_type": "code",
   "execution_count": 7,
   "metadata": {},
   "outputs": [
    {
     "name": "stderr",
     "output_type": "stream",
     "text": [
      "INFO:root:Cleaning data\n",
      "INFO:root:Category encoding\n"
     ]
    }
   ],
   "source": [
    "df = p.clean_data(df)\n",
    "df = p.categ_encoding(df)"
   ]
  },
  {
   "cell_type": "code",
   "execution_count": 8,
   "metadata": {},
   "outputs": [
    {
     "data": {
      "text/html": [
       "<div>\n",
       "<style scoped>\n",
       "    .dataframe tbody tr th:only-of-type {\n",
       "        vertical-align: middle;\n",
       "    }\n",
       "\n",
       "    .dataframe tbody tr th {\n",
       "        vertical-align: top;\n",
       "    }\n",
       "\n",
       "    .dataframe thead th {\n",
       "        text-align: right;\n",
       "    }\n",
       "</style>\n",
       "<table border=\"1\" class=\"dataframe\">\n",
       "  <thead>\n",
       "    <tr style=\"text-align: right;\">\n",
       "      <th></th>\n",
       "      <th>Survived</th>\n",
       "      <th>Age</th>\n",
       "      <th>Pclass_1</th>\n",
       "      <th>Pclass_2</th>\n",
       "      <th>Pclass_3</th>\n",
       "      <th>Sex_female</th>\n",
       "      <th>Sex_male</th>\n",
       "    </tr>\n",
       "  </thead>\n",
       "  <tbody>\n",
       "    <tr>\n",
       "      <th>0</th>\n",
       "      <td>0</td>\n",
       "      <td>22.0</td>\n",
       "      <td>0</td>\n",
       "      <td>0</td>\n",
       "      <td>1</td>\n",
       "      <td>0</td>\n",
       "      <td>1</td>\n",
       "    </tr>\n",
       "    <tr>\n",
       "      <th>1</th>\n",
       "      <td>1</td>\n",
       "      <td>38.0</td>\n",
       "      <td>1</td>\n",
       "      <td>0</td>\n",
       "      <td>0</td>\n",
       "      <td>1</td>\n",
       "      <td>0</td>\n",
       "    </tr>\n",
       "    <tr>\n",
       "      <th>2</th>\n",
       "      <td>1</td>\n",
       "      <td>26.0</td>\n",
       "      <td>0</td>\n",
       "      <td>0</td>\n",
       "      <td>1</td>\n",
       "      <td>1</td>\n",
       "      <td>0</td>\n",
       "    </tr>\n",
       "    <tr>\n",
       "      <th>3</th>\n",
       "      <td>1</td>\n",
       "      <td>35.0</td>\n",
       "      <td>1</td>\n",
       "      <td>0</td>\n",
       "      <td>0</td>\n",
       "      <td>1</td>\n",
       "      <td>0</td>\n",
       "    </tr>\n",
       "    <tr>\n",
       "      <th>4</th>\n",
       "      <td>0</td>\n",
       "      <td>35.0</td>\n",
       "      <td>0</td>\n",
       "      <td>0</td>\n",
       "      <td>1</td>\n",
       "      <td>0</td>\n",
       "      <td>1</td>\n",
       "    </tr>\n",
       "  </tbody>\n",
       "</table>\n",
       "</div>"
      ],
      "text/plain": [
       "   Survived   Age  Pclass_1  Pclass_2  Pclass_3  Sex_female  Sex_male\n",
       "0         0  22.0         0         0         1           0         1\n",
       "1         1  38.0         1         0         0           1         0\n",
       "2         1  26.0         0         0         1           1         0\n",
       "3         1  35.0         1         0         0           1         0\n",
       "4         0  35.0         0         0         1           0         1"
      ]
     },
     "execution_count": 8,
     "metadata": {},
     "output_type": "execute_result"
    }
   ],
   "source": [
    "df.head()"
   ]
  },
  {
   "cell_type": "code",
   "execution_count": 9,
   "metadata": {},
   "outputs": [],
   "source": [
    "X = df.drop(columns=[\"Survived\"])\n",
    "y = df[\"Survived\"]"
   ]
  },
  {
   "cell_type": "code",
   "execution_count": 10,
   "metadata": {},
   "outputs": [
    {
     "data": {
      "text/plain": [
       "((499, 6), (215, 6), (499,), (215,))"
      ]
     },
     "execution_count": 10,
     "metadata": {},
     "output_type": "execute_result"
    }
   ],
   "source": [
    "# Ensure the same random state passed to TrainerSkleran().train()\n",
    "X_train, X_test, y_train, y_test = train_test_split(X, y, test_size=0.3, random_state=123)\n",
    "X_train.shape, X_test.shape, y_train.shape, y_test.shape"
   ]
  },
  {
   "cell_type": "code",
   "execution_count": 11,
   "metadata": {},
   "outputs": [
    {
     "name": "stderr",
     "output_type": "stream",
     "text": [
      "INFO:interpret_community.TabularExplainer:Initialized valid explainer TreeExplainer with args {'explain_subset': None, 'features': ['Age', 'Pclass_1', 'Pclass_2', 'Pclass_3', 'Sex_female', 'Sex_male'], 'classes': None}\n"
     ]
    }
   ],
   "source": [
    "rf = TrainerSklearn().train(X, y, classification=True, \n",
    "                            algorithm=RandomForestClassifier, \n",
    "                            preprocessing=p,\n",
    "                           data_split=('train_test', {'test_size':.3}),\n",
    "                           random_state=123)"
   ]
  },
  {
   "cell_type": "code",
   "execution_count": 12,
   "metadata": {},
   "outputs": [
    {
     "data": {
      "text/plain": [
       "{'accuracy': 0.7767441860465116,\n",
       " 'f1': 0.7272727272727273,\n",
       " 'precision': 0.735632183908046,\n",
       " 'recall': 0.7191011235955056,\n",
       " 'roc_auc': 0.8491171749598716}"
      ]
     },
     "execution_count": 12,
     "metadata": {},
     "output_type": "execute_result"
    }
   ],
   "source": [
    "rf.get_metrics()"
   ]
  },
  {
   "cell_type": "code",
   "execution_count": 13,
   "metadata": {},
   "outputs": [
    {
     "data": {
      "text/plain": [
       "['Age', 'Pclass_1', 'Pclass_2', 'Pclass_3', 'Sex_female', 'Sex_male']"
      ]
     },
     "execution_count": 13,
     "metadata": {},
     "output_type": "execute_result"
    }
   ],
   "source": [
    "rf.get_columns()"
   ]
  },
  {
   "cell_type": "code",
   "execution_count": 14,
   "metadata": {},
   "outputs": [
    {
     "data": {
      "text/plain": [
       "array([1.        , 0.47116667, 0.518     , 0.99666667, 0.58      ,\n",
       "       0.        , 0.08706678, 0.        , 0.045     , 0.97      ,\n",
       "       0.66058333, 0.12088798, 0.12088798, 0.99      , 0.82416667,\n",
       "       0.28875   , 0.        , 0.60293432, 1.        , 0.        ,\n",
       "       0.02688095, 1.        , 0.55566667, 0.76868254, 0.97      ,\n",
       "       1.        , 0.0058422 , 1.        , 0.0075    , 0.1906815 ,\n",
       "       0.        , 0.        , 1.        , 0.07107984, 0.        ,\n",
       "       0.98166667, 0.60293432, 0.08376543, 0.18225144, 0.        ,\n",
       "       0.03833333, 0.        , 0.30304762, 0.04      , 1.        ,\n",
       "       0.4175    , 0.06      , 1.        , 1.        , 0.35062302,\n",
       "       0.08706678, 0.99      , 0.        , 0.09      , 1.        ,\n",
       "       0.60293432, 1.        , 0.        , 0.12088798, 0.00375   ,\n",
       "       1.        , 1.        , 0.08706678, 0.        , 0.32579762,\n",
       "       0.00875   , 0.00375   , 1.        , 0.        , 0.60293432,\n",
       "       0.08706678, 0.09      , 0.3525    , 0.47416667, 0.60105556,\n",
       "       0.        , 0.        , 0.        , 0.12088798, 0.        ,\n",
       "       0.18225144, 0.98166667, 1.        , 0.48816667, 0.30304762,\n",
       "       1.        , 1.        , 1.        , 0.13537202, 0.34583333,\n",
       "       0.0825    , 0.528     , 0.01      , 0.24666775, 0.82      ,\n",
       "       0.34      , 0.26309524, 1.        , 0.304     , 0.99      ,\n",
       "       0.00666667, 1.        , 0.19715079, 0.45780952, 0.36219048,\n",
       "       0.        , 1.        , 0.        , 0.01969048, 0.        ,\n",
       "       0.        , 0.035     , 1.        , 1.        , 0.34      ,\n",
       "       0.24666775, 0.32579762, 0.0075    , 0.        , 0.        ,\n",
       "       0.98      , 0.13537202, 0.        , 0.36219048, 0.        ,\n",
       "       0.        , 0.01      , 0.76268254, 0.1906815 , 0.55540765,\n",
       "       0.935     , 1.        , 0.65357143, 0.31      , 0.12088798,\n",
       "       0.08376543, 0.        , 0.        , 0.00666667, 0.01166667,\n",
       "       0.93783333, 0.        , 0.99833333, 0.08706678, 0.00666667,\n",
       "       1.        , 0.        , 0.19715079, 0.88      , 0.09      ,\n",
       "       0.82840476, 0.98      , 0.19004437, 0.82233333, 0.        ,\n",
       "       0.19004437, 0.34405952, 0.24666775, 0.46397619, 0.4115    ,\n",
       "       0.02542857, 1.        , 0.02972619, 0.        , 0.0075    ,\n",
       "       0.33035714, 0.99      , 0.2315    , 0.00666667, 0.01      ,\n",
       "       0.845     , 0.045     , 1.        , 0.        , 0.00875   ,\n",
       "       0.96      , 0.47142857, 1.        , 1.        , 0.13537202,\n",
       "       0.82      , 0.        , 0.00875   , 1.        , 1.        ,\n",
       "       0.99      , 0.61      , 0.91377778, 0.97      , 0.13556746,\n",
       "       0.        , 0.522     , 0.4115    , 0.06      , 0.45780952,\n",
       "       0.        , 0.        , 0.        , 0.        , 0.935     ,\n",
       "       1.        , 0.29      , 1.        , 0.299     , 1.        ,\n",
       "       0.        , 1.        , 0.13537202, 0.        , 0.50683333,\n",
       "       0.        , 1.        , 0.01      , 0.235     , 0.00375   ])"
      ]
     },
     "execution_count": 14,
     "metadata": {},
     "output_type": "execute_result"
    }
   ],
   "source": [
    "rf.predict_proba(X_test, binary=True)"
   ]
  },
  {
   "cell_type": "code",
   "execution_count": 15,
   "metadata": {},
   "outputs": [],
   "source": [
    "# Predicting new data\n",
    "def predict_new(X, model, probs=True):\n",
    "    X = p.clean_data(X)\n",
    "    X = p.categ_encoding(X)\n",
    "    \n",
    "    columns = model.get_columns()\n",
    "    for col in columns:\n",
    "        if col not in X.columns:\n",
    "            X[col] = 0\n",
    "    print(X)\n",
    "    if probs:\n",
    "        return model.predict_proba(X)\n",
    "    else:\n",
    "        return model.predict(X)"
   ]
  },
  {
   "cell_type": "code",
   "execution_count": 16,
   "metadata": {
    "pycharm": {
     "name": "#%%\n"
    }
   },
   "outputs": [
    {
     "data": {
      "text/html": [
       "<div>\n",
       "<style scoped>\n",
       "    .dataframe tbody tr th:only-of-type {\n",
       "        vertical-align: middle;\n",
       "    }\n",
       "\n",
       "    .dataframe tbody tr th {\n",
       "        vertical-align: top;\n",
       "    }\n",
       "\n",
       "    .dataframe thead th {\n",
       "        text-align: right;\n",
       "    }\n",
       "</style>\n",
       "<table border=\"1\" class=\"dataframe\">\n",
       "  <thead>\n",
       "    <tr style=\"text-align: right;\">\n",
       "      <th></th>\n",
       "      <th>Pclass</th>\n",
       "      <th>Sex</th>\n",
       "      <th>Age</th>\n",
       "    </tr>\n",
       "  </thead>\n",
       "  <tbody>\n",
       "    <tr>\n",
       "      <th>0</th>\n",
       "      <td>3</td>\n",
       "      <td>male</td>\n",
       "      <td>4</td>\n",
       "    </tr>\n",
       "  </tbody>\n",
       "</table>\n",
       "</div>"
      ],
      "text/plain": [
       "   Pclass   Sex  Age\n",
       "0       3  male    4"
      ]
     },
     "execution_count": 16,
     "metadata": {},
     "output_type": "execute_result"
    }
   ],
   "source": [
    "new_data = pd.DataFrame({\n",
    "    'Pclass':3,\n",
    "    'Sex': 'male',\n",
    "    'Age':4\n",
    "}, index=[0])\n",
    "\n",
    "new_data"
   ]
  },
  {
   "cell_type": "code",
   "execution_count": 17,
   "metadata": {},
   "outputs": [
    {
     "name": "stderr",
     "output_type": "stream",
     "text": [
      "INFO:root:Cleaning data\n",
      "INFO:root:Category encoding\n"
     ]
    },
    {
     "name": "stdout",
     "output_type": "stream",
     "text": [
      "   Age  Pclass_3  Sex_male  Pclass_1  Pclass_2  Sex_female\n",
      "0    4         1         1         0         0           0\n"
     ]
    },
    {
     "data": {
      "text/plain": [
       "array([[0.52583333, 0.47416667]])"
      ]
     },
     "execution_count": 17,
     "metadata": {},
     "output_type": "execute_result"
    }
   ],
   "source": [
    "predict_new(new_data, rf)"
   ]
  },
  {
   "cell_type": "markdown",
   "metadata": {
    "pycharm": {
     "name": "#%% md\n"
    }
   },
   "source": [
    "**Get local explainer for each instance:**"
   ]
  },
  {
   "cell_type": "code",
   "execution_count": 18,
   "metadata": {
    "pycharm": {
     "name": "#%%\n"
    }
   },
   "outputs": [
    {
     "name": "stderr",
     "output_type": "stream",
     "text": [
      "`np.bool` is a deprecated alias for the builtin `bool`. To silence this warning, use `bool` by itself. Doing this will not modify any behavior and is safe. If you specifically wanted the numpy scalar type, use `np.bool_` here.\n",
      "Deprecated in NumPy 1.20; for more details and guidance: https://numpy.org/devdocs/release/1.20.0-notes.html#deprecations\n",
      "`np.bool` is a deprecated alias for the builtin `bool`. To silence this warning, use `bool` by itself. Doing this will not modify any behavior and is safe. If you specifically wanted the numpy scalar type, use `np.bool_` here.\n",
      "Deprecated in NumPy 1.20; for more details and guidance: https://numpy.org/devdocs/release/1.20.0-notes.html#deprecations\n"
     ]
    }
   ],
   "source": [
    "# Get local explainer\n",
    "res = rf.local_interpret(X_test, len(X_test.columns))"
   ]
  },
  {
   "cell_type": "code",
   "execution_count": 19,
   "metadata": {},
   "outputs": [
    {
     "data": {
      "text/html": [
       "<div>\n",
       "<style scoped>\n",
       "    .dataframe tbody tr th:only-of-type {\n",
       "        vertical-align: middle;\n",
       "    }\n",
       "\n",
       "    .dataframe tbody tr th {\n",
       "        vertical-align: top;\n",
       "    }\n",
       "\n",
       "    .dataframe thead th {\n",
       "        text-align: right;\n",
       "    }\n",
       "</style>\n",
       "<table border=\"1\" class=\"dataframe\">\n",
       "  <thead>\n",
       "    <tr style=\"text-align: right;\">\n",
       "      <th></th>\n",
       "      <th>Importance_Name_0</th>\n",
       "      <th>Importance_Name_1</th>\n",
       "      <th>Importance_Name_2</th>\n",
       "      <th>Importance_Name_3</th>\n",
       "      <th>Importance_Name_4</th>\n",
       "      <th>Importance_Name_5</th>\n",
       "      <th>Importance_Value_0</th>\n",
       "      <th>Importance_Value_1</th>\n",
       "      <th>Importance_Value_2</th>\n",
       "      <th>Importance_Value_3</th>\n",
       "      <th>Importance_Value_4</th>\n",
       "      <th>Importance_Value_5</th>\n",
       "    </tr>\n",
       "  </thead>\n",
       "  <tbody>\n",
       "    <tr>\n",
       "      <th>0</th>\n",
       "      <td>Sex_female</td>\n",
       "      <td>Sex_male</td>\n",
       "      <td>Pclass_3</td>\n",
       "      <td>Pclass_2</td>\n",
       "      <td>Age</td>\n",
       "      <td>Pclass_1</td>\n",
       "      <td>1.0</td>\n",
       "      <td>0.986716</td>\n",
       "      <td>0.578907</td>\n",
       "      <td>0.271069</td>\n",
       "      <td>0.257027</td>\n",
       "      <td>0.0</td>\n",
       "    </tr>\n",
       "    <tr>\n",
       "      <th>1</th>\n",
       "      <td>Sex_female</td>\n",
       "      <td>Sex_male</td>\n",
       "      <td>Age</td>\n",
       "      <td>Pclass_2</td>\n",
       "      <td>Pclass_3</td>\n",
       "      <td>Pclass_1</td>\n",
       "      <td>1.0</td>\n",
       "      <td>0.965407</td>\n",
       "      <td>0.607668</td>\n",
       "      <td>0.488671</td>\n",
       "      <td>0.356583</td>\n",
       "      <td>0.0</td>\n",
       "    </tr>\n",
       "    <tr>\n",
       "      <th>2</th>\n",
       "      <td>Sex_female</td>\n",
       "      <td>Sex_male</td>\n",
       "      <td>Age</td>\n",
       "      <td>Pclass_2</td>\n",
       "      <td>Pclass_1</td>\n",
       "      <td>Pclass_3</td>\n",
       "      <td>1.0</td>\n",
       "      <td>0.963406</td>\n",
       "      <td>0.909294</td>\n",
       "      <td>0.388801</td>\n",
       "      <td>0.282151</td>\n",
       "      <td>0.0</td>\n",
       "    </tr>\n",
       "    <tr>\n",
       "      <th>3</th>\n",
       "      <td>Age</td>\n",
       "      <td>Sex_male</td>\n",
       "      <td>Sex_female</td>\n",
       "      <td>Pclass_2</td>\n",
       "      <td>Pclass_1</td>\n",
       "      <td>Pclass_3</td>\n",
       "      <td>1.0</td>\n",
       "      <td>0.969472</td>\n",
       "      <td>0.917643</td>\n",
       "      <td>0.166757</td>\n",
       "      <td>0.062946</td>\n",
       "      <td>0.0</td>\n",
       "    </tr>\n",
       "    <tr>\n",
       "      <th>4</th>\n",
       "      <td>Pclass_1</td>\n",
       "      <td>Age</td>\n",
       "      <td>Pclass_3</td>\n",
       "      <td>Pclass_2</td>\n",
       "      <td>Sex_male</td>\n",
       "      <td>Sex_female</td>\n",
       "      <td>1.0</td>\n",
       "      <td>0.818185</td>\n",
       "      <td>0.713251</td>\n",
       "      <td>0.559959</td>\n",
       "      <td>0.050245</td>\n",
       "      <td>0.0</td>\n",
       "    </tr>\n",
       "    <tr>\n",
       "      <th>...</th>\n",
       "      <td>...</td>\n",
       "      <td>...</td>\n",
       "      <td>...</td>\n",
       "      <td>...</td>\n",
       "      <td>...</td>\n",
       "      <td>...</td>\n",
       "      <td>...</td>\n",
       "      <td>...</td>\n",
       "      <td>...</td>\n",
       "      <td>...</td>\n",
       "      <td>...</td>\n",
       "      <td>...</td>\n",
       "    </tr>\n",
       "    <tr>\n",
       "      <th>210</th>\n",
       "      <td>Age</td>\n",
       "      <td>Sex_female</td>\n",
       "      <td>Sex_male</td>\n",
       "      <td>Pclass_3</td>\n",
       "      <td>Pclass_2</td>\n",
       "      <td>Pclass_1</td>\n",
       "      <td>1.0</td>\n",
       "      <td>0.857279</td>\n",
       "      <td>0.794271</td>\n",
       "      <td>0.056703</td>\n",
       "      <td>0.012450</td>\n",
       "      <td>0.0</td>\n",
       "    </tr>\n",
       "    <tr>\n",
       "      <th>211</th>\n",
       "      <td>Sex_female</td>\n",
       "      <td>Sex_male</td>\n",
       "      <td>Age</td>\n",
       "      <td>Pclass_1</td>\n",
       "      <td>Pclass_3</td>\n",
       "      <td>Pclass_2</td>\n",
       "      <td>1.0</td>\n",
       "      <td>0.936626</td>\n",
       "      <td>0.677348</td>\n",
       "      <td>0.439749</td>\n",
       "      <td>0.281057</td>\n",
       "      <td>0.0</td>\n",
       "    </tr>\n",
       "    <tr>\n",
       "      <th>212</th>\n",
       "      <td>Sex_female</td>\n",
       "      <td>Sex_male</td>\n",
       "      <td>Pclass_1</td>\n",
       "      <td>Pclass_2</td>\n",
       "      <td>Age</td>\n",
       "      <td>Pclass_3</td>\n",
       "      <td>1.0</td>\n",
       "      <td>0.905212</td>\n",
       "      <td>0.709439</td>\n",
       "      <td>0.669674</td>\n",
       "      <td>0.350026</td>\n",
       "      <td>0.0</td>\n",
       "    </tr>\n",
       "    <tr>\n",
       "      <th>213</th>\n",
       "      <td>Sex_female</td>\n",
       "      <td>Sex_male</td>\n",
       "      <td>Pclass_3</td>\n",
       "      <td>Pclass_1</td>\n",
       "      <td>Pclass_2</td>\n",
       "      <td>Age</td>\n",
       "      <td>1.0</td>\n",
       "      <td>0.969143</td>\n",
       "      <td>0.965335</td>\n",
       "      <td>0.818807</td>\n",
       "      <td>0.789892</td>\n",
       "      <td>0.0</td>\n",
       "    </tr>\n",
       "    <tr>\n",
       "      <th>214</th>\n",
       "      <td>Age</td>\n",
       "      <td>Sex_male</td>\n",
       "      <td>Sex_female</td>\n",
       "      <td>Pclass_3</td>\n",
       "      <td>Pclass_1</td>\n",
       "      <td>Pclass_2</td>\n",
       "      <td>1.0</td>\n",
       "      <td>0.707034</td>\n",
       "      <td>0.695660</td>\n",
       "      <td>0.374934</td>\n",
       "      <td>0.282370</td>\n",
       "      <td>0.0</td>\n",
       "    </tr>\n",
       "  </tbody>\n",
       "</table>\n",
       "<p>215 rows × 12 columns</p>\n",
       "</div>"
      ],
      "text/plain": [
       "    Importance_Name_0 Importance_Name_1 Importance_Name_2 Importance_Name_3  \\\n",
       "0          Sex_female          Sex_male          Pclass_3          Pclass_2   \n",
       "1          Sex_female          Sex_male               Age          Pclass_2   \n",
       "2          Sex_female          Sex_male               Age          Pclass_2   \n",
       "3                 Age          Sex_male        Sex_female          Pclass_2   \n",
       "4            Pclass_1               Age          Pclass_3          Pclass_2   \n",
       "..                ...               ...               ...               ...   \n",
       "210               Age        Sex_female          Sex_male          Pclass_3   \n",
       "211        Sex_female          Sex_male               Age          Pclass_1   \n",
       "212        Sex_female          Sex_male          Pclass_1          Pclass_2   \n",
       "213        Sex_female          Sex_male          Pclass_3          Pclass_1   \n",
       "214               Age          Sex_male        Sex_female          Pclass_3   \n",
       "\n",
       "    Importance_Name_4 Importance_Name_5  Importance_Value_0  \\\n",
       "0                 Age          Pclass_1                 1.0   \n",
       "1            Pclass_3          Pclass_1                 1.0   \n",
       "2            Pclass_1          Pclass_3                 1.0   \n",
       "3            Pclass_1          Pclass_3                 1.0   \n",
       "4            Sex_male        Sex_female                 1.0   \n",
       "..                ...               ...                 ...   \n",
       "210          Pclass_2          Pclass_1                 1.0   \n",
       "211          Pclass_3          Pclass_2                 1.0   \n",
       "212               Age          Pclass_3                 1.0   \n",
       "213          Pclass_2               Age                 1.0   \n",
       "214          Pclass_1          Pclass_2                 1.0   \n",
       "\n",
       "     Importance_Value_1  Importance_Value_2  Importance_Value_3  \\\n",
       "0              0.986716            0.578907            0.271069   \n",
       "1              0.965407            0.607668            0.488671   \n",
       "2              0.963406            0.909294            0.388801   \n",
       "3              0.969472            0.917643            0.166757   \n",
       "4              0.818185            0.713251            0.559959   \n",
       "..                  ...                 ...                 ...   \n",
       "210            0.857279            0.794271            0.056703   \n",
       "211            0.936626            0.677348            0.439749   \n",
       "212            0.905212            0.709439            0.669674   \n",
       "213            0.969143            0.965335            0.818807   \n",
       "214            0.707034            0.695660            0.374934   \n",
       "\n",
       "     Importance_Value_4  Importance_Value_5  \n",
       "0              0.257027                 0.0  \n",
       "1              0.356583                 0.0  \n",
       "2              0.282151                 0.0  \n",
       "3              0.062946                 0.0  \n",
       "4              0.050245                 0.0  \n",
       "..                  ...                 ...  \n",
       "210            0.012450                 0.0  \n",
       "211            0.281057                 0.0  \n",
       "212            0.350026                 0.0  \n",
       "213            0.789892                 0.0  \n",
       "214            0.282370                 0.0  \n",
       "\n",
       "[215 rows x 12 columns]"
      ]
     },
     "execution_count": 19,
     "metadata": {},
     "output_type": "execute_result"
    }
   ],
   "source": [
    "res"
   ]
  },
  {
   "cell_type": "markdown",
   "metadata": {
    "pycharm": {
     "name": "#%% md\n"
    }
   },
   "source": [
    "**Data Quality:**"
   ]
  },
  {
   "cell_type": "code",
   "execution_count": 20,
   "metadata": {
    "pycharm": {
     "name": "#%%\n"
    }
   },
   "outputs": [],
   "source": [
    "from src.preprocessing import DataDrift\n",
    "import great_expectations as ge"
   ]
  },
  {
   "cell_type": "code",
   "execution_count": 21,
   "metadata": {},
   "outputs": [],
   "source": [
    "df = Spreadsheet().get_data('../data/raw/train.csv')"
   ]
  },
  {
   "cell_type": "code",
   "execution_count": 22,
   "metadata": {},
   "outputs": [
    {
     "data": {
      "text/plain": [
       "((623, 4), (268, 4))"
      ]
     },
     "execution_count": 22,
     "metadata": {},
     "output_type": "execute_result"
    }
   ],
   "source": [
    "X_train, X_test = train_test_split(df, test_size=0.3, random_state=123)\n",
    "X_train.shape, X_test.shape"
   ]
  },
  {
   "cell_type": "code",
   "execution_count": 23,
   "metadata": {},
   "outputs": [],
   "source": [
    "dq = DataDrift(discrete_cat_cols=['Sex', 'Pclass'])\n",
    "df_ge = dq.check(X_train, target='Survived')"
   ]
  },
  {
   "cell_type": "code",
   "execution_count": 24,
   "metadata": {},
   "outputs": [
    {
     "name": "stderr",
     "output_type": "stream",
     "text": [
      "INFO:great_expectations.data_asset.data_asset:\t7 expectation(s) included in expectation_suite. Omitting 1 expectation(s) that failed when last run; set discard_failed_expectations=False to include them. result_format settings filtered.\n"
     ]
    }
   ],
   "source": [
    "df_ge.save_expectation_suite('../data/output/expectations.json')"
   ]
  },
  {
   "cell_type": "code",
   "execution_count": 25,
   "metadata": {
    "pycharm": {
     "name": "#%%\n"
    }
   },
   "outputs": [],
   "source": [
    "X_test.drop(columns=['Survived'], inplace=True)\n",
    "df_ge = ge.dataset.PandasDataset(X_test)\n",
    "ge_val = df_ge.validate(expectation_suite='../data/output/expectations.json', only_return_failures=False)"
   ]
  },
  {
   "cell_type": "code",
   "execution_count": 26,
   "metadata": {},
   "outputs": [
    {
     "data": {
      "text/plain": [
       "{\n",
       "  \"statistics\": {\n",
       "    \"evaluated_expectations\": 7,\n",
       "    \"successful_expectations\": 7,\n",
       "    \"unsuccessful_expectations\": 0,\n",
       "    \"success_percent\": 100.0\n",
       "  },\n",
       "  \"results\": [\n",
       "    {\n",
       "      \"exception_info\": {\n",
       "        \"raised_exception\": false,\n",
       "        \"exception_message\": null,\n",
       "        \"exception_traceback\": null\n",
       "      },\n",
       "      \"result\": {\n",
       "        \"observed_value\": [\n",
       "          \"Pclass\",\n",
       "          \"Sex\",\n",
       "          \"Age\"\n",
       "        ]\n",
       "      },\n",
       "      \"success\": true,\n",
       "      \"expectation_config\": {\n",
       "        \"expectation_type\": \"expect_table_columns_to_match_ordered_list\",\n",
       "        \"meta\": {},\n",
       "        \"kwargs\": {\n",
       "          \"column_list\": [\n",
       "            \"Pclass\",\n",
       "            \"Sex\",\n",
       "            \"Age\"\n",
       "          ]\n",
       "        }\n",
       "      },\n",
       "      \"meta\": {}\n",
       "    },\n",
       "    {\n",
       "      \"exception_info\": {\n",
       "        \"raised_exception\": false,\n",
       "        \"exception_message\": null,\n",
       "        \"exception_traceback\": null\n",
       "      },\n",
       "      \"result\": {\n",
       "        \"element_count\": 268,\n",
       "        \"unexpected_count\": 0,\n",
       "        \"unexpected_percent\": 0.0,\n",
       "        \"unexpected_percent_total\": 0.0,\n",
       "        \"partial_unexpected_list\": []\n",
       "      },\n",
       "      \"success\": true,\n",
       "      \"expectation_config\": {\n",
       "        \"expectation_type\": \"expect_column_values_to_not_be_null\",\n",
       "        \"meta\": {},\n",
       "        \"kwargs\": {\n",
       "          \"column\": \"Pclass\"\n",
       "        }\n",
       "      },\n",
       "      \"meta\": {}\n",
       "    },\n",
       "    {\n",
       "      \"exception_info\": {\n",
       "        \"raised_exception\": false,\n",
       "        \"exception_message\": null,\n",
       "        \"exception_traceback\": null\n",
       "      },\n",
       "      \"result\": {\n",
       "        \"element_count\": 268,\n",
       "        \"missing_count\": 0,\n",
       "        \"missing_percent\": 0.0,\n",
       "        \"unexpected_count\": 0,\n",
       "        \"unexpected_percent\": 0.0,\n",
       "        \"unexpected_percent_total\": 0.0,\n",
       "        \"unexpected_percent_nonmissing\": 0.0,\n",
       "        \"partial_unexpected_list\": []\n",
       "      },\n",
       "      \"success\": true,\n",
       "      \"expectation_config\": {\n",
       "        \"expectation_type\": \"expect_column_values_to_be_in_set\",\n",
       "        \"meta\": {},\n",
       "        \"kwargs\": {\n",
       "          \"column\": \"Pclass\",\n",
       "          \"value_set\": [\n",
       "            2,\n",
       "            1,\n",
       "            3\n",
       "          ]\n",
       "        }\n",
       "      },\n",
       "      \"meta\": {}\n",
       "    },\n",
       "    {\n",
       "      \"exception_info\": {\n",
       "        \"raised_exception\": false,\n",
       "        \"exception_message\": null,\n",
       "        \"exception_traceback\": null\n",
       "      },\n",
       "      \"result\": {\n",
       "        \"observed_value\": 0.6991001051530896,\n",
       "        \"element_count\": 268,\n",
       "        \"missing_count\": null,\n",
       "        \"missing_percent\": null\n",
       "      },\n",
       "      \"success\": true,\n",
       "      \"expectation_config\": {\n",
       "        \"expectation_type\": \"expect_column_chisquare_test_p_value_to_be_greater_than\",\n",
       "        \"meta\": {},\n",
       "        \"kwargs\": {\n",
       "          \"column\": \"Pclass\",\n",
       "          \"partition_object\": {\n",
       "            \"values\": [\n",
       "              3,\n",
       "              1,\n",
       "              2\n",
       "            ],\n",
       "            \"weights\": [\n",
       "              0.5569823434991974,\n",
       "              0.23595505617977527,\n",
       "              0.20706260032102727\n",
       "            ]\n",
       "          }\n",
       "        }\n",
       "      },\n",
       "      \"meta\": {}\n",
       "    },\n",
       "    {\n",
       "      \"exception_info\": {\n",
       "        \"raised_exception\": false,\n",
       "        \"exception_message\": null,\n",
       "        \"exception_traceback\": null\n",
       "      },\n",
       "      \"result\": {\n",
       "        \"element_count\": 268,\n",
       "        \"unexpected_count\": 0,\n",
       "        \"unexpected_percent\": 0.0,\n",
       "        \"unexpected_percent_total\": 0.0,\n",
       "        \"partial_unexpected_list\": []\n",
       "      },\n",
       "      \"success\": true,\n",
       "      \"expectation_config\": {\n",
       "        \"expectation_type\": \"expect_column_values_to_not_be_null\",\n",
       "        \"meta\": {},\n",
       "        \"kwargs\": {\n",
       "          \"column\": \"Sex\"\n",
       "        }\n",
       "      },\n",
       "      \"meta\": {}\n",
       "    },\n",
       "    {\n",
       "      \"exception_info\": {\n",
       "        \"raised_exception\": false,\n",
       "        \"exception_message\": null,\n",
       "        \"exception_traceback\": null\n",
       "      },\n",
       "      \"result\": {\n",
       "        \"element_count\": 268,\n",
       "        \"missing_count\": 0,\n",
       "        \"missing_percent\": 0.0,\n",
       "        \"unexpected_count\": 0,\n",
       "        \"unexpected_percent\": 0.0,\n",
       "        \"unexpected_percent_total\": 0.0,\n",
       "        \"unexpected_percent_nonmissing\": 0.0,\n",
       "        \"partial_unexpected_list\": []\n",
       "      },\n",
       "      \"success\": true,\n",
       "      \"expectation_config\": {\n",
       "        \"expectation_type\": \"expect_column_values_to_be_in_set\",\n",
       "        \"meta\": {},\n",
       "        \"kwargs\": {\n",
       "          \"column\": \"Sex\",\n",
       "          \"value_set\": [\n",
       "            \"female\",\n",
       "            \"male\"\n",
       "          ]\n",
       "        }\n",
       "      },\n",
       "      \"meta\": {}\n",
       "    },\n",
       "    {\n",
       "      \"exception_info\": {\n",
       "        \"raised_exception\": false,\n",
       "        \"exception_message\": null,\n",
       "        \"exception_traceback\": null\n",
       "      },\n",
       "      \"result\": {\n",
       "        \"observed_value\": 0.6553705093393957,\n",
       "        \"element_count\": 268,\n",
       "        \"missing_count\": null,\n",
       "        \"missing_percent\": null\n",
       "      },\n",
       "      \"success\": true,\n",
       "      \"expectation_config\": {\n",
       "        \"expectation_type\": \"expect_column_chisquare_test_p_value_to_be_greater_than\",\n",
       "        \"meta\": {},\n",
       "        \"kwargs\": {\n",
       "          \"column\": \"Sex\",\n",
       "          \"partition_object\": {\n",
       "            \"values\": [\n",
       "              \"male\",\n",
       "              \"female\"\n",
       "            ],\n",
       "            \"weights\": [\n",
       "              0.6436597110754414,\n",
       "              0.3563402889245586\n",
       "            ]\n",
       "          }\n",
       "        }\n",
       "      },\n",
       "      \"meta\": {}\n",
       "    }\n",
       "  ],\n",
       "  \"success\": true,\n",
       "  \"evaluation_parameters\": {},\n",
       "  \"meta\": {\n",
       "    \"great_expectations_version\": \"0.13.47\",\n",
       "    \"expectation_suite_name\": \"default\",\n",
       "    \"run_id\": {\n",
       "      \"run_time\": \"2021-12-23T01:36:57.624378+00:00\",\n",
       "      \"run_name\": null\n",
       "    },\n",
       "    \"batch_kwargs\": {\n",
       "      \"ge_batch_id\": \"d10c27b5-6390-11ec-bdb0-c30ec04f18ff\"\n",
       "    },\n",
       "    \"batch_markers\": {},\n",
       "    \"batch_parameters\": {},\n",
       "    \"validation_time\": \"20211223T013657.624237Z\",\n",
       "    \"expectation_suite_meta\": {\n",
       "      \"great_expectations_version\": \"0.13.47\"\n",
       "    }\n",
       "  }\n",
       "}"
      ]
     },
     "execution_count": 26,
     "metadata": {},
     "output_type": "execute_result"
    }
   ],
   "source": [
    "ge_val"
   ]
  },
  {
   "cell_type": "markdown",
   "metadata": {
    "pycharm": {
     "name": "#%% md\n"
    }
   },
   "source": [
    "**Hypothesis testing**"
   ]
  },
  {
   "cell_type": "code",
   "execution_count": 27,
   "metadata": {
    "pycharm": {
     "name": "#%%\n"
    }
   },
   "outputs": [
    {
     "name": "stderr",
     "output_type": "stream",
     "text": [
      "2021-12-22 22:37:12.130752: W tensorflow/stream_executor/platform/default/dso_loader.cc:64] Could not load dynamic library 'libcudart.so.11.0'; dlerror: libcudart.so.11.0: cannot open shared object file: No such file or directory\n",
      "2021-12-22 22:37:12.130776: I tensorflow/stream_executor/cuda/cudart_stub.cc:29] Ignore above cudart dlerror if you do not have a GPU set up on your machine.\n",
      "invalid escape sequence \\s\n",
      "invalid escape sequence \\s\n",
      "invalid escape sequence \\s\n"
     ]
    }
   ],
   "source": [
    "import pandas as pd\n",
    "from src.analysis import HTestAutoPilot, HypothesisTester"
   ]
  },
  {
   "cell_type": "code",
   "execution_count": 28,
   "metadata": {},
   "outputs": [],
   "source": [
    "df = Spreadsheet().get_data('../data/raw/train.csv')"
   ]
  },
  {
   "cell_type": "code",
   "execution_count": 29,
   "metadata": {},
   "outputs": [],
   "source": [
    "survived_age = df[(df.Survived == 1) & (df.Age.notnull())].Age.values\n",
    "not_survived_age = df[(df.Survived == 0)  & (df.Age.notnull())].Age.values"
   ]
  },
  {
   "cell_type": "code",
   "execution_count": 30,
   "metadata": {
    "pycharm": {
     "name": "#%%\n"
    }
   },
   "outputs": [
    {
     "name": "stdout",
     "output_type": "stream",
     "text": [
      "At least one of the samples is not normally distributed and due to the number of observations the central limit theorem does not apply. In this case, the Mann-Whitney test is used as it does not make any assumptions about data ditribution (non-parametric alternative)\n"
     ]
    },
    {
     "data": {
      "text/html": [
       "<div>\n",
       "<style scoped>\n",
       "    .dataframe tbody tr th:only-of-type {\n",
       "        vertical-align: middle;\n",
       "    }\n",
       "\n",
       "    .dataframe tbody tr th {\n",
       "        vertical-align: top;\n",
       "    }\n",
       "\n",
       "    .dataframe thead th {\n",
       "        text-align: right;\n",
       "    }\n",
       "</style>\n",
       "<table border=\"1\" class=\"dataframe\">\n",
       "  <thead>\n",
       "    <tr style=\"text-align: right;\">\n",
       "      <th></th>\n",
       "      <th>T-test</th>\n",
       "      <th>MWU</th>\n",
       "    </tr>\n",
       "  </thead>\n",
       "  <tbody>\n",
       "    <tr>\n",
       "      <th>T</th>\n",
       "      <td>-2.04603</td>\n",
       "      <td>-</td>\n",
       "    </tr>\n",
       "    <tr>\n",
       "      <th>dof</th>\n",
       "      <td>598.841215</td>\n",
       "      <td>-</td>\n",
       "    </tr>\n",
       "    <tr>\n",
       "      <th>cohen-d</th>\n",
       "      <td>0.157486</td>\n",
       "      <td>-</td>\n",
       "    </tr>\n",
       "    <tr>\n",
       "      <th>BF10</th>\n",
       "      <td>0.657</td>\n",
       "      <td>-</td>\n",
       "    </tr>\n",
       "    <tr>\n",
       "      <th>power</th>\n",
       "      <td>0.541418</td>\n",
       "      <td>-</td>\n",
       "    </tr>\n",
       "    <tr>\n",
       "      <th>U-val</th>\n",
       "      <td>-</td>\n",
       "      <td>57682.0</td>\n",
       "    </tr>\n",
       "    <tr>\n",
       "      <th>RBC</th>\n",
       "      <td>-</td>\n",
       "      <td>0.061776</td>\n",
       "    </tr>\n",
       "    <tr>\n",
       "      <th>CLES</th>\n",
       "      <td>-</td>\n",
       "      <td>0.469112</td>\n",
       "    </tr>\n",
       "    <tr>\n",
       "      <th>p-val</th>\n",
       "      <td>0.04119</td>\n",
       "      <td>0.160493</td>\n",
       "    </tr>\n",
       "    <tr>\n",
       "      <th>CI95%</th>\n",
       "      <td>[-4.47, -0.09]</td>\n",
       "      <td>[-4.0, 1.0]</td>\n",
       "    </tr>\n",
       "    <tr>\n",
       "      <th>H0</th>\n",
       "      <td>difference in mean equal to zero</td>\n",
       "      <td>difference in median equal to zero</td>\n",
       "    </tr>\n",
       "    <tr>\n",
       "      <th>H1</th>\n",
       "      <td>difference in mean not equal to zero</td>\n",
       "      <td>difference in median not equal to zero</td>\n",
       "    </tr>\n",
       "    <tr>\n",
       "      <th>Result</th>\n",
       "      <td>There is evidence to reject the null hypothesi...</td>\n",
       "      <td>There is no evidence to reject the null hypoth...</td>\n",
       "    </tr>\n",
       "  </tbody>\n",
       "</table>\n",
       "</div>"
      ],
      "text/plain": [
       "                                                    T-test  \\\n",
       "T                                                 -2.04603   \n",
       "dof                                             598.841215   \n",
       "cohen-d                                           0.157486   \n",
       "BF10                                                 0.657   \n",
       "power                                             0.541418   \n",
       "U-val                                                    -   \n",
       "RBC                                                      -   \n",
       "CLES                                                     -   \n",
       "p-val                                              0.04119   \n",
       "CI95%                                       [-4.47, -0.09]   \n",
       "H0                        difference in mean equal to zero   \n",
       "H1                    difference in mean not equal to zero   \n",
       "Result   There is evidence to reject the null hypothesi...   \n",
       "\n",
       "                                                       MWU  \n",
       "T                                                        -  \n",
       "dof                                                      -  \n",
       "cohen-d                                                  -  \n",
       "BF10                                                     -  \n",
       "power                                                    -  \n",
       "U-val                                              57682.0  \n",
       "RBC                                               0.061776  \n",
       "CLES                                              0.469112  \n",
       "p-val                                             0.160493  \n",
       "CI95%                                          [-4.0, 1.0]  \n",
       "H0                      difference in median equal to zero  \n",
       "H1                  difference in median not equal to zero  \n",
       "Result   There is no evidence to reject the null hypoth...  "
      ]
     },
     "execution_count": 30,
     "metadata": {},
     "output_type": "execute_result"
    },
    {
     "data": {
      "image/png": "[encoded data removed]",
      "text/plain": [
       "<Figure size 360x288 with 1 Axes>"
      ]
     },
     "metadata": {},
     "output_type": "display_data"
    }
   ],
   "source": [
    "# If you want to compare distributions, but you are not sure if the data satisfy the parametric test conditions, \n",
    "# you can call the HTestAutoPilot Class.\n",
    "# It will help you in this decision.\n",
    "HTestAutoPilot.independent_difference(survived_age, not_survived_age, label1='Survived', label2='Not Survived')"
   ]
  },
  {
   "cell_type": "code",
   "execution_count": 31,
   "metadata": {},
   "outputs": [
    {
     "data": {
      "text/html": [
       "<div>\n",
       "<style scoped>\n",
       "    .dataframe tbody tr th:only-of-type {\n",
       "        vertical-align: middle;\n",
       "    }\n",
       "\n",
       "    .dataframe tbody tr th {\n",
       "        vertical-align: top;\n",
       "    }\n",
       "\n",
       "    .dataframe thead th {\n",
       "        text-align: right;\n",
       "    }\n",
       "</style>\n",
       "<table border=\"1\" class=\"dataframe\">\n",
       "  <thead>\n",
       "    <tr style=\"text-align: right;\">\n",
       "      <th></th>\n",
       "      <th>T-test</th>\n",
       "    </tr>\n",
       "  </thead>\n",
       "  <tbody>\n",
       "    <tr>\n",
       "      <th>T</th>\n",
       "      <td>-2.04603</td>\n",
       "    </tr>\n",
       "    <tr>\n",
       "      <th>dof</th>\n",
       "      <td>598.841215</td>\n",
       "    </tr>\n",
       "    <tr>\n",
       "      <th>alternative</th>\n",
       "      <td>two-sided</td>\n",
       "    </tr>\n",
       "    <tr>\n",
       "      <th>p-val</th>\n",
       "      <td>0.04119</td>\n",
       "    </tr>\n",
       "    <tr>\n",
       "      <th>CI95%</th>\n",
       "      <td>[-4.47, -0.09]</td>\n",
       "    </tr>\n",
       "    <tr>\n",
       "      <th>cohen-d</th>\n",
       "      <td>0.157486</td>\n",
       "    </tr>\n",
       "    <tr>\n",
       "      <th>BF10</th>\n",
       "      <td>0.657</td>\n",
       "    </tr>\n",
       "    <tr>\n",
       "      <th>power</th>\n",
       "      <td>0.541418</td>\n",
       "    </tr>\n",
       "    <tr>\n",
       "      <th>H0</th>\n",
       "      <td>difference in mean equal to zero</td>\n",
       "    </tr>\n",
       "    <tr>\n",
       "      <th>H1</th>\n",
       "      <td>difference in mean not equal to zero</td>\n",
       "    </tr>\n",
       "    <tr>\n",
       "      <th>Result</th>\n",
       "      <td>There is evidence to reject the null hypothesi...</td>\n",
       "    </tr>\n",
       "  </tbody>\n",
       "</table>\n",
       "</div>"
      ],
      "text/plain": [
       "                                                        T-test\n",
       "T                                                     -2.04603\n",
       "dof                                                 598.841215\n",
       "alternative                                          two-sided\n",
       "p-val                                                  0.04119\n",
       "CI95%                                           [-4.47, -0.09]\n",
       "cohen-d                                               0.157486\n",
       "BF10                                                     0.657\n",
       "power                                                 0.541418\n",
       "H0                            difference in mean equal to zero\n",
       "H1                        difference in mean not equal to zero\n",
       "Result       There is evidence to reject the null hypothesi..."
      ]
     },
     "execution_count": 31,
     "metadata": {},
     "output_type": "execute_result"
    }
   ],
   "source": [
    "# If you know which test to use, you can call it directly from the HypothesisTester Class\n",
    "HypothesisTester.t_test(survived_age, not_survived_age, show_graph=False)"
   ]
  },
  {
   "cell_type": "markdown",
   "metadata": {
    "pycharm": {
     "name": "#%% md\n"
    }
   },
   "source": [
    "**Dimensionality Reduction**"
   ]
  },
  {
   "cell_type": "code",
   "execution_count": 32,
   "metadata": {
    "collapsed": false,
    "jupyter": {
     "outputs_hidden": false
    },
    "pycharm": {
     "name": "#%%\n"
    }
   },
   "outputs": [],
   "source": [
    "import pandas as pd\n",
    "import numpy as np\n",
    "from src.analysis import DimensionalityReducer"
   ]
  },
  {
   "cell_type": "markdown",
   "metadata": {},
   "source": [
    "df = pd.DataFrame({'Col_1': [-1, -2, -3, 1, 2, 3], 'Col_2': [-1, -1, -2, 1, 1, 2], 'Col_3': [-5, -4, -3, 2, 1, 1]})"
   ]
  },
  {
   "cell_type": "markdown",
   "source": [
    "import pandas as pd\n",
    "import numpy as np\n",
    "from src.analysis import DimensionalityReducer"
   ],
   "metadata": {
    "collapsed": false
   }
  },
  {
   "cell_type": "markdown",
   "metadata": {},
   "source": [
    "import pandas as pd\n",
    "import numpy as np\n",
    "from src.analysis import DimensionalityReducer"
   ]
  },
  {
   "cell_type": "markdown",
   "metadata": {},
   "source": [
    "import pandas as pd\n",
    "import numpy as np\n",
    "from src.analysis import DimensionalityReducer"
   ]
  },
  {
   "cell_type": "code",
   "execution_count": 33,
   "metadata": {},
   "outputs": [],
   "source": [
    "import pandas as pd\n",
    "import numpy as np\n",
    "from src.analysis import DimensionalityReducer"
   ]
  },
  {
   "cell_type": "code",
   "execution_count": 34,
   "metadata": {},
   "outputs": [],
   "source": [
    "df = pd.DataFrame({'Col_1': [-1, -2, -3, 1, 2, 3], 'Col_2': [-1, -1, -2, 1, 1, 2], 'Col_3': [-5, -4, -3, 2, 1, 1]})"
   ]
  },
  {
   "cell_type": "code",
   "execution_count": 35,
   "metadata": {},
   "outputs": [
    {
     "data": {
      "text/html": [
       "<div>\n",
       "<style scoped>\n",
       "    .dataframe tbody tr th:only-of-type {\n",
       "        vertical-align: middle;\n",
       "    }\n",
       "\n",
       "    .dataframe tbody tr th {\n",
       "        vertical-align: top;\n",
       "    }\n",
       "\n",
       "    .dataframe thead th {\n",
       "        text-align: right;\n",
       "    }\n",
       "</style>\n",
       "<table border=\"1\" class=\"dataframe\">\n",
       "  <thead>\n",
       "    <tr style=\"text-align: right;\">\n",
       "      <th></th>\n",
       "      <th>Col_1</th>\n",
       "      <th>Col_2</th>\n",
       "      <th>Col_3</th>\n",
       "    </tr>\n",
       "  </thead>\n",
       "  <tbody>\n",
       "    <tr>\n",
       "      <th>0</th>\n",
       "      <td>-1</td>\n",
       "      <td>-1</td>\n",
       "      <td>-5</td>\n",
       "    </tr>\n",
       "    <tr>\n",
       "      <th>1</th>\n",
       "      <td>-2</td>\n",
       "      <td>-1</td>\n",
       "      <td>-4</td>\n",
       "    </tr>\n",
       "    <tr>\n",
       "      <th>2</th>\n",
       "      <td>-3</td>\n",
       "      <td>-2</td>\n",
       "      <td>-3</td>\n",
       "    </tr>\n",
       "    <tr>\n",
       "      <th>3</th>\n",
       "      <td>1</td>\n",
       "      <td>1</td>\n",
       "      <td>2</td>\n",
       "    </tr>\n",
       "    <tr>\n",
       "      <th>4</th>\n",
       "      <td>2</td>\n",
       "      <td>1</td>\n",
       "      <td>1</td>\n",
       "    </tr>\n",
       "    <tr>\n",
       "      <th>5</th>\n",
       "      <td>3</td>\n",
       "      <td>2</td>\n",
       "      <td>1</td>\n",
       "    </tr>\n",
       "  </tbody>\n",
       "</table>\n",
       "</div>"
      ],
      "text/plain": [
       "   Col_1  Col_2  Col_3\n",
       "0     -1     -1     -5\n",
       "1     -2     -1     -4\n",
       "2     -3     -2     -3\n",
       "3      1      1      2\n",
       "4      2      1      1\n",
       "5      3      2      1"
      ]
     },
     "execution_count": 35,
     "metadata": {},
     "output_type": "execute_result"
    }
   ],
   "source": [
    "df"
   ]
  },
  {
   "cell_type": "code",
   "execution_count": 36,
   "metadata": {},
   "outputs": [],
   "source": [
    "dm = DimensionalityReducer(reducer='pca', columns=['Col_1', 'Col_2'], k=1)"
   ]
  },
  {
   "cell_type": "code",
   "execution_count": 37,
   "metadata": {},
   "outputs": [
    {
     "name": "stdout",
     "output_type": "stream",
     "text": [
      "Explained variance (prefix_0): 0.9924428900898052\n"
     ]
    },
    {
     "data": {
      "text/html": [
       "<div>\n",
       "<style scoped>\n",
       "    .dataframe tbody tr th:only-of-type {\n",
       "        vertical-align: middle;\n",
       "    }\n",
       "\n",
       "    .dataframe tbody tr th {\n",
       "        vertical-align: top;\n",
       "    }\n",
       "\n",
       "    .dataframe thead th {\n",
       "        text-align: right;\n",
       "    }\n",
       "</style>\n",
       "<table border=\"1\" class=\"dataframe\">\n",
       "  <thead>\n",
       "    <tr style=\"text-align: right;\">\n",
       "      <th></th>\n",
       "      <th>Col_3</th>\n",
       "      <th>prefix_0</th>\n",
       "    </tr>\n",
       "  </thead>\n",
       "  <tbody>\n",
       "    <tr>\n",
       "      <th>0</th>\n",
       "      <td>-5</td>\n",
       "      <td>1.383406</td>\n",
       "    </tr>\n",
       "    <tr>\n",
       "      <th>1</th>\n",
       "      <td>-4</td>\n",
       "      <td>2.221898</td>\n",
       "    </tr>\n",
       "    <tr>\n",
       "      <th>2</th>\n",
       "      <td>-3</td>\n",
       "      <td>3.605304</td>\n",
       "    </tr>\n",
       "    <tr>\n",
       "      <th>3</th>\n",
       "      <td>2</td>\n",
       "      <td>-1.383406</td>\n",
       "    </tr>\n",
       "    <tr>\n",
       "      <th>4</th>\n",
       "      <td>1</td>\n",
       "      <td>-2.221898</td>\n",
       "    </tr>\n",
       "    <tr>\n",
       "      <th>5</th>\n",
       "      <td>1</td>\n",
       "      <td>-3.605304</td>\n",
       "    </tr>\n",
       "  </tbody>\n",
       "</table>\n",
       "</div>"
      ],
      "text/plain": [
       "   Col_3  prefix_0\n",
       "0     -5  1.383406\n",
       "1     -4  2.221898\n",
       "2     -3  3.605304\n",
       "3      2 -1.383406\n",
       "4      1 -2.221898\n",
       "5      1 -3.605304"
      ]
     },
     "execution_count": 37,
     "metadata": {},
     "output_type": "execute_result"
    }
   ],
   "source": [
    "dm.fit_transform(df, y='Col_3')"
   ]
  },
  {
   "cell_type": "code",
   "execution_count": null,
   "metadata": {},
   "outputs": [],
   "source": []
  }
 ],
 "metadata": {
  "interpreter": {
   "hash": "cef9e06bb236b2a8629b07e87a04b187b952a0f661eff5533360a155783f0c33"
  },
  "kernelspec": {
   "display_name": "Python 3 (ipykernel)",
   "language": "python",
   "name": "python3"
  },
  "language_info": {
   "codemirror_mode": {
    "name": "ipython",
    "version": 3
   },
   "file_extension": ".py",
   "mimetype": "text/x-python",
   "name": "python",
   "nbconvert_exporter": "python",
   "pygments_lexer": "ipython3",
   "version": "3.8.5"
  }
 },
 "nbformat": 4,
 "nbformat_minor": 4
}