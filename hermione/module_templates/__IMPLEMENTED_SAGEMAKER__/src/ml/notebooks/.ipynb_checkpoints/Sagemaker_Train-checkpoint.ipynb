{
 "cells": [
  {
   "cell_type": "markdown",
   "id": "577c4f6b",
   "metadata": {},
   "source": [
    "# Sagemaker Train"
   ]
  },
  {
   "cell_type": "markdown",
   "id": "501ef5b6",
   "metadata": {},
   "source": [
    "This script creates and trains the model with the uploaded image in ECR."
   ]
  },
  {
   "cell_type": "markdown",
   "id": "e66b3975",
   "metadata": {},
   "source": [
    "## Import modules"
   ]
  },
  {
   "cell_type": "code",
   "execution_count": 15,
   "id": "d658fb44",
   "metadata": {},
   "outputs": [],
   "source": [
    "import time\n",
    "import boto3\n",
    "import sagemaker\n",
    "from sagemaker import get_execution_role"
   ]
  },
  {
   "cell_type": "markdown",
   "id": "64036230",
   "metadata": {},
   "source": [
    "## Setup"
   ]
  },
  {
   "cell_type": "markdown",
   "id": "28411012",
   "metadata": {},
   "source": [
    "Modify according to your configurations."
   ]
  },
  {
   "cell_type": "code",
   "execution_count": 16,
   "id": "7e937373",
   "metadata": {},
   "outputs": [],
   "source": [
    "# Bucket name in S3\n",
    "bucket = \"hermione-sagemaker\""
   ]
  },
  {
   "cell_type": "code",
   "execution_count": 17,
   "id": "16450249",
   "metadata": {},
   "outputs": [],
   "source": [
    "# Set session\n",
    "region_name=\"us-east-1\"\n",
    "boto3.setup_default_session(region_name=region_name)"
   ]
  },
  {
   "cell_type": "code",
   "execution_count": 18,
   "id": "2e144eb8",
   "metadata": {},
   "outputs": [],
   "source": [
    "# Get user role\n",
    "role = get_execution_role()"
   ]
  },
  {
   "cell_type": "code",
   "execution_count": 19,
   "id": "50b4a590",
   "metadata": {},
   "outputs": [],
   "source": [
    "# Get AWS Account ID\n",
    "account_number = boto3.client(\"sts\").get_caller_identity()[\"Account\"]"
   ]
  },
  {
   "cell_type": "code",
   "execution_count": 20,
   "id": "8d56e6ca",
   "metadata": {},
   "outputs": [],
   "source": [
    "# Image previous uploaded in ECR\n",
    "image_name = \"hermione-train\"\n",
    "image_uri = f\"{account_number}.dkr.ecr.{region_name}.amazonaws.com/{image_name}\""
   ]
  },
  {
   "cell_type": "code",
   "execution_count": 21,
   "id": "e710ea0a",
   "metadata": {},
   "outputs": [],
   "source": [
    "# Input and output paths to execute train\n",
    "paths = {\n",
    "    'train_processed': f\"s3://{bucket}/PREPROCESSING/TRAIN_PROCESSED\",\n",
    "    'val_processed': f\"s3://{bucket}/PREPROCESSING/VAL_PROCESSED\",\n",
    "    'model': f\"s3://{bucket}/PREPROCESSING/MODEL\"\n",
    "}"
   ]
  },
  {
   "cell_type": "code",
   "execution_count": 22,
   "id": "f8a27026",
   "metadata": {},
   "outputs": [],
   "source": [
    "# instance to run the code\n",
    "instance_type=\"ml.m5.large\""
   ]
  },
  {
   "cell_type": "markdown",
   "id": "b6efb8ce",
   "metadata": {},
   "source": [
    "## Train"
   ]
  },
  {
   "cell_type": "code",
   "execution_count": 23,
   "id": "ed9cb39b",
   "metadata": {},
   "outputs": [],
   "source": [
    "# Receives the processed train data in S3\n",
    "train_config = sagemaker.inputs.TrainingInput(\n",
    "    paths['train_processed'],\n",
    "    content_type='text/csv',\n",
    ")"
   ]
  },
  {
   "cell_type": "code",
   "execution_count": 24,
   "id": "34f144e0",
   "metadata": {},
   "outputs": [],
   "source": [
    "# Receives the processed validation data in S3\n",
    "val_config = sagemaker.inputs.TrainingInput(\n",
    "    paths['val_processed'],\n",
    "    content_type='text/csv'\n",
    ")"
   ]
  },
  {
   "cell_type": "code",
   "execution_count": 25,
   "id": "a0bbbf7d",
   "metadata": {},
   "outputs": [],
   "source": [
    "# Saves the model object in S3\n",
    "output_path = paths['model']"
   ]
  },
  {
   "cell_type": "code",
   "execution_count": 26,
   "id": "299813d5",
   "metadata": {},
   "outputs": [],
   "source": [
    "# Metrics to visualize in the Monitor\n",
    "metrics = [\n",
    "    {\n",
    "        \"Name\": \"accuracy\",\n",
    "        \"Regex\": \"accuracy=(.*?);\",\n",
    "    },\n",
    "    {\n",
    "        \"Name\": \"f1\",\n",
    "        \"Regex\": \"f1=(.*?);\",\n",
    "    },\n",
    "    {\n",
    "        \"Name\": \"precision\",\n",
    "        \"Regex\": \"precision=(.*?);\",\n",
    "    },\n",
    "    {\n",
    "        \"Name\": \"recall\",\n",
    "        \"Regex\": \"recall=(.*?);\",\n",
    "    },\n",
    "]"
   ]
  },
  {
   "cell_type": "code",
   "execution_count": 27,
   "id": "4ad41d36",
   "metadata": {},
   "outputs": [],
   "source": [
    "# Creates the estimator to access the ECR image\n",
    "est = sagemaker.estimator.Estimator(\n",
    "    image_uri,\n",
    "    role, \n",
    "    instance_count=1, \n",
    "    instance_type=instance_type,\n",
    "    volume_size = 30,\n",
    "    output_path = output_path,\n",
    "    base_job_name = \"Hermione-train\",\n",
    "    use_spot_instances=True,\n",
    "    max_run = 24*60*60,\n",
    "    max_wait = 24*60*60,       # timeout in seconds. Required if use_spot_instances == True\n",
    "    metric_definitions=metrics\n",
    ")"
   ]
  },
  {
   "cell_type": "code",
   "execution_count": 28,
   "id": "62c1894f",
   "metadata": {},
   "outputs": [
    {
     "name": "stdout",
     "output_type": "stream",
     "text": [
      "2021-05-26 12:41:29 Starting - Starting the training job...\n",
      "2021-05-26 12:41:52 Starting - Launching requested ML instancesProfilerReport-1622032889: InProgress\n",
      "......\n",
      "2021-05-26 12:42:52 Starting - Preparing the instances for training......\n",
      "2021-05-26 12:43:52 Downloading - Downloading input data\n",
      "2021-05-26 12:43:52 Training - Downloading the training image.....\u001b[34m2021-05-26 09:44:41,407 sagemaker-training-toolkit INFO     No GPUs detected (normal if no gpus installed)\u001b[0m\n",
      "\n",
      "2021-05-26 12:45:00 Uploading - Uploading generated training model\n",
      "2021-05-26 12:45:00 Completed - Training job completed\n",
      "\u001b[34m2021-05-26 09:44:47,642 sagemaker-training-toolkit INFO     No GPUs detected (normal if no gpus installed)\u001b[0m\n",
      "\u001b[34m2021-05-26 09:44:47,653 sagemaker-training-toolkit INFO     No GPUs detected (normal if no gpus installed)\u001b[0m\n",
      "\u001b[34m2021-05-26 09:44:47,663 sagemaker-training-toolkit INFO     Invoking user script\n",
      "\u001b[0m\n",
      "\u001b[34mTraining Env:\n",
      "\u001b[0m\n",
      "\u001b[34m{\n",
      "    \"additional_framework_parameters\": {},\n",
      "    \"channel_input_dirs\": {\n",
      "        \"validation\": \"/opt/ml/input/data/validation\",\n",
      "        \"train\": \"/opt/ml/input/data/train\"\n",
      "    },\n",
      "    \"current_host\": \"algo-1\",\n",
      "    \"framework_module\": null,\n",
      "    \"hosts\": [\n",
      "        \"algo-1\"\n",
      "    ],\n",
      "    \"hyperparameters\": {},\n",
      "    \"input_config_dir\": \"/opt/ml/input/config\",\n",
      "    \"input_data_config\": {\n",
      "        \"validation\": {\n",
      "            \"ContentType\": \"text/csv\",\n",
      "            \"TrainingInputMode\": \"File\",\n",
      "            \"S3DistributionType\": \"FullyReplicated\",\n",
      "            \"RecordWrapperType\": \"None\"\n",
      "        },\n",
      "        \"train\": {\n",
      "            \"ContentType\": \"text/csv\",\n",
      "            \"TrainingInputMode\": \"File\",\n",
      "            \"S3DistributionType\": \"FullyReplicated\",\n",
      "            \"RecordWrapperType\": \"None\"\n",
      "        }\n",
      "    },\n",
      "    \"input_dir\": \"/opt/ml/input\",\n",
      "    \"is_master\": true,\n",
      "    \"job_name\": \"Hermione-train-2021-05-26-12-41-29-505\",\n",
      "    \"log_level\": 20,\n",
      "    \"master_hostname\": \"algo-1\",\n",
      "    \"model_dir\": \"/opt/ml/model\",\n",
      "    \"module_dir\": \"/opt/ml/code\",\n",
      "    \"module_name\": \"train\",\n",
      "    \"network_interface_name\": \"eth0\",\n",
      "    \"num_cpus\": 2,\n",
      "    \"num_gpus\": 0,\n",
      "    \"output_data_dir\": \"/opt/ml/output/data\",\n",
      "    \"output_dir\": \"/opt/ml/output\",\n",
      "    \"output_intermediate_dir\": \"/opt/ml/output/intermediate\",\n",
      "    \"resource_config\": {\n",
      "        \"current_host\": \"algo-1\",\n",
      "        \"hosts\": [\n",
      "            \"algo-1\"\n",
      "        ],\n",
      "        \"network_interface_name\": \"eth0\"\n",
      "    },\n",
      "    \"user_entry_point\": \"train.py\"\u001b[0m\n",
      "\u001b[34m}\n",
      "\u001b[0m\n",
      "\u001b[34mEnvironment variables:\n",
      "\u001b[0m\n",
      "\u001b[34mSM_HOSTS=[\"algo-1\"]\u001b[0m\n",
      "\u001b[34mSM_NETWORK_INTERFACE_NAME=eth0\u001b[0m\n",
      "\u001b[34mSM_HPS={}\u001b[0m\n",
      "\u001b[34mSM_USER_ENTRY_POINT=train.py\u001b[0m\n",
      "\u001b[34mSM_FRAMEWORK_PARAMS={}\u001b[0m\n",
      "\u001b[34mSM_RESOURCE_CONFIG={\"current_host\":\"algo-1\",\"hosts\":[\"algo-1\"],\"network_interface_name\":\"eth0\"}\u001b[0m\n",
      "\u001b[34mSM_INPUT_DATA_CONFIG={\"train\":{\"ContentType\":\"text/csv\",\"RecordWrapperType\":\"None\",\"S3DistributionType\":\"FullyReplicated\",\"TrainingInputMode\":\"File\"},\"validation\":{\"ContentType\":\"text/csv\",\"RecordWrapperType\":\"None\",\"S3DistributionType\":\"FullyReplicated\",\"TrainingInputMode\":\"File\"}}\u001b[0m\n",
      "\u001b[34mSM_OUTPUT_DATA_DIR=/opt/ml/output/data\u001b[0m\n",
      "\u001b[34mSM_CHANNELS=[\"train\",\"validation\"]\u001b[0m\n",
      "\u001b[34mSM_CURRENT_HOST=algo-1\u001b[0m\n",
      "\u001b[34mSM_MODULE_NAME=train\u001b[0m\n",
      "\u001b[34mSM_LOG_LEVEL=20\u001b[0m\n",
      "\u001b[34mSM_FRAMEWORK_MODULE=\u001b[0m\n",
      "\u001b[34mSM_INPUT_DIR=/opt/ml/input\u001b[0m\n",
      "\u001b[34mSM_INPUT_CONFIG_DIR=/opt/ml/input/config\u001b[0m\n",
      "\u001b[34mSM_OUTPUT_DIR=/opt/ml/output\u001b[0m\n",
      "\u001b[34mSM_NUM_CPUS=2\u001b[0m\n",
      "\u001b[34mSM_NUM_GPUS=0\u001b[0m\n",
      "\u001b[34mSM_MODEL_DIR=/opt/ml/model\u001b[0m\n",
      "\u001b[34mSM_MODULE_DIR=/opt/ml/code\u001b[0m\n",
      "\u001b[34mSM_TRAINING_ENV={\"additional_framework_parameters\":{},\"channel_input_dirs\":{\"train\":\"/opt/ml/input/data/train\",\"validation\":\"/opt/ml/input/data/validation\"},\"current_host\":\"algo-1\",\"framework_module\":null,\"hosts\":[\"algo-1\"],\"hyperparameters\":{},\"input_config_dir\":\"/opt/ml/input/config\",\"input_data_config\":{\"train\":{\"ContentType\":\"text/csv\",\"RecordWrapperType\":\"None\",\"S3DistributionType\":\"FullyReplicated\",\"TrainingInputMode\":\"File\"},\"validation\":{\"ContentType\":\"text/csv\",\"RecordWrapperType\":\"None\",\"S3DistributionType\":\"FullyReplicated\",\"TrainingInputMode\":\"File\"}},\"input_dir\":\"/opt/ml/input\",\"is_master\":true,\"job_name\":\"Hermione-train-2021-05-26-12-41-29-505\",\"log_level\":20,\"master_hostname\":\"algo-1\",\"model_dir\":\"/opt/ml/model\",\"module_dir\":\"/opt/ml/code\",\"module_name\":\"train\",\"network_interface_name\":\"eth0\",\"num_cpus\":2,\"num_gpus\":0,\"output_data_dir\":\"/opt/ml/output/data\",\"output_dir\":\"/opt/ml/output\",\"output_intermediate_dir\":\"/opt/ml/output/intermediate\",\"resource_config\":{\"current_host\":\"algo-1\",\"hosts\":[\"algo-1\"],\"network_interface_name\":\"eth0\"},\"user_entry_point\":\"train.py\"}\u001b[0m\n",
      "\u001b[34mSM_USER_ARGS=[]\u001b[0m\n",
      "\u001b[34mSM_OUTPUT_INTERMEDIATE_DIR=/opt/ml/output/intermediate\u001b[0m\n",
      "\u001b[34mSM_CHANNEL_VALIDATION=/opt/ml/input/data/validation\u001b[0m\n",
      "\u001b[34mSM_CHANNEL_TRAIN=/opt/ml/input/data/train\u001b[0m\n",
      "\u001b[34mPYTHONPATH=/usr/local/bin:/opt/ml/code:/usr/local/sbin:/usr/local/bin:/usr/sbin:/usr/bin:/sbin:/bin:/usr/lib/python38.zip:/usr/lib/python3.8:/usr/lib/python3.8/lib-dynload:/usr/local/lib/python3.8/dist-packages:/usr/lib/python3/dist-packages\n",
      "\u001b[0m\n",
      "\u001b[34mInvoking script with the following command:\n",
      "\u001b[0m\n",
      "\u001b[34m/usr/bin/python3 train.py\n",
      "\n",
      "\u001b[0m\n",
      "\u001b[34m/usr/local/lib/python3.8/dist-packages/interpret_community/common/gpu_kmeans.py:30: UserWarning: cuML is required to use GPU explainers. Check https://rapids.ai/start.html         for more information on how to install it.\n",
      "  warnings.warn(\u001b[0m\n",
      "\u001b[34mcuML is required to use GPU explainers. Check https://rapids.ai/start.html         for more information on how to install it.\u001b[0m\n",
      "\u001b[34mINFO:root:Starting the training\u001b[0m\n",
      "\u001b[34mINFO:root:Reading the inputs\u001b[0m\n",
      "\u001b[34mINFO:root:Training the model\u001b[0m\n",
      "\u001b[34mINFO:root:Saving\u001b[0m\n",
      "\u001b[34mINFO:root:accuracy=0.7373737373737373; f1=0.6976744186046512;  precision=0.6382978723404256;  recall=0.7692307692307693;\u001b[0m\n",
      "\u001b[34mINFO:root:Training complete.\u001b[0m\n",
      "\u001b[34m2021-05-26 09:44:51,898 sagemaker-training-toolkit INFO     Reporting training SUCCESS\u001b[0m\n",
      "Training seconds: 85\n",
      "Billable seconds: 36\n",
      "Managed Spot Training savings: 57.6%\n",
      "CPU times: user 450 ms, sys: 19.9 ms, total: 470 ms\n",
      "Wall time: 3min 42s\n"
     ]
    }
   ],
   "source": [
    "%%time\n",
    "# Train the model and validate\n",
    "est.fit({'train':train_config, 'validation':val_config}, wait=True, logs=True)"
   ]
  }
 ],
 "metadata": {
  "kernelspec": {
   "display_name": "conda_python3",
   "language": "python",
   "name": "conda_python3"
  },
  "language_info": {
   "codemirror_mode": {
    "name": "ipython",
    "version": 3
   },
   "file_extension": ".py",
   "mimetype": "text/x-python",
   "name": "python",
   "nbconvert_exporter": "python",
   "pygments_lexer": "ipython3",
   "version": "3.6.13"
  }
 },
 "nbformat": 4,
 "nbformat_minor": 5
}
