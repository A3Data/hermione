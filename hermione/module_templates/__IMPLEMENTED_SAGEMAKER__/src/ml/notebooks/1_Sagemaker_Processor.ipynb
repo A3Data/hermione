{
 "cells": [
  {
   "cell_type": "markdown",
   "id": "0080c0d0",
   "metadata": {},
   "source": [
    "# Sagemaker Processor"
   ]
  },
  {
   "cell_type": "markdown",
   "id": "7d7b0036",
   "metadata": {},
   "source": [
    "This script generates the train, val and inference files with the processor previous uploaded in ECR."
   ]
  },
  {
   "cell_type": "markdown",
   "id": "3f2a0229",
   "metadata": {},
   "source": [
    "## Import modules"
   ]
  },
  {
   "cell_type": "code",
   "execution_count": 1,
   "id": "6e679a79",
   "metadata": {},
   "outputs": [],
   "source": [
    "import boto3\n",
    "import time\n",
    "from datetime import datetime\n",
    "from sagemaker import get_execution_role\n",
    "from sagemaker.processing import Processor, ProcessingInput, ProcessingOutput"
   ]
  },
  {
   "cell_type": "markdown",
   "id": "a9066e74",
   "metadata": {},
   "source": [
    "## Setup"
   ]
  },
  {
   "cell_type": "markdown",
   "id": "60ec8b7b",
   "metadata": {},
   "source": [
    "Modify according to your configurations."
   ]
  },
  {
   "cell_type": "code",
   "execution_count": 2,
   "id": "9d9b2d23",
   "metadata": {},
   "outputs": [],
   "source": [
    "# Bucket name in S3\n",
    "bucket = \"hermione-sagemaker\""
   ]
  },
  {
   "cell_type": "code",
   "execution_count": 3,
   "id": "1cd1aa77",
   "metadata": {},
   "outputs": [],
   "source": [
    "# Set session\n",
    "region_name=\"us-east-1\"\n",
    "boto3.setup_default_session(region_name=region_name)"
   ]
  },
  {
   "cell_type": "code",
   "execution_count": 4,
   "id": "464d9cec",
   "metadata": {},
   "outputs": [],
   "source": [
    "# Get user role\n",
    "role = get_execution_role()"
   ]
  },
  {
   "cell_type": "code",
   "execution_count": 5,
   "id": "a0649d24",
   "metadata": {},
   "outputs": [],
   "source": [
    "# Get AWS Account ID\n",
    "account_number = boto3.client(\"sts\").get_caller_identity()[\"Account\"]"
   ]
  },
  {
   "cell_type": "code",
   "execution_count": 6,
   "id": "f71c6f3c",
   "metadata": {},
   "outputs": [],
   "source": [
    "# Image previous uploaded in ECR\n",
    "image_name = \"hermione-processor\"\n",
    "image_uri = f\"{account_number}.dkr.ecr.{region_name}.amazonaws.com/{image_name}\""
   ]
  },
  {
   "cell_type": "code",
   "execution_count": 7,
   "id": "db98e9a2",
   "metadata": {},
   "outputs": [],
   "source": [
    "# Input and output paths to execute train and inference\n",
    "paths = {\n",
    "    'train_raw': f\"s3://{bucket}/TRAIN_RAW\",\n",
    "    'expectations': f\"s3://{bucket}/PREPROCESSING/EXPECTATIONS\",\n",
    "    'preprocessing': f\"s3://{bucket}/PREPROCESSING/PREPROCESSING\",\n",
    "    'train_processed': f\"s3://{bucket}/PREPROCESSING/TRAIN_PROCESSED\",\n",
    "    'val_processed': f\"s3://{bucket}/PREPROCESSING/VAL_PROCESSED\",\n",
    "    'test_raw': f\"s3://{bucket}/TEST_RAW\",\n",
    "    'inference_processed': f\"s3://{bucket}/PREPROCESSING/INFERENCE_PROCESSED\",\n",
    "    'validations': f\"s3://{bucket}/PREPROCESSING/VALIDATIONS\"\n",
    "}"
   ]
  },
  {
   "cell_type": "code",
   "execution_count": 8,
   "id": "52ba34ff",
   "metadata": {},
   "outputs": [],
   "source": [
    "# upload train and test data in S3\n",
    "s3 = boto3.resource('s3')    \n",
    "s3.Bucket(bucket).upload_file('../../../data/raw/raw_train.csv', 'TRAIN_RAW/raw_train.csv')\n",
    "s3.Bucket(bucket).upload_file('../../../data/raw/raw_test.csv', 'TEST_RAW/raw_test.csv')"
   ]
  },
  {
   "cell_type": "code",
   "execution_count": 9,
   "id": "b1744737",
   "metadata": {},
   "outputs": [],
   "source": [
    "# instance to run the code\n",
    "instance_type_train=\"ml.t3.medium\"\n",
    "instance_type_inference=\"ml.t3.medium\""
   ]
  },
  {
   "cell_type": "markdown",
   "id": "281216e9",
   "metadata": {},
   "source": [
    "## Processor - Train"
   ]
  },
  {
   "cell_type": "code",
   "execution_count": 10,
   "id": "3191cd98",
   "metadata": {},
   "outputs": [],
   "source": [
    "# Receives a raw data in S3\n",
    "inputs=[\n",
    "    ProcessingInput(source=paths['train_raw'], \n",
    "                    destination='/opt/ml/processing/input/raw_data', \n",
    "                    input_name=\"raw_data\")\n",
    "]"
   ]
  },
  {
   "cell_type": "code",
   "execution_count": 11,
   "id": "9998dd3a",
   "metadata": {},
   "outputs": [],
   "source": [
    "# Returns the great expectation object, preprocessing object, \n",
    "# processed training data and processed validation data, and saves them in S3\n",
    "outputs = [\n",
    "    ProcessingOutput(\n",
    "        source=\"/opt/ml/processing/output/expectations\",\n",
    "        destination=paths['expectations'],\n",
    "        output_name=\"expectations\",\n",
    "    ),\n",
    "    ProcessingOutput(\n",
    "        source=\"/opt/ml/processing/output/preprocessing\",\n",
    "        destination=paths['preprocessing'],\n",
    "        output_name=\"preprocessing\",\n",
    "    ),\n",
    "    ProcessingOutput(\n",
    "        source=\"/opt/ml/processing/output/processed/train\",\n",
    "        destination=paths['train_processed'],\n",
    "        output_name=\"train_data\",\n",
    "    ),\n",
    "    ProcessingOutput(\n",
    "        source=\"/opt/ml/processing/output/processed/val\",\n",
    "        destination=paths['val_processed'],\n",
    "        output_name=\"val_data\",\n",
    "    )\n",
    "]"
   ]
  },
  {
   "cell_type": "code",
   "execution_count": 12,
   "id": "a0d4af1b",
   "metadata": {},
   "outputs": [],
   "source": [
    "# Creates the processor to access the ECR image\n",
    "processor = Processor(image_uri=image_uri,\n",
    "                     role=role,\n",
    "                     instance_count=1,\n",
    "                     instance_type=instance_type_train)"
   ]
  },
  {
   "cell_type": "code",
   "execution_count": 13,
   "id": "065f6fca",
   "metadata": {},
   "outputs": [
    {
     "name": "stdout",
     "output_type": "stream",
     "text": [
      "\n",
      "Job Name:  hermione-processor-2021-07-22-19-53-22-425\n",
      "Inputs:  [{'InputName': 'raw_data', 'AppManaged': False, 'S3Input': {'S3Uri': 's3://hermione-sagemaker/TRAIN_RAW', 'LocalPath': '/opt/ml/processing/input/raw_data', 'S3DataType': 'S3Prefix', 'S3InputMode': 'File', 'S3DataDistributionType': 'FullyReplicated', 'S3CompressionType': 'None'}}]\n",
      "Outputs:  [{'OutputName': 'expectations', 'AppManaged': False, 'S3Output': {'S3Uri': 's3://hermione-sagemaker/PREPROCESSING/EXPECTATIONS', 'LocalPath': '/opt/ml/processing/output/expectations', 'S3UploadMode': 'EndOfJob'}}, {'OutputName': 'preprocessing', 'AppManaged': False, 'S3Output': {'S3Uri': 's3://hermione-sagemaker/PREPROCESSING/PREPROCESSING', 'LocalPath': '/opt/ml/processing/output/preprocessing', 'S3UploadMode': 'EndOfJob'}}, {'OutputName': 'train_data', 'AppManaged': False, 'S3Output': {'S3Uri': 's3://hermione-sagemaker/PREPROCESSING/TRAIN_PROCESSED', 'LocalPath': '/opt/ml/processing/output/processed/train', 'S3UploadMode': 'EndOfJob'}}, {'OutputName': 'val_data', 'AppManaged': False, 'S3Output': {'S3Uri': 's3://hermione-sagemaker/PREPROCESSING/VAL_PROCESSED', 'LocalPath': '/opt/ml/processing/output/processed/val', 'S3UploadMode': 'EndOfJob'}}]\n",
      "......................................................\u001b[34mINFO:root:Starting the preprocessing\u001b[0m\n",
      "\u001b[34mINFO:root:step_train: True\u001b[0m\n",
      "\u001b[34mINFO:root:Reading the inputs\u001b[0m\n",
      "\u001b[34mINFO:root:Reading file: /opt/ml/processing/input/raw_data/raw_train.csv\u001b[0m\n",
      "\u001b[34mINFO:root:Data Quality\u001b[0m\n",
      "\u001b[34mINFO:great_expectations.data_asset.data_asset:#01110 expectation(s) included in expectation_suite. Omitting 1 expectation(s) that failed when last run; set discard_failed_expectations=False to include them. result_format settings filtered.\u001b[0m\n",
      "\u001b[34mINFO:root:Preprocessing\u001b[0m\n",
      "\u001b[34mINFO:root:Cleaning data\u001b[0m\n",
      "\u001b[34mINFO:root:One hot encoding\u001b[0m\n",
      "\u001b[34mWARNING:py.warnings:/usr/local/lib/python3.8/dist-packages/category_encoders/utils.py:21: FutureWarning: is_categorical is deprecated and will be removed in a future version.  Use is_categorical_dtype instead\n",
      "  elif pd.api.types.is_categorical(cols):\n",
      "\u001b[0m\n",
      "\u001b[34mINFO:root:Divide train and test\u001b[0m\n",
      "\u001b[34mINFO:root:Normalizing\u001b[0m\n",
      "\u001b[34mWARNING:py.warnings:/usr/local/lib/python3.8/dist-packages/pandas/core/indexing.py:1835: SettingWithCopyWarning: \u001b[0m\n",
      "\u001b[34mA value is trying to be set on a copy of a slice from a DataFrame.\u001b[0m\n",
      "\u001b[34mTry using .loc[row_indexer,col_indexer] = value instead\n",
      "\u001b[0m\n",
      "\u001b[34mSee the caveats in the documentation: https://pandas.pydata.org/pandas-docs/stable/user_guide/indexing.html#returning-a-view-versus-a-copy\n",
      "  self._setitem_single_column(loc, value[:, i].tolist(), pi)\n",
      "\u001b[0m\n",
      "\u001b[34mINFO:root:Normalizing\u001b[0m\n",
      "\u001b[34mINFO:root:shape train (393, 7) val (99, 7)\u001b[0m\n",
      "\u001b[34mINFO:root:Saving\u001b[0m\n",
      "\n",
      "CPU times: user 1.09 s, sys: 71.1 ms, total: 1.16 s\n",
      "Wall time: 9min 48s\n"
     ]
    }
   ],
   "source": [
    "%%time\n",
    "# Runs the processor to access the ECR image and process the training data\n",
    "processor.run(inputs=inputs,\n",
    "              outputs= outputs,\n",
    "              arguments=[\"--step\", \"train\"]              \n",
    "             )"
   ]
  },
  {
   "cell_type": "markdown",
   "id": "5db80626",
   "metadata": {},
   "source": [
    "## Processor - Inference"
   ]
  },
  {
   "cell_type": "code",
   "execution_count": 10,
   "id": "8d08c6c9",
   "metadata": {},
   "outputs": [],
   "source": [
    "# Receives a raw data in S3, the preprocessing and great expectation objects created in the training\n",
    "inputs=[\n",
    "    ProcessingInput(source=paths['test_raw'],\n",
    "                    destination='/opt/ml/processing/input/raw_data', \n",
    "                    input_name='raw_data'),\n",
    "    ProcessingInput(source=paths['preprocessing'], \n",
    "                    destination='/opt/ml/processing/input/preprocessing', \n",
    "                    input_name='preprocessing'),\n",
    "    ProcessingInput(source=paths['expectations'], \n",
    "                    destination='/opt/ml/processing/input/expectations', \n",
    "                    input_name='expectations')\n",
    "]"
   ]
  },
  {
   "cell_type": "code",
   "execution_count": 11,
   "id": "4273ba95",
   "metadata": {},
   "outputs": [],
   "source": [
    "# Returns the processed inference data and validations, and saves them in S3\n",
    "outputs = [\n",
    "    ProcessingOutput(\n",
    "        source=\"/opt/ml/processing/output/processed/inference\",\n",
    "        destination=paths['inference_processed'],\n",
    "        output_name=\"inference_data\",\n",
    "    ),\n",
    "    ProcessingOutput(\n",
    "        source=\"/opt/ml/processing/output/validations\",\n",
    "        destination=paths['validations'],\n",
    "        output_name=\"validations\",\n",
    "    )\n",
    "]"
   ]
  },
  {
   "cell_type": "code",
   "execution_count": 12,
   "id": "b4d816d3",
   "metadata": {},
   "outputs": [],
   "source": [
    "# Creates the processor to access the ECR image\n",
    "processor = Processor(image_uri=image_uri,\n",
    "                     role=role,\n",
    "                     instance_count=1,\n",
    "                     instance_type=instance_type_inference)"
   ]
  },
  {
   "cell_type": "code",
   "execution_count": 13,
   "id": "28aa9b95",
   "metadata": {},
   "outputs": [
    {
     "name": "stdout",
     "output_type": "stream",
     "text": [
      "\n",
      "Job Name:  hermione-processor-2021-07-22-19-40-48-848\n",
      "Inputs:  [{'InputName': 'raw_data', 'AppManaged': False, 'S3Input': {'S3Uri': 's3://hermione-sagemaker/TEST_RAW', 'LocalPath': '/opt/ml/processing/input/raw_data', 'S3DataType': 'S3Prefix', 'S3InputMode': 'File', 'S3DataDistributionType': 'FullyReplicated', 'S3CompressionType': 'None'}}, {'InputName': 'preprocessing', 'AppManaged': False, 'S3Input': {'S3Uri': 's3://hermione-sagemaker/PREPROCESSING/PREPROCESSING', 'LocalPath': '/opt/ml/processing/input/preprocessing', 'S3DataType': 'S3Prefix', 'S3InputMode': 'File', 'S3DataDistributionType': 'FullyReplicated', 'S3CompressionType': 'None'}}, {'InputName': 'expectations', 'AppManaged': False, 'S3Input': {'S3Uri': 's3://hermione-sagemaker/PREPROCESSING/EXPECTATIONS', 'LocalPath': '/opt/ml/processing/input/expectations', 'S3DataType': 'S3Prefix', 'S3InputMode': 'File', 'S3DataDistributionType': 'FullyReplicated', 'S3CompressionType': 'None'}}]\n",
      "Outputs:  [{'OutputName': 'inference_data', 'AppManaged': False, 'S3Output': {'S3Uri': 's3://hermione-sagemaker/PREPROCESSING/INFERENCE_PROCESSED', 'LocalPath': '/opt/ml/processing/output/processed/inference', 'S3UploadMode': 'EndOfJob'}}, {'OutputName': 'validations', 'AppManaged': False, 'S3Output': {'S3Uri': 's3://hermione-sagemaker/PREPROCESSING/VALIDATIONS', 'LocalPath': '/opt/ml/processing/output/validations', 'S3UploadMode': 'EndOfJob'}}]\n",
      "...........................................................\u001b[34mINFO:root:Starting the preprocessing\u001b[0m\n",
      "\u001b[34mINFO:root:step_train: False\u001b[0m\n",
      "\u001b[34mINFO:root:Reading the inputs\u001b[0m\n",
      "\u001b[34mINFO:root:Reading file: /opt/ml/processing/input/raw_data/raw_test.csv\u001b[0m\n",
      "\u001b[34mINFO:root:Data Quality\u001b[0m\n",
      "\u001b[34mINFO:root:Preprocessing\u001b[0m\n",
      "\u001b[34mINFO:root:Cleaning data\u001b[0m\n",
      "\u001b[34mINFO:root:One hot encoding\u001b[0m\n",
      "\u001b[34mINFO:root:Normalizing\u001b[0m\n",
      "\u001b[34mINFO:root:shape (222, 7)\u001b[0m\n",
      "\u001b[34mINFO:root:Saving\u001b[0m\n",
      "\n",
      "CPU times: user 1.18 s, sys: 39.6 ms, total: 1.22 s\n",
      "Wall time: 10min 15s\n"
     ]
    }
   ],
   "source": [
    "%%time\n",
    "# Runs the processor to access the ECR image and process the inference data\n",
    "processor.run(inputs=inputs,\n",
    "              outputs= outputs,\n",
    "              arguments=[\"--step\", \"test\"]              \n",
    "             )"
   ]
  }
 ],
 "metadata": {
  "kernelspec": {
   "display_name": "conda_python3",
   "language": "python",
   "name": "conda_python3"
  },
  "language_info": {
   "codemirror_mode": {
    "name": "ipython",
    "version": 3
   },
   "file_extension": ".py",
   "mimetype": "text/x-python",
   "name": "python",
   "nbconvert_exporter": "python",
   "pygments_lexer": "ipython3",
   "version": "3.6.13"
  }
 },
 "nbformat": 4,
 "nbformat_minor": 5
}
