{
 "cells": [
  {
   "cell_type": "markdown",
   "metadata": {},
   "source": [
    "# Notebook example"
   ]
  },
  {
   "cell_type": "markdown",
   "metadata": {},
   "source": [
    "Installing some necessary packages:"
   ]
  },
  {
   "cell_type": "code",
   "execution_count": 1,
   "metadata": {
    "collapsed": true
   },
   "outputs": [
    {
     "name": "stdout",
     "output_type": "stream",
     "text": [
      "Requirement already satisfied: ipywidgets in c:\\users\\gusta\\appdata\\local\\continuum\\anaconda3\\envs\\octopus\\lib\\site-packages (7.5.1)\n",
      "Requirement already satisfied: widgetsnbextension~=3.5.0 in c:\\users\\gusta\\appdata\\local\\continuum\\anaconda3\\envs\\octopus\\lib\\site-packages (from ipywidgets) (3.5.1)\n",
      "Requirement already satisfied: ipython>=4.0.0; python_version >= \"3.3\" in c:\\users\\gusta\\appdata\\local\\continuum\\anaconda3\\envs\\octopus\\lib\\site-packages (from ipywidgets) (7.9.0)\n",
      "Requirement already satisfied: traitlets>=4.3.1 in c:\\users\\gusta\\appdata\\local\\continuum\\anaconda3\\envs\\octopus\\lib\\site-packages (from ipywidgets) (4.3.3)\n",
      "Requirement already satisfied: nbformat>=4.2.0 in c:\\users\\gusta\\appdata\\local\\continuum\\anaconda3\\envs\\octopus\\lib\\site-packages (from ipywidgets) (4.4.0)\n",
      "Requirement already satisfied: ipykernel>=4.5.1 in c:\\users\\gusta\\appdata\\local\\continuum\\anaconda3\\envs\\octopus\\lib\\site-packages (from ipywidgets) (5.1.3)\n",
      "Requirement already satisfied: notebook>=4.4.1 in c:\\users\\gusta\\appdata\\local\\continuum\\anaconda3\\envs\\octopus\\lib\\site-packages (from widgetsnbextension~=3.5.0->ipywidgets) (6.0.1)\n",
      "Requirement already satisfied: setuptools>=18.5 in c:\\users\\gusta\\appdata\\local\\continuum\\anaconda3\\envs\\octopus\\lib\\site-packages (from ipython>=4.0.0; python_version >= \"3.3\"->ipywidgets) (41.6.0.post20191101)\n",
      "Requirement already satisfied: pickleshare in c:\\users\\gusta\\appdata\\local\\continuum\\anaconda3\\envs\\octopus\\lib\\site-packages (from ipython>=4.0.0; python_version >= \"3.3\"->ipywidgets) (0.7.5)\n",
      "Requirement already satisfied: prompt-toolkit<2.1.0,>=2.0.0 in c:\\users\\gusta\\appdata\\local\\continuum\\anaconda3\\envs\\octopus\\lib\\site-packages (from ipython>=4.0.0; python_version >= \"3.3\"->ipywidgets) (2.0.10)\n",
      "Requirement already satisfied: jedi>=0.10 in c:\\users\\gusta\\appdata\\local\\continuum\\anaconda3\\envs\\octopus\\lib\\site-packages (from ipython>=4.0.0; python_version >= \"3.3\"->ipywidgets) (0.15.1)\n",
      "Requirement already satisfied: pygments in c:\\users\\gusta\\appdata\\local\\continuum\\anaconda3\\envs\\octopus\\lib\\site-packages (from ipython>=4.0.0; python_version >= \"3.3\"->ipywidgets) (2.4.2)\n",
      "Requirement already satisfied: decorator in c:\\users\\gusta\\appdata\\local\\continuum\\anaconda3\\envs\\octopus\\lib\\site-packages (from ipython>=4.0.0; python_version >= \"3.3\"->ipywidgets) (4.4.1)\n",
      "Requirement already satisfied: colorama; sys_platform == \"win32\" in c:\\users\\gusta\\appdata\\local\\continuum\\anaconda3\\envs\\octopus\\lib\\site-packages (from ipython>=4.0.0; python_version >= \"3.3\"->ipywidgets) (0.4.1)\n",
      "Requirement already satisfied: backcall in c:\\users\\gusta\\appdata\\local\\continuum\\anaconda3\\envs\\octopus\\lib\\site-packages (from ipython>=4.0.0; python_version >= \"3.3\"->ipywidgets) (0.1.0)\n",
      "Requirement already satisfied: ipython-genutils in c:\\users\\gusta\\appdata\\local\\continuum\\anaconda3\\envs\\octopus\\lib\\site-packages (from traitlets>=4.3.1->ipywidgets) (0.2.0)\n",
      "Requirement already satisfied: six in c:\\users\\gusta\\appdata\\local\\continuum\\anaconda3\\envs\\octopus\\lib\\site-packages (from traitlets>=4.3.1->ipywidgets) (1.12.0)\n",
      "Requirement already satisfied: jsonschema!=2.5.0,>=2.4 in c:\\users\\gusta\\appdata\\local\\continuum\\anaconda3\\envs\\octopus\\lib\\site-packages (from nbformat>=4.2.0->ipywidgets) (3.1.1)\n",
      "Requirement already satisfied: jupyter_core in c:\\users\\gusta\\appdata\\local\\continuum\\anaconda3\\envs\\octopus\\lib\\site-packages (from nbformat>=4.2.0->ipywidgets) (4.5.0)\n",
      "Requirement already satisfied: tornado>=4.2 in c:\\users\\gusta\\appdata\\local\\continuum\\anaconda3\\envs\\octopus\\lib\\site-packages (from ipykernel>=4.5.1->ipywidgets) (6.0.3)\n",
      "Requirement already satisfied: jupyter-client in c:\\users\\gusta\\appdata\\local\\continuum\\anaconda3\\envs\\octopus\\lib\\site-packages (from ipykernel>=4.5.1->ipywidgets) (5.3.3)\n",
      "Requirement already satisfied: Send2Trash in c:\\users\\gusta\\appdata\\local\\continuum\\anaconda3\\envs\\octopus\\lib\\site-packages (from notebook>=4.4.1->widgetsnbextension~=3.5.0->ipywidgets) (1.5.0)\n",
      "Requirement already satisfied: nbconvert in c:\\users\\gusta\\appdata\\local\\continuum\\anaconda3\\envs\\octopus\\lib\\site-packages (from notebook>=4.4.1->widgetsnbextension~=3.5.0->ipywidgets) (5.6.1)\n",
      "Requirement already satisfied: prometheus-client in c:\\users\\gusta\\appdata\\local\\continuum\\anaconda3\\envs\\octopus\\lib\\site-packages (from notebook>=4.4.1->widgetsnbextension~=3.5.0->ipywidgets) (0.7.1)\n",
      "Requirement already satisfied: jinja2 in c:\\users\\gusta\\appdata\\local\\continuum\\anaconda3\\envs\\octopus\\lib\\site-packages (from notebook>=4.4.1->widgetsnbextension~=3.5.0->ipywidgets) (2.10.3)\n",
      "Requirement already satisfied: pyzmq>=17 in c:\\users\\gusta\\appdata\\local\\continuum\\anaconda3\\envs\\octopus\\lib\\site-packages (from notebook>=4.4.1->widgetsnbextension~=3.5.0->ipywidgets) (18.1.0)\n",
      "Requirement already satisfied: terminado>=0.8.1 in c:\\users\\gusta\\appdata\\local\\continuum\\anaconda3\\envs\\octopus\\lib\\site-packages (from notebook>=4.4.1->widgetsnbextension~=3.5.0->ipywidgets) (0.8.2)\n",
      "Requirement already satisfied: wcwidth in c:\\users\\gusta\\appdata\\local\\continuum\\anaconda3\\envs\\octopus\\lib\\site-packages (from prompt-toolkit<2.1.0,>=2.0.0->ipython>=4.0.0; python_version >= \"3.3\"->ipywidgets) (0.1.7)\n",
      "Requirement already satisfied: parso>=0.5.0 in c:\\users\\gusta\\appdata\\local\\continuum\\anaconda3\\envs\\octopus\\lib\\site-packages (from jedi>=0.10->ipython>=4.0.0; python_version >= \"3.3\"->ipywidgets) (0.5.1)\n",
      "Requirement already satisfied: importlib-metadata in c:\\users\\gusta\\appdata\\local\\continuum\\anaconda3\\envs\\octopus\\lib\\site-packages (from jsonschema!=2.5.0,>=2.4->nbformat>=4.2.0->ipywidgets) (0.23)\n",
      "Requirement already satisfied: attrs>=17.4.0 in c:\\users\\gusta\\appdata\\local\\continuum\\anaconda3\\envs\\octopus\\lib\\site-packages (from jsonschema!=2.5.0,>=2.4->nbformat>=4.2.0->ipywidgets) (19.3.0)\n",
      "Requirement already satisfied: pyrsistent>=0.14.0 in c:\\users\\gusta\\appdata\\local\\continuum\\anaconda3\\envs\\octopus\\lib\\site-packages (from jsonschema!=2.5.0,>=2.4->nbformat>=4.2.0->ipywidgets) (0.15.5)\n",
      "Requirement already satisfied: pywin32>=1.0; sys_platform == \"win32\" in c:\\users\\gusta\\appdata\\local\\continuum\\anaconda3\\envs\\octopus\\lib\\site-packages (from jupyter-client->ipykernel>=4.5.1->ipywidgets) (225)\n",
      "Requirement already satisfied: python-dateutil>=2.1 in c:\\users\\gusta\\appdata\\local\\continuum\\anaconda3\\envs\\octopus\\lib\\site-packages (from jupyter-client->ipykernel>=4.5.1->ipywidgets) (2.8.1)\n",
      "Requirement already satisfied: mistune<2,>=0.8.1 in c:\\users\\gusta\\appdata\\local\\continuum\\anaconda3\\envs\\octopus\\lib\\site-packages (from nbconvert->notebook>=4.4.1->widgetsnbextension~=3.5.0->ipywidgets) (0.8.4)\n",
      "Requirement already satisfied: entrypoints>=0.2.2 in c:\\users\\gusta\\appdata\\local\\continuum\\anaconda3\\envs\\octopus\\lib\\site-packages (from nbconvert->notebook>=4.4.1->widgetsnbextension~=3.5.0->ipywidgets) (0.3)\n",
      "Requirement already satisfied: defusedxml in c:\\users\\gusta\\appdata\\local\\continuum\\anaconda3\\envs\\octopus\\lib\\site-packages (from nbconvert->notebook>=4.4.1->widgetsnbextension~=3.5.0->ipywidgets) (0.6.0)\n",
      "Requirement already satisfied: bleach in c:\\users\\gusta\\appdata\\local\\continuum\\anaconda3\\envs\\octopus\\lib\\site-packages (from nbconvert->notebook>=4.4.1->widgetsnbextension~=3.5.0->ipywidgets) (3.1.0)\n",
      "Requirement already satisfied: testpath in c:\\users\\gusta\\appdata\\local\\continuum\\anaconda3\\envs\\octopus\\lib\\site-packages (from nbconvert->notebook>=4.4.1->widgetsnbextension~=3.5.0->ipywidgets) (0.4.4)\n",
      "Requirement already satisfied: pandocfilters>=1.4.1 in c:\\users\\gusta\\appdata\\local\\continuum\\anaconda3\\envs\\octopus\\lib\\site-packages (from nbconvert->notebook>=4.4.1->widgetsnbextension~=3.5.0->ipywidgets) (1.4.2)\n",
      "Requirement already satisfied: MarkupSafe>=0.23 in c:\\users\\gusta\\appdata\\local\\continuum\\anaconda3\\envs\\octopus\\lib\\site-packages (from jinja2->notebook>=4.4.1->widgetsnbextension~=3.5.0->ipywidgets) (1.1.1)\n",
      "Requirement already satisfied: zipp>=0.5 in c:\\users\\gusta\\appdata\\local\\continuum\\anaconda3\\envs\\octopus\\lib\\site-packages (from importlib-metadata->jsonschema!=2.5.0,>=2.4->nbformat>=4.2.0->ipywidgets) (0.6.0)\n",
      "Requirement already satisfied: webencodings in c:\\users\\gusta\\appdata\\local\\continuum\\anaconda3\\envs\\octopus\\lib\\site-packages (from bleach->nbconvert->notebook>=4.4.1->widgetsnbextension~=3.5.0->ipywidgets) (0.5.1)\n",
      "Requirement already satisfied: more-itertools in c:\\users\\gusta\\appdata\\local\\continuum\\anaconda3\\envs\\octopus\\lib\\site-packages (from zipp>=0.5->importlib-metadata->jsonschema!=2.5.0,>=2.4->nbformat>=4.2.0->ipywidgets) (7.2.0)\n"
     ]
    },
    {
     "name": "stderr",
     "output_type": "stream",
     "text": [
      "Enabling notebook extension jupyter-js-widgets/extension...\n",
      "      - Validating: ok\n"
     ]
    },
    {
     "name": "stdout",
     "output_type": "stream",
     "text": [
      "An error occured.\n",
      "ValueError: Please install nodejs 5+ and npm before continuing installation. nodejs may be installed using conda or directly from the nodejs website.\n",
      "See the log file for details:  C:\\Users\\gusta\\AppData\\Local\\Temp\\jupyterlab-debug-04zgl4me.log\n"
     ]
    }
   ],
   "source": [
    "!pip install ipywidgets\n",
    "!jupyter nbextension enable --py widgetsnbextension\n",
    "!jupyter labextension install @jupyter-widgets/jupyterlab-manager"
   ]
  },
  {
   "cell_type": "code",
   "execution_count": 2,
   "metadata": {
    "collapsed": true
   },
   "outputs": [
    {
     "name": "stdout",
     "output_type": "stream",
     "text": [
      "Collecting xgboost\n",
      "  Downloading https://files.pythonhosted.org/packages/3d/1b/83e5dc0021d12884e9998999945e156cf3628a79dacecaed2ede9f3107cb/xgboost-1.3.3-py3-none-win_amd64.whl (95.2MB)\n",
      "Requirement already satisfied: numpy in c:\\users\\gusta\\appdata\\local\\continuum\\anaconda3\\envs\\octopus\\lib\\site-packages (from xgboost) (1.17.3)\n",
      "Requirement already satisfied: scipy in c:\\users\\gusta\\appdata\\local\\continuum\\anaconda3\\envs\\octopus\\lib\\site-packages (from xgboost) (1.4.1)\n",
      "Installing collected packages: xgboost\n",
      "Successfully installed xgboost-1.3.3\n"
     ]
    }
   ],
   "source": [
    "!pip install xgboost"
   ]
  },
  {
   "cell_type": "code",
   "execution_count": 1,
   "metadata": {
    "collapsed": true
   },
   "outputs": [
    {
     "name": "stdout",
     "output_type": "stream",
     "text": [
      "Collecting pingouin==0.4.0\n",
      "  Downloading pingouin-0.4.0.tar.gz (206 kB)\n",
      "Requirement already satisfied: numpy>=1.19 in c:\\users\\karen martins\\anaconda3\\envs\\myenv\\lib\\site-packages (from pingouin==0.4.0) (1.20.2)\n",
      "Collecting scipy>=1.7\n",
      "  Downloading scipy-1.7.1-cp37-cp37m-win_amd64.whl (33.6 MB)\n",
      "Requirement already satisfied: pandas>=1.0 in c:\\users\\karen martins\\anaconda3\\envs\\myenv\\lib\\site-packages (from pingouin==0.4.0) (1.2.4)\n",
      "Collecting matplotlib>=3.0.2\n",
      "  Downloading matplotlib-3.4.3-cp37-cp37m-win_amd64.whl (7.2 MB)\n",
      "Collecting seaborn>=0.9.0\n",
      "  Downloading seaborn-0.11.2-py3-none-any.whl (292 kB)\n",
      "Collecting statsmodels>=0.12.0\n",
      "  Downloading statsmodels-0.12.2-cp37-none-win_amd64.whl (9.3 MB)\n",
      "Collecting scikit-learn\n",
      "  Downloading scikit_learn-0.24.2-cp37-cp37m-win_amd64.whl (6.8 MB)\n",
      "Collecting pandas_flavor>=0.2.0\n",
      "  Downloading pandas_flavor-0.2.0-py2.py3-none-any.whl (6.6 kB)\n",
      "Collecting outdated\n",
      "  Downloading outdated-0.2.1-py3-none-any.whl (7.5 kB)\n",
      "Collecting tabulate\n",
      "  Using cached tabulate-0.8.9-py3-none-any.whl (25 kB)\n",
      "Requirement already satisfied: pillow>=6.2.0 in c:\\users\\karen martins\\anaconda3\\envs\\myenv\\lib\\site-packages (from matplotlib>=3.0.2->pingouin==0.4.0) (8.3.1)\n",
      "Requirement already satisfied: pyparsing>=2.2.1 in c:\\users\\karen martins\\anaconda3\\envs\\myenv\\lib\\site-packages (from matplotlib>=3.0.2->pingouin==0.4.0) (2.4.7)\n",
      "Collecting kiwisolver>=1.0.1\n",
      "  Downloading kiwisolver-1.3.1-cp37-cp37m-win_amd64.whl (51 kB)\n",
      "Collecting cycler>=0.10\n",
      "  Downloading cycler-0.10.0-py2.py3-none-any.whl (6.5 kB)\n",
      "Requirement already satisfied: python-dateutil>=2.7 in c:\\users\\karen martins\\anaconda3\\envs\\myenv\\lib\\site-packages (from matplotlib>=3.0.2->pingouin==0.4.0) (2.8.1)\n",
      "Requirement already satisfied: six in c:\\users\\karen martins\\anaconda3\\envs\\myenv\\lib\\site-packages (from cycler>=0.10->matplotlib>=3.0.2->pingouin==0.4.0) (1.15.0)\n",
      "Requirement already satisfied: pytz>=2017.3 in c:\\users\\karen martins\\anaconda3\\envs\\myenv\\lib\\site-packages (from pandas>=1.0->pingouin==0.4.0) (2021.1)\n",
      "Collecting xarray\n",
      "  Downloading xarray-0.19.0-py3-none-any.whl (827 kB)\n",
      "Collecting patsy>=0.5\n",
      "  Downloading patsy-0.5.1-py2.py3-none-any.whl (231 kB)\n",
      "Collecting littleutils\n",
      "  Downloading littleutils-0.2.2.tar.gz (6.6 kB)\n",
      "Requirement already satisfied: requests in c:\\users\\karen martins\\anaconda3\\envs\\myenv\\lib\\site-packages (from outdated->pingouin==0.4.0) (2.26.0)\n",
      "Requirement already satisfied: urllib3<1.27,>=1.21.1 in c:\\users\\karen martins\\anaconda3\\envs\\myenv\\lib\\site-packages (from requests->outdated->pingouin==0.4.0) (1.26.4)\n",
      "Requirement already satisfied: charset-normalizer~=2.0.0 in c:\\users\\karen martins\\anaconda3\\envs\\myenv\\lib\\site-packages (from requests->outdated->pingouin==0.4.0) (2.0.4)\n",
      "Requirement already satisfied: certifi>=2017.4.17 in c:\\users\\karen martins\\anaconda3\\envs\\myenv\\lib\\site-packages (from requests->outdated->pingouin==0.4.0) (2020.6.20)\n",
      "Requirement already satisfied: idna<4,>=2.5 in c:\\users\\karen martins\\anaconda3\\envs\\myenv\\lib\\site-packages (from requests->outdated->pingouin==0.4.0) (3.1)\n",
      "Collecting joblib>=0.11\n",
      "  Downloading joblib-1.0.1-py3-none-any.whl (303 kB)\n",
      "Collecting threadpoolctl>=2.0.0\n",
      "  Downloading threadpoolctl-2.2.0-py3-none-any.whl (12 kB)\n",
      "Requirement already satisfied: setuptools>=40.4 in c:\\users\\karen martins\\anaconda3\\envs\\myenv\\lib\\site-packages (from xarray->pandas_flavor>=0.2.0->pingouin==0.4.0) (52.0.0.post20210125)\n",
      "Building wheels for collected packages: pingouin, littleutils\n",
      "  Building wheel for pingouin (setup.py): started\n",
      "  Building wheel for pingouin (setup.py): finished with status 'done'\n",
      "  Created wheel for pingouin: filename=pingouin-0.4.0-py3-none-any.whl size=206432 sha256=9de6af810b385f82414483caeee8e88b954caa21eff2da790874171ffeab2b18\n",
      "  Stored in directory: c:\\users\\karen martins\\appdata\\local\\pip\\cache\\wheels\\8a\\9d\\c4\\11677c2c4d5c0df9d1d4aa61528d868bb96e13b898e3f51c95\n",
      "  Building wheel for littleutils (setup.py): started\n",
      "  Building wheel for littleutils (setup.py): finished with status 'done'\n",
      "  Created wheel for littleutils: filename=littleutils-0.2.2-py3-none-any.whl size=7048 sha256=c1006dec4d808844cefd62f62b8773080fe1e68b778e4f25dbf9a8bf2bc0a6ae\n",
      "  Stored in directory: c:\\users\\karen martins\\appdata\\local\\pip\\cache\\wheels\\d6\\64\\cd\\32819b511a488e4993f2fab909a95330289c3f4e0f6ef4676d\n",
      "Successfully built pingouin littleutils\n",
      "Installing collected packages: kiwisolver, cycler, xarray, threadpoolctl, scipy, patsy, matplotlib, littleutils, joblib, tabulate, statsmodels, seaborn, scikit-learn, pandas-flavor, outdated, pingouin\n",
      "Successfully installed cycler-0.10.0 joblib-1.0.1 kiwisolver-1.3.1 littleutils-0.2.2 matplotlib-3.4.3 outdated-0.2.1 pandas-flavor-0.2.0 patsy-0.5.1 pingouin-0.4.0 scikit-learn-0.24.2 scipy-1.7.1 seaborn-0.11.2 statsmodels-0.12.2 tabulate-0.8.9 threadpoolctl-2.2.0 xarray-0.19.0\n"
     ]
    }
   ],
   "source": [
    "!pip install pingouin==0.4.0"
   ]
  },
  {
   "cell_type": "markdown",
   "metadata": {},
   "source": [
    "**It is necessary to change the working directory so the project structure works properly:**"
   ]
  },
  {
   "cell_type": "code",
   "execution_count": 1,
   "metadata": {},
   "outputs": [],
   "source": [
    "import sys\n",
    "sys.path.append(\"../../\")"
   ]
  },
  {
   "cell_type": "markdown",
   "metadata": {},
   "source": [
    "From this point, it's on you!\n",
    "\n",
    "---"
   ]
  },
  {
   "cell_type": "code",
   "execution_count": 2,
   "metadata": {},
   "outputs": [
    {
     "name": "stderr",
     "output_type": "stream",
     "text": [
      "/home/ec2-user/anaconda3/envs/python3/lib/python3.6/site-packages/interpret_community/common/gpu_kmeans.py:32: UserWarning: cuML is required to use GPU explainers. Check https://rapids.ai/start.html         for more information on how to install it.\n",
      "  for more information on how to install it.\")\n",
      "cuML is required to use GPU explainers. Check https://rapids.ai/start.html         for more information on how to install it.\n"
     ]
    }
   ],
   "source": [
    "import pandas as pd\n",
    "\n",
    "from ml.data_source.spreadsheet import Spreadsheet\n",
    "from ml.preprocessing.preprocessing import Preprocessing\n",
    "from ml.model.trainer import TrainerSklearn\n",
    "\n",
    "from sklearn.model_selection import train_test_split\n",
    "from sklearn.ensemble import RandomForestClassifier"
   ]
  },
  {
   "cell_type": "code",
   "execution_count": 3,
   "metadata": {},
   "outputs": [],
   "source": [
    "df = Spreadsheet().get_data('../../../data/raw/train.csv')"
   ]
  },
  {
   "cell_type": "code",
   "execution_count": 4,
   "metadata": {},
   "outputs": [
    {
     "data": {
      "text/plain": [
       "Index(['Survived', 'Pclass', 'Sex', 'Age'], dtype='object')"
      ]
     },
     "execution_count": 4,
     "metadata": {},
     "output_type": "execute_result"
    }
   ],
   "source": [
    "df.columns"
   ]
  },
  {
   "cell_type": "code",
   "execution_count": 5,
   "metadata": {},
   "outputs": [],
   "source": [
    "p = Preprocessing()"
   ]
  },
  {
   "cell_type": "code",
   "execution_count": 6,
   "metadata": {},
   "outputs": [
    {
     "name": "stderr",
     "output_type": "stream",
     "text": [
      "INFO:root:Cleaning data\n",
      "INFO:root:Category encoding\n"
     ]
    }
   ],
   "source": [
    "df = p.clean_data(df)\n",
    "df = p.categ_encoding(df)"
   ]
  },
  {
   "cell_type": "code",
   "execution_count": 7,
   "metadata": {},
   "outputs": [
    {
     "data": {
      "text/html": [
       "<div>\n",
       "<style scoped>\n",
       "    .dataframe tbody tr th:only-of-type {\n",
       "        vertical-align: middle;\n",
       "    }\n",
       "\n",
       "    .dataframe tbody tr th {\n",
       "        vertical-align: top;\n",
       "    }\n",
       "\n",
       "    .dataframe thead th {\n",
       "        text-align: right;\n",
       "    }\n",
       "</style>\n",
       "<table border=\"1\" class=\"dataframe\">\n",
       "  <thead>\n",
       "    <tr style=\"text-align: right;\">\n",
       "      <th></th>\n",
       "      <th>Survived</th>\n",
       "      <th>Age</th>\n",
       "      <th>Pclass_1</th>\n",
       "      <th>Pclass_2</th>\n",
       "      <th>Pclass_3</th>\n",
       "      <th>Sex_female</th>\n",
       "      <th>Sex_male</th>\n",
       "    </tr>\n",
       "  </thead>\n",
       "  <tbody>\n",
       "    <tr>\n",
       "      <th>0</th>\n",
       "      <td>0</td>\n",
       "      <td>22.0</td>\n",
       "      <td>0</td>\n",
       "      <td>0</td>\n",
       "      <td>1</td>\n",
       "      <td>0</td>\n",
       "      <td>1</td>\n",
       "    </tr>\n",
       "    <tr>\n",
       "      <th>1</th>\n",
       "      <td>1</td>\n",
       "      <td>38.0</td>\n",
       "      <td>1</td>\n",
       "      <td>0</td>\n",
       "      <td>0</td>\n",
       "      <td>1</td>\n",
       "      <td>0</td>\n",
       "    </tr>\n",
       "    <tr>\n",
       "      <th>2</th>\n",
       "      <td>1</td>\n",
       "      <td>26.0</td>\n",
       "      <td>0</td>\n",
       "      <td>0</td>\n",
       "      <td>1</td>\n",
       "      <td>1</td>\n",
       "      <td>0</td>\n",
       "    </tr>\n",
       "    <tr>\n",
       "      <th>3</th>\n",
       "      <td>1</td>\n",
       "      <td>35.0</td>\n",
       "      <td>1</td>\n",
       "      <td>0</td>\n",
       "      <td>0</td>\n",
       "      <td>1</td>\n",
       "      <td>0</td>\n",
       "    </tr>\n",
       "    <tr>\n",
       "      <th>4</th>\n",
       "      <td>0</td>\n",
       "      <td>35.0</td>\n",
       "      <td>0</td>\n",
       "      <td>0</td>\n",
       "      <td>1</td>\n",
       "      <td>0</td>\n",
       "      <td>1</td>\n",
       "    </tr>\n",
       "  </tbody>\n",
       "</table>\n",
       "</div>"
      ],
      "text/plain": [
       "   Survived   Age  Pclass_1  Pclass_2  Pclass_3  Sex_female  Sex_male\n",
       "0         0  22.0         0         0         1           0         1\n",
       "1         1  38.0         1         0         0           1         0\n",
       "2         1  26.0         0         0         1           1         0\n",
       "3         1  35.0         1         0         0           1         0\n",
       "4         0  35.0         0         0         1           0         1"
      ]
     },
     "execution_count": 7,
     "metadata": {},
     "output_type": "execute_result"
    }
   ],
   "source": [
    "df.head()"
   ]
  },
  {
   "cell_type": "code",
   "execution_count": 8,
   "metadata": {},
   "outputs": [],
   "source": [
    "X = df.drop(columns=[\"Survived\"])\n",
    "y = df[\"Survived\"]"
   ]
  },
  {
   "cell_type": "code",
   "execution_count": 9,
   "metadata": {},
   "outputs": [
    {
     "data": {
      "text/plain": [
       "((499, 6), (215, 6), (499,), (215,))"
      ]
     },
     "execution_count": 9,
     "metadata": {},
     "output_type": "execute_result"
    }
   ],
   "source": [
    "# Ensure the same random state passed to TrainerSkleran().train()\n",
    "X_train, X_test, y_train, y_test = train_test_split(X, y, test_size=0.3, random_state=123)\n",
    "X_train.shape, X_test.shape, y_train.shape, y_test.shape"
   ]
  },
  {
   "cell_type": "code",
   "execution_count": 10,
   "metadata": {},
   "outputs": [
    {
     "name": "stderr",
     "output_type": "stream",
     "text": [
      "Setting feature_perturbation = \"tree_path_dependent\" because no background data was given.\n",
      "INFO:interpret_community.TabularExplainer:Initialized valid explainer TreeExplainer with args {'explain_subset': None, 'features': ['Age', 'Pclass_1', 'Pclass_2', 'Pclass_3', 'Sex_female', 'Sex_male'], 'classes': None}\n"
     ]
    }
   ],
   "source": [
    "rf = TrainerSklearn().train(X, y, classification=True, \n",
    "                            algorithm=RandomForestClassifier, \n",
    "                            preprocessing=p,\n",
    "                           data_split=('train_test', {'test_size':.3}),\n",
    "                           random_state=123)"
   ]
  },
  {
   "cell_type": "code",
   "execution_count": 11,
   "metadata": {},
   "outputs": [
    {
     "data": {
      "text/plain": [
       "{'accuracy': 0.8232558139534883,\n",
       " 'f1': 0.7500000000000001,\n",
       " 'precision': 0.7808219178082192,\n",
       " 'recall': 0.7215189873417721,\n",
       " 'roc_auc': 0.8634121370067014}"
      ]
     },
     "execution_count": 11,
     "metadata": {},
     "output_type": "execute_result"
    }
   ],
   "source": [
    "rf.get_metrics()"
   ]
  },
  {
   "cell_type": "code",
   "execution_count": 12,
   "metadata": {},
   "outputs": [
    {
     "data": {
      "text/html": [
       "['Age', 'Pclass_1', 'Pclass_2', 'Pclass_3', 'Sex_female', 'Sex_male']"
      ],
      "text/plain": [
       "['Age', 'Pclass_1', 'Pclass_2', 'Pclass_3', 'Sex_female', 'Sex_male']"
      ]
     },
     "execution_count": 12,
     "metadata": {},
     "output_type": "execute_result"
    }
   ],
   "source": [
    "rf.get_columns()"
   ]
  },
  {
   "cell_type": "code",
   "execution_count": 13,
   "metadata": {},
   "outputs": [
    {
     "data": {
      "text/plain": [
       "array([1.        , 0.45271429, 0.43433333, 0.93333333, 0.29      ,\n",
       "       0.0097619 , 0.08943685, 0.        , 0.0525    , 0.98      ,\n",
       "       0.65514286, 0.10844703, 0.10844703, 0.97      , 0.87      ,\n",
       "       0.29193651, 0.01      , 0.42744644, 1.        , 0.0300202 ,\n",
       "       0.30402381, 1.        , 0.46507143, 0.73488095, 0.56333333,\n",
       "       1.        , 0.01339054, 1.        , 0.        , 0.35177655,\n",
       "       0.        , 0.        , 1.        , 0.11603523, 0.        ,\n",
       "       0.74980952, 0.42744644, 0.13549914, 0.62743681, 0.        ,\n",
       "       0.055     , 0.        , 0.29346825, 0.02      , 1.        ,\n",
       "       0.1125    , 0.21      , 1.        , 1.        , 0.36449206,\n",
       "       0.08943685, 0.38      , 0.        , 0.02      , 1.        ,\n",
       "       0.42744644, 1.        , 0.        , 0.10844703, 0.00461538,\n",
       "       1.        , 1.        , 0.08943685, 0.        , 0.49278571,\n",
       "       0.        , 0.00461538, 1.        , 0.        , 0.42744644,\n",
       "       0.08943685, 0.02      , 0.17333333, 0.31885714, 0.43383333,\n",
       "       0.02      , 0.        , 0.01      , 0.10844703, 0.0300202 ,\n",
       "       0.62743681, 0.74980952, 1.        , 0.1585    , 0.29346825,\n",
       "       1.        , 1.        , 1.        , 0.14222724, 0.18938095,\n",
       "       0.01333333, 0.16983333, 0.33480556, 0.19186052, 0.96      ,\n",
       "       0.65792857, 0.07983333, 1.        , 0.20904762, 1.        ,\n",
       "       0.        , 1.        , 0.00111111, 0.31690476, 0.40089322,\n",
       "       0.07      , 1.        , 0.        , 0.01198413, 0.        ,\n",
       "       0.        , 0.05333333, 1.        , 1.        , 0.65792857,\n",
       "       0.19186052, 0.49278571, 0.        , 0.025     , 0.        ,\n",
       "       1.        , 0.14222724, 0.        , 0.40089322, 0.01      ,\n",
       "       0.        , 0.        , 0.72988095, 0.35177655, 0.44572039,\n",
       "       0.55391667, 1.        , 0.7067381 , 0.38      , 0.10844703,\n",
       "       0.13549914, 0.        , 0.0097619 , 0.        , 0.08122222,\n",
       "       0.42128571, 0.        , 1.        , 0.08943685, 0.        ,\n",
       "       1.        , 0.        , 0.00111111, 0.92      , 0.01      ,\n",
       "       0.9707381 , 1.        , 0.18396825, 0.39642857, 0.        ,\n",
       "       0.18396825, 0.41533333, 0.19186052, 0.43483333, 0.314     ,\n",
       "       0.03164286, 1.        , 0.06961652, 0.        , 0.        ,\n",
       "       0.6867381 , 1.        , 0.17      , 0.        , 0.        ,\n",
       "       0.89      , 0.0525    , 1.        , 0.025     , 0.        ,\n",
       "       0.93614286, 0.63869517, 1.        , 1.        , 0.14222724,\n",
       "       0.96      , 0.        , 0.        , 1.        , 1.        ,\n",
       "       0.99      , 0.71      , 0.325     , 0.99      , 0.19343795,\n",
       "       0.        , 0.4915    , 0.714     , 0.03416667, 0.31690476,\n",
       "       0.02      , 0.01      , 0.        , 0.02      , 0.55391667,\n",
       "       0.98      , 0.08      , 1.        , 0.41324603, 1.        ,\n",
       "       0.07      , 1.        , 0.14222724, 0.00333333, 0.5665    ,\n",
       "       0.        , 1.        , 0.        , 0.23      , 0.00461538])"
      ]
     },
     "execution_count": 13,
     "metadata": {},
     "output_type": "execute_result"
    }
   ],
   "source": [
    "rf.predict_proba(X_test, binary=True)"
   ]
  },
  {
   "cell_type": "code",
   "execution_count": 14,
   "metadata": {},
   "outputs": [],
   "source": [
    "# Predicting new data\n",
    "def predict_new(X, model, probs=True):\n",
    "    X = p.clean_data(X)\n",
    "    X = p.categ_encoding(X)\n",
    "    \n",
    "    columns = model.get_columns()\n",
    "    for col in columns:\n",
    "        if col not in X.columns:\n",
    "            X[col] = 0\n",
    "    print(X)\n",
    "    if probs:\n",
    "        return model.predict_proba(X)\n",
    "    else:\n",
    "        return model.predict(X)"
   ]
  },
  {
   "cell_type": "code",
   "execution_count": 15,
   "metadata": {},
   "outputs": [
    {
     "data": {
      "text/html": [
       "<div>\n",
       "<style scoped>\n",
       "    .dataframe tbody tr th:only-of-type {\n",
       "        vertical-align: middle;\n",
       "    }\n",
       "\n",
       "    .dataframe tbody tr th {\n",
       "        vertical-align: top;\n",
       "    }\n",
       "\n",
       "    .dataframe thead th {\n",
       "        text-align: right;\n",
       "    }\n",
       "</style>\n",
       "<table border=\"1\" class=\"dataframe\">\n",
       "  <thead>\n",
       "    <tr style=\"text-align: right;\">\n",
       "      <th></th>\n",
       "      <th>Pclass</th>\n",
       "      <th>Sex</th>\n",
       "      <th>Age</th>\n",
       "    </tr>\n",
       "  </thead>\n",
       "  <tbody>\n",
       "    <tr>\n",
       "      <th>0</th>\n",
       "      <td>3</td>\n",
       "      <td>male</td>\n",
       "      <td>4</td>\n",
       "    </tr>\n",
       "  </tbody>\n",
       "</table>\n",
       "</div>"
      ],
      "text/plain": [
       "   Pclass   Sex  Age\n",
       "0       3  male    4"
      ]
     },
     "execution_count": 15,
     "metadata": {},
     "output_type": "execute_result"
    }
   ],
   "source": [
    "new_data = pd.DataFrame({\n",
    "    'Pclass':3,\n",
    "    'Sex': 'male',\n",
    "    'Age':4\n",
    "}, index=[0])\n",
    "\n",
    "new_data"
   ]
  },
  {
   "cell_type": "code",
   "execution_count": 16,
   "metadata": {},
   "outputs": [
    {
     "name": "stderr",
     "output_type": "stream",
     "text": [
      "INFO:root:Cleaning data\n",
      "INFO:root:Category encoding\n"
     ]
    },
    {
     "name": "stdout",
     "output_type": "stream",
     "text": [
      "   Age  Pclass_3  Sex_male  Pclass_1  Pclass_2  Sex_female\n",
      "0    4         1         1         0         0           0\n"
     ]
    },
    {
     "data": {
      "text/plain": [
       "array([[0.68114286, 0.31885714]])"
      ]
     },
     "execution_count": 16,
     "metadata": {},
     "output_type": "execute_result"
    }
   ],
   "source": [
    "predict_new(new_data, rf)"
   ]
  },
  {
   "cell_type": "markdown",
   "metadata": {},
   "source": [
    "**Data Quality:**"
   ]
  },
  {
   "cell_type": "code",
   "execution_count": 19,
   "metadata": {},
   "outputs": [],
   "source": [
    "from ml.preprocessing.dataquality import DataQuality\n",
    "import great_expectations as ge\n",
    "import warnings\n",
    "warnings.filterwarnings('ignore')"
   ]
  },
  {
   "cell_type": "code",
   "execution_count": 20,
   "metadata": {},
   "outputs": [],
   "source": [
    "df = Spreadsheet().get_data('../../../data/raw/train.csv')"
   ]
  },
  {
   "cell_type": "code",
   "execution_count": 21,
   "metadata": {},
   "outputs": [
    {
     "data": {
      "text/plain": [
       "((623, 4), (268, 4))"
      ]
     },
     "execution_count": 21,
     "metadata": {},
     "output_type": "execute_result"
    }
   ],
   "source": [
    "X_train, X_test = train_test_split(df, test_size=0.3, random_state=123)\n",
    "X_train.shape, X_test.shape"
   ]
  },
  {
   "cell_type": "code",
   "execution_count": 22,
   "metadata": {},
   "outputs": [],
   "source": [
    "dq = DataQuality(discrete_cat_cols=['Sex', 'Pclass'])\n",
    "df_ge = dq.perform(X_train, target='Survived')"
   ]
  },
  {
   "cell_type": "code",
   "execution_count": 23,
   "metadata": {},
   "outputs": [
    {
     "name": "stderr",
     "output_type": "stream",
     "text": [
      "INFO:great_expectations.data_asset.data_asset:\t7 expectation(s) included in expectation_suite. Omitting 1 expectation(s) that failed when last run; set discard_failed_expectations=False to include them. result_format settings filtered.\n"
     ]
    }
   ],
   "source": [
    "df_ge.save_expectation_suite('../../../output/expectations.json')"
   ]
  },
  {
   "cell_type": "code",
   "execution_count": 24,
   "metadata": {},
   "outputs": [],
   "source": [
    "X_test.drop(columns=['Survived'], inplace=True)\n",
    "df_ge = ge.dataset.PandasDataset(X_test)\n",
    "ge_val = df_ge.validate(expectation_suite='../../../output/expectations.json', only_return_failures=False)"
   ]
  },
  {
   "cell_type": "code",
   "execution_count": 25,
   "metadata": {
    "collapsed": true,
    "jupyter": {
     "outputs_hidden": true
    }
   },
   "outputs": [
    {
     "data": {
      "text/plain": [
       "{\n",
       "  \"statistics\": {\n",
       "    \"evaluated_expectations\": 7,\n",
       "    \"successful_expectations\": 7,\n",
       "    \"unsuccessful_expectations\": 0,\n",
       "    \"success_percent\": 100.0\n",
       "  },\n",
       "  \"meta\": {\n",
       "    \"great_expectations_version\": \"0.13.19\",\n",
       "    \"expectation_suite_name\": \"default\",\n",
       "    \"run_id\": {\n",
       "      \"run_time\": \"2021-05-27T20:19:56.805491+00:00\",\n",
       "      \"run_name\": null\n",
       "    },\n",
       "    \"batch_kwargs\": {\n",
       "      \"ge_batch_id\": \"e779d314-bf28-11eb-a093-168950fc46ad\"\n",
       "    },\n",
       "    \"batch_markers\": {},\n",
       "    \"batch_parameters\": {},\n",
       "    \"validation_time\": \"20210527T201956.805406Z\"\n",
       "  },\n",
       "  \"success\": true,\n",
       "  \"results\": [\n",
       "    {\n",
       "      \"expectation_config\": {\n",
       "        \"meta\": {},\n",
       "        \"kwargs\": {\n",
       "          \"column_list\": [\n",
       "            \"Pclass\",\n",
       "            \"Sex\",\n",
       "            \"Age\"\n",
       "          ]\n",
       "        },\n",
       "        \"expectation_type\": \"expect_table_columns_to_match_ordered_list\"\n",
       "      },\n",
       "      \"success\": true,\n",
       "      \"meta\": {},\n",
       "      \"exception_info\": {\n",
       "        \"raised_exception\": false,\n",
       "        \"exception_message\": null,\n",
       "        \"exception_traceback\": null\n",
       "      },\n",
       "      \"result\": {\n",
       "        \"observed_value\": [\n",
       "          \"Pclass\",\n",
       "          \"Sex\",\n",
       "          \"Age\"\n",
       "        ]\n",
       "      }\n",
       "    },\n",
       "    {\n",
       "      \"expectation_config\": {\n",
       "        \"meta\": {},\n",
       "        \"kwargs\": {\n",
       "          \"column\": \"Pclass\"\n",
       "        },\n",
       "        \"expectation_type\": \"expect_column_values_to_not_be_null\"\n",
       "      },\n",
       "      \"success\": true,\n",
       "      \"meta\": {},\n",
       "      \"exception_info\": {\n",
       "        \"raised_exception\": false,\n",
       "        \"exception_message\": null,\n",
       "        \"exception_traceback\": null\n",
       "      },\n",
       "      \"result\": {\n",
       "        \"element_count\": 268,\n",
       "        \"unexpected_count\": 0,\n",
       "        \"unexpected_percent\": 0.0,\n",
       "        \"unexpected_percent_total\": 0.0,\n",
       "        \"partial_unexpected_list\": []\n",
       "      }\n",
       "    },\n",
       "    {\n",
       "      \"expectation_config\": {\n",
       "        \"meta\": {},\n",
       "        \"kwargs\": {\n",
       "          \"column\": \"Pclass\",\n",
       "          \"value_set\": [\n",
       "            2,\n",
       "            1,\n",
       "            3\n",
       "          ]\n",
       "        },\n",
       "        \"expectation_type\": \"expect_column_values_to_be_in_set\"\n",
       "      },\n",
       "      \"success\": true,\n",
       "      \"meta\": {},\n",
       "      \"exception_info\": {\n",
       "        \"raised_exception\": false,\n",
       "        \"exception_message\": null,\n",
       "        \"exception_traceback\": null\n",
       "      },\n",
       "      \"result\": {\n",
       "        \"element_count\": 268,\n",
       "        \"missing_count\": 0,\n",
       "        \"missing_percent\": 0.0,\n",
       "        \"unexpected_count\": 0,\n",
       "        \"unexpected_percent\": 0.0,\n",
       "        \"unexpected_percent_total\": 0.0,\n",
       "        \"unexpected_percent_nonmissing\": 0.0,\n",
       "        \"partial_unexpected_list\": []\n",
       "      }\n",
       "    },\n",
       "    {\n",
       "      \"expectation_config\": {\n",
       "        \"meta\": {},\n",
       "        \"kwargs\": {\n",
       "          \"column\": \"Pclass\",\n",
       "          \"partition_object\": {\n",
       "            \"values\": [\n",
       "              3,\n",
       "              1,\n",
       "              2\n",
       "            ],\n",
       "            \"weights\": [\n",
       "              0.5569823434991974,\n",
       "              0.23595505617977527,\n",
       "              0.20706260032102727\n",
       "            ]\n",
       "          }\n",
       "        },\n",
       "        \"expectation_type\": \"expect_column_chisquare_test_p_value_to_be_greater_than\"\n",
       "      },\n",
       "      \"success\": true,\n",
       "      \"meta\": {},\n",
       "      \"exception_info\": {\n",
       "        \"raised_exception\": false,\n",
       "        \"exception_message\": null,\n",
       "        \"exception_traceback\": null\n",
       "      },\n",
       "      \"result\": {\n",
       "        \"observed_value\": 0.6991001051530896,\n",
       "        \"element_count\": 268,\n",
       "        \"missing_count\": null,\n",
       "        \"missing_percent\": null\n",
       "      }\n",
       "    },\n",
       "    {\n",
       "      \"expectation_config\": {\n",
       "        \"meta\": {},\n",
       "        \"kwargs\": {\n",
       "          \"column\": \"Sex\"\n",
       "        },\n",
       "        \"expectation_type\": \"expect_column_values_to_not_be_null\"\n",
       "      },\n",
       "      \"success\": true,\n",
       "      \"meta\": {},\n",
       "      \"exception_info\": {\n",
       "        \"raised_exception\": false,\n",
       "        \"exception_message\": null,\n",
       "        \"exception_traceback\": null\n",
       "      },\n",
       "      \"result\": {\n",
       "        \"element_count\": 268,\n",
       "        \"unexpected_count\": 0,\n",
       "        \"unexpected_percent\": 0.0,\n",
       "        \"unexpected_percent_total\": 0.0,\n",
       "        \"partial_unexpected_list\": []\n",
       "      }\n",
       "    },\n",
       "    {\n",
       "      \"expectation_config\": {\n",
       "        \"meta\": {},\n",
       "        \"kwargs\": {\n",
       "          \"column\": \"Sex\",\n",
       "          \"value_set\": [\n",
       "            \"female\",\n",
       "            \"male\"\n",
       "          ]\n",
       "        },\n",
       "        \"expectation_type\": \"expect_column_values_to_be_in_set\"\n",
       "      },\n",
       "      \"success\": true,\n",
       "      \"meta\": {},\n",
       "      \"exception_info\": {\n",
       "        \"raised_exception\": false,\n",
       "        \"exception_message\": null,\n",
       "        \"exception_traceback\": null\n",
       "      },\n",
       "      \"result\": {\n",
       "        \"element_count\": 268,\n",
       "        \"missing_count\": 0,\n",
       "        \"missing_percent\": 0.0,\n",
       "        \"unexpected_count\": 0,\n",
       "        \"unexpected_percent\": 0.0,\n",
       "        \"unexpected_percent_total\": 0.0,\n",
       "        \"unexpected_percent_nonmissing\": 0.0,\n",
       "        \"partial_unexpected_list\": []\n",
       "      }\n",
       "    },\n",
       "    {\n",
       "      \"expectation_config\": {\n",
       "        \"meta\": {},\n",
       "        \"kwargs\": {\n",
       "          \"column\": \"Sex\",\n",
       "          \"partition_object\": {\n",
       "            \"values\": [\n",
       "              \"male\",\n",
       "              \"female\"\n",
       "            ],\n",
       "            \"weights\": [\n",
       "              0.6436597110754414,\n",
       "              0.3563402889245586\n",
       "            ]\n",
       "          }\n",
       "        },\n",
       "        \"expectation_type\": \"expect_column_chisquare_test_p_value_to_be_greater_than\"\n",
       "      },\n",
       "      \"success\": true,\n",
       "      \"meta\": {},\n",
       "      \"exception_info\": {\n",
       "        \"raised_exception\": false,\n",
       "        \"exception_message\": null,\n",
       "        \"exception_traceback\": null\n",
       "      },\n",
       "      \"result\": {\n",
       "        \"observed_value\": 0.6553705093393957,\n",
       "        \"element_count\": 268,\n",
       "        \"missing_count\": null,\n",
       "        \"missing_percent\": null\n",
       "      }\n",
       "    }\n",
       "  ],\n",
       "  \"evaluation_parameters\": {}\n",
       "}"
      ]
     },
     "execution_count": 25,
     "metadata": {},
     "output_type": "execute_result"
    }
   ],
   "source": [
    "ge_val"
   ]
  },
  {
   "cell_type": "markdown",
   "metadata": {},
   "source": [
    "**Hypothesis testing**"
   ]
  },
  {
   "cell_type": "code",
   "execution_count": 6,
   "metadata": {},
   "outputs": [
    {
     "name": "stdout",
     "output_type": "stream",
     "text": [
      "Collecting yellowbrick\n",
      "  Using cached yellowbrick-1.3.post1-py3-none-any.whl (271 kB)\n",
      "Requirement already satisfied: cycler>=0.10.0 in c:\\users\\karen martins\\anaconda3\\envs\\myenv\\lib\\site-packages (from yellowbrick) (0.10.0)\n",
      "Requirement already satisfied: matplotlib!=3.0.0,>=2.0.2 in c:\\users\\karen martins\\anaconda3\\envs\\myenv\\lib\\site-packages (from yellowbrick) (3.4.3)\n",
      "Requirement already satisfied: scipy>=1.0.0 in c:\\users\\karen martins\\anaconda3\\envs\\myenv\\lib\\site-packages (from yellowbrick) (1.7.1)\n",
      "Requirement already satisfied: scikit-learn>=0.20 in c:\\users\\karen martins\\anaconda3\\envs\\myenv\\lib\\site-packages (from yellowbrick) (0.24.2)\n",
      "Requirement already satisfied: numpy<1.20,>=1.16.0 in c:\\users\\karen martins\\anaconda3\\envs\\myenv\\lib\\site-packages (from yellowbrick) (1.19.5)\n",
      "Requirement already satisfied: six in c:\\users\\karen martins\\anaconda3\\envs\\myenv\\lib\\site-packages (from cycler>=0.10.0->yellowbrick) (1.15.0)\n",
      "Requirement already satisfied: pillow>=6.2.0 in c:\\users\\karen martins\\anaconda3\\envs\\myenv\\lib\\site-packages (from matplotlib!=3.0.0,>=2.0.2->yellowbrick) (8.3.1)\n",
      "Requirement already satisfied: pyparsing>=2.2.1 in c:\\users\\karen martins\\anaconda3\\envs\\myenv\\lib\\site-packages (from matplotlib!=3.0.0,>=2.0.2->yellowbrick) (2.4.7)\n",
      "Requirement already satisfied: python-dateutil>=2.7 in c:\\users\\karen martins\\anaconda3\\envs\\myenv\\lib\\site-packages (from matplotlib!=3.0.0,>=2.0.2->yellowbrick) (2.8.1)\n",
      "Requirement already satisfied: kiwisolver>=1.0.1 in c:\\users\\karen martins\\anaconda3\\envs\\myenv\\lib\\site-packages (from matplotlib!=3.0.0,>=2.0.2->yellowbrick) (1.3.1)\n",
      "Requirement already satisfied: threadpoolctl>=2.0.0 in c:\\users\\karen martins\\anaconda3\\envs\\myenv\\lib\\site-packages (from scikit-learn>=0.20->yellowbrick) (2.2.0)\n",
      "Requirement already satisfied: joblib>=0.11 in c:\\users\\karen martins\\anaconda3\\envs\\myenv\\lib\\site-packages (from scikit-learn>=0.20->yellowbrick) (1.0.1)\n",
      "Installing collected packages: yellowbrick\n",
      "Successfully installed yellowbrick-1.3.post1\n"
     ]
    }
   ],
   "source": [
    "!pip install yellowbrick"
   ]
  },
  {
   "cell_type": "code",
   "execution_count": 2,
   "metadata": {},
   "outputs": [],
   "source": [
    "from ml.hypothesis_testing.assert_testing import Assert_hypothesis_test"
   ]
  },
  {
   "cell_type": "code",
   "execution_count": 3,
   "metadata": {},
   "outputs": [],
   "source": [
    "from ml.hypothesis_testing.hypothesis_testing import Hypothesis_testing"
   ]
  },
  {
   "cell_type": "code",
   "execution_count": 5,
   "metadata": {},
   "outputs": [
    {
     "name": "stderr",
     "output_type": "stream",
     "text": [
      "c:\\users\\karen martins\\anaconda3\\envs\\myenv\\lib\\site-packages\\statsmodels\\graphics\\gofplots.py:993: UserWarning: marker is redundantly defined by the 'marker' keyword argument and the fmt string \"bo\" (-> marker='o'). The keyword argument will take precedence.\n",
      "  ax.plot(x, y, fmt, **plot_style)\n"
     ]
    },
    {
     "data": {
      "text/html": [
       "<div>\n",
       "<style scoped>\n",
       "    .dataframe tbody tr th:only-of-type {\n",
       "        vertical-align: middle;\n",
       "    }\n",
       "\n",
       "    .dataframe tbody tr th {\n",
       "        vertical-align: top;\n",
       "    }\n",
       "\n",
       "    .dataframe thead th {\n",
       "        text-align: right;\n",
       "    }\n",
       "</style>\n",
       "<table border=\"1\" class=\"dataframe\">\n",
       "  <thead>\n",
       "    <tr style=\"text-align: right;\">\n",
       "      <th></th>\n",
       "      <th>Normality</th>\n",
       "    </tr>\n",
       "  </thead>\n",
       "  <tbody>\n",
       "    <tr>\n",
       "      <th>W</th>\n",
       "      <td>0.958012</td>\n",
       "    </tr>\n",
       "    <tr>\n",
       "      <th>p-val</th>\n",
       "      <td>0.804297</td>\n",
       "    </tr>\n",
       "    <tr>\n",
       "      <th>normal</th>\n",
       "      <td>True</td>\n",
       "    </tr>\n",
       "    <tr>\n",
       "      <th>H0</th>\n",
       "      <td>the data was drawn from a normal distribution</td>\n",
       "    </tr>\n",
       "    <tr>\n",
       "      <th>H1</th>\n",
       "      <td>the data was not drawn from a normal distribution</td>\n",
       "    </tr>\n",
       "    <tr>\n",
       "      <th>Result</th>\n",
       "      <td>not reject null hypothesis that the the data w...</td>\n",
       "    </tr>\n",
       "  </tbody>\n",
       "</table>\n",
       "</div>"
      ],
      "text/plain": [
       "                                                Normality\n",
       "W                                                0.958012\n",
       "p-val                                            0.804297\n",
       "normal                                               True\n",
       "H0          the data was drawn from a normal distribution\n",
       "H1      the data was not drawn from a normal distribution\n",
       "Result  not reject null hypothesis that the the data w..."
      ]
     },
     "execution_count": 5,
     "metadata": {},
     "output_type": "execute_result"
    },
    {
     "data": {
      "image/png": "[encoded data removed]",
      "text/plain": [
       "<Figure size 432x288 with 1 Axes>"
      ]
     },
     "metadata": {
      "needs_background": "light"
     },
     "output_type": "display_data"
    }
   ],
   "source": [
    "Hypothesis_testing.normality_test(a)"
   ]
  },
  {
   "cell_type": "code",
   "execution_count": 4,
   "metadata": {},
   "outputs": [],
   "source": [
    "a = [2,3,4,3,5,6]\n",
    "b = [5,7,8,8,5,6]"
   ]
  },
  {
   "cell_type": "code",
   "execution_count": 6,
   "metadata": {},
   "outputs": [
    {
     "name": "stdout",
     "output_type": "stream",
     "text": [
      "The distribution of differences is normally distributed an ideal condition for the application of t-test.\n"
     ]
    },
    {
     "data": {
      "text/html": [
       "<div>\n",
       "<style scoped>\n",
       "    .dataframe tbody tr th:only-of-type {\n",
       "        vertical-align: middle;\n",
       "    }\n",
       "\n",
       "    .dataframe tbody tr th {\n",
       "        vertical-align: top;\n",
       "    }\n",
       "\n",
       "    .dataframe thead th {\n",
       "        text-align: right;\n",
       "    }\n",
       "</style>\n",
       "<table border=\"1\" class=\"dataframe\">\n",
       "  <thead>\n",
       "    <tr style=\"text-align: right;\">\n",
       "      <th></th>\n",
       "      <th>T-test</th>\n",
       "    </tr>\n",
       "  </thead>\n",
       "  <tbody>\n",
       "    <tr>\n",
       "      <th>T</th>\n",
       "      <td>-3.023716</td>\n",
       "    </tr>\n",
       "    <tr>\n",
       "      <th>dof</th>\n",
       "      <td>5</td>\n",
       "    </tr>\n",
       "    <tr>\n",
       "      <th>alternative</th>\n",
       "      <td>two-sided</td>\n",
       "    </tr>\n",
       "    <tr>\n",
       "      <th>p-val</th>\n",
       "      <td>0.029291</td>\n",
       "    </tr>\n",
       "    <tr>\n",
       "      <th>CI95%</th>\n",
       "      <td>[-4.93, -0.4]</td>\n",
       "    </tr>\n",
       "    <tr>\n",
       "      <th>cohen-d</th>\n",
       "      <td>1.870098</td>\n",
       "    </tr>\n",
       "    <tr>\n",
       "      <th>BF10</th>\n",
       "      <td>3.092</td>\n",
       "    </tr>\n",
       "    <tr>\n",
       "      <th>power</th>\n",
       "      <td>0.950546</td>\n",
       "    </tr>\n",
       "    <tr>\n",
       "      <th>H0</th>\n",
       "      <td>the mean difference equal to zero</td>\n",
       "    </tr>\n",
       "    <tr>\n",
       "      <th>H1</th>\n",
       "      <td>the mean difference not equal to zero</td>\n",
       "    </tr>\n",
       "    <tr>\n",
       "      <th>Result</th>\n",
       "      <td>reject the null hypothesis that the the mean d...</td>\n",
       "    </tr>\n",
       "  </tbody>\n",
       "</table>\n",
       "</div>"
      ],
      "text/plain": [
       "                                                        T-test\n",
       "T                                                    -3.023716\n",
       "dof                                                          5\n",
       "alternative                                          two-sided\n",
       "p-val                                                 0.029291\n",
       "CI95%                                            [-4.93, -0.4]\n",
       "cohen-d                                               1.870098\n",
       "BF10                                                     3.092\n",
       "power                                                 0.950546\n",
       "H0                           the mean difference equal to zero\n",
       "H1                       the mean difference not equal to zero\n",
       "Result       reject the null hypothesis that the the mean d..."
      ]
     },
     "execution_count": 6,
     "metadata": {},
     "output_type": "execute_result"
    },
    {
     "data": {
      "text/plain": [
       "<Figure size 432x288 with 0 Axes>"
      ]
     },
     "metadata": {},
     "output_type": "display_data"
    },
    {
     "data": {
      "image/png": "[encoded data removed]",
      "text/plain": [
       "<Figure size 288x216 with 1 Axes>"
      ]
     },
     "metadata": {
      "needs_background": "light"
     },
     "output_type": "display_data"
    }
   ],
   "source": [
    "Assert_hypothesis_test.apply_dependent_test(a, b)"
   ]
  },
  {
   "cell_type": "markdown",
   "metadata": {},
   "source": [
    "**Get local explainer for each instance:**"
   ]
  },
  {
   "cell_type": "code",
   "execution_count": 30,
   "metadata": {},
   "outputs": [],
   "source": [
    "# Get local explainer\n",
    "res = rf.local_interpret(X_test, len(X_test.columns))"
   ]
  },
  {
   "cell_type": "code",
   "execution_count": 31,
   "metadata": {},
   "outputs": [
    {
     "data": {
      "text/html": [
       "<div>\n",
       "<style scoped>\n",
       "    .dataframe tbody tr th:only-of-type {\n",
       "        vertical-align: middle;\n",
       "    }\n",
       "\n",
       "    .dataframe tbody tr th {\n",
       "        vertical-align: top;\n",
       "    }\n",
       "\n",
       "    .dataframe thead th {\n",
       "        text-align: right;\n",
       "    }\n",
       "</style>\n",
       "<table border=\"1\" class=\"dataframe\">\n",
       "  <thead>\n",
       "    <tr style=\"text-align: right;\">\n",
       "      <th></th>\n",
       "      <th>Importance_Name_0</th>\n",
       "      <th>Importance_Name_1</th>\n",
       "      <th>Importance_Name_2</th>\n",
       "      <th>Importance_Name_3</th>\n",
       "      <th>Importance_Name_4</th>\n",
       "      <th>Importance_Name_5</th>\n",
       "      <th>Importance_Value_0</th>\n",
       "      <th>Importance_Value_1</th>\n",
       "      <th>Importance_Value_2</th>\n",
       "      <th>Importance_Value_3</th>\n",
       "      <th>Importance_Value_4</th>\n",
       "      <th>Importance_Value_5</th>\n",
       "    </tr>\n",
       "  </thead>\n",
       "  <tbody>\n",
       "    <tr>\n",
       "      <th>0</th>\n",
       "      <td>Sex_female</td>\n",
       "      <td>Sex_male</td>\n",
       "      <td>Pclass_3</td>\n",
       "      <td>Pclass_2</td>\n",
       "      <td>Age</td>\n",
       "      <td>Pclass_1</td>\n",
       "      <td>0.235407</td>\n",
       "      <td>0.212511</td>\n",
       "      <td>0.131872</td>\n",
       "      <td>0.049253</td>\n",
       "      <td>-0.019605</td>\n",
       "      <td>-0.028737</td>\n",
       "    </tr>\n",
       "    <tr>\n",
       "      <th>1</th>\n",
       "      <td>Sex_male</td>\n",
       "      <td>Sex_female</td>\n",
       "      <td>Age</td>\n",
       "      <td>Pclass_2</td>\n",
       "      <td>Pclass_3</td>\n",
       "      <td>Pclass_1</td>\n",
       "      <td>0.107810</td>\n",
       "      <td>0.105021</td>\n",
       "      <td>0.027756</td>\n",
       "      <td>-0.024243</td>\n",
       "      <td>-0.076479</td>\n",
       "      <td>-0.173282</td>\n",
       "    </tr>\n",
       "    <tr>\n",
       "      <th>2</th>\n",
       "      <td>Pclass_3</td>\n",
       "      <td>Pclass_1</td>\n",
       "      <td>Pclass_2</td>\n",
       "      <td>Age</td>\n",
       "      <td>Sex_male</td>\n",
       "      <td>Sex_female</td>\n",
       "      <td>0.136886</td>\n",
       "      <td>0.054153</td>\n",
       "      <td>0.035203</td>\n",
       "      <td>-0.040919</td>\n",
       "      <td>-0.093182</td>\n",
       "      <td>-0.107176</td>\n",
       "    </tr>\n",
       "    <tr>\n",
       "      <th>3</th>\n",
       "      <td>Sex_female</td>\n",
       "      <td>Sex_male</td>\n",
       "      <td>Age</td>\n",
       "      <td>Pclass_2</td>\n",
       "      <td>Pclass_1</td>\n",
       "      <td>Pclass_3</td>\n",
       "      <td>0.218018</td>\n",
       "      <td>0.210792</td>\n",
       "      <td>0.206967</td>\n",
       "      <td>-0.012758</td>\n",
       "      <td>-0.035676</td>\n",
       "      <td>-0.073309</td>\n",
       "    </tr>\n",
       "    <tr>\n",
       "      <th>4</th>\n",
       "      <td>Sex_male</td>\n",
       "      <td>Sex_female</td>\n",
       "      <td>Age</td>\n",
       "      <td>Pclass_2</td>\n",
       "      <td>Pclass_3</td>\n",
       "      <td>Pclass_1</td>\n",
       "      <td>0.125001</td>\n",
       "      <td>0.124176</td>\n",
       "      <td>0.092246</td>\n",
       "      <td>-0.010514</td>\n",
       "      <td>-0.068209</td>\n",
       "      <td>-0.133400</td>\n",
       "    </tr>\n",
       "    <tr>\n",
       "      <th>...</th>\n",
       "      <td>...</td>\n",
       "      <td>...</td>\n",
       "      <td>...</td>\n",
       "      <td>...</td>\n",
       "      <td>...</td>\n",
       "      <td>...</td>\n",
       "      <td>...</td>\n",
       "      <td>...</td>\n",
       "      <td>...</td>\n",
       "      <td>...</td>\n",
       "      <td>...</td>\n",
       "      <td>...</td>\n",
       "    </tr>\n",
       "    <tr>\n",
       "      <th>210</th>\n",
       "      <td>Age</td>\n",
       "      <td>Sex_female</td>\n",
       "      <td>Sex_male</td>\n",
       "      <td>Pclass_2</td>\n",
       "      <td>Pclass_3</td>\n",
       "      <td>Pclass_1</td>\n",
       "      <td>0.197178</td>\n",
       "      <td>0.135364</td>\n",
       "      <td>0.130705</td>\n",
       "      <td>-0.002840</td>\n",
       "      <td>-0.014871</td>\n",
       "      <td>-0.026237</td>\n",
       "    </tr>\n",
       "    <tr>\n",
       "      <th>211</th>\n",
       "      <td>Sex_female</td>\n",
       "      <td>Sex_male</td>\n",
       "      <td>Pclass_1</td>\n",
       "      <td>Pclass_3</td>\n",
       "      <td>Age</td>\n",
       "      <td>Pclass_2</td>\n",
       "      <td>0.163068</td>\n",
       "      <td>0.161115</td>\n",
       "      <td>0.099112</td>\n",
       "      <td>0.085461</td>\n",
       "      <td>0.072337</td>\n",
       "      <td>-0.000391</td>\n",
       "    </tr>\n",
       "    <tr>\n",
       "      <th>212</th>\n",
       "      <td>Sex_female</td>\n",
       "      <td>Age</td>\n",
       "      <td>Pclass_1</td>\n",
       "      <td>Pclass_2</td>\n",
       "      <td>Sex_male</td>\n",
       "      <td>Pclass_3</td>\n",
       "      <td>0.097598</td>\n",
       "      <td>0.095317</td>\n",
       "      <td>0.090221</td>\n",
       "      <td>0.087228</td>\n",
       "      <td>0.079541</td>\n",
       "      <td>-0.030605</td>\n",
       "    </tr>\n",
       "    <tr>\n",
       "      <th>213</th>\n",
       "      <td>Pclass_3</td>\n",
       "      <td>Pclass_1</td>\n",
       "      <td>Sex_female</td>\n",
       "      <td>Sex_male</td>\n",
       "      <td>Pclass_2</td>\n",
       "      <td>Age</td>\n",
       "      <td>0.127740</td>\n",
       "      <td>0.054102</td>\n",
       "      <td>0.043235</td>\n",
       "      <td>0.041091</td>\n",
       "      <td>0.036320</td>\n",
       "      <td>-0.113190</td>\n",
       "    </tr>\n",
       "    <tr>\n",
       "      <th>214</th>\n",
       "      <td>Age</td>\n",
       "      <td>Sex_female</td>\n",
       "      <td>Sex_male</td>\n",
       "      <td>Pclass_3</td>\n",
       "      <td>Pclass_1</td>\n",
       "      <td>Pclass_2</td>\n",
       "      <td>0.122643</td>\n",
       "      <td>0.115234</td>\n",
       "      <td>0.104086</td>\n",
       "      <td>0.042674</td>\n",
       "      <td>0.025775</td>\n",
       "      <td>0.004272</td>\n",
       "    </tr>\n",
       "  </tbody>\n",
       "</table>\n",
       "<p>215 rows × 12 columns</p>\n",
       "</div>"
      ],
      "text/plain": [
       "    Importance_Name_0 Importance_Name_1 Importance_Name_2 Importance_Name_3  \\\n",
       "0          Sex_female          Sex_male          Pclass_3          Pclass_2   \n",
       "1            Sex_male        Sex_female               Age          Pclass_2   \n",
       "2            Pclass_3          Pclass_1          Pclass_2               Age   \n",
       "3          Sex_female          Sex_male               Age          Pclass_2   \n",
       "4            Sex_male        Sex_female               Age          Pclass_2   \n",
       "..                ...               ...               ...               ...   \n",
       "210               Age        Sex_female          Sex_male          Pclass_2   \n",
       "211        Sex_female          Sex_male          Pclass_1          Pclass_3   \n",
       "212        Sex_female               Age          Pclass_1          Pclass_2   \n",
       "213          Pclass_3          Pclass_1        Sex_female          Sex_male   \n",
       "214               Age        Sex_female          Sex_male          Pclass_3   \n",
       "\n",
       "    Importance_Name_4 Importance_Name_5  Importance_Value_0  \\\n",
       "0                 Age          Pclass_1            0.235407   \n",
       "1            Pclass_3          Pclass_1            0.107810   \n",
       "2            Sex_male        Sex_female            0.136886   \n",
       "3            Pclass_1          Pclass_3            0.218018   \n",
       "4            Pclass_3          Pclass_1            0.125001   \n",
       "..                ...               ...                 ...   \n",
       "210          Pclass_3          Pclass_1            0.197178   \n",
       "211               Age          Pclass_2            0.163068   \n",
       "212          Sex_male          Pclass_3            0.097598   \n",
       "213          Pclass_2               Age            0.127740   \n",
       "214          Pclass_1          Pclass_2            0.122643   \n",
       "\n",
       "     Importance_Value_1  Importance_Value_2  Importance_Value_3  \\\n",
       "0              0.212511            0.131872            0.049253   \n",
       "1              0.105021            0.027756           -0.024243   \n",
       "2              0.054153            0.035203           -0.040919   \n",
       "3              0.210792            0.206967           -0.012758   \n",
       "4              0.124176            0.092246           -0.010514   \n",
       "..                  ...                 ...                 ...   \n",
       "210            0.135364            0.130705           -0.002840   \n",
       "211            0.161115            0.099112            0.085461   \n",
       "212            0.095317            0.090221            0.087228   \n",
       "213            0.054102            0.043235            0.041091   \n",
       "214            0.115234            0.104086            0.042674   \n",
       "\n",
       "     Importance_Value_4  Importance_Value_5  \n",
       "0             -0.019605           -0.028737  \n",
       "1             -0.076479           -0.173282  \n",
       "2             -0.093182           -0.107176  \n",
       "3             -0.035676           -0.073309  \n",
       "4             -0.068209           -0.133400  \n",
       "..                  ...                 ...  \n",
       "210           -0.014871           -0.026237  \n",
       "211            0.072337           -0.000391  \n",
       "212            0.079541           -0.030605  \n",
       "213            0.036320           -0.113190  \n",
       "214            0.025775            0.004272  \n",
       "\n",
       "[215 rows x 12 columns]"
      ]
     },
     "execution_count": 31,
     "metadata": {},
     "output_type": "execute_result"
    }
   ],
   "source": [
    "res"
   ]
  }
 ],
 "metadata": {
  "kernelspec": {
   "display_name": "Python 3 (ipykernel)",
   "language": "python",
   "name": "python3"
  },
  "language_info": {
   "codemirror_mode": {
    "name": "ipython",
    "version": 3
   },
   "file_extension": ".py",
   "mimetype": "text/x-python",
   "name": "python",
   "nbconvert_exporter": "python",
   "pygments_lexer": "ipython3",
   "version": "3.7.10"
  }
 },
 "nbformat": 4,
 "nbformat_minor": 4
}
