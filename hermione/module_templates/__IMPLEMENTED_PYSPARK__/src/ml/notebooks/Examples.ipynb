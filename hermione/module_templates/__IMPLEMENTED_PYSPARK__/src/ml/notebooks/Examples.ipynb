{
 "cells": [
  {
   "cell_type": "markdown",
   "id": "87da29da",
   "metadata": {},
   "source": [
    "## Bibliotecas"
   ]
  },
  {
   "cell_type": "code",
   "execution_count": null,
   "id": "61a765b4",
   "metadata": {},
   "outputs": [],
   "source": [
    "import sys\n",
    "sys.path.append('../../../')"
   ]
  },
  {
   "cell_type": "code",
   "execution_count": null,
   "id": "94d4b989",
   "metadata": {},
   "outputs": [],
   "source": [
    "## Spark SQL\n",
    "from pyspark.sql import SparkSession\n",
    "import pyspark.sql.functions as f\n",
    "\n",
    "# Spark ML\n",
    "from src.ml.preprocessing.preprocessing import SparkPreprocessor\n",
    "from src.ml.preprocessing.normalization import SparkScaler\n",
    "from src.ml.preprocessing.text_vectorizer import TextVectorizer\n",
    "from src.ml.model.trainer import SparkTrainer, SparkUnsupTrainer\n",
    "from src.ml.model.metrics import Metrics, CustomRegressionEvaluator, CustomBinaryEvaluator\n",
    "from src.ml.analysis.pca import SparkPCA\n",
    "from src.ml.analysis.cluster import SparkCluster\n",
    "from src.ml.analysis.feature_selection import FeatureSelector"
   ]
  },
  {
   "cell_type": "code",
   "execution_count": null,
   "id": "760a0568-eed7-425f-8435-0612adc5414c",
   "metadata": {},
   "outputs": [],
   "source": [
    "import mlflow.pyspark.ml"
   ]
  },
  {
   "cell_type": "code",
   "execution_count": null,
   "id": "c0bce25c",
   "metadata": {},
   "outputs": [],
   "source": [
    "spark = (\n",
    "    SparkSession\n",
    "    .builder\n",
    "    .config(\"spark.serializer\", \"org.apache.spark.serializer.KryoSerializer\")\n",
    "    .config(\"spark.driver.memory\", \"6g\")\n",
    "    .getOrCreate()\n",
    ")"
   ]
  },
  {
   "cell_type": "markdown",
   "id": "c1d59721-ac15-4c4f-9b9e-3bf8d2d81caf",
   "metadata": {},
   "source": [
    "## Data"
   ]
  },
  {
   "cell_type": "code",
   "execution_count": null,
   "id": "bc864cbe-0fbb-477c-9679-ee1ca27ffe2f",
   "metadata": {},
   "outputs": [],
   "source": [
    "df_train = spark.read.parquet('../../../data/raw/raw_train')\n",
    "df_test = spark.read.parquet('../../../data/raw/raw_test')"
   ]
  },
  {
   "cell_type": "code",
   "execution_count": null,
   "id": "e41e1ff0-24ab-4212-992a-d8eb4c936cfd",
   "metadata": {},
   "outputs": [],
   "source": [
    "df_train.limit(5).toPandas()"
   ]
  },
  {
   "cell_type": "markdown",
   "id": "e4c21ea3-e149-4aa5-9fd3-fad9863f6c49",
   "metadata": {},
   "source": [
    "## Preprocessing"
   ]
  },
  {
   "cell_type": "markdown",
   "id": "5b8aee86-c838-4936-bd2e-07a9705a7817",
   "metadata": {},
   "source": [
    "### Scaling"
   ]
  },
  {
   "cell_type": "code",
   "execution_count": null,
   "id": "56ae4398-3123-43c8-a217-01569085f7d3",
   "metadata": {},
   "outputs": [],
   "source": [
    "scaler = SparkScaler('Age', 'max_abs')"
   ]
  },
  {
   "cell_type": "code",
   "execution_count": null,
   "id": "a22f26c1-fb97-4ed9-a416-b90924de44c4",
   "metadata": {},
   "outputs": [],
   "source": [
    "scaler.fit(df_train)"
   ]
  },
  {
   "cell_type": "code",
   "execution_count": null,
   "id": "d8681d6b-e318-4ba8-a3c4-cd04cc697618",
   "metadata": {},
   "outputs": [],
   "source": [
    "scaler.transform(df_train).toPandas()"
   ]
  },
  {
   "cell_type": "code",
   "execution_count": null,
   "id": "7691a185-23bf-4c3e-b2e8-587cbf3d82a8",
   "metadata": {},
   "outputs": [],
   "source": [
    "scaler = SparkScaler('Age', 'max_abs')\n",
    "scaler.fit_transform(df_train).toPandas()"
   ]
  },
  {
   "cell_type": "markdown",
   "id": "07e42a24-bce0-4d87-bf0a-c0a4bae862f8",
   "metadata": {},
   "source": [
    "### Preprocessing"
   ]
  },
  {
   "cell_type": "code",
   "execution_count": null,
   "id": "f1d02cab-1520-4f13-a99c-2339078e042a",
   "metadata": {},
   "outputs": [],
   "source": [
    "processor = SparkPreprocessor({'zscore': 'Age'}, ['Pclass', 'Sex'], impute_strategy = 'mode')"
   ]
  },
  {
   "cell_type": "code",
   "execution_count": null,
   "id": "8be171bd-d020-4577-8ea3-2efde034fb60",
   "metadata": {},
   "outputs": [],
   "source": [
    "processor.fit(df_train)"
   ]
  },
  {
   "cell_type": "code",
   "execution_count": null,
   "id": "3df5622a-a34e-4cff-886d-ad3a7ffed1a1",
   "metadata": {},
   "outputs": [],
   "source": [
    "processor.transform(df_train).toPandas()"
   ]
  },
  {
   "cell_type": "code",
   "execution_count": null,
   "id": "a4f37fd8-8eb3-4f57-b46d-965503cc40d9",
   "metadata": {},
   "outputs": [],
   "source": [
    "processor = SparkPreprocessor({'zscore': 'Age'}, ['Pclass', 'Sex'], impute_strategy = 'mode')\n",
    "processor.fit_transform(df_train).toPandas()"
   ]
  },
  {
   "cell_type": "markdown",
   "id": "feaab29f-cbe3-4084-a3a2-3fd052e04bd0",
   "metadata": {},
   "source": [
    "### TextVectorizer"
   ]
  },
  {
   "cell_type": "code",
   "execution_count": null,
   "id": "36574a73-fdec-4d4c-ac29-f7dad811c7ca",
   "metadata": {},
   "outputs": [],
   "source": [
    "df_text = spark.read.csv('D:/projects/pyspark_dev/JEOPARDY_CSV.csv', header=True).select(f.regexp_replace(f.col(\" Question\"), '\"', '').alias('questions'))\n",
    "df_text.limit(5).toPandas()"
   ]
  },
  {
   "cell_type": "code",
   "execution_count": null,
   "id": "dca825a2-d929-407e-9186-4fc895aaa699",
   "metadata": {},
   "outputs": [],
   "source": [
    "vectorizer = TextVectorizer('questions', 'word2vec')"
   ]
  },
  {
   "cell_type": "code",
   "execution_count": null,
   "id": "d85113c7-75b9-4804-a033-49d7f7d5f971",
   "metadata": {},
   "outputs": [],
   "source": [
    "vectorizer.fit(df_text)"
   ]
  },
  {
   "cell_type": "code",
   "execution_count": null,
   "id": "3b596cd5-3c7b-4fee-8c96-dd35ac158245",
   "metadata": {},
   "outputs": [],
   "source": [
    "vectorizer.transform(df_text).limit(5).toPandas()"
   ]
  },
  {
   "cell_type": "code",
   "execution_count": null,
   "id": "0bdfb0ef-38ec-4e21-821a-b1373436fad7",
   "metadata": {},
   "outputs": [],
   "source": [
    "vectorizer = TextVectorizer('questions', 'hashing_tfidf')\n",
    "vectorizer.fit_transform(df_text).limit(5).toPandas()"
   ]
  },
  {
   "cell_type": "code",
   "execution_count": null,
   "id": "fde4e00d-967d-4952-8517-367bff831f1b",
   "metadata": {},
   "outputs": [],
   "source": [
    "vectorizer = TextVectorizer('questions', 'tfidf')\n",
    "vectorizer.fit_transform(df_text).limit(5).toPandas()"
   ]
  },
  {
   "cell_type": "code",
   "execution_count": null,
   "id": "5167e42d-78ea-4059-8bd9-55aa21eb7b58",
   "metadata": {},
   "outputs": [],
   "source": [
    "vectorizer = TextVectorizer('questions', 'teste')\n",
    "vectorizer.fit_transform(df_text).limit(5).toPandas()"
   ]
  },
  {
   "cell_type": "markdown",
   "id": "ff9a98c4-3b61-4e84-b3cf-91590b4d618b",
   "metadata": {},
   "source": [
    "## Model"
   ]
  },
  {
   "cell_type": "markdown",
   "id": "d5588f7f-97a4-4a43-8e3f-738f69108eff",
   "metadata": {},
   "source": [
    "### Binary Classification"
   ]
  },
  {
   "cell_type": "code",
   "execution_count": null,
   "id": "81f49241-27f1-4412-aef3-6febd3334c05",
   "metadata": {},
   "outputs": [],
   "source": [
    "from pyspark.ml.classification import LogisticRegression"
   ]
  },
  {
   "cell_type": "code",
   "execution_count": null,
   "id": "1a025842-d2ca-4dd6-84a3-aabc6b0efa9d",
   "metadata": {},
   "outputs": [],
   "source": [
    "trainer = SparkTrainer()"
   ]
  },
  {
   "cell_type": "code",
   "execution_count": null,
   "id": "dcb501a5-6e15-4503-8f8f-51908f189356",
   "metadata": {},
   "outputs": [],
   "source": [
    "df = df_train.unionByName(df_test)"
   ]
  },
  {
   "cell_type": "code",
   "execution_count": null,
   "id": "d260594f-2069-4232-9627-980218ff91de",
   "metadata": {},
   "outputs": [],
   "source": [
    "processor = SparkPreprocessor({'zscore': 'Age'}, ['Pclass', 'Sex'], impute_strategy = 'mean')\n",
    "df = processor.fit_transform(df)"
   ]
  },
  {
   "cell_type": "code",
   "execution_count": null,
   "id": "79cc70c3-3f68-4bfd-9987-e38ac1695767",
   "metadata": {},
   "outputs": [],
   "source": [
    "model = trainer.train(df, True, LogisticRegression,  data_split=('train_test', {'test_size': 0.2}), labelCol = 'Survived')"
   ]
  },
  {
   "cell_type": "code",
   "execution_count": null,
   "id": "4c44d34f-2ad4-47e2-b45d-27a5117576f2",
   "metadata": {},
   "outputs": [],
   "source": [
    "model.artifacts"
   ]
  },
  {
   "cell_type": "markdown",
   "id": "1db26084-baf8-44e3-aa3c-b04dc154ca1a",
   "metadata": {},
   "source": [
    "### Multiclass Classification"
   ]
  },
  {
   "cell_type": "code",
   "execution_count": null,
   "id": "6d5c5537-6642-4de5-b5fd-58a8faf75379",
   "metadata": {},
   "outputs": [],
   "source": [
    "from pyspark.ml.classification import LogisticRegression"
   ]
  },
  {
   "cell_type": "code",
   "execution_count": null,
   "id": "6875973f-0c49-4497-9220-c8f925c93742",
   "metadata": {},
   "outputs": [],
   "source": [
    "trainer = SparkTrainer()"
   ]
  },
  {
   "cell_type": "code",
   "execution_count": null,
   "id": "caece989-ead7-4688-be26-4d5e8f49f7d0",
   "metadata": {},
   "outputs": [],
   "source": [
    "df = df_train.unionByName(df_test).withColumn('Survived', f.expr('case when rand() >= 0.7 then 2 else Survived end'))"
   ]
  },
  {
   "cell_type": "code",
   "execution_count": null,
   "id": "04710e58-27f1-4740-884c-8ae6cbf00129",
   "metadata": {},
   "outputs": [],
   "source": [
    "df.groupby('Survived').count().toPandas()"
   ]
  },
  {
   "cell_type": "code",
   "execution_count": null,
   "id": "ca54ab65-d0ab-4aa4-a3e2-10be5ebaa130",
   "metadata": {},
   "outputs": [],
   "source": [
    "processor = SparkPreprocessor({'zscore': 'Age'}, ['Pclass', 'Sex'], impute_strategy = 'mean')\n",
    "df = processor.fit_transform(df)"
   ]
  },
  {
   "cell_type": "code",
   "execution_count": null,
   "id": "f93275a6-13bb-43d8-9f01-e5799153ab9c",
   "metadata": {},
   "outputs": [],
   "source": [
    "model = trainer.train(df, True, LogisticRegression,  data_split=('train_test', {'test_size': 0.2}), labelCol = 'Survived', family='multinomial')"
   ]
  },
  {
   "cell_type": "code",
   "execution_count": null,
   "id": "0b250be1-15d1-4510-8b86-d431d5f8f5bb",
   "metadata": {},
   "outputs": [],
   "source": [
    "model.artifacts"
   ]
  },
  {
   "cell_type": "markdown",
   "id": "bc2e8adf-3d13-4706-90ff-e8bbadd455f3",
   "metadata": {},
   "source": [
    "### Regression"
   ]
  },
  {
   "cell_type": "code",
   "execution_count": null,
   "id": "256f5a85-783f-4870-9cbc-1293ce0af021",
   "metadata": {},
   "outputs": [],
   "source": [
    "from pyspark.ml.regression import LinearRegression"
   ]
  },
  {
   "cell_type": "code",
   "execution_count": null,
   "id": "e4f58d8c-963d-4fca-98df-7eed0b5cc74d",
   "metadata": {},
   "outputs": [],
   "source": [
    "trainer = SparkTrainer()"
   ]
  },
  {
   "cell_type": "code",
   "execution_count": null,
   "id": "b4334d07-c009-44dd-8955-be39fd93f73e",
   "metadata": {},
   "outputs": [],
   "source": [
    "df = df_train.unionByName(df_test)"
   ]
  },
  {
   "cell_type": "code",
   "execution_count": null,
   "id": "45c9a582-649b-4bb8-bf77-667e5ab3345f",
   "metadata": {},
   "outputs": [],
   "source": [
    "processor = SparkPreprocessor(['Pclass', 'Sex'], impute_strategy = 'mean')\n",
    "df = processor.fit_transform(df)"
   ]
  },
  {
   "cell_type": "code",
   "execution_count": null,
   "id": "b70555ad-d6d9-4458-afec-909f568a8de3",
   "metadata": {},
   "outputs": [],
   "source": [
    "from pyspark.ml.feature import Imputer\n",
    "\n",
    "imputer = Imputer(inputCol='Age', outputCol='Age')\n",
    "df = imputer.fit(df).transform(df)"
   ]
  },
  {
   "cell_type": "code",
   "execution_count": null,
   "id": "fc080f00-8566-4c22-a1ba-87d042622c4d",
   "metadata": {},
   "outputs": [],
   "source": [
    "model = trainer.train(df, False, LinearRegression,  data_split=('train_test', {'test_size': 0.2}), labelCol = 'Age')"
   ]
  },
  {
   "cell_type": "code",
   "execution_count": null,
   "id": "ebb76d3b-5ffb-4d09-87cb-984811330634",
   "metadata": {},
   "outputs": [],
   "source": [
    "model.artifacts"
   ]
  },
  {
   "cell_type": "markdown",
   "id": "d525fe36-39d6-4c94-964d-461ca3469685",
   "metadata": {},
   "source": [
    "#### Cross Validation"
   ]
  },
  {
   "cell_type": "code",
   "execution_count": null,
   "id": "fa3ddc0b-68e7-47e5-9656-3b11dbb171d4",
   "metadata": {},
   "outputs": [],
   "source": [
    "model = trainer.train(df, False, LinearRegression,  data_split=('cv', {'numFolds': 4, 'param_grid': {'regParam': [0, 1, 2]}}), labelCol = 'Age')"
   ]
  },
  {
   "cell_type": "code",
   "execution_count": null,
   "id": "1917fc7a-6efa-4ff1-825a-d78062c152dc",
   "metadata": {},
   "outputs": [],
   "source": [
    "model.artifacts"
   ]
  },
  {
   "cell_type": "code",
   "execution_count": null,
   "id": "bbcd286e-431d-4538-b550-d693a7dbd4e2",
   "metadata": {},
   "outputs": [],
   "source": [
    "evaluator = CustomRegressionEvaluator('mape', 'Age')\n",
    "split = ('cv', {'numFolds': 4, 'param_grid': {'regParam': [0, 1, 2], 'elasticNetParam': [0, 0.5, 1]}, 'evaluator': evaluator, })"
   ]
  },
  {
   "cell_type": "code",
   "execution_count": null,
   "id": "e4cf0ffb-5ad6-49d2-8cd9-11a4a6721242",
   "metadata": {},
   "outputs": [],
   "source": [
    "model = trainer.train(df, False, LinearRegression,  data_split=split, labelCol = 'Age')"
   ]
  },
  {
   "cell_type": "code",
   "execution_count": null,
   "id": "ca773bec-ea2c-4794-b805-8684a3afabd0",
   "metadata": {},
   "outputs": [],
   "source": [
    "model.artifacts"
   ]
  },
  {
   "cell_type": "markdown",
   "id": "a1f85ae9-9482-4fe5-8b19-a156c67ec71d",
   "metadata": {},
   "source": [
    "### Unsupervised Trainer"
   ]
  },
  {
   "cell_type": "code",
   "execution_count": null,
   "id": "db6d9a8b-5f6c-424f-88cf-5b172826988e",
   "metadata": {},
   "outputs": [],
   "source": [
    "from pyspark.ml.clustering import KMeans"
   ]
  },
  {
   "cell_type": "code",
   "execution_count": null,
   "id": "64b10861-89fc-40c9-a026-5670ad19ffdf",
   "metadata": {},
   "outputs": [],
   "source": [
    "trainer = SparkUnsupTrainer()"
   ]
  },
  {
   "cell_type": "code",
   "execution_count": null,
   "id": "56bfeff9-6a7a-46d3-96a8-c1d32394bf17",
   "metadata": {},
   "outputs": [],
   "source": [
    "df = df_train.unionByName(df_test)"
   ]
  },
  {
   "cell_type": "code",
   "execution_count": null,
   "id": "fe053fbc-cd71-4508-90fd-d00518c431b5",
   "metadata": {},
   "outputs": [],
   "source": [
    "processor = SparkPreprocessor({'robust': 'Age'}, impute_strategy = 'mean')\n",
    "df = processor.fit_transform(df)"
   ]
  },
  {
   "cell_type": "code",
   "execution_count": null,
   "id": "647d5121-85ac-463f-a05b-ab7fb2ba239d",
   "metadata": {},
   "outputs": [],
   "source": [
    "model = trainer.train(df, KMeans)"
   ]
  },
  {
   "cell_type": "code",
   "execution_count": null,
   "id": "658b2c83-56d9-4ae0-8dca-acb74979cb49",
   "metadata": {},
   "outputs": [],
   "source": [
    "model.artifacts"
   ]
  },
  {
   "cell_type": "markdown",
   "id": "5c32283e-fa8d-483a-b739-6f7a060665a6",
   "metadata": {},
   "source": [
    "#### Mudando a métrica de distância da validação"
   ]
  },
  {
   "cell_type": "code",
   "execution_count": null,
   "id": "aa9ecbca-c9ec-4a9e-aae9-9bdb9b666f74",
   "metadata": {},
   "outputs": [],
   "source": [
    "model = trainer.train(df, KMeans, metric_params={'distanceMeasure': 'cosine'})"
   ]
  },
  {
   "cell_type": "code",
   "execution_count": null,
   "id": "3cef4bf7-18cc-4732-8a75-d008ea4563f9",
   "metadata": {},
   "outputs": [],
   "source": [
    "model.artifacts"
   ]
  },
  {
   "cell_type": "markdown",
   "id": "44750b41-6140-4a6a-8dca-bd6b4e826621",
   "metadata": {},
   "source": [
    "#### Mudando a métrica de distância da clusterização"
   ]
  },
  {
   "cell_type": "code",
   "execution_count": null,
   "id": "39520601-58d6-447b-b9c6-2a1bf71bff93",
   "metadata": {},
   "outputs": [],
   "source": [
    "df = df_train.unionByName(df_test).withColumn('rand', f.rand())\n",
    "\n",
    "processor = SparkPreprocessor({'robust': ['Age', 'rand']}, impute_strategy = 'mean')\n",
    "df = processor.fit_transform(df)\n",
    "\n",
    "model = trainer.train(df, KMeans, metric_params={'distanceMeasure': 'cosine'}, k = 5, distanceMeasure = 'cosine')"
   ]
  },
  {
   "cell_type": "code",
   "execution_count": null,
   "id": "71131f07-ff3b-4fb7-80e0-16ac9a57b594",
   "metadata": {},
   "outputs": [],
   "source": [
    "model.artifacts"
   ]
  },
  {
   "cell_type": "markdown",
   "id": "bc012211-2bbf-4325-8461-42e69f823cb4",
   "metadata": {},
   "source": [
    "### Custom Metrics"
   ]
  },
  {
   "cell_type": "markdown",
   "id": "e08fe3e9-aa35-4b02-8bc6-c1fd6f5517e2",
   "metadata": {},
   "source": [
    "#### Binary Classification"
   ]
  },
  {
   "cell_type": "code",
   "execution_count": null,
   "id": "844979a3-811b-4f57-87f3-3599bb9cbc4e",
   "metadata": {},
   "outputs": [],
   "source": [
    "from pyspark.ml.classification import LogisticRegression"
   ]
  },
  {
   "cell_type": "code",
   "execution_count": null,
   "id": "d16de188-e3c6-4aab-aa71-50b15317c4c3",
   "metadata": {},
   "outputs": [],
   "source": [
    "metrics = ['accuracy','roc_auc', 'precision', 'recall', 'f1']"
   ]
  },
  {
   "cell_type": "code",
   "execution_count": null,
   "id": "a4b17c20-9b9e-45a2-aad8-7a7b6bad6e17",
   "metadata": {},
   "outputs": [],
   "source": [
    "processor = SparkPreprocessor({'robust': ['Age']}, ['Sex', 'Pclass'], impute_strategy = 'mean')\n",
    "df = processor.fit_transform(df_train)\n",
    "lr = LogisticRegression(labelCol = 'Survived')\n",
    "\n",
    "df_pred = lr.fit(df).transform(df)\n",
    "df_pred.limit(5).toPandas()"
   ]
  },
  {
   "cell_type": "code",
   "execution_count": null,
   "id": "dc286d23-5317-4da0-847d-b97621670982",
   "metadata": {},
   "outputs": [],
   "source": [
    "for metric in metrics:\n",
    "    evaluator = CustomBinaryEvaluator(metric, 'Survived')\n",
    "    print(metric, evaluator.evaluate(df_pred))"
   ]
  },
  {
   "cell_type": "code",
   "execution_count": null,
   "id": "8b1bf303-3b66-450c-bdef-39f67dd3c045",
   "metadata": {},
   "outputs": [],
   "source": [
    "for metric in metrics:\n",
    "    if metric not in ['accuracy', 'roc_auc']:\n",
    "        evaluator = CustomBinaryEvaluator(metric, 'Survived', 1)\n",
    "        print(metric, evaluator.evaluate(df_pred))"
   ]
  },
  {
   "cell_type": "markdown",
   "id": "d0b94161-8d03-49ec-979d-547aac11d0f6",
   "metadata": {},
   "source": [
    "#### Regression"
   ]
  },
  {
   "cell_type": "code",
   "execution_count": null,
   "id": "aa9c508a-b2c6-4784-bc07-40a15d3a5874",
   "metadata": {},
   "outputs": [],
   "source": [
    "from pyspark.ml.regression import LinearRegression\n",
    "from pyspark.ml.feature import Imputer"
   ]
  },
  {
   "cell_type": "code",
   "execution_count": null,
   "id": "8038e9ff-57cb-4bba-b66d-0d10779f48cf",
   "metadata": {},
   "outputs": [],
   "source": [
    "metrics = ['mape', 'smape', 'weighted_mape']"
   ]
  },
  {
   "cell_type": "code",
   "execution_count": null,
   "id": "0bb6bc66-b576-42b7-b9ec-9ee79232e4af",
   "metadata": {},
   "outputs": [],
   "source": [
    "processor = SparkPreprocessor(cat_cols = ['Sex', 'Pclass'], impute_strategy = 'mean')\n",
    "df = processor.fit_transform(df_train)\n",
    "\n",
    "imputer = Imputer(inputCol='Age', outputCol='Age')\n",
    "df = imputer.fit(df).transform(df)\n",
    "\n",
    "lr = LinearRegression(labelCol = 'Age')\n",
    "\n",
    "df_pred = lr.fit(df).transform(df)\n",
    "df_pred.limit(5).toPandas()"
   ]
  },
  {
   "cell_type": "code",
   "execution_count": null,
   "id": "8634c922-1647-47b5-b7ca-4ca841a7f578",
   "metadata": {},
   "outputs": [],
   "source": [
    "for metric in metrics:\n",
    "    evaluator = CustomRegressionEvaluator(metric, 'Age')\n",
    "    print(metric, evaluator.evaluate(df_pred))"
   ]
  },
  {
   "cell_type": "markdown",
   "id": "77f27c01-de58-4c3c-b24f-888dce2cf9cd",
   "metadata": {},
   "source": [
    "### Wrapper"
   ]
  },
  {
   "cell_type": "code",
   "execution_count": null,
   "id": "91829cd3-c5cd-4d90-85f8-77aea51c9551",
   "metadata": {},
   "outputs": [],
   "source": [
    "from pyspark.ml.classification import LogisticRegression"
   ]
  },
  {
   "cell_type": "code",
   "execution_count": null,
   "id": "681ec8da-1798-48de-9462-d211cc68884d",
   "metadata": {},
   "outputs": [],
   "source": [
    "trainer = SparkTrainer()"
   ]
  },
  {
   "cell_type": "code",
   "execution_count": null,
   "id": "ea819442-859d-487a-b177-c62e3d40582f",
   "metadata": {},
   "outputs": [],
   "source": [
    "df = df_train.unionByName(df_test)"
   ]
  },
  {
   "cell_type": "code",
   "execution_count": null,
   "id": "6fae9742-6411-44eb-be1d-1ee612996eb7",
   "metadata": {},
   "outputs": [],
   "source": [
    "processor = SparkPreprocessor({'zscore': 'Age'}, ['Pclass', 'Sex'], impute_strategy = 'mean')\n",
    "df = processor.fit_transform(df)"
   ]
  },
  {
   "cell_type": "code",
   "execution_count": null,
   "id": "1d5cdd0d-952c-4b5e-abfc-d20feeda9012",
   "metadata": {},
   "outputs": [],
   "source": [
    "model = trainer.train(df, True, LogisticRegression,  data_split=('train_test', {'test_size': 0.2}), labelCol = 'Survived')"
   ]
  },
  {
   "cell_type": "code",
   "execution_count": null,
   "id": "d619b03b-a342-4705-be78-23912c514c07",
   "metadata": {},
   "outputs": [],
   "source": [
    "model.artifacts"
   ]
  },
  {
   "cell_type": "code",
   "execution_count": null,
   "id": "15dd2baf-d0c1-488f-8eaa-ff828ca995d5",
   "metadata": {},
   "outputs": [],
   "source": [
    "model.predict(df).toPandas()"
   ]
  },
  {
   "cell_type": "code",
   "execution_count": null,
   "id": "2cc7ad5a-0f1d-44da-b3dc-ba4e9e9a81bd",
   "metadata": {},
   "outputs": [],
   "source": [
    "model.predict_proba(df).toPandas()"
   ]
  },
  {
   "cell_type": "code",
   "execution_count": null,
   "id": "1d1fcd32-06da-4e3d-8ce6-8d8133dbdfd5",
   "metadata": {},
   "outputs": [],
   "source": [
    "model.predict_proba(df, True).toPandas()"
   ]
  },
  {
   "cell_type": "code",
   "execution_count": null,
   "id": "27c5d5fc-fe2f-4890-8953-e65ab8fd0c5f",
   "metadata": {},
   "outputs": [],
   "source": [
    "model.save('teste')"
   ]
  },
  {
   "cell_type": "code",
   "execution_count": null,
   "id": "d7651206-7a4b-447d-a87b-2cfc9f4dd24f",
   "metadata": {},
   "outputs": [],
   "source": [
    "model.load('teste')"
   ]
  },
  {
   "cell_type": "code",
   "execution_count": null,
   "id": "829bdf68-7669-44af-a3f1-99afdad0bcc2",
   "metadata": {},
   "outputs": [],
   "source": [
    "model.get_metrics()"
   ]
  },
  {
   "cell_type": "code",
   "execution_count": null,
   "id": "d501ec54-486e-4f83-add2-55588ba840bc",
   "metadata": {},
   "outputs": [],
   "source": [
    "model.get_model()"
   ]
  },
  {
   "cell_type": "code",
   "execution_count": null,
   "id": "8f0d4e00-6d06-410f-b2b9-2d0563332e3c",
   "metadata": {},
   "outputs": [],
   "source": [
    "model.get_model_instance()"
   ]
  },
  {
   "cell_type": "markdown",
   "id": "bb376dd5-18a9-4a71-a312-e28b62f6119a",
   "metadata": {},
   "source": [
    "## Analysis"
   ]
  },
  {
   "cell_type": "markdown",
   "id": "a0aae547-419a-428a-a348-a0659969e7d8",
   "metadata": {},
   "source": [
    "### Cluster"
   ]
  },
  {
   "cell_type": "code",
   "execution_count": null,
   "id": "4599388a-c8f1-4d96-ab20-ddc3b8ae2fd0",
   "metadata": {},
   "outputs": [],
   "source": [
    "from pyspark.ml.clustering import KMeans"
   ]
  },
  {
   "cell_type": "code",
   "execution_count": null,
   "id": "802228f1-9e47-46c0-b029-215d04a5b782",
   "metadata": {},
   "outputs": [],
   "source": [
    "df = df_train.unionByName(df_test).withColumn('rand', f.rand())"
   ]
  },
  {
   "cell_type": "code",
   "execution_count": null,
   "id": "2930311f-19ed-48fa-b292-01f854b729cf",
   "metadata": {},
   "outputs": [],
   "source": [
    "processor = SparkPreprocessor({'robust': ['Age', 'rand']}, impute_strategy = 'mean')\n",
    "df = processor.fit_transform(df)"
   ]
  },
  {
   "cell_type": "code",
   "execution_count": null,
   "id": "1bab22b3-7912-4d92-a10e-469bb7ee6453",
   "metadata": {},
   "outputs": [],
   "source": [
    "cluster = SparkCluster()"
   ]
  },
  {
   "cell_type": "code",
   "execution_count": null,
   "id": "ba5d0bf3-1801-4b88-9da9-a599704395e9",
   "metadata": {},
   "outputs": [],
   "source": [
    "cluster.analyzeK(df)"
   ]
  },
  {
   "cell_type": "code",
   "execution_count": null,
   "id": "13b4c398-7f45-41a5-95f5-36872371dfac",
   "metadata": {},
   "outputs": [],
   "source": [
    "trainer = SparkUnsupTrainer()\n",
    "\n",
    "df_pred = trainer.train(df, KMeans).artifacts['model'].transform(df)"
   ]
  },
  {
   "cell_type": "code",
   "execution_count": null,
   "id": "30feeef1-6c22-4476-9a48-5e9910d0f07a",
   "metadata": {},
   "outputs": [],
   "source": [
    "df_pred.toPandas()"
   ]
  },
  {
   "cell_type": "code",
   "execution_count": null,
   "id": "ad591b81-8db6-4fc6-885b-4b58117597a0",
   "metadata": {},
   "outputs": [],
   "source": [
    "pdf = df_pred.toPandas()\n",
    "cluster.plot_cluster(pdf, 'Age', 'rand', 'prediction')"
   ]
  },
  {
   "cell_type": "markdown",
   "id": "dabe0258-5ed9-4111-a4ef-dfd540db7edd",
   "metadata": {},
   "source": [
    "### PCA"
   ]
  },
  {
   "cell_type": "code",
   "execution_count": null,
   "id": "3d9319f6-399a-46e0-998d-3a41bc31493b",
   "metadata": {},
   "outputs": [],
   "source": [
    "df = df_train.unionByName(df_test).withColumn('rand', f.rand()).withColumn('rand2', f.rand())\n",
    "\n",
    "processor = SparkPreprocessor({'robust': ['Age', 'rand', 'rand2']}, impute_strategy = 'mean')\n",
    "df = processor.fit_transform(df)\n",
    "df.toPandas()"
   ]
  },
  {
   "cell_type": "code",
   "execution_count": null,
   "id": "8feb50d9-57b5-4e9e-92c1-34783dd5872f",
   "metadata": {},
   "outputs": [],
   "source": [
    "pca = SparkPCA('features', k = 2)\n",
    "pca.fit_transform(df).toPandas()"
   ]
  },
  {
   "cell_type": "code",
   "execution_count": null,
   "id": "ca1ecb9c-886f-4c4b-8879-a83694bbf4a6",
   "metadata": {},
   "outputs": [],
   "source": [
    "pca = SparkPCA('features', k = 0.9)\n",
    "pca.fit_transform(df).toPandas()"
   ]
  },
  {
   "cell_type": "markdown",
   "id": "26333c11-7378-4362-aaf3-706c16166bdc",
   "metadata": {},
   "source": [
    "### Feature Selection"
   ]
  },
  {
   "cell_type": "code",
   "execution_count": null,
   "id": "9d7d2d3f-c79a-4daa-8112-a7ace73e3149",
   "metadata": {},
   "outputs": [],
   "source": [
    "df = df_train.unionByName(df_test)\n",
    "processor = SparkPreprocessor(cat_cols=['Pclass', 'Sex'])\n",
    "scaler = SparkScaler('Age', 'robust')\n",
    "\n",
    "df = (\n",
    "    scaler.fit_transform(processor.fit_transform(df))\n",
    "    .withColumnRenamed('features', 'cat_features')\n",
    "    .withColumnRenamed('robust_scaled', 'num_features')\n",
    ")\n",
    "df.toPandas()"
   ]
  },
  {
   "cell_type": "code",
   "execution_count": null,
   "id": "5702f717-ef74-435f-bd75-7637314e7878",
   "metadata": {},
   "outputs": [],
   "source": [
    "selector = FeatureSelector('num_features', 'cat_features', 'Survived', 'categorical')\n",
    "selector.select(df).toPandas()"
   ]
  },
  {
   "cell_type": "code",
   "execution_count": null,
   "id": "133be753-830e-4807-8960-d64013b2dcfe",
   "metadata": {},
   "outputs": [],
   "source": [
    "selector = FeatureSelector('num_features', 'cat_features', 'Survived', 'categorical', selectionThreshold=1)\n",
    "selector.select(df).select('features').toPandas()"
   ]
  },
  {
   "cell_type": "code",
   "execution_count": null,
   "id": "92292110-c814-4e7d-9504-37139acf5ba0",
   "metadata": {},
   "outputs": [],
   "source": [
    "df = df_train.unionByName(df_test).withColumn('rand', f.rand()).withColumn('rand2', f.rand())\n",
    "processor = SparkPreprocessor(cat_cols=['Pclass', 'Sex'])\n",
    "scaler = SparkScaler(['Age', 'rand', 'rand2'], 'robust')\n",
    "\n",
    "df = (\n",
    "    scaler.fit_transform(processor.fit_transform(df))\n",
    "    .withColumnRenamed('features', 'cat_features')\n",
    "    .withColumnRenamed('robust_scaled', 'num_features')\n",
    ")\n",
    "\n",
    "selector = FeatureSelector('num_features', 'cat_features', 'Survived', 'categorical', 'fpr')\n",
    "selector.select(df).select('num_features', 'cat_features', 'selected_continuous', 'selected_categorical', 'features').toPandas()"
   ]
  }
 ],
 "metadata": {
  "kernelspec": {
   "display_name": "Python 3",
   "language": "python",
   "name": "python3"
  },
  "language_info": {
   "codemirror_mode": {
    "name": "ipython",
    "version": 3
   },
   "file_extension": ".py",
   "mimetype": "text/x-python",
   "name": "python",
   "nbconvert_exporter": "python",
   "pygments_lexer": "ipython3",
   "version": "3.8.8"
  }
 },
 "nbformat": 4,
 "nbformat_minor": 5
}
