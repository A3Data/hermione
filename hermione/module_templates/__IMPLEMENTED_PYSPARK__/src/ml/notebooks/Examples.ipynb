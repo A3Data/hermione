{
 "cells": [
  {
   "cell_type": "markdown",
   "id": "87da29da",
   "metadata": {},
   "source": [
    "## Bibliotecas"
   ]
  },
  {
   "cell_type": "code",
   "execution_count": 1,
   "id": "61a765b4",
   "metadata": {},
   "outputs": [],
   "source": [
    "import sys\n",
    "sys.path.append('../../../')"
   ]
  },
  {
   "cell_type": "code",
   "execution_count": 2,
   "id": "94d4b989",
   "metadata": {},
   "outputs": [],
   "source": [
    "## Spark SQL\n",
    "from pyspark.sql import SparkSession\n",
    "import pyspark.sql.functions as f\n",
    "\n",
    "# Spark ML\n",
    "from pyspark.ml.pipeline import Pipeline#, PipelineModel\n",
    "from pyspark.ml.param import Param\n",
    "from pyspark.ml.classification import LogisticRegression, RandomForestClassifier\n",
    "from pyspark.ml.regression import LinearRegression\n",
    "from pyspark.ml.feature import VectorAssembler, StringIndexer, OneHotEncoder, Imputer\n",
    "from pyspark.ml.evaluation import BinaryClassificationEvaluator, MulticlassClassificationEvaluator, Evaluator, RegressionEvaluator\n",
    "from pyspark.ml.util import JavaMLReadable, JavaMLWritable\n",
    "from pyspark.ml.tuning import CrossValidator, ParamGridBuilder"
   ]
  },
  {
   "cell_type": "code",
   "execution_count": 3,
   "id": "760a0568-eed7-425f-8435-0612adc5414c",
   "metadata": {},
   "outputs": [],
   "source": [
    "import mlflow.pyspark.ml"
   ]
  },
  {
   "cell_type": "code",
   "execution_count": 4,
   "id": "c0bce25c",
   "metadata": {},
   "outputs": [],
   "source": [
    "spark = (\n",
    "    SparkSession\n",
    "    .builder\n",
    "    .config(\"spark.serializer\", \"org.apache.spark.serializer.KryoSerializer\")\n",
    "    .config(\"spark.driver.memory\", \"6g\")\n",
    "    .getOrCreate()\n",
    ")"
   ]
  },
  {
   "cell_type": "markdown",
   "id": "02e3306a",
   "metadata": {},
   "source": [
    "## Spark ML"
   ]
  },
  {
   "cell_type": "markdown",
   "id": "8e9cf334",
   "metadata": {},
   "source": [
    "### Binary Classification"
   ]
  },
  {
   "cell_type": "markdown",
   "id": "a69a52b8",
   "metadata": {},
   "source": [
    "#### Data Split"
   ]
  },
  {
   "cell_type": "code",
   "execution_count": 5,
   "id": "ff36c915",
   "metadata": {},
   "outputs": [],
   "source": [
    "df_train = spark.read.parquet('../../../data/raw/raw_train')\n",
    "df_test = spark.read.parquet('../../../data/raw/raw_test')"
   ]
  },
  {
   "cell_type": "markdown",
   "id": "b3cd5492",
   "metadata": {},
   "source": [
    "#### Preprocessing"
   ]
  },
  {
   "cell_type": "code",
   "execution_count": 6,
   "id": "2a446d70-6b4d-4e9c-a51e-920d3d2322c1",
   "metadata": {},
   "outputs": [
    {
     "data": {
      "text/html": [
       "<div>\n",
       "<style scoped>\n",
       "    .dataframe tbody tr th:only-of-type {\n",
       "        vertical-align: middle;\n",
       "    }\n",
       "\n",
       "    .dataframe tbody tr th {\n",
       "        vertical-align: top;\n",
       "    }\n",
       "\n",
       "    .dataframe thead th {\n",
       "        text-align: right;\n",
       "    }\n",
       "</style>\n",
       "<table border=\"1\" class=\"dataframe\">\n",
       "  <thead>\n",
       "    <tr style=\"text-align: right;\">\n",
       "      <th></th>\n",
       "      <th>Survived</th>\n",
       "      <th>Pclass</th>\n",
       "      <th>Sex</th>\n",
       "      <th>Age</th>\n",
       "    </tr>\n",
       "  </thead>\n",
       "  <tbody>\n",
       "    <tr>\n",
       "      <th>0</th>\n",
       "      <td>1</td>\n",
       "      <td>2</td>\n",
       "      <td>female</td>\n",
       "      <td>34.0</td>\n",
       "    </tr>\n",
       "    <tr>\n",
       "      <th>1</th>\n",
       "      <td>1</td>\n",
       "      <td>2</td>\n",
       "      <td>female</td>\n",
       "      <td>31.0</td>\n",
       "    </tr>\n",
       "    <tr>\n",
       "      <th>2</th>\n",
       "      <td>1</td>\n",
       "      <td>1</td>\n",
       "      <td>male</td>\n",
       "      <td>36.0</td>\n",
       "    </tr>\n",
       "    <tr>\n",
       "      <th>3</th>\n",
       "      <td>1</td>\n",
       "      <td>3</td>\n",
       "      <td>male</td>\n",
       "      <td>29.0</td>\n",
       "    </tr>\n",
       "    <tr>\n",
       "      <th>4</th>\n",
       "      <td>0</td>\n",
       "      <td>2</td>\n",
       "      <td>male</td>\n",
       "      <td>18.0</td>\n",
       "    </tr>\n",
       "  </tbody>\n",
       "</table>\n",
       "</div>"
      ],
      "text/plain": [
       "   Survived  Pclass     Sex   Age\n",
       "0         1       2  female  34.0\n",
       "1         1       2  female  31.0\n",
       "2         1       1    male  36.0\n",
       "3         1       3    male  29.0\n",
       "4         0       2    male  18.0"
      ]
     },
     "execution_count": 6,
     "metadata": {},
     "output_type": "execute_result"
    }
   ],
   "source": [
    "df_train.limit(5).toPandas()"
   ]
  },
  {
   "cell_type": "code",
   "execution_count": 7,
   "id": "120e209b-f2cf-4262-9b30-2027587bd71c",
   "metadata": {},
   "outputs": [],
   "source": [
    "# df_train = df_train.withColumn(\"Survived\", f.when(f.rand() >= 0.75, 2).otherwise(f.col('Survived')))"
   ]
  },
  {
   "cell_type": "code",
   "execution_count": 8,
   "id": "0165f99c-68fb-4f52-a640-31c7b02f2d5e",
   "metadata": {},
   "outputs": [
    {
     "data": {
      "text/html": [
       "<div>\n",
       "<style scoped>\n",
       "    .dataframe tbody tr th:only-of-type {\n",
       "        vertical-align: middle;\n",
       "    }\n",
       "\n",
       "    .dataframe tbody tr th {\n",
       "        vertical-align: top;\n",
       "    }\n",
       "\n",
       "    .dataframe thead th {\n",
       "        text-align: right;\n",
       "    }\n",
       "</style>\n",
       "<table border=\"1\" class=\"dataframe\">\n",
       "  <thead>\n",
       "    <tr style=\"text-align: right;\">\n",
       "      <th></th>\n",
       "      <th>Survived</th>\n",
       "      <th>count</th>\n",
       "    </tr>\n",
       "  </thead>\n",
       "  <tbody>\n",
       "    <tr>\n",
       "      <th>0</th>\n",
       "      <td>1</td>\n",
       "      <td>244</td>\n",
       "    </tr>\n",
       "    <tr>\n",
       "      <th>1</th>\n",
       "      <td>0</td>\n",
       "      <td>379</td>\n",
       "    </tr>\n",
       "  </tbody>\n",
       "</table>\n",
       "</div>"
      ],
      "text/plain": [
       "   Survived  count\n",
       "0         1    244\n",
       "1         0    379"
      ]
     },
     "execution_count": 8,
     "metadata": {},
     "output_type": "execute_result"
    }
   ],
   "source": [
    "df_train.groupby('Survived').count().toPandas()"
   ]
  },
  {
   "cell_type": "code",
   "execution_count": 9,
   "id": "87f68238",
   "metadata": {},
   "outputs": [],
   "source": [
    "from src.ml.preprocessing.preprocessing import SparkPreprocessor"
   ]
  },
  {
   "cell_type": "code",
   "execution_count": 10,
   "id": "55d8c757",
   "metadata": {},
   "outputs": [],
   "source": [
    "from src.ml.preprocessing.normalization import SparkScaler"
   ]
  },
  {
   "cell_type": "code",
   "execution_count": 11,
   "id": "3488a913",
   "metadata": {},
   "outputs": [],
   "source": [
    "preproc = SparkPreprocessor(cat_cols = ['Sex', 'Pclass'])"
   ]
  },
  {
   "cell_type": "code",
   "execution_count": 12,
   "id": "ec4d7bc1-bfe6-4735-bee1-7a3dca452727",
   "metadata": {},
   "outputs": [],
   "source": [
    "imputer = Imputer(inputCols=['Age'], strategy='mean', outputCols = ['Age'])"
   ]
  },
  {
   "cell_type": "code",
   "execution_count": 13,
   "id": "60247a52",
   "metadata": {},
   "outputs": [
    {
     "name": "stderr",
     "output_type": "stream",
     "text": [
      "INFO:root:Treating categorical data...\n"
     ]
    }
   ],
   "source": [
    "df_preproc = preproc.execute(df_train, )"
   ]
  },
  {
   "cell_type": "code",
   "execution_count": 14,
   "id": "ca8b633d-2a75-4d27-9e1c-fd0078c56a45",
   "metadata": {},
   "outputs": [],
   "source": [
    "df_preproc = imputer.fit(df_preproc).transform(df_preproc)"
   ]
  },
  {
   "cell_type": "markdown",
   "id": "5df52add",
   "metadata": {},
   "source": [
    "#### Model"
   ]
  },
  {
   "cell_type": "code",
   "execution_count": 15,
   "id": "b6b05729",
   "metadata": {},
   "outputs": [],
   "source": [
    "from src.ml.model.trainer import SparkTrainer"
   ]
  },
  {
   "cell_type": "code",
   "execution_count": 16,
   "id": "c060306a-a126-4c5f-b1a4-033136679995",
   "metadata": {},
   "outputs": [],
   "source": [
    "from src.ml.model.metrics import Metrics, CustomRegressionEvaluator"
   ]
  },
  {
   "cell_type": "code",
   "execution_count": 17,
   "id": "5606709d",
   "metadata": {},
   "outputs": [],
   "source": [
    "model = SparkTrainer()"
   ]
  },
  {
   "cell_type": "code",
   "execution_count": 18,
   "id": "d74046d5-ab96-42c3-9c9e-28fb9701065e",
   "metadata": {},
   "outputs": [],
   "source": [
    "eva = CustomRegressionEvaluator(\"mape\", 'Age')"
   ]
  },
  {
   "cell_type": "code",
   "execution_count": 30,
   "id": "36508dd0",
   "metadata": {},
   "outputs": [
    {
     "ename": "AnalysisException",
     "evalue": "cannot resolve '`probability`' given input columns: [Age, Pclass, Pclass_indexed, Pclass_ohe, Sex, Sex_indexed, Sex_ohe, Survived, features, prediction];\n'Project ['probability]\n+- Project [Survived#0, Pclass#1, Sex#2, Age#159, Sex_indexed#81, Pclass_indexed#82, Sex_ohe#103, Pclass_ohe#104, features#134, UDF(features#134) AS prediction#107989]\n   +- Project [Survived#0, Pclass#1, Sex#2, cast(CASE WHEN isnull(cast(Age#3 as double)) THEN 29.88569105691057 WHEN (cast(Age#3 as double) = NaN) THEN 29.88569105691057 ELSE cast(Age#3 as double) END as double) AS Age#159, Sex_indexed#81, Pclass_indexed#82, Sex_ohe#103, Pclass_ohe#104, features#134]\n      +- Project [Survived#0, Pclass#1, Sex#2, Age#3, Sex_indexed#81, Pclass_indexed#82, Sex_ohe#103, Pclass_ohe#104, UDF(struct(Sex_ohe, Sex_ohe#103, Pclass_ohe, Pclass_ohe#104)) AS features#134]\n         +- Filter AtLeastNNulls(n, Sex_ohe#103,Pclass_ohe#104)\n            +- Project [Survived#0, Pclass#1, Sex#2, Age#3, Sex_indexed#81, Pclass_indexed#82, UDF(cast(Sex_indexed#81 as double), 0) AS Sex_ohe#103, UDF(cast(Pclass_indexed#82 as double), 1) AS Pclass_ohe#104]\n               +- Project [Survived#0, Pclass#1, Sex#2, Age#3, UDF(cast(Sex#2 as string)) AS Sex_indexed#81, UDF(cast(Pclass#1 as string)) AS Pclass_indexed#82]\n                  +- Relation[Survived#0,Pclass#1,Sex#2,Age#3] parquet\n",
     "output_type": "error",
     "traceback": [
      "\u001b[1;31m---------------------------------------------------------------------------\u001b[0m",
      "\u001b[1;31mAnalysisException\u001b[0m                         Traceback (most recent call last)",
      "\u001b[1;32m<ipython-input-30-3c27763e4bec>\u001b[0m in \u001b[0;36m<module>\u001b[1;34m\u001b[0m\n\u001b[1;32m----> 1\u001b[1;33m \u001b[0mmodel\u001b[0m\u001b[1;33m.\u001b[0m\u001b[0mtrain\u001b[0m\u001b[1;33m(\u001b[0m\u001b[0mdf_preproc\u001b[0m\u001b[1;33m,\u001b[0m \u001b[1;32mFalse\u001b[0m\u001b[1;33m,\u001b[0m \u001b[0mLinearRegression\u001b[0m\u001b[1;33m,\u001b[0m \u001b[0mlabelCol\u001b[0m\u001b[1;33m=\u001b[0m\u001b[1;34m'Age'\u001b[0m\u001b[1;33m,\u001b[0m \u001b[0mdata_split\u001b[0m\u001b[1;33m=\u001b[0m\u001b[1;33m(\u001b[0m\u001b[1;34m'cv'\u001b[0m\u001b[1;33m,\u001b[0m \u001b[1;33m{\u001b[0m\u001b[1;34m'numFolds'\u001b[0m\u001b[1;33m:\u001b[0m \u001b[1;36m5\u001b[0m\u001b[1;33m,\u001b[0m \u001b[1;34m'param_grid'\u001b[0m\u001b[1;33m:\u001b[0m \u001b[1;33m{\u001b[0m\u001b[1;34m'regParam'\u001b[0m\u001b[1;33m:\u001b[0m \u001b[1;33m[\u001b[0m\u001b[1;36m0\u001b[0m\u001b[1;33m,\u001b[0m \u001b[1;36m1\u001b[0m\u001b[1;33m,\u001b[0m  \u001b[1;36m57\u001b[0m\u001b[1;33m]\u001b[0m\u001b[1;33m}\u001b[0m\u001b[1;33m,\u001b[0m \u001b[1;34m'evaluator'\u001b[0m\u001b[1;33m:\u001b[0m \u001b[0meva\u001b[0m\u001b[1;33m}\u001b[0m\u001b[1;33m)\u001b[0m\u001b[1;33m)\u001b[0m\u001b[0;31m\\\u001b[0m\u001b[1;33m\u001b[0m\u001b[1;33m\u001b[0m\u001b[0m\n\u001b[0m\u001b[0;32m      2\u001b[0m \u001b[1;33m.\u001b[0m\u001b[0mpredict_proba\u001b[0m\u001b[1;33m(\u001b[0m\u001b[0mdf_preproc\u001b[0m\u001b[1;33m)\u001b[0m\u001b[1;33m\u001b[0m\u001b[1;33m\u001b[0m\u001b[0m\n",
      "\u001b[1;32m~\\Documents\\projects\\hermione\\hermione\\module_templates\\__IMPLEMENTED_PYSPARK__\\src\\ml\\model\\wrapper.py\u001b[0m in \u001b[0;36mpredict_proba\u001b[1;34m(self, model_input, binary)\u001b[0m\n\u001b[0;32m     63\u001b[0m         \u001b[0mmodel\u001b[0m \u001b[1;33m=\u001b[0m \u001b[0mself\u001b[0m\u001b[1;33m.\u001b[0m\u001b[0martifacts\u001b[0m\u001b[1;33m[\u001b[0m\u001b[1;34m\"model\"\u001b[0m\u001b[1;33m]\u001b[0m\u001b[1;33m\u001b[0m\u001b[1;33m\u001b[0m\u001b[0m\n\u001b[0;32m     64\u001b[0m         \u001b[0mdf_pred\u001b[0m \u001b[1;33m=\u001b[0m \u001b[0mmodel\u001b[0m\u001b[1;33m.\u001b[0m\u001b[0mtransform\u001b[0m\u001b[1;33m(\u001b[0m\u001b[0mmodel_input\u001b[0m\u001b[1;33m)\u001b[0m\u001b[1;33m\u001b[0m\u001b[1;33m\u001b[0m\u001b[0m\n\u001b[1;32m---> 65\u001b[1;33m         \u001b[0mpred_row\u001b[0m \u001b[1;33m=\u001b[0m \u001b[0mdf_pred\u001b[0m\u001b[1;33m.\u001b[0m\u001b[0mselect\u001b[0m\u001b[1;33m(\u001b[0m\u001b[1;34m'probability'\u001b[0m\u001b[1;33m)\u001b[0m\u001b[1;33m.\u001b[0m\u001b[0mcollect\u001b[0m\u001b[1;33m(\u001b[0m\u001b[1;33m)\u001b[0m\u001b[1;33m\u001b[0m\u001b[1;33m\u001b[0m\u001b[0m\n\u001b[0m\u001b[0;32m     66\u001b[0m         \u001b[1;32mif\u001b[0m \u001b[0mbinary\u001b[0m\u001b[1;33m:\u001b[0m\u001b[1;33m\u001b[0m\u001b[1;33m\u001b[0m\u001b[0m\n\u001b[0;32m     67\u001b[0m             \u001b[1;32mreturn\u001b[0m \u001b[1;33m[\u001b[0m\u001b[0mc\u001b[0m\u001b[1;33m[\u001b[0m\u001b[1;34m'probability'\u001b[0m\u001b[1;33m]\u001b[0m\u001b[1;33m[\u001b[0m\u001b[1;36m1\u001b[0m\u001b[1;33m]\u001b[0m \u001b[1;32mfor\u001b[0m \u001b[0mc\u001b[0m \u001b[1;32min\u001b[0m \u001b[0mpred_row\u001b[0m\u001b[1;33m]\u001b[0m\u001b[1;33m\u001b[0m\u001b[1;33m\u001b[0m\u001b[0m\n",
      "\u001b[1;32mC:\\anaconda3\\lib\\site-packages\\pyspark\\sql\\dataframe.py\u001b[0m in \u001b[0;36mselect\u001b[1;34m(self, *cols)\u001b[0m\n\u001b[0;32m   1667\u001b[0m         \u001b[1;33m[\u001b[0m\u001b[0mRow\u001b[0m\u001b[1;33m(\u001b[0m\u001b[0mname\u001b[0m\u001b[1;33m=\u001b[0m\u001b[1;34m'Alice'\u001b[0m\u001b[1;33m,\u001b[0m \u001b[0mage\u001b[0m\u001b[1;33m=\u001b[0m\u001b[1;36m12\u001b[0m\u001b[1;33m)\u001b[0m\u001b[1;33m,\u001b[0m \u001b[0mRow\u001b[0m\u001b[1;33m(\u001b[0m\u001b[0mname\u001b[0m\u001b[1;33m=\u001b[0m\u001b[1;34m'Bob'\u001b[0m\u001b[1;33m,\u001b[0m \u001b[0mage\u001b[0m\u001b[1;33m=\u001b[0m\u001b[1;36m15\u001b[0m\u001b[1;33m)\u001b[0m\u001b[1;33m]\u001b[0m\u001b[1;33m\u001b[0m\u001b[1;33m\u001b[0m\u001b[0m\n\u001b[0;32m   1668\u001b[0m         \"\"\"\n\u001b[1;32m-> 1669\u001b[1;33m         \u001b[0mjdf\u001b[0m \u001b[1;33m=\u001b[0m \u001b[0mself\u001b[0m\u001b[1;33m.\u001b[0m\u001b[0m_jdf\u001b[0m\u001b[1;33m.\u001b[0m\u001b[0mselect\u001b[0m\u001b[1;33m(\u001b[0m\u001b[0mself\u001b[0m\u001b[1;33m.\u001b[0m\u001b[0m_jcols\u001b[0m\u001b[1;33m(\u001b[0m\u001b[1;33m*\u001b[0m\u001b[0mcols\u001b[0m\u001b[1;33m)\u001b[0m\u001b[1;33m)\u001b[0m\u001b[1;33m\u001b[0m\u001b[1;33m\u001b[0m\u001b[0m\n\u001b[0m\u001b[0;32m   1670\u001b[0m         \u001b[1;32mreturn\u001b[0m \u001b[0mDataFrame\u001b[0m\u001b[1;33m(\u001b[0m\u001b[0mjdf\u001b[0m\u001b[1;33m,\u001b[0m \u001b[0mself\u001b[0m\u001b[1;33m.\u001b[0m\u001b[0msql_ctx\u001b[0m\u001b[1;33m)\u001b[0m\u001b[1;33m\u001b[0m\u001b[1;33m\u001b[0m\u001b[0m\n\u001b[0;32m   1671\u001b[0m \u001b[1;33m\u001b[0m\u001b[0m\n",
      "\u001b[1;32mC:\\anaconda3\\lib\\site-packages\\py4j\\java_gateway.py\u001b[0m in \u001b[0;36m__call__\u001b[1;34m(self, *args)\u001b[0m\n\u001b[0;32m   1302\u001b[0m \u001b[1;33m\u001b[0m\u001b[0m\n\u001b[0;32m   1303\u001b[0m         \u001b[0manswer\u001b[0m \u001b[1;33m=\u001b[0m \u001b[0mself\u001b[0m\u001b[1;33m.\u001b[0m\u001b[0mgateway_client\u001b[0m\u001b[1;33m.\u001b[0m\u001b[0msend_command\u001b[0m\u001b[1;33m(\u001b[0m\u001b[0mcommand\u001b[0m\u001b[1;33m)\u001b[0m\u001b[1;33m\u001b[0m\u001b[1;33m\u001b[0m\u001b[0m\n\u001b[1;32m-> 1304\u001b[1;33m         return_value = get_return_value(\n\u001b[0m\u001b[0;32m   1305\u001b[0m             answer, self.gateway_client, self.target_id, self.name)\n\u001b[0;32m   1306\u001b[0m \u001b[1;33m\u001b[0m\u001b[0m\n",
      "\u001b[1;32mC:\\anaconda3\\lib\\site-packages\\pyspark\\sql\\utils.py\u001b[0m in \u001b[0;36mdeco\u001b[1;34m(*a, **kw)\u001b[0m\n\u001b[0;32m    115\u001b[0m                 \u001b[1;31m# Hide where the exception came from that shows a non-Pythonic\u001b[0m\u001b[1;33m\u001b[0m\u001b[1;33m\u001b[0m\u001b[1;33m\u001b[0m\u001b[0m\n\u001b[0;32m    116\u001b[0m                 \u001b[1;31m# JVM exception message.\u001b[0m\u001b[1;33m\u001b[0m\u001b[1;33m\u001b[0m\u001b[1;33m\u001b[0m\u001b[0m\n\u001b[1;32m--> 117\u001b[1;33m                 \u001b[1;32mraise\u001b[0m \u001b[0mconverted\u001b[0m \u001b[1;32mfrom\u001b[0m \u001b[1;32mNone\u001b[0m\u001b[1;33m\u001b[0m\u001b[1;33m\u001b[0m\u001b[0m\n\u001b[0m\u001b[0;32m    118\u001b[0m             \u001b[1;32melse\u001b[0m\u001b[1;33m:\u001b[0m\u001b[1;33m\u001b[0m\u001b[1;33m\u001b[0m\u001b[0m\n\u001b[0;32m    119\u001b[0m                 \u001b[1;32mraise\u001b[0m\u001b[1;33m\u001b[0m\u001b[1;33m\u001b[0m\u001b[0m\n",
      "\u001b[1;31mAnalysisException\u001b[0m: cannot resolve '`probability`' given input columns: [Age, Pclass, Pclass_indexed, Pclass_ohe, Sex, Sex_indexed, Sex_ohe, Survived, features, prediction];\n'Project ['probability]\n+- Project [Survived#0, Pclass#1, Sex#2, Age#159, Sex_indexed#81, Pclass_indexed#82, Sex_ohe#103, Pclass_ohe#104, features#134, UDF(features#134) AS prediction#107989]\n   +- Project [Survived#0, Pclass#1, Sex#2, cast(CASE WHEN isnull(cast(Age#3 as double)) THEN 29.88569105691057 WHEN (cast(Age#3 as double) = NaN) THEN 29.88569105691057 ELSE cast(Age#3 as double) END as double) AS Age#159, Sex_indexed#81, Pclass_indexed#82, Sex_ohe#103, Pclass_ohe#104, features#134]\n      +- Project [Survived#0, Pclass#1, Sex#2, Age#3, Sex_indexed#81, Pclass_indexed#82, Sex_ohe#103, Pclass_ohe#104, UDF(struct(Sex_ohe, Sex_ohe#103, Pclass_ohe, Pclass_ohe#104)) AS features#134]\n         +- Filter AtLeastNNulls(n, Sex_ohe#103,Pclass_ohe#104)\n            +- Project [Survived#0, Pclass#1, Sex#2, Age#3, Sex_indexed#81, Pclass_indexed#82, UDF(cast(Sex_indexed#81 as double), 0) AS Sex_ohe#103, UDF(cast(Pclass_indexed#82 as double), 1) AS Pclass_ohe#104]\n               +- Project [Survived#0, Pclass#1, Sex#2, Age#3, UDF(cast(Sex#2 as string)) AS Sex_indexed#81, UDF(cast(Pclass#1 as string)) AS Pclass_indexed#82]\n                  +- Relation[Survived#0,Pclass#1,Sex#2,Age#3] parquet\n"
     ]
    }
   ],
   "source": [
    "model.train(df_preproc, False, LinearRegression, labelCol='Age', data_split=('cv', {'numFolds': 5, 'param_grid': {'regParam': [0, 1,  57]}, 'evaluator': eva}))\\\n",
    ".predict_proba(df_preproc)"
   ]
  },
  {
   "cell_type": "code",
   "execution_count": 23,
   "id": "c019415e-b30c-4434-947b-d4c62628cce6",
   "metadata": {},
   "outputs": [
    {
     "name": "stdout",
     "output_type": "stream",
     "text": [
      "8\n"
     ]
    }
   ],
   "source": [
    "if {'maxIter': [0, 5]}:\n",
    "    print(8)"
   ]
  },
  {
   "cell_type": "code",
   "execution_count": 18,
   "id": "82f5562f-db73-4513-ae91-52ec522cde70",
   "metadata": {},
   "outputs": [],
   "source": [
    "scaler = SparkScaler('Age', 'zscore')"
   ]
  },
  {
   "cell_type": "code",
   "execution_count": 20,
   "id": "6fec69e1-8fa0-4722-9093-506fdc38aaa3",
   "metadata": {},
   "outputs": [
    {
     "data": {
      "text/plain": [
       "PipelineModel_03a36a953ebe"
      ]
     },
     "execution_count": 20,
     "metadata": {},
     "output_type": "execute_result"
    }
   ],
   "source": [
    "type(scaler.fit(df_train)).load(\"teste\")"
   ]
  },
  {
   "cell_type": "code",
   "execution_count": 166,
   "id": "c1cce4bb-bd80-468f-8143-11f130895e4b",
   "metadata": {},
   "outputs": [
    {
     "data": {
      "text/plain": [
       "DataFrame[Survived: int, Pclass: int, Sex: string, Age: double, zscore_vec: vector, zscore_scaled: vector]"
      ]
     },
     "execution_count": 166,
     "metadata": {},
     "output_type": "execute_result"
    }
   ],
   "source": [
    "PipelineModel.load(\"teste\").transform(df_train)"
   ]
  },
  {
   "cell_type": "code",
   "execution_count": 151,
   "id": "6451d919-e916-42cb-9cdb-d54ca2ebd956",
   "metadata": {},
   "outputs": [
    {
     "data": {
      "text/plain": [
       "[0.8229166666666666, 0.7696078431372549]"
      ]
     },
     "execution_count": 151,
     "metadata": {},
     "output_type": "execute_result"
    }
   ],
   "source": [
    "eva.evaluate(lr.fit(df_preproc).transform(df_preproc))"
   ]
  }
 ],
 "metadata": {
  "kernelspec": {
   "display_name": "Python 3",
   "language": "python",
   "name": "python3"
  },
  "language_info": {
   "codemirror_mode": {
    "name": "ipython",
    "version": 3
   },
   "file_extension": ".py",
   "mimetype": "text/x-python",
   "name": "python",
   "nbconvert_exporter": "python",
   "pygments_lexer": "ipython3",
   "version": "3.8.8"
  }
 },
 "nbformat": 4,
 "nbformat_minor": 5
}
