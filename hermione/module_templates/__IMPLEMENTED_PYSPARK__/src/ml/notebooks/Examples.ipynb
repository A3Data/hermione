{
 "cells": [
  {
   "cell_type": "markdown",
   "id": "87da29da",
   "metadata": {},
   "source": [
    "## Bibliotecas"
   ]
  },
  {
   "cell_type": "code",
   "execution_count": 1,
   "id": "61a765b4",
   "metadata": {},
   "outputs": [],
   "source": [
    "import sys\n",
    "sys.path.append('../../../')"
   ]
  },
  {
   "cell_type": "code",
   "execution_count": 2,
   "id": "94d4b989",
   "metadata": {},
   "outputs": [],
   "source": [
    "## Spark SQL\n",
    "from pyspark.sql import SparkSession\n",
    "import pyspark.sql.functions as f\n",
    "\n",
    "# Spark ML\n",
    "from pyspark.ml.pipeline import Pipeline\n",
    "from pyspark.ml.classification import LogisticRegression, RandomForestClassifier\n",
    "from pyspark.ml.feature import VectorAssembler, StringIndexer, OneHotEncoder\n",
    "from pyspark.ml.evaluation import BinaryClassificationEvaluator, MulticlassClassificationEvaluator, Evaluator\n",
    "from pyspark.ml.util import JavaMLReadable, JavaMLWritable\n",
    "from pyspark.ml.tuning import CrossValidator, ParamGridBuilder"
   ]
  },
  {
   "cell_type": "code",
   "execution_count": 3,
   "id": "760a0568-eed7-425f-8435-0612adc5414c",
   "metadata": {},
   "outputs": [],
   "source": [
    "import mlflow.pyspark.ml"
   ]
  },
  {
   "cell_type": "code",
   "execution_count": 4,
   "id": "c0bce25c",
   "metadata": {},
   "outputs": [],
   "source": [
    "spark = (\n",
    "    SparkSession\n",
    "    .builder\n",
    "    .config(\"spark.serializer\", \"org.apache.spark.serializer.KryoSerializer\")\n",
    "    .config(\"spark.driver.memory\", \"6g\")\n",
    "    .getOrCreate()\n",
    ")"
   ]
  },
  {
   "cell_type": "markdown",
   "id": "02e3306a",
   "metadata": {},
   "source": [
    "## Spark ML"
   ]
  },
  {
   "cell_type": "markdown",
   "id": "8e9cf334",
   "metadata": {},
   "source": [
    "### Binary Classification"
   ]
  },
  {
   "cell_type": "markdown",
   "id": "a69a52b8",
   "metadata": {},
   "source": [
    "#### Data Split"
   ]
  },
  {
   "cell_type": "code",
   "execution_count": 5,
   "id": "ff36c915",
   "metadata": {},
   "outputs": [],
   "source": [
    "df_train = spark.read.parquet('../../../data/raw/raw_train')\n",
    "df_test = spark.read.parquet('../../../data/raw/raw_test')"
   ]
  },
  {
   "cell_type": "markdown",
   "id": "b3cd5492",
   "metadata": {},
   "source": [
    "#### Preprocessing"
   ]
  },
  {
   "cell_type": "code",
   "execution_count": 6,
   "id": "120e209b-f2cf-4262-9b30-2027587bd71c",
   "metadata": {},
   "outputs": [],
   "source": [
    "# df_train = df_train.withColumn(\"Survived\", f.when(f.rand() >= 0.75, 2).otherwise(f.col('Survived')))"
   ]
  },
  {
   "cell_type": "code",
   "execution_count": 7,
   "id": "0165f99c-68fb-4f52-a640-31c7b02f2d5e",
   "metadata": {},
   "outputs": [
    {
     "data": {
      "text/html": [
       "<div>\n",
       "<style scoped>\n",
       "    .dataframe tbody tr th:only-of-type {\n",
       "        vertical-align: middle;\n",
       "    }\n",
       "\n",
       "    .dataframe tbody tr th {\n",
       "        vertical-align: top;\n",
       "    }\n",
       "\n",
       "    .dataframe thead th {\n",
       "        text-align: right;\n",
       "    }\n",
       "</style>\n",
       "<table border=\"1\" class=\"dataframe\">\n",
       "  <thead>\n",
       "    <tr style=\"text-align: right;\">\n",
       "      <th></th>\n",
       "      <th>Survived</th>\n",
       "      <th>count</th>\n",
       "    </tr>\n",
       "  </thead>\n",
       "  <tbody>\n",
       "    <tr>\n",
       "      <th>0</th>\n",
       "      <td>1</td>\n",
       "      <td>244</td>\n",
       "    </tr>\n",
       "    <tr>\n",
       "      <th>1</th>\n",
       "      <td>0</td>\n",
       "      <td>379</td>\n",
       "    </tr>\n",
       "  </tbody>\n",
       "</table>\n",
       "</div>"
      ],
      "text/plain": [
       "   Survived  count\n",
       "0         1    244\n",
       "1         0    379"
      ]
     },
     "execution_count": 7,
     "metadata": {},
     "output_type": "execute_result"
    }
   ],
   "source": [
    "df_train.groupby('Survived').count().toPandas()"
   ]
  },
  {
   "cell_type": "code",
   "execution_count": 12,
   "id": "87f68238",
   "metadata": {},
   "outputs": [],
   "source": [
    "from src.ml.preprocessing.preprocessing import SparkPreprocessor"
   ]
  },
  {
   "cell_type": "code",
   "execution_count": 13,
   "id": "55d8c757",
   "metadata": {},
   "outputs": [],
   "source": [
    "from src.ml.preprocessing.normalization import SparkScaler"
   ]
  },
  {
   "cell_type": "code",
   "execution_count": 14,
   "id": "3488a913",
   "metadata": {},
   "outputs": [],
   "source": [
    "preproc = SparkPreprocessor({'zscore': 'Age'}, ['Sex', 'Pclass'])"
   ]
  },
  {
   "cell_type": "code",
   "execution_count": 15,
   "id": "60247a52",
   "metadata": {},
   "outputs": [
    {
     "name": "stderr",
     "output_type": "stream",
     "text": [
      "INFO:root:Normalizing\n"
     ]
    }
   ],
   "source": [
    "df_preproc = preproc.execute(df_train, )"
   ]
  },
  {
   "cell_type": "markdown",
   "id": "5df52add",
   "metadata": {},
   "source": [
    "#### Model"
   ]
  },
  {
   "cell_type": "code",
   "execution_count": 8,
   "id": "b6b05729",
   "metadata": {},
   "outputs": [
    {
     "name": "stdout",
     "output_type": "stream",
     "text": [
      "Could not import lightgbm, required if using LGBMExplainableModel\n"
     ]
    }
   ],
   "source": [
    "from src.ml.model.trainer import SparkTrainer"
   ]
  },
  {
   "cell_type": "code",
   "execution_count": 9,
   "id": "c060306a-a126-4c5f-b1a4-033136679995",
   "metadata": {},
   "outputs": [],
   "source": [
    "from src.ml.model.metrics import BinaryEvaluator"
   ]
  },
  {
   "cell_type": "code",
   "execution_count": 10,
   "id": "5606709d",
   "metadata": {},
   "outputs": [],
   "source": [
    "model = SparkTrainer()"
   ]
  },
  {
   "cell_type": "code",
   "execution_count": 16,
   "id": "36508dd0",
   "metadata": {},
   "outputs": [
    {
     "name": "stdout",
     "output_type": "stream",
     "text": [
      "41 43\n",
      "32 41\n",
      "41 50\n",
      "32 34\n",
      "41 43\n",
      "32 41\n",
      "41 50\n",
      "32 34\n",
      "1.563720930232558 1.7734883720930232\n",
      "1.4691535150645625 1.721664275466284\n",
      "Confusion Matrix\n",
      "+-------+---+---+\n",
      "|Outcome|  0|  1|\n",
      "+-------+---+---+\n",
      "|      0| 41|  9|\n",
      "|      1|  2| 32|\n",
      "+-------+---+---+\n",
      "\n",
      "\n",
      "Results\n",
      "+------------+-----------+\n",
      "|   Accuracy |   ROC AUC |\n",
      "+============+===========+\n",
      "|   0.869048 |  0.933529 |\n",
      "+------------+-----------+\n",
      "\n",
      "+-----------+-------------+----------+----------+\n",
      "|   Outcome |   Precision |   Recall |       F1 |\n",
      "+===========+=============+==========+==========+\n",
      "|         0 |    0.953488 | 0.82     | 0.88172  |\n",
      "+-----------+-------------+----------+----------+\n",
      "|         1 |    0.780488 | 0.941176 | 0.853333 |\n",
      "+-----------+-------------+----------+----------+\n"
     ]
    },
    {
     "data": {
      "text/plain": [
       "<src.ml.model.wrapper.Wrapper at 0x20185c304c0>"
      ]
     },
     "execution_count": 16,
     "metadata": {},
     "output_type": "execute_result"
    }
   ],
   "source": [
    "model.train(df_preproc, True, LogisticRegression, labelCol='Survived', family='binomial')"
   ]
  },
  {
   "cell_type": "code",
   "execution_count": 17,
   "id": "1d6004d7-0079-4841-a8bb-320974b5f18c",
   "metadata": {},
   "outputs": [],
   "source": [
    "lr = LogisticRegression(labelCol='Survived', family='binomial')"
   ]
  },
  {
   "cell_type": "code",
   "execution_count": 18,
   "id": "5b1b2755-16fa-4a92-92fc-2da4b6996d85",
   "metadata": {},
   "outputs": [],
   "source": [
    "evaluator = BinaryEvaluator('f1', 'Survived', 0)"
   ]
  },
  {
   "cell_type": "code",
   "execution_count": 19,
   "id": "c86c6f20-15a7-46f9-a4e1-0dfd1359071b",
   "metadata": {},
   "outputs": [],
   "source": [
    "grid = ParamGridBuilder().addGrid(lr.maxIter, [0, 1]).build()"
   ]
  },
  {
   "cell_type": "code",
   "execution_count": 20,
   "id": "803a3b61-9ec6-469c-b285-4105e206c4cc",
   "metadata": {},
   "outputs": [],
   "source": [
    "cv = CrossValidator(estimator=lr, estimatorParamMaps=grid, evaluator=evaluator, parallelism=4)"
   ]
  },
  {
   "cell_type": "code",
   "execution_count": null,
   "id": "5bc08318-7cc8-413a-b52c-2ec7a73a5509",
   "metadata": {},
   "outputs": [],
   "source": [
    "cvModel = cv.fit(df_preproc)"
   ]
  },
  {
   "cell_type": "code",
   "execution_count": 25,
   "id": "ed5aa593-faf2-4b44-b584-cacf7e1b1d62",
   "metadata": {},
   "outputs": [
    {
     "data": {
      "text/html": [
       "<div>\n",
       "<style scoped>\n",
       "    .dataframe tbody tr th:only-of-type {\n",
       "        vertical-align: middle;\n",
       "    }\n",
       "\n",
       "    .dataframe tbody tr th {\n",
       "        vertical-align: top;\n",
       "    }\n",
       "\n",
       "    .dataframe thead th {\n",
       "        text-align: right;\n",
       "    }\n",
       "</style>\n",
       "<table border=\"1\" class=\"dataframe\">\n",
       "  <thead>\n",
       "    <tr style=\"text-align: right;\">\n",
       "      <th></th>\n",
       "      <th>Survived</th>\n",
       "      <th>Pclass</th>\n",
       "      <th>Sex</th>\n",
       "      <th>Age</th>\n",
       "      <th>Sex_indexed</th>\n",
       "      <th>Pclass_indexed</th>\n",
       "      <th>Sex_ohe</th>\n",
       "      <th>Pclass_ohe</th>\n",
       "      <th>zscore_vec</th>\n",
       "      <th>zscore_scaled</th>\n",
       "      <th>features</th>\n",
       "      <th>rawPrediction</th>\n",
       "      <th>probability</th>\n",
       "      <th>prediction</th>\n",
       "    </tr>\n",
       "  </thead>\n",
       "  <tbody>\n",
       "    <tr>\n",
       "      <th>0</th>\n",
       "      <td>1</td>\n",
       "      <td>2</td>\n",
       "      <td>female</td>\n",
       "      <td>34.0</td>\n",
       "      <td>1.0</td>\n",
       "      <td>2.0</td>\n",
       "      <td>(0.0, 1.0)</td>\n",
       "      <td>(0.0, 0.0, 1.0)</td>\n",
       "      <td>[34.0]</td>\n",
       "      <td>[2.3748458010440516]</td>\n",
       "      <td>[0.0, 1.0, 0.0, 0.0, 1.0, 2.3748458010440516]</td>\n",
       "      <td>[-0.8692756847271701, 0.8692756847271701]</td>\n",
       "      <td>[0.2954050392916281, 0.7045949607083719]</td>\n",
       "      <td>1.0</td>\n",
       "    </tr>\n",
       "    <tr>\n",
       "      <th>1</th>\n",
       "      <td>1</td>\n",
       "      <td>2</td>\n",
       "      <td>female</td>\n",
       "      <td>31.0</td>\n",
       "      <td>1.0</td>\n",
       "      <td>2.0</td>\n",
       "      <td>(0.0, 1.0)</td>\n",
       "      <td>(0.0, 0.0, 1.0)</td>\n",
       "      <td>[31.0]</td>\n",
       "      <td>[2.1653005833048704]</td>\n",
       "      <td>[0.0, 1.0, 0.0, 0.0, 1.0, 2.1653005833048704]</td>\n",
       "      <td>[-0.8929036886451078, 0.8929036886451078]</td>\n",
       "      <td>[0.29051097168711193, 0.7094890283128881]</td>\n",
       "      <td>1.0</td>\n",
       "    </tr>\n",
       "    <tr>\n",
       "      <th>2</th>\n",
       "      <td>1</td>\n",
       "      <td>1</td>\n",
       "      <td>male</td>\n",
       "      <td>36.0</td>\n",
       "      <td>0.0</td>\n",
       "      <td>1.0</td>\n",
       "      <td>(1.0, 0.0)</td>\n",
       "      <td>(0.0, 1.0, 0.0)</td>\n",
       "      <td>[36.0]</td>\n",
       "      <td>[2.514542612870172]</td>\n",
       "      <td>[1.0, 0.0, 0.0, 1.0, 0.0, 2.514542612870172]</td>\n",
       "      <td>[1.114011700851593, -1.114011700851593]</td>\n",
       "      <td>[0.7528762597670617, 0.24712374023293826]</td>\n",
       "      <td>0.0</td>\n",
       "    </tr>\n",
       "    <tr>\n",
       "      <th>3</th>\n",
       "      <td>1</td>\n",
       "      <td>3</td>\n",
       "      <td>male</td>\n",
       "      <td>29.0</td>\n",
       "      <td>0.0</td>\n",
       "      <td>0.0</td>\n",
       "      <td>(1.0, 0.0)</td>\n",
       "      <td>(1.0, 0.0, 0.0)</td>\n",
       "      <td>[29.0]</td>\n",
       "      <td>[2.0256037714787496]</td>\n",
       "      <td>[1.0, 0.0, 1.0, 0.0, 0.0, 2.0256037714787496]</td>\n",
       "      <td>[2.5200131417374476, -2.5200131417374476]</td>\n",
       "      <td>[0.9255329605899157, 0.07446703941008426]</td>\n",
       "      <td>0.0</td>\n",
       "    </tr>\n",
       "    <tr>\n",
       "      <th>4</th>\n",
       "      <td>0</td>\n",
       "      <td>2</td>\n",
       "      <td>male</td>\n",
       "      <td>18.0</td>\n",
       "      <td>0.0</td>\n",
       "      <td>2.0</td>\n",
       "      <td>(1.0, 0.0)</td>\n",
       "      <td>(0.0, 0.0, 1.0)</td>\n",
       "      <td>[18.0]</td>\n",
       "      <td>[1.257271306435086]</td>\n",
       "      <td>[1.0, 0.0, 0.0, 0.0, 1.0, 1.257271306435086]</td>\n",
       "      <td>[1.5281532911861775, -1.5281532911861775]</td>\n",
       "      <td>[0.8217359579853842, 0.17826404201461576]</td>\n",
       "      <td>0.0</td>\n",
       "    </tr>\n",
       "    <tr>\n",
       "      <th>...</th>\n",
       "      <td>...</td>\n",
       "      <td>...</td>\n",
       "      <td>...</td>\n",
       "      <td>...</td>\n",
       "      <td>...</td>\n",
       "      <td>...</td>\n",
       "      <td>...</td>\n",
       "      <td>...</td>\n",
       "      <td>...</td>\n",
       "      <td>...</td>\n",
       "      <td>...</td>\n",
       "      <td>...</td>\n",
       "      <td>...</td>\n",
       "      <td>...</td>\n",
       "    </tr>\n",
       "    <tr>\n",
       "      <th>487</th>\n",
       "      <td>1</td>\n",
       "      <td>2</td>\n",
       "      <td>female</td>\n",
       "      <td>34.0</td>\n",
       "      <td>1.0</td>\n",
       "      <td>2.0</td>\n",
       "      <td>(0.0, 1.0)</td>\n",
       "      <td>(0.0, 0.0, 1.0)</td>\n",
       "      <td>[34.0]</td>\n",
       "      <td>[2.3748458010440516]</td>\n",
       "      <td>[0.0, 1.0, 0.0, 0.0, 1.0, 2.3748458010440516]</td>\n",
       "      <td>[-0.8692756847271701, 0.8692756847271701]</td>\n",
       "      <td>[0.2954050392916281, 0.7045949607083719]</td>\n",
       "      <td>1.0</td>\n",
       "    </tr>\n",
       "    <tr>\n",
       "      <th>488</th>\n",
       "      <td>1</td>\n",
       "      <td>2</td>\n",
       "      <td>female</td>\n",
       "      <td>30.0</td>\n",
       "      <td>1.0</td>\n",
       "      <td>2.0</td>\n",
       "      <td>(0.0, 1.0)</td>\n",
       "      <td>(0.0, 0.0, 1.0)</td>\n",
       "      <td>[30.0]</td>\n",
       "      <td>[2.09545217739181]</td>\n",
       "      <td>[0.0, 1.0, 0.0, 0.0, 1.0, 2.09545217739181]</td>\n",
       "      <td>[-0.9007796899510871, 0.9007796899510871]</td>\n",
       "      <td>[0.2888902972074874, 0.7111097027925126]</td>\n",
       "      <td>1.0</td>\n",
       "    </tr>\n",
       "    <tr>\n",
       "      <th>489</th>\n",
       "      <td>0</td>\n",
       "      <td>3</td>\n",
       "      <td>male</td>\n",
       "      <td>32.0</td>\n",
       "      <td>0.0</td>\n",
       "      <td>0.0</td>\n",
       "      <td>(1.0, 0.0)</td>\n",
       "      <td>(1.0, 0.0, 0.0)</td>\n",
       "      <td>[32.0]</td>\n",
       "      <td>[2.235148989217931]</td>\n",
       "      <td>[1.0, 0.0, 1.0, 0.0, 0.0, 2.235148989217931]</td>\n",
       "      <td>[2.5436411456553856, -2.5436411456553856]</td>\n",
       "      <td>[0.9271451579408136, 0.07285484205918635]</td>\n",
       "      <td>0.0</td>\n",
       "    </tr>\n",
       "    <tr>\n",
       "      <th>490</th>\n",
       "      <td>0</td>\n",
       "      <td>3</td>\n",
       "      <td>male</td>\n",
       "      <td>30.0</td>\n",
       "      <td>0.0</td>\n",
       "      <td>0.0</td>\n",
       "      <td>(1.0, 0.0)</td>\n",
       "      <td>(1.0, 0.0, 0.0)</td>\n",
       "      <td>[30.0]</td>\n",
       "      <td>[2.09545217739181]</td>\n",
       "      <td>[1.0, 0.0, 1.0, 0.0, 0.0, 2.09545217739181]</td>\n",
       "      <td>[2.527889143043427, -2.527889143043427]</td>\n",
       "      <td>[0.9260739719894621, 0.07392602801053794]</td>\n",
       "      <td>0.0</td>\n",
       "    </tr>\n",
       "    <tr>\n",
       "      <th>491</th>\n",
       "      <td>1</td>\n",
       "      <td>3</td>\n",
       "      <td>male</td>\n",
       "      <td>29.0</td>\n",
       "      <td>0.0</td>\n",
       "      <td>0.0</td>\n",
       "      <td>(1.0, 0.0)</td>\n",
       "      <td>(1.0, 0.0, 0.0)</td>\n",
       "      <td>[29.0]</td>\n",
       "      <td>[2.0256037714787496]</td>\n",
       "      <td>[1.0, 0.0, 1.0, 0.0, 0.0, 2.0256037714787496]</td>\n",
       "      <td>[2.5200131417374476, -2.5200131417374476]</td>\n",
       "      <td>[0.9255329605899157, 0.07446703941008426]</td>\n",
       "      <td>0.0</td>\n",
       "    </tr>\n",
       "  </tbody>\n",
       "</table>\n",
       "<p>492 rows × 14 columns</p>\n",
       "</div>"
      ],
      "text/plain": [
       "     Survived  Pclass     Sex   Age  Sex_indexed  Pclass_indexed     Sex_ohe  \\\n",
       "0           1       2  female  34.0          1.0             2.0  (0.0, 1.0)   \n",
       "1           1       2  female  31.0          1.0             2.0  (0.0, 1.0)   \n",
       "2           1       1    male  36.0          0.0             1.0  (1.0, 0.0)   \n",
       "3           1       3    male  29.0          0.0             0.0  (1.0, 0.0)   \n",
       "4           0       2    male  18.0          0.0             2.0  (1.0, 0.0)   \n",
       "..        ...     ...     ...   ...          ...             ...         ...   \n",
       "487         1       2  female  34.0          1.0             2.0  (0.0, 1.0)   \n",
       "488         1       2  female  30.0          1.0             2.0  (0.0, 1.0)   \n",
       "489         0       3    male  32.0          0.0             0.0  (1.0, 0.0)   \n",
       "490         0       3    male  30.0          0.0             0.0  (1.0, 0.0)   \n",
       "491         1       3    male  29.0          0.0             0.0  (1.0, 0.0)   \n",
       "\n",
       "          Pclass_ohe zscore_vec         zscore_scaled  \\\n",
       "0    (0.0, 0.0, 1.0)     [34.0]  [2.3748458010440516]   \n",
       "1    (0.0, 0.0, 1.0)     [31.0]  [2.1653005833048704]   \n",
       "2    (0.0, 1.0, 0.0)     [36.0]   [2.514542612870172]   \n",
       "3    (1.0, 0.0, 0.0)     [29.0]  [2.0256037714787496]   \n",
       "4    (0.0, 0.0, 1.0)     [18.0]   [1.257271306435086]   \n",
       "..               ...        ...                   ...   \n",
       "487  (0.0, 0.0, 1.0)     [34.0]  [2.3748458010440516]   \n",
       "488  (0.0, 0.0, 1.0)     [30.0]    [2.09545217739181]   \n",
       "489  (1.0, 0.0, 0.0)     [32.0]   [2.235148989217931]   \n",
       "490  (1.0, 0.0, 0.0)     [30.0]    [2.09545217739181]   \n",
       "491  (1.0, 0.0, 0.0)     [29.0]  [2.0256037714787496]   \n",
       "\n",
       "                                          features  \\\n",
       "0    [0.0, 1.0, 0.0, 0.0, 1.0, 2.3748458010440516]   \n",
       "1    [0.0, 1.0, 0.0, 0.0, 1.0, 2.1653005833048704]   \n",
       "2     [1.0, 0.0, 0.0, 1.0, 0.0, 2.514542612870172]   \n",
       "3    [1.0, 0.0, 1.0, 0.0, 0.0, 2.0256037714787496]   \n",
       "4     [1.0, 0.0, 0.0, 0.0, 1.0, 1.257271306435086]   \n",
       "..                                             ...   \n",
       "487  [0.0, 1.0, 0.0, 0.0, 1.0, 2.3748458010440516]   \n",
       "488    [0.0, 1.0, 0.0, 0.0, 1.0, 2.09545217739181]   \n",
       "489   [1.0, 0.0, 1.0, 0.0, 0.0, 2.235148989217931]   \n",
       "490    [1.0, 0.0, 1.0, 0.0, 0.0, 2.09545217739181]   \n",
       "491  [1.0, 0.0, 1.0, 0.0, 0.0, 2.0256037714787496]   \n",
       "\n",
       "                                 rawPrediction  \\\n",
       "0    [-0.8692756847271701, 0.8692756847271701]   \n",
       "1    [-0.8929036886451078, 0.8929036886451078]   \n",
       "2      [1.114011700851593, -1.114011700851593]   \n",
       "3    [2.5200131417374476, -2.5200131417374476]   \n",
       "4    [1.5281532911861775, -1.5281532911861775]   \n",
       "..                                         ...   \n",
       "487  [-0.8692756847271701, 0.8692756847271701]   \n",
       "488  [-0.9007796899510871, 0.9007796899510871]   \n",
       "489  [2.5436411456553856, -2.5436411456553856]   \n",
       "490    [2.527889143043427, -2.527889143043427]   \n",
       "491  [2.5200131417374476, -2.5200131417374476]   \n",
       "\n",
       "                                   probability  prediction  \n",
       "0     [0.2954050392916281, 0.7045949607083719]         1.0  \n",
       "1    [0.29051097168711193, 0.7094890283128881]         1.0  \n",
       "2    [0.7528762597670617, 0.24712374023293826]         0.0  \n",
       "3    [0.9255329605899157, 0.07446703941008426]         0.0  \n",
       "4    [0.8217359579853842, 0.17826404201461576]         0.0  \n",
       "..                                         ...         ...  \n",
       "487   [0.2954050392916281, 0.7045949607083719]         1.0  \n",
       "488   [0.2888902972074874, 0.7111097027925126]         1.0  \n",
       "489  [0.9271451579408136, 0.07285484205918635]         0.0  \n",
       "490  [0.9260739719894621, 0.07392602801053794]         0.0  \n",
       "491  [0.9255329605899157, 0.07446703941008426]         0.0  \n",
       "\n",
       "[492 rows x 14 columns]"
      ]
     },
     "execution_count": 25,
     "metadata": {},
     "output_type": "execute_result"
    }
   ],
   "source": [
    "cvModel.transform(df_preproc).toPandas()"
   ]
  },
  {
   "cell_type": "code",
   "execution_count": 19,
   "id": "e86b3a2b-635b-4fdc-86bf-848060739224",
   "metadata": {},
   "outputs": [
    {
     "data": {
      "text/plain": [
       "[0.8286713286713286, 0.762135922330097]"
      ]
     },
     "execution_count": 19,
     "metadata": {},
     "output_type": "execute_result"
    }
   ],
   "source": [
    "evaluator.evaluate(lr.fit(df_preproc).transform(df_preproc))"
   ]
  },
  {
   "cell_type": "code",
   "execution_count": 95,
   "id": "0b4a9986-f9b4-4fc0-9321-46564439e049",
   "metadata": {},
   "outputs": [],
   "source": [
    "d = {key : {} for key in [1, 2, 3]}"
   ]
  },
  {
   "cell_type": "code",
   "execution_count": 96,
   "id": "4fa326c6-1236-4ac5-8b78-a2c3d857b920",
   "metadata": {},
   "outputs": [
    {
     "data": {
      "text/plain": [
       "{}"
      ]
     },
     "execution_count": 96,
     "metadata": {},
     "output_type": "execute_result"
    }
   ],
   "source": [
    "d[1]"
   ]
  },
  {
   "cell_type": "code",
   "execution_count": null,
   "id": "e9ed432f-9aa3-456c-a247-9692dad90b69",
   "metadata": {},
   "outputs": [],
   "source": []
  }
 ],
 "metadata": {
  "kernelspec": {
   "display_name": "Python 3",
   "language": "python",
   "name": "python3"
  },
  "language_info": {
   "codemirror_mode": {
    "name": "ipython",
    "version": 3
   },
   "file_extension": ".py",
   "mimetype": "text/x-python",
   "name": "python",
   "nbconvert_exporter": "python",
   "pygments_lexer": "ipython3",
   "version": "3.8.8"
  }
 },
 "nbformat": 4,
 "nbformat_minor": 5
}
