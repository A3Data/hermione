{
 "cells": [
  {
   "cell_type": "markdown",
   "id": "87da29da",
   "metadata": {},
   "source": [
    "## Bibliotecas"
   ]
  },
  {
   "cell_type": "code",
   "execution_count": 1,
   "id": "61a765b4",
   "metadata": {},
   "outputs": [],
   "source": [
    "import sys\n",
    "sys.path.append('../../../')"
   ]
  },
  {
   "cell_type": "code",
   "execution_count": 2,
   "id": "94d4b989",
   "metadata": {},
   "outputs": [],
   "source": [
    "## Spark SQL\n",
    "from pyspark.sql import SparkSession\n",
    "import pyspark.sql.functions as f\n",
    "\n",
    "# Spark ML\n",
    "from pyspark.ml.pipeline import Pipeline\n",
    "from pyspark.ml.classification import LogisticRegression\n",
    "from pyspark.ml.feature import VectorAssembler, StringIndexer, OneHotEncoder\n",
    "from pyspark.ml.evaluation import BinaryClassificationEvaluator"
   ]
  },
  {
   "cell_type": "code",
   "execution_count": 3,
   "id": "c0bce25c",
   "metadata": {},
   "outputs": [],
   "source": [
    "spark = (\n",
    "    SparkSession\n",
    "    .builder\n",
    "    .config(\"spark.serializer\", \"org.apache.spark.serializer.KryoSerializer\")\n",
    "    .config(\"spark.driver.memory\", \"6g\")\n",
    "    .getOrCreate()\n",
    ")"
   ]
  },
  {
   "cell_type": "markdown",
   "id": "02e3306a",
   "metadata": {},
   "source": [
    "## Spark ML"
   ]
  },
  {
   "cell_type": "markdown",
   "id": "8e9cf334",
   "metadata": {},
   "source": [
    "### Binary Classification"
   ]
  },
  {
   "cell_type": "markdown",
   "id": "a69a52b8",
   "metadata": {},
   "source": [
    "#### Data Split"
   ]
  },
  {
   "cell_type": "code",
   "execution_count": 4,
   "id": "ff36c915",
   "metadata": {},
   "outputs": [],
   "source": [
    "df_train = spark.read.parquet('../../../data/raw/raw_train')\n",
    "df_test = spark.read.parquet('../../../data/raw/raw_test')"
   ]
  },
  {
   "cell_type": "markdown",
   "id": "b3cd5492",
   "metadata": {},
   "source": [
    "#### Preprocessing"
   ]
  },
  {
   "cell_type": "code",
   "execution_count": 5,
   "id": "87f68238",
   "metadata": {},
   "outputs": [],
   "source": [
    "from src.ml.preprocessing.preprocessing import SparkPreprocessor"
   ]
  },
  {
   "cell_type": "code",
   "execution_count": 6,
   "id": "55d8c757",
   "metadata": {},
   "outputs": [],
   "source": [
    "from src.ml.preprocessing.normalizer import SparkScaler"
   ]
  },
  {
   "cell_type": "code",
   "execution_count": 15,
   "id": "3488a913",
   "metadata": {},
   "outputs": [],
   "source": [
    "preproc = SparkPreprocessor({'zscore': 'Age'}, ['Sex', 'Pclass'])"
   ]
  },
  {
   "cell_type": "code",
   "execution_count": 16,
   "id": "60247a52",
   "metadata": {},
   "outputs": [
    {
     "name": "stderr",
     "output_type": "stream",
     "text": [
      "INFO:root:Normalizing\n"
     ]
    },
    {
     "data": {
      "text/html": [
       "<div>\n",
       "<style scoped>\n",
       "    .dataframe tbody tr th:only-of-type {\n",
       "        vertical-align: middle;\n",
       "    }\n",
       "\n",
       "    .dataframe tbody tr th {\n",
       "        vertical-align: top;\n",
       "    }\n",
       "\n",
       "    .dataframe thead th {\n",
       "        text-align: right;\n",
       "    }\n",
       "</style>\n",
       "<table border=\"1\" class=\"dataframe\">\n",
       "  <thead>\n",
       "    <tr style=\"text-align: right;\">\n",
       "      <th></th>\n",
       "      <th>Survived</th>\n",
       "      <th>Pclass</th>\n",
       "      <th>Sex</th>\n",
       "      <th>Age</th>\n",
       "      <th>Sex_indexed</th>\n",
       "      <th>Pclass_indexed</th>\n",
       "      <th>Sex_ohe</th>\n",
       "      <th>Pclass_ohe</th>\n",
       "      <th>zscore_vec</th>\n",
       "      <th>zscore_scaled</th>\n",
       "      <th>features</th>\n",
       "    </tr>\n",
       "  </thead>\n",
       "  <tbody>\n",
       "    <tr>\n",
       "      <th>0</th>\n",
       "      <td>1</td>\n",
       "      <td>2</td>\n",
       "      <td>female</td>\n",
       "      <td>34.0</td>\n",
       "      <td>1.0</td>\n",
       "      <td>2.0</td>\n",
       "      <td>(0.0, 1.0)</td>\n",
       "      <td>(0.0, 0.0, 1.0)</td>\n",
       "      <td>[34.0]</td>\n",
       "      <td>[2.3748458010440516]</td>\n",
       "      <td>[0.0, 1.0, 0.0, 0.0, 1.0, 2.3748458010440516]</td>\n",
       "    </tr>\n",
       "    <tr>\n",
       "      <th>1</th>\n",
       "      <td>1</td>\n",
       "      <td>2</td>\n",
       "      <td>female</td>\n",
       "      <td>31.0</td>\n",
       "      <td>1.0</td>\n",
       "      <td>2.0</td>\n",
       "      <td>(0.0, 1.0)</td>\n",
       "      <td>(0.0, 0.0, 1.0)</td>\n",
       "      <td>[31.0]</td>\n",
       "      <td>[2.1653005833048704]</td>\n",
       "      <td>[0.0, 1.0, 0.0, 0.0, 1.0, 2.1653005833048704]</td>\n",
       "    </tr>\n",
       "    <tr>\n",
       "      <th>2</th>\n",
       "      <td>1</td>\n",
       "      <td>1</td>\n",
       "      <td>male</td>\n",
       "      <td>36.0</td>\n",
       "      <td>0.0</td>\n",
       "      <td>1.0</td>\n",
       "      <td>(1.0, 0.0)</td>\n",
       "      <td>(0.0, 1.0, 0.0)</td>\n",
       "      <td>[36.0]</td>\n",
       "      <td>[2.514542612870172]</td>\n",
       "      <td>[1.0, 0.0, 0.0, 1.0, 0.0, 2.514542612870172]</td>\n",
       "    </tr>\n",
       "    <tr>\n",
       "      <th>3</th>\n",
       "      <td>1</td>\n",
       "      <td>3</td>\n",
       "      <td>male</td>\n",
       "      <td>29.0</td>\n",
       "      <td>0.0</td>\n",
       "      <td>0.0</td>\n",
       "      <td>(1.0, 0.0)</td>\n",
       "      <td>(1.0, 0.0, 0.0)</td>\n",
       "      <td>[29.0]</td>\n",
       "      <td>[2.0256037714787496]</td>\n",
       "      <td>[1.0, 0.0, 1.0, 0.0, 0.0, 2.0256037714787496]</td>\n",
       "    </tr>\n",
       "    <tr>\n",
       "      <th>4</th>\n",
       "      <td>0</td>\n",
       "      <td>2</td>\n",
       "      <td>male</td>\n",
       "      <td>18.0</td>\n",
       "      <td>0.0</td>\n",
       "      <td>2.0</td>\n",
       "      <td>(1.0, 0.0)</td>\n",
       "      <td>(0.0, 0.0, 1.0)</td>\n",
       "      <td>[18.0]</td>\n",
       "      <td>[1.257271306435086]</td>\n",
       "      <td>[1.0, 0.0, 0.0, 0.0, 1.0, 1.257271306435086]</td>\n",
       "    </tr>\n",
       "    <tr>\n",
       "      <th>...</th>\n",
       "      <td>...</td>\n",
       "      <td>...</td>\n",
       "      <td>...</td>\n",
       "      <td>...</td>\n",
       "      <td>...</td>\n",
       "      <td>...</td>\n",
       "      <td>...</td>\n",
       "      <td>...</td>\n",
       "      <td>...</td>\n",
       "      <td>...</td>\n",
       "      <td>...</td>\n",
       "    </tr>\n",
       "    <tr>\n",
       "      <th>487</th>\n",
       "      <td>1</td>\n",
       "      <td>2</td>\n",
       "      <td>female</td>\n",
       "      <td>34.0</td>\n",
       "      <td>1.0</td>\n",
       "      <td>2.0</td>\n",
       "      <td>(0.0, 1.0)</td>\n",
       "      <td>(0.0, 0.0, 1.0)</td>\n",
       "      <td>[34.0]</td>\n",
       "      <td>[2.3748458010440516]</td>\n",
       "      <td>[0.0, 1.0, 0.0, 0.0, 1.0, 2.3748458010440516]</td>\n",
       "    </tr>\n",
       "    <tr>\n",
       "      <th>488</th>\n",
       "      <td>1</td>\n",
       "      <td>2</td>\n",
       "      <td>female</td>\n",
       "      <td>30.0</td>\n",
       "      <td>1.0</td>\n",
       "      <td>2.0</td>\n",
       "      <td>(0.0, 1.0)</td>\n",
       "      <td>(0.0, 0.0, 1.0)</td>\n",
       "      <td>[30.0]</td>\n",
       "      <td>[2.09545217739181]</td>\n",
       "      <td>[0.0, 1.0, 0.0, 0.0, 1.0, 2.09545217739181]</td>\n",
       "    </tr>\n",
       "    <tr>\n",
       "      <th>489</th>\n",
       "      <td>0</td>\n",
       "      <td>3</td>\n",
       "      <td>male</td>\n",
       "      <td>32.0</td>\n",
       "      <td>0.0</td>\n",
       "      <td>0.0</td>\n",
       "      <td>(1.0, 0.0)</td>\n",
       "      <td>(1.0, 0.0, 0.0)</td>\n",
       "      <td>[32.0]</td>\n",
       "      <td>[2.235148989217931]</td>\n",
       "      <td>[1.0, 0.0, 1.0, 0.0, 0.0, 2.235148989217931]</td>\n",
       "    </tr>\n",
       "    <tr>\n",
       "      <th>490</th>\n",
       "      <td>0</td>\n",
       "      <td>3</td>\n",
       "      <td>male</td>\n",
       "      <td>30.0</td>\n",
       "      <td>0.0</td>\n",
       "      <td>0.0</td>\n",
       "      <td>(1.0, 0.0)</td>\n",
       "      <td>(1.0, 0.0, 0.0)</td>\n",
       "      <td>[30.0]</td>\n",
       "      <td>[2.09545217739181]</td>\n",
       "      <td>[1.0, 0.0, 1.0, 0.0, 0.0, 2.09545217739181]</td>\n",
       "    </tr>\n",
       "    <tr>\n",
       "      <th>491</th>\n",
       "      <td>1</td>\n",
       "      <td>3</td>\n",
       "      <td>male</td>\n",
       "      <td>29.0</td>\n",
       "      <td>0.0</td>\n",
       "      <td>0.0</td>\n",
       "      <td>(1.0, 0.0)</td>\n",
       "      <td>(1.0, 0.0, 0.0)</td>\n",
       "      <td>[29.0]</td>\n",
       "      <td>[2.0256037714787496]</td>\n",
       "      <td>[1.0, 0.0, 1.0, 0.0, 0.0, 2.0256037714787496]</td>\n",
       "    </tr>\n",
       "  </tbody>\n",
       "</table>\n",
       "<p>492 rows × 11 columns</p>\n",
       "</div>"
      ],
      "text/plain": [
       "     Survived  Pclass     Sex   Age  Sex_indexed  Pclass_indexed     Sex_ohe  \\\n",
       "0           1       2  female  34.0          1.0             2.0  (0.0, 1.0)   \n",
       "1           1       2  female  31.0          1.0             2.0  (0.0, 1.0)   \n",
       "2           1       1    male  36.0          0.0             1.0  (1.0, 0.0)   \n",
       "3           1       3    male  29.0          0.0             0.0  (1.0, 0.0)   \n",
       "4           0       2    male  18.0          0.0             2.0  (1.0, 0.0)   \n",
       "..        ...     ...     ...   ...          ...             ...         ...   \n",
       "487         1       2  female  34.0          1.0             2.0  (0.0, 1.0)   \n",
       "488         1       2  female  30.0          1.0             2.0  (0.0, 1.0)   \n",
       "489         0       3    male  32.0          0.0             0.0  (1.0, 0.0)   \n",
       "490         0       3    male  30.0          0.0             0.0  (1.0, 0.0)   \n",
       "491         1       3    male  29.0          0.0             0.0  (1.0, 0.0)   \n",
       "\n",
       "          Pclass_ohe zscore_vec         zscore_scaled  \\\n",
       "0    (0.0, 0.0, 1.0)     [34.0]  [2.3748458010440516]   \n",
       "1    (0.0, 0.0, 1.0)     [31.0]  [2.1653005833048704]   \n",
       "2    (0.0, 1.0, 0.0)     [36.0]   [2.514542612870172]   \n",
       "3    (1.0, 0.0, 0.0)     [29.0]  [2.0256037714787496]   \n",
       "4    (0.0, 0.0, 1.0)     [18.0]   [1.257271306435086]   \n",
       "..               ...        ...                   ...   \n",
       "487  (0.0, 0.0, 1.0)     [34.0]  [2.3748458010440516]   \n",
       "488  (0.0, 0.0, 1.0)     [30.0]    [2.09545217739181]   \n",
       "489  (1.0, 0.0, 0.0)     [32.0]   [2.235148989217931]   \n",
       "490  (1.0, 0.0, 0.0)     [30.0]    [2.09545217739181]   \n",
       "491  (1.0, 0.0, 0.0)     [29.0]  [2.0256037714787496]   \n",
       "\n",
       "                                          features  \n",
       "0    [0.0, 1.0, 0.0, 0.0, 1.0, 2.3748458010440516]  \n",
       "1    [0.0, 1.0, 0.0, 0.0, 1.0, 2.1653005833048704]  \n",
       "2     [1.0, 0.0, 0.0, 1.0, 0.0, 2.514542612870172]  \n",
       "3    [1.0, 0.0, 1.0, 0.0, 0.0, 2.0256037714787496]  \n",
       "4     [1.0, 0.0, 0.0, 0.0, 1.0, 1.257271306435086]  \n",
       "..                                             ...  \n",
       "487  [0.0, 1.0, 0.0, 0.0, 1.0, 2.3748458010440516]  \n",
       "488    [0.0, 1.0, 0.0, 0.0, 1.0, 2.09545217739181]  \n",
       "489   [1.0, 0.0, 1.0, 0.0, 0.0, 2.235148989217931]  \n",
       "490    [1.0, 0.0, 1.0, 0.0, 0.0, 2.09545217739181]  \n",
       "491  [1.0, 0.0, 1.0, 0.0, 0.0, 2.0256037714787496]  \n",
       "\n",
       "[492 rows x 11 columns]"
      ]
     },
     "execution_count": 16,
     "metadata": {},
     "output_type": "execute_result"
    }
   ],
   "source": [
    "df_preproc = preproc.execute(df_train, )"
   ]
  },
  {
   "cell_type": "markdown",
   "id": "5df52add",
   "metadata": {},
   "source": [
    "#### Model"
   ]
  },
  {
   "cell_type": "code",
   "execution_count": 17,
   "id": "b6b05729",
   "metadata": {},
   "outputs": [
    {
     "name": "stdout",
     "output_type": "stream",
     "text": [
      "Could not import lightgbm, required if using LGBMExplainableModel\n"
     ]
    }
   ],
   "source": [
    "from src.ml.model.trainer import SparkTrainer"
   ]
  },
  {
   "cell_type": "code",
   "execution_count": 11,
   "id": "5606709d",
   "metadata": {},
   "outputs": [],
   "source": [
    "model = SparkTrainer()"
   ]
  },
  {
   "cell_type": "code",
   "execution_count": 12,
   "id": "36508dd0",
   "metadata": {},
   "outputs": [
    {
     "name": "stdout",
     "output_type": "stream",
     "text": [
      "Confusion Matrix\n",
      "+-------+---+---+\n",
      "|Outcome|  0|  1|\n",
      "+-------+---+---+\n",
      "|      0| 42|  8|\n",
      "|      1|  3| 31|\n",
      "+-------+---+---+\n",
      "\n",
      "\n",
      "Results\n",
      "+------------+-----------+\n",
      "|   Accuracy |   ROC AUC |\n",
      "+============+===========+\n",
      "|    3.31818 |  0.934118 |\n",
      "+------------+-----------+\n",
      "\n",
      "+-----------+-------------+----------+----------+\n",
      "|   Outcome |   Precision |   Recall |       F1 |\n",
      "+===========+=============+==========+==========+\n",
      "|         0 |    0.933333 | 0.84     | 0.884211 |\n",
      "+-----------+-------------+----------+----------+\n",
      "|         1 |    0.794872 | 0.911765 | 0.849315 |\n",
      "+-----------+-------------+----------+----------+\n"
     ]
    },
    {
     "ename": "TypeError",
     "evalue": "__init__() takes from 1 to 4 positional arguments but 5 were given",
     "output_type": "error",
     "traceback": [
      "\u001b[1;31m---------------------------------------------------------------------------\u001b[0m",
      "\u001b[1;31mTypeError\u001b[0m                                 Traceback (most recent call last)",
      "\u001b[1;32m<ipython-input-12-e8327b57bb00>\u001b[0m in \u001b[0;36m<module>\u001b[1;34m\u001b[0m\n\u001b[1;32m----> 1\u001b[1;33m \u001b[0mmodel\u001b[0m\u001b[1;33m.\u001b[0m\u001b[0mtrain\u001b[0m\u001b[1;33m(\u001b[0m\u001b[0mdf_train_preproc\u001b[0m\u001b[1;33m,\u001b[0m \u001b[1;32mTrue\u001b[0m\u001b[1;33m,\u001b[0m \u001b[0mLogisticRegression\u001b[0m\u001b[1;33m,\u001b[0m \u001b[0mlabelCol\u001b[0m\u001b[1;33m=\u001b[0m\u001b[1;34m'Survived'\u001b[0m\u001b[1;33m,\u001b[0m \u001b[0mfamily\u001b[0m\u001b[1;33m=\u001b[0m\u001b[1;34m'binomial'\u001b[0m\u001b[1;33m)\u001b[0m\u001b[1;33m\u001b[0m\u001b[1;33m\u001b[0m\u001b[0m\n\u001b[0m",
      "\u001b[1;32m~\\Documents\\projects\\hermione\\hermione\\module_templates\\__IMPLEMENTED_PYSPARK__\\src\\ml\\model\\trainer.py\u001b[0m in \u001b[0;36mtrain\u001b[1;34m(self, df, classification, algorithm, preprocessing, data_split, **params)\u001b[0m\n\u001b[0;32m    101\u001b[0m                     \u001b[0mres_metrics\u001b[0m \u001b[1;33m=\u001b[0m \u001b[0mMetrics\u001b[0m\u001b[1;33m.\u001b[0m\u001b[0mregression\u001b[0m\u001b[1;33m(\u001b[0m\u001b[0mnp\u001b[0m\u001b[1;33m.\u001b[0m\u001b[0marray\u001b[0m\u001b[1;33m(\u001b[0m\u001b[0my_true\u001b[0m\u001b[1;33m)\u001b[0m\u001b[1;33m,\u001b[0m \u001b[0mnp\u001b[0m\u001b[1;33m.\u001b[0m\u001b[0marray\u001b[0m\u001b[1;33m(\u001b[0m\u001b[0my_pred\u001b[0m\u001b[1;33m)\u001b[0m\u001b[1;33m)\u001b[0m\u001b[1;33m\u001b[0m\u001b[1;33m\u001b[0m\u001b[0m\n\u001b[0;32m    102\u001b[0m             \u001b[0mmodel\u001b[0m\u001b[1;33m.\u001b[0m\u001b[0mfit\u001b[0m\u001b[1;33m(\u001b[0m\u001b[0mX\u001b[0m\u001b[1;33m,\u001b[0m\u001b[0my\u001b[0m\u001b[1;33m)\u001b[0m\u001b[1;33m\u001b[0m\u001b[1;33m\u001b[0m\u001b[0m\n\u001b[1;32m--> 103\u001b[1;33m         \u001b[0mmodel\u001b[0m \u001b[1;33m=\u001b[0m \u001b[0mWrapper\u001b[0m\u001b[1;33m(\u001b[0m\u001b[0mmodel\u001b[0m\u001b[1;33m,\u001b[0m \u001b[0mpreprocessing\u001b[0m\u001b[1;33m,\u001b[0m \u001b[0mres_metrics\u001b[0m\u001b[1;33m,\u001b[0m \u001b[0mcolumns\u001b[0m\u001b[1;33m)\u001b[0m\u001b[1;33m\u001b[0m\u001b[1;33m\u001b[0m\u001b[0m\n\u001b[0m\u001b[0;32m    104\u001b[0m         \u001b[1;32mif\u001b[0m \u001b[0mclassification\u001b[0m\u001b[1;33m:\u001b[0m\u001b[1;33m\u001b[0m\u001b[1;33m\u001b[0m\u001b[0m\n\u001b[0;32m    105\u001b[0m             \u001b[0mmodel\u001b[0m\u001b[1;33m.\u001b[0m\u001b[0mtrain_interpret\u001b[0m\u001b[1;33m(\u001b[0m\u001b[0mX\u001b[0m\u001b[1;33m)\u001b[0m\u001b[1;33m\u001b[0m\u001b[1;33m\u001b[0m\u001b[0m\n",
      "\u001b[1;31mTypeError\u001b[0m: __init__() takes from 1 to 4 positional arguments but 5 were given"
     ]
    }
   ],
   "source": [
    "model.train(df_train_preproc, True, LogisticRegression, labelCol='Survived', family='binomial')"
   ]
  },
  {
   "cell_type": "code",
   "execution_count": null,
   "id": "d59f2b95",
   "metadata": {},
   "outputs": [],
   "source": []
  }
 ],
 "metadata": {
  "kernelspec": {
   "display_name": "Python 3",
   "language": "python",
   "name": "python3"
  },
  "language_info": {
   "codemirror_mode": {
    "name": "ipython",
    "version": 3
   },
   "file_extension": ".py",
   "mimetype": "text/x-python",
   "name": "python",
   "nbconvert_exporter": "python",
   "pygments_lexer": "ipython3",
   "version": "3.8.8"
  }
 },
 "nbformat": 4,
 "nbformat_minor": 5
}
