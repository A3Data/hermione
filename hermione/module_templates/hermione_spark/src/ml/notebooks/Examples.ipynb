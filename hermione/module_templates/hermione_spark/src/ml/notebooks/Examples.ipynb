{
 "cells": [
  {
   "cell_type": "markdown",
   "id": "87da29da",
   "metadata": {},
   "source": [
    "## Bibliotecas"
   ]
  },
  {
   "cell_type": "code",
   "execution_count": 1,
   "id": "61a765b4",
   "metadata": {},
   "outputs": [],
   "source": [
    "import sys\n",
    "sys.path.append('..\\\\..\\\\..\\\\')"
   ]
  },
  {
   "cell_type": "code",
   "execution_count": 2,
   "id": "94d4b989",
   "metadata": {},
   "outputs": [],
   "source": [
    "## Spark SQL\n",
    "from pyspark.sql import SparkSession\n",
    "import pyspark.sql.functions as f\n",
    "\n",
    "# Spark ML\n",
    "from src.hermione_spark.data_source import SparkSpreadsheet, SparkCleaner\n",
    "from src.hermione_spark.preprocessing import SparkPreprocessor, SparkScaler, SparkVectorizer\n",
    "from src.hermione_spark.model import *\n",
    "from src.hermione_spark.analysis import SparkPCA, SparkCluster, SparkFS"
   ]
  },
  {
   "cell_type": "code",
   "execution_count": 3,
   "id": "760a0568-eed7-425f-8435-0612adc5414c",
   "metadata": {},
   "outputs": [],
   "source": [
    "import mlflow.pyspark.ml"
   ]
  },
  {
   "cell_type": "code",
   "execution_count": 4,
   "id": "c0bce25c",
   "metadata": {},
   "outputs": [],
   "source": [
    "spark = (\n",
    "    SparkSession\n",
    "    .builder\n",
    "    .config(\"spark.serializer\", \"org.apache.spark.serializer.KryoSerializer\")\n",
    "    .config(\"spark.driver.memory\", \"6g\")\n",
    "    .getOrCreate()\n",
    ")"
   ]
  },
  {
   "cell_type": "markdown",
   "id": "c1d59721-ac15-4c4f-9b9e-3bf8d2d81caf",
   "metadata": {},
   "source": [
    "## Reading Data"
   ]
  },
  {
   "cell_type": "code",
   "execution_count": 5,
   "id": "11fd2fe2-7faa-4eef-8043-d082e6fe1f69",
   "metadata": {},
   "outputs": [],
   "source": [
    "ss_source = Spreadsheet(spark)"
   ]
  },
  {
   "cell_type": "code",
   "execution_count": 6,
   "id": "bc864cbe-0fbb-477c-9679-ee1ca27ffe2f",
   "metadata": {},
   "outputs": [],
   "source": [
    "df_train = ss_source.get_data('../../../data/raw/raw_train', 'parquet')\n",
    "df_test = ss_source.get_data('../../../data/raw/raw_test', 'parquet', )"
   ]
  },
  {
   "cell_type": "code",
   "execution_count": 7,
   "id": "e41e1ff0-24ab-4212-992a-d8eb4c936cfd",
   "metadata": {},
   "outputs": [
    {
     "data": {
      "text/html": [
       "<div>\n",
       "<style scoped>\n",
       "    .dataframe tbody tr th:only-of-type {\n",
       "        vertical-align: middle;\n",
       "    }\n",
       "\n",
       "    .dataframe tbody tr th {\n",
       "        vertical-align: top;\n",
       "    }\n",
       "\n",
       "    .dataframe thead th {\n",
       "        text-align: right;\n",
       "    }\n",
       "</style>\n",
       "<table border=\"1\" class=\"dataframe\">\n",
       "  <thead>\n",
       "    <tr style=\"text-align: right;\">\n",
       "      <th></th>\n",
       "      <th>Survived</th>\n",
       "      <th>Pclass</th>\n",
       "      <th>Sex</th>\n",
       "      <th>Age</th>\n",
       "    </tr>\n",
       "  </thead>\n",
       "  <tbody>\n",
       "    <tr>\n",
       "      <th>0</th>\n",
       "      <td>1</td>\n",
       "      <td>2</td>\n",
       "      <td>female</td>\n",
       "      <td>34.0</td>\n",
       "    </tr>\n",
       "    <tr>\n",
       "      <th>1</th>\n",
       "      <td>1</td>\n",
       "      <td>2</td>\n",
       "      <td>female</td>\n",
       "      <td>31.0</td>\n",
       "    </tr>\n",
       "    <tr>\n",
       "      <th>2</th>\n",
       "      <td>1</td>\n",
       "      <td>1</td>\n",
       "      <td>male</td>\n",
       "      <td>36.0</td>\n",
       "    </tr>\n",
       "    <tr>\n",
       "      <th>3</th>\n",
       "      <td>1</td>\n",
       "      <td>3</td>\n",
       "      <td>male</td>\n",
       "      <td>29.0</td>\n",
       "    </tr>\n",
       "    <tr>\n",
       "      <th>4</th>\n",
       "      <td>0</td>\n",
       "      <td>2</td>\n",
       "      <td>male</td>\n",
       "      <td>18.0</td>\n",
       "    </tr>\n",
       "  </tbody>\n",
       "</table>\n",
       "</div>"
      ],
      "text/plain": [
       "   Survived  Pclass     Sex   Age\n",
       "0         1       2  female  34.0\n",
       "1         1       2  female  31.0\n",
       "2         1       1    male  36.0\n",
       "3         1       3    male  29.0\n",
       "4         0       2    male  18.0"
      ]
     },
     "execution_count": 7,
     "metadata": {},
     "output_type": "execute_result"
    }
   ],
   "source": [
    "df_train.limit(5).toPandas()"
   ]
  },
  {
   "cell_type": "code",
   "execution_count": 8,
   "id": "93c72f25-8e20-4e60-a856-0e3dcdf4c83c",
   "metadata": {},
   "outputs": [
    {
     "name": "stdout",
     "output_type": "stream",
     "text": [
      "root\n",
      " |-- Survived: integer (nullable = true)\n",
      " |-- Pclass: integer (nullable = true)\n",
      " |-- Sex: string (nullable = true)\n",
      " |-- Age: double (nullable = true)\n",
      "\n"
     ]
    }
   ],
   "source": [
    "df_train.printSchema()"
   ]
  },
  {
   "cell_type": "markdown",
   "id": "eeca8a7e-ebf3-4e98-942a-b2126dc316e5",
   "metadata": {},
   "source": [
    "## Cleaning Data"
   ]
  },
  {
   "cell_type": "code",
   "execution_count": 9,
   "id": "e00ecf5f-3ce3-4912-a323-e884765a70bd",
   "metadata": {},
   "outputs": [],
   "source": [
    "cleaner = SparkCleaner(spark)"
   ]
  },
  {
   "cell_type": "code",
   "execution_count": 10,
   "id": "713245c2-a32e-4e31-8c61-49ad5e559048",
   "metadata": {},
   "outputs": [],
   "source": [
    "cleaner.clean()"
   ]
  },
  {
   "cell_type": "code",
   "execution_count": 11,
   "id": "ac57746d-595a-48bf-8c93-66f270b27c24",
   "metadata": {},
   "outputs": [
    {
     "data": {
      "text/html": [
       "<div>\n",
       "<style scoped>\n",
       "    .dataframe tbody tr th:only-of-type {\n",
       "        vertical-align: middle;\n",
       "    }\n",
       "\n",
       "    .dataframe tbody tr th {\n",
       "        vertical-align: top;\n",
       "    }\n",
       "\n",
       "    .dataframe thead th {\n",
       "        text-align: right;\n",
       "    }\n",
       "</style>\n",
       "<table border=\"1\" class=\"dataframe\">\n",
       "  <thead>\n",
       "    <tr style=\"text-align: right;\">\n",
       "      <th></th>\n",
       "      <th>Survived</th>\n",
       "      <th>Pclass</th>\n",
       "      <th>Sex</th>\n",
       "      <th>Age</th>\n",
       "    </tr>\n",
       "  </thead>\n",
       "  <tbody>\n",
       "    <tr>\n",
       "      <th>0</th>\n",
       "      <td>1</td>\n",
       "      <td>2</td>\n",
       "      <td>Female</td>\n",
       "      <td>34</td>\n",
       "    </tr>\n",
       "    <tr>\n",
       "      <th>1</th>\n",
       "      <td>1</td>\n",
       "      <td>2</td>\n",
       "      <td>Female</td>\n",
       "      <td>31</td>\n",
       "    </tr>\n",
       "    <tr>\n",
       "      <th>2</th>\n",
       "      <td>1</td>\n",
       "      <td>1</td>\n",
       "      <td>Male</td>\n",
       "      <td>36</td>\n",
       "    </tr>\n",
       "    <tr>\n",
       "      <th>3</th>\n",
       "      <td>1</td>\n",
       "      <td>3</td>\n",
       "      <td>Male</td>\n",
       "      <td>29</td>\n",
       "    </tr>\n",
       "    <tr>\n",
       "      <th>4</th>\n",
       "      <td>0</td>\n",
       "      <td>2</td>\n",
       "      <td>Male</td>\n",
       "      <td>18</td>\n",
       "    </tr>\n",
       "  </tbody>\n",
       "</table>\n",
       "</div>"
      ],
      "text/plain": [
       "   Survived  Pclass     Sex  Age\n",
       "0         1       2  Female   34\n",
       "1         1       2  Female   31\n",
       "2         1       1    Male   36\n",
       "3         1       3    Male   29\n",
       "4         0       2    Male   18"
      ]
     },
     "execution_count": 11,
     "metadata": {},
     "output_type": "execute_result"
    }
   ],
   "source": [
    "ss_source.get_data('teste', 'parquet').limit(5).toPandas()"
   ]
  },
  {
   "cell_type": "code",
   "execution_count": 12,
   "id": "6d74052d-cd5d-445a-abd2-84a43e6038d7",
   "metadata": {},
   "outputs": [
    {
     "name": "stdout",
     "output_type": "stream",
     "text": [
      "root\n",
      " |-- Survived: integer (nullable = true)\n",
      " |-- Pclass: integer (nullable = true)\n",
      " |-- Sex: string (nullable = true)\n",
      " |-- Age: integer (nullable = true)\n",
      "\n"
     ]
    }
   ],
   "source": [
    "ss_source.get_data('teste', 'parquet').printSchema()"
   ]
  },
  {
   "cell_type": "markdown",
   "id": "e4c21ea3-e149-4aa5-9fd3-fad9863f6c49",
   "metadata": {},
   "source": [
    "## Preprocessing"
   ]
  },
  {
   "cell_type": "markdown",
   "id": "5b8aee86-c838-4936-bd2e-07a9705a7817",
   "metadata": {},
   "source": [
    "### Scaling"
   ]
  },
  {
   "cell_type": "code",
   "execution_count": 13,
   "id": "56ae4398-3123-43c8-a217-01569085f7d3",
   "metadata": {},
   "outputs": [],
   "source": [
    "scaler = SparkScaler({'min_max': 'Age',})"
   ]
  },
  {
   "cell_type": "code",
   "execution_count": 14,
   "id": "a22f26c1-fb97-4ed9-a416-b90924de44c4",
   "metadata": {},
   "outputs": [
    {
     "data": {
      "text/plain": [
       "<class 'src.ml.preprocessing.normalization.SparkScaler'>"
      ]
     },
     "execution_count": 14,
     "metadata": {},
     "output_type": "execute_result"
    }
   ],
   "source": [
    "scaler.fit(df_train)"
   ]
  },
  {
   "cell_type": "code",
   "execution_count": 15,
   "id": "d8681d6b-e318-4ba8-a3c4-cd04cc697618",
   "metadata": {},
   "outputs": [
    {
     "data": {
      "text/html": [
       "<div>\n",
       "<style scoped>\n",
       "    .dataframe tbody tr th:only-of-type {\n",
       "        vertical-align: middle;\n",
       "    }\n",
       "\n",
       "    .dataframe tbody tr th {\n",
       "        vertical-align: top;\n",
       "    }\n",
       "\n",
       "    .dataframe thead th {\n",
       "        text-align: right;\n",
       "    }\n",
       "</style>\n",
       "<table border=\"1\" class=\"dataframe\">\n",
       "  <thead>\n",
       "    <tr style=\"text-align: right;\">\n",
       "      <th></th>\n",
       "      <th>Survived</th>\n",
       "      <th>Pclass</th>\n",
       "      <th>Sex</th>\n",
       "      <th>Age</th>\n",
       "      <th>min_max_scaled</th>\n",
       "    </tr>\n",
       "  </thead>\n",
       "  <tbody>\n",
       "    <tr>\n",
       "      <th>0</th>\n",
       "      <td>1</td>\n",
       "      <td>2</td>\n",
       "      <td>female</td>\n",
       "      <td>34.0</td>\n",
       "      <td>[0.4219653179190751]</td>\n",
       "    </tr>\n",
       "    <tr>\n",
       "      <th>1</th>\n",
       "      <td>1</td>\n",
       "      <td>2</td>\n",
       "      <td>female</td>\n",
       "      <td>31.0</td>\n",
       "      <td>[0.38426740387031916]</td>\n",
       "    </tr>\n",
       "    <tr>\n",
       "      <th>2</th>\n",
       "      <td>1</td>\n",
       "      <td>1</td>\n",
       "      <td>male</td>\n",
       "      <td>36.0</td>\n",
       "      <td>[0.4470972606182458]</td>\n",
       "    </tr>\n",
       "    <tr>\n",
       "      <th>3</th>\n",
       "      <td>1</td>\n",
       "      <td>3</td>\n",
       "      <td>male</td>\n",
       "      <td>29.0</td>\n",
       "      <td>[0.35913546117114853]</td>\n",
       "    </tr>\n",
       "    <tr>\n",
       "      <th>4</th>\n",
       "      <td>0</td>\n",
       "      <td>2</td>\n",
       "      <td>male</td>\n",
       "      <td>18.0</td>\n",
       "      <td>[0.22090977632570996]</td>\n",
       "    </tr>\n",
       "    <tr>\n",
       "      <th>...</th>\n",
       "      <td>...</td>\n",
       "      <td>...</td>\n",
       "      <td>...</td>\n",
       "      <td>...</td>\n",
       "      <td>...</td>\n",
       "    </tr>\n",
       "    <tr>\n",
       "      <th>487</th>\n",
       "      <td>1</td>\n",
       "      <td>2</td>\n",
       "      <td>female</td>\n",
       "      <td>34.0</td>\n",
       "      <td>[0.4219653179190751]</td>\n",
       "    </tr>\n",
       "    <tr>\n",
       "      <th>488</th>\n",
       "      <td>1</td>\n",
       "      <td>2</td>\n",
       "      <td>female</td>\n",
       "      <td>30.0</td>\n",
       "      <td>[0.37170143252073384]</td>\n",
       "    </tr>\n",
       "    <tr>\n",
       "      <th>489</th>\n",
       "      <td>0</td>\n",
       "      <td>3</td>\n",
       "      <td>male</td>\n",
       "      <td>32.0</td>\n",
       "      <td>[0.39683337521990447]</td>\n",
       "    </tr>\n",
       "    <tr>\n",
       "      <th>490</th>\n",
       "      <td>0</td>\n",
       "      <td>3</td>\n",
       "      <td>male</td>\n",
       "      <td>30.0</td>\n",
       "      <td>[0.37170143252073384]</td>\n",
       "    </tr>\n",
       "    <tr>\n",
       "      <th>491</th>\n",
       "      <td>1</td>\n",
       "      <td>3</td>\n",
       "      <td>male</td>\n",
       "      <td>29.0</td>\n",
       "      <td>[0.35913546117114853]</td>\n",
       "    </tr>\n",
       "  </tbody>\n",
       "</table>\n",
       "<p>492 rows × 5 columns</p>\n",
       "</div>"
      ],
      "text/plain": [
       "     Survived  Pclass     Sex   Age         min_max_scaled\n",
       "0           1       2  female  34.0   [0.4219653179190751]\n",
       "1           1       2  female  31.0  [0.38426740387031916]\n",
       "2           1       1    male  36.0   [0.4470972606182458]\n",
       "3           1       3    male  29.0  [0.35913546117114853]\n",
       "4           0       2    male  18.0  [0.22090977632570996]\n",
       "..        ...     ...     ...   ...                    ...\n",
       "487         1       2  female  34.0   [0.4219653179190751]\n",
       "488         1       2  female  30.0  [0.37170143252073384]\n",
       "489         0       3    male  32.0  [0.39683337521990447]\n",
       "490         0       3    male  30.0  [0.37170143252073384]\n",
       "491         1       3    male  29.0  [0.35913546117114853]\n",
       "\n",
       "[492 rows x 5 columns]"
      ]
     },
     "execution_count": 15,
     "metadata": {},
     "output_type": "execute_result"
    }
   ],
   "source": [
    "scaler.transform(df_train).toPandas()"
   ]
  },
  {
   "cell_type": "code",
   "execution_count": 16,
   "id": "7691a185-23bf-4c3e-b2e8-587cbf3d82a8",
   "metadata": {},
   "outputs": [
    {
     "data": {
      "text/html": [
       "<div>\n",
       "<style scoped>\n",
       "    .dataframe tbody tr th:only-of-type {\n",
       "        vertical-align: middle;\n",
       "    }\n",
       "\n",
       "    .dataframe tbody tr th {\n",
       "        vertical-align: top;\n",
       "    }\n",
       "\n",
       "    .dataframe thead th {\n",
       "        text-align: right;\n",
       "    }\n",
       "</style>\n",
       "<table border=\"1\" class=\"dataframe\">\n",
       "  <thead>\n",
       "    <tr style=\"text-align: right;\">\n",
       "      <th></th>\n",
       "      <th>Survived</th>\n",
       "      <th>Pclass</th>\n",
       "      <th>Sex</th>\n",
       "      <th>Age</th>\n",
       "      <th>min_max_scaled</th>\n",
       "      <th>zscore_scaled</th>\n",
       "    </tr>\n",
       "  </thead>\n",
       "  <tbody>\n",
       "    <tr>\n",
       "      <th>0</th>\n",
       "      <td>1</td>\n",
       "      <td>2</td>\n",
       "      <td>female</td>\n",
       "      <td>34.0</td>\n",
       "      <td>[0.4219653179190751]</td>\n",
       "      <td>[0.2873779211086445]</td>\n",
       "    </tr>\n",
       "    <tr>\n",
       "      <th>1</th>\n",
       "      <td>1</td>\n",
       "      <td>2</td>\n",
       "      <td>female</td>\n",
       "      <td>31.0</td>\n",
       "      <td>[0.38426740387031916]</td>\n",
       "      <td>[0.0778327033694635]</td>\n",
       "    </tr>\n",
       "    <tr>\n",
       "      <th>2</th>\n",
       "      <td>1</td>\n",
       "      <td>1</td>\n",
       "      <td>male</td>\n",
       "      <td>36.0</td>\n",
       "      <td>[0.4470972606182458]</td>\n",
       "      <td>[0.4270747329347652]</td>\n",
       "    </tr>\n",
       "    <tr>\n",
       "      <th>3</th>\n",
       "      <td>1</td>\n",
       "      <td>3</td>\n",
       "      <td>male</td>\n",
       "      <td>29.0</td>\n",
       "      <td>[0.35913546117114853]</td>\n",
       "      <td>[-0.06186410845665717]</td>\n",
       "    </tr>\n",
       "    <tr>\n",
       "      <th>4</th>\n",
       "      <td>0</td>\n",
       "      <td>2</td>\n",
       "      <td>male</td>\n",
       "      <td>18.0</td>\n",
       "      <td>[0.22090977632570996]</td>\n",
       "      <td>[-0.8301965735003208]</td>\n",
       "    </tr>\n",
       "    <tr>\n",
       "      <th>...</th>\n",
       "      <td>...</td>\n",
       "      <td>...</td>\n",
       "      <td>...</td>\n",
       "      <td>...</td>\n",
       "      <td>...</td>\n",
       "      <td>...</td>\n",
       "    </tr>\n",
       "    <tr>\n",
       "      <th>487</th>\n",
       "      <td>1</td>\n",
       "      <td>2</td>\n",
       "      <td>female</td>\n",
       "      <td>34.0</td>\n",
       "      <td>[0.4219653179190751]</td>\n",
       "      <td>[0.2873779211086445]</td>\n",
       "    </tr>\n",
       "    <tr>\n",
       "      <th>488</th>\n",
       "      <td>1</td>\n",
       "      <td>2</td>\n",
       "      <td>female</td>\n",
       "      <td>30.0</td>\n",
       "      <td>[0.37170143252073384]</td>\n",
       "      <td>[0.007984297456403168]</td>\n",
       "    </tr>\n",
       "    <tr>\n",
       "      <th>489</th>\n",
       "      <td>0</td>\n",
       "      <td>3</td>\n",
       "      <td>male</td>\n",
       "      <td>32.0</td>\n",
       "      <td>[0.39683337521990447]</td>\n",
       "      <td>[0.14768110928252384]</td>\n",
       "    </tr>\n",
       "    <tr>\n",
       "      <th>490</th>\n",
       "      <td>0</td>\n",
       "      <td>3</td>\n",
       "      <td>male</td>\n",
       "      <td>30.0</td>\n",
       "      <td>[0.37170143252073384]</td>\n",
       "      <td>[0.007984297456403168]</td>\n",
       "    </tr>\n",
       "    <tr>\n",
       "      <th>491</th>\n",
       "      <td>1</td>\n",
       "      <td>3</td>\n",
       "      <td>male</td>\n",
       "      <td>29.0</td>\n",
       "      <td>[0.35913546117114853]</td>\n",
       "      <td>[-0.06186410845665717]</td>\n",
       "    </tr>\n",
       "  </tbody>\n",
       "</table>\n",
       "<p>492 rows × 6 columns</p>\n",
       "</div>"
      ],
      "text/plain": [
       "     Survived  Pclass     Sex   Age         min_max_scaled  \\\n",
       "0           1       2  female  34.0   [0.4219653179190751]   \n",
       "1           1       2  female  31.0  [0.38426740387031916]   \n",
       "2           1       1    male  36.0   [0.4470972606182458]   \n",
       "3           1       3    male  29.0  [0.35913546117114853]   \n",
       "4           0       2    male  18.0  [0.22090977632570996]   \n",
       "..        ...     ...     ...   ...                    ...   \n",
       "487         1       2  female  34.0   [0.4219653179190751]   \n",
       "488         1       2  female  30.0  [0.37170143252073384]   \n",
       "489         0       3    male  32.0  [0.39683337521990447]   \n",
       "490         0       3    male  30.0  [0.37170143252073384]   \n",
       "491         1       3    male  29.0  [0.35913546117114853]   \n",
       "\n",
       "              zscore_scaled  \n",
       "0      [0.2873779211086445]  \n",
       "1      [0.0778327033694635]  \n",
       "2      [0.4270747329347652]  \n",
       "3    [-0.06186410845665717]  \n",
       "4     [-0.8301965735003208]  \n",
       "..                      ...  \n",
       "487    [0.2873779211086445]  \n",
       "488  [0.007984297456403168]  \n",
       "489   [0.14768110928252384]  \n",
       "490  [0.007984297456403168]  \n",
       "491  [-0.06186410845665717]  \n",
       "\n",
       "[492 rows x 6 columns]"
      ]
     },
     "execution_count": 16,
     "metadata": {},
     "output_type": "execute_result"
    }
   ],
   "source": [
    "scaler = SparkScaler({'min_max': 'Age', 'zscore': 'Age'})\n",
    "scaler.fit_transform(df_train).toPandas()"
   ]
  },
  {
   "cell_type": "markdown",
   "id": "07e42a24-bce0-4d87-bf0a-c0a4bae862f8",
   "metadata": {},
   "source": [
    "### Preprocessing"
   ]
  },
  {
   "cell_type": "code",
   "execution_count": 23,
   "id": "f1d02cab-1520-4f13-a99c-2339078e042a",
   "metadata": {},
   "outputs": [],
   "source": [
    "processor = SparkPreprocessor({'zscore': 'Age'}, ['Pclass', 'Sex'], impute_strategy = 'mean')"
   ]
  },
  {
   "cell_type": "code",
   "execution_count": 24,
   "id": "8be171bd-d020-4577-8ea3-2efde034fb60",
   "metadata": {},
   "outputs": [
    {
     "data": {
      "text/plain": [
       "<class 'src.ml.preprocessing.preprocessing.SparkPreprocessor'>"
      ]
     },
     "execution_count": 24,
     "metadata": {},
     "output_type": "execute_result"
    }
   ],
   "source": [
    "processor.fit(df_train)"
   ]
  },
  {
   "cell_type": "code",
   "execution_count": 25,
   "id": "3df5622a-a34e-4cff-886d-ad3a7ffed1a1",
   "metadata": {},
   "outputs": [
    {
     "data": {
      "text/html": [
       "<div>\n",
       "<style scoped>\n",
       "    .dataframe tbody tr th:only-of-type {\n",
       "        vertical-align: middle;\n",
       "    }\n",
       "\n",
       "    .dataframe tbody tr th {\n",
       "        vertical-align: top;\n",
       "    }\n",
       "\n",
       "    .dataframe thead th {\n",
       "        text-align: right;\n",
       "    }\n",
       "</style>\n",
       "<table border=\"1\" class=\"dataframe\">\n",
       "  <thead>\n",
       "    <tr style=\"text-align: right;\">\n",
       "      <th></th>\n",
       "      <th>Survived</th>\n",
       "      <th>Pclass</th>\n",
       "      <th>Sex</th>\n",
       "      <th>Age</th>\n",
       "      <th>Pclass_ohe</th>\n",
       "      <th>Sex_ohe</th>\n",
       "      <th>zscore_scaled</th>\n",
       "      <th>features</th>\n",
       "    </tr>\n",
       "  </thead>\n",
       "  <tbody>\n",
       "    <tr>\n",
       "      <th>0</th>\n",
       "      <td>1</td>\n",
       "      <td>2</td>\n",
       "      <td>female</td>\n",
       "      <td>34.0</td>\n",
       "      <td>(0.0, 0.0, 1.0)</td>\n",
       "      <td>(0.0, 1.0)</td>\n",
       "      <td>[0.323450513578003]</td>\n",
       "      <td>[0.0, 0.0, 1.0, 0.0, 1.0, 0.323450513578003]</td>\n",
       "    </tr>\n",
       "    <tr>\n",
       "      <th>1</th>\n",
       "      <td>1</td>\n",
       "      <td>2</td>\n",
       "      <td>female</td>\n",
       "      <td>31.0</td>\n",
       "      <td>(0.0, 0.0, 1.0)</td>\n",
       "      <td>(0.0, 1.0)</td>\n",
       "      <td>[0.08760251233253245]</td>\n",
       "      <td>[0.0, 0.0, 1.0, 0.0, 1.0, 0.08760251233253245]</td>\n",
       "    </tr>\n",
       "    <tr>\n",
       "      <th>2</th>\n",
       "      <td>1</td>\n",
       "      <td>1</td>\n",
       "      <td>male</td>\n",
       "      <td>36.0</td>\n",
       "      <td>(0.0, 1.0, 0.0)</td>\n",
       "      <td>(1.0, 0.0)</td>\n",
       "      <td>[0.48068251440831666]</td>\n",
       "      <td>[0.0, 1.0, 0.0, 1.0, 0.0, 0.48068251440831666]</td>\n",
       "    </tr>\n",
       "    <tr>\n",
       "      <th>3</th>\n",
       "      <td>1</td>\n",
       "      <td>3</td>\n",
       "      <td>male</td>\n",
       "      <td>29.0</td>\n",
       "      <td>(1.0, 0.0, 0.0)</td>\n",
       "      <td>(1.0, 0.0)</td>\n",
       "      <td>[-0.06962948849778124]</td>\n",
       "      <td>[1.0, 0.0, 0.0, 1.0, 0.0, -0.06962948849778124]</td>\n",
       "    </tr>\n",
       "    <tr>\n",
       "      <th>4</th>\n",
       "      <td>0</td>\n",
       "      <td>2</td>\n",
       "      <td>male</td>\n",
       "      <td>18.0</td>\n",
       "      <td>(0.0, 0.0, 1.0)</td>\n",
       "      <td>(1.0, 0.0)</td>\n",
       "      <td>[-0.9344054930645065]</td>\n",
       "      <td>[0.0, 0.0, 1.0, 1.0, 0.0, -0.9344054930645065]</td>\n",
       "    </tr>\n",
       "    <tr>\n",
       "      <th>...</th>\n",
       "      <td>...</td>\n",
       "      <td>...</td>\n",
       "      <td>...</td>\n",
       "      <td>...</td>\n",
       "      <td>...</td>\n",
       "      <td>...</td>\n",
       "      <td>...</td>\n",
       "      <td>...</td>\n",
       "    </tr>\n",
       "    <tr>\n",
       "      <th>618</th>\n",
       "      <td>1</td>\n",
       "      <td>2</td>\n",
       "      <td>female</td>\n",
       "      <td>34.0</td>\n",
       "      <td>(0.0, 0.0, 1.0)</td>\n",
       "      <td>(0.0, 1.0)</td>\n",
       "      <td>[0.323450513578003]</td>\n",
       "      <td>[0.0, 0.0, 1.0, 0.0, 1.0, 0.323450513578003]</td>\n",
       "    </tr>\n",
       "    <tr>\n",
       "      <th>619</th>\n",
       "      <td>1</td>\n",
       "      <td>2</td>\n",
       "      <td>female</td>\n",
       "      <td>30.0</td>\n",
       "      <td>(0.0, 0.0, 1.0)</td>\n",
       "      <td>(0.0, 1.0)</td>\n",
       "      <td>[0.008986511917375603]</td>\n",
       "      <td>[0.0, 0.0, 1.0, 0.0, 1.0, 0.008986511917375603]</td>\n",
       "    </tr>\n",
       "    <tr>\n",
       "      <th>620</th>\n",
       "      <td>0</td>\n",
       "      <td>3</td>\n",
       "      <td>male</td>\n",
       "      <td>32.0</td>\n",
       "      <td>(1.0, 0.0, 0.0)</td>\n",
       "      <td>(1.0, 0.0)</td>\n",
       "      <td>[0.16621851274768928]</td>\n",
       "      <td>[1.0, 0.0, 0.0, 1.0, 0.0, 0.16621851274768928]</td>\n",
       "    </tr>\n",
       "    <tr>\n",
       "      <th>621</th>\n",
       "      <td>0</td>\n",
       "      <td>3</td>\n",
       "      <td>male</td>\n",
       "      <td>30.0</td>\n",
       "      <td>(1.0, 0.0, 0.0)</td>\n",
       "      <td>(1.0, 0.0)</td>\n",
       "      <td>[0.008986511917375603]</td>\n",
       "      <td>[1.0, 0.0, 0.0, 1.0, 0.0, 0.008986511917375603]</td>\n",
       "    </tr>\n",
       "    <tr>\n",
       "      <th>622</th>\n",
       "      <td>1</td>\n",
       "      <td>3</td>\n",
       "      <td>male</td>\n",
       "      <td>29.0</td>\n",
       "      <td>(1.0, 0.0, 0.0)</td>\n",
       "      <td>(1.0, 0.0)</td>\n",
       "      <td>[-0.06962948849778124]</td>\n",
       "      <td>[1.0, 0.0, 0.0, 1.0, 0.0, -0.06962948849778124]</td>\n",
       "    </tr>\n",
       "  </tbody>\n",
       "</table>\n",
       "<p>623 rows × 8 columns</p>\n",
       "</div>"
      ],
      "text/plain": [
       "     Survived  Pclass     Sex   Age       Pclass_ohe     Sex_ohe  \\\n",
       "0           1       2  female  34.0  (0.0, 0.0, 1.0)  (0.0, 1.0)   \n",
       "1           1       2  female  31.0  (0.0, 0.0, 1.0)  (0.0, 1.0)   \n",
       "2           1       1    male  36.0  (0.0, 1.0, 0.0)  (1.0, 0.0)   \n",
       "3           1       3    male  29.0  (1.0, 0.0, 0.0)  (1.0, 0.0)   \n",
       "4           0       2    male  18.0  (0.0, 0.0, 1.0)  (1.0, 0.0)   \n",
       "..        ...     ...     ...   ...              ...         ...   \n",
       "618         1       2  female  34.0  (0.0, 0.0, 1.0)  (0.0, 1.0)   \n",
       "619         1       2  female  30.0  (0.0, 0.0, 1.0)  (0.0, 1.0)   \n",
       "620         0       3    male  32.0  (1.0, 0.0, 0.0)  (1.0, 0.0)   \n",
       "621         0       3    male  30.0  (1.0, 0.0, 0.0)  (1.0, 0.0)   \n",
       "622         1       3    male  29.0  (1.0, 0.0, 0.0)  (1.0, 0.0)   \n",
       "\n",
       "              zscore_scaled                                         features  \n",
       "0       [0.323450513578003]     [0.0, 0.0, 1.0, 0.0, 1.0, 0.323450513578003]  \n",
       "1     [0.08760251233253245]   [0.0, 0.0, 1.0, 0.0, 1.0, 0.08760251233253245]  \n",
       "2     [0.48068251440831666]   [0.0, 1.0, 0.0, 1.0, 0.0, 0.48068251440831666]  \n",
       "3    [-0.06962948849778124]  [1.0, 0.0, 0.0, 1.0, 0.0, -0.06962948849778124]  \n",
       "4     [-0.9344054930645065]   [0.0, 0.0, 1.0, 1.0, 0.0, -0.9344054930645065]  \n",
       "..                      ...                                              ...  \n",
       "618     [0.323450513578003]     [0.0, 0.0, 1.0, 0.0, 1.0, 0.323450513578003]  \n",
       "619  [0.008986511917375603]  [0.0, 0.0, 1.0, 0.0, 1.0, 0.008986511917375603]  \n",
       "620   [0.16621851274768928]   [1.0, 0.0, 0.0, 1.0, 0.0, 0.16621851274768928]  \n",
       "621  [0.008986511917375603]  [1.0, 0.0, 0.0, 1.0, 0.0, 0.008986511917375603]  \n",
       "622  [-0.06962948849778124]  [1.0, 0.0, 0.0, 1.0, 0.0, -0.06962948849778124]  \n",
       "\n",
       "[623 rows x 8 columns]"
      ]
     },
     "execution_count": 25,
     "metadata": {},
     "output_type": "execute_result"
    }
   ],
   "source": [
    "processor.transform(df_train).toPandas()"
   ]
  },
  {
   "cell_type": "code",
   "execution_count": 20,
   "id": "a4f37fd8-8eb3-4f57-b46d-965503cc40d9",
   "metadata": {},
   "outputs": [
    {
     "data": {
      "text/html": [
       "<div>\n",
       "<style scoped>\n",
       "    .dataframe tbody tr th:only-of-type {\n",
       "        vertical-align: middle;\n",
       "    }\n",
       "\n",
       "    .dataframe tbody tr th {\n",
       "        vertical-align: top;\n",
       "    }\n",
       "\n",
       "    .dataframe thead th {\n",
       "        text-align: right;\n",
       "    }\n",
       "</style>\n",
       "<table border=\"1\" class=\"dataframe\">\n",
       "  <thead>\n",
       "    <tr style=\"text-align: right;\">\n",
       "      <th></th>\n",
       "      <th>Survived</th>\n",
       "      <th>Pclass</th>\n",
       "      <th>Sex</th>\n",
       "      <th>Age</th>\n",
       "      <th>Pclass_ohe</th>\n",
       "      <th>Sex_ohe</th>\n",
       "      <th>zscore_scaled</th>\n",
       "      <th>min_max_scaled</th>\n",
       "      <th>features</th>\n",
       "    </tr>\n",
       "  </thead>\n",
       "  <tbody>\n",
       "    <tr>\n",
       "      <th>0</th>\n",
       "      <td>1</td>\n",
       "      <td>2</td>\n",
       "      <td>female</td>\n",
       "      <td>34.0</td>\n",
       "      <td>(0.0, 0.0, 1.0)</td>\n",
       "      <td>(0.0, 1.0)</td>\n",
       "      <td>[0.43996324874400106]</td>\n",
       "      <td>[0.4219653179190751]</td>\n",
       "      <td>[0.0, 0.0, 1.0, 0.0, 1.0, 0.43996324874400106,...</td>\n",
       "    </tr>\n",
       "    <tr>\n",
       "      <th>1</th>\n",
       "      <td>1</td>\n",
       "      <td>2</td>\n",
       "      <td>female</td>\n",
       "      <td>31.0</td>\n",
       "      <td>(0.0, 0.0, 1.0)</td>\n",
       "      <td>(0.0, 1.0)</td>\n",
       "      <td>[0.21131018001039664]</td>\n",
       "      <td>[0.38426740387031916]</td>\n",
       "      <td>[0.0, 0.0, 1.0, 0.0, 1.0, 0.21131018001039664,...</td>\n",
       "    </tr>\n",
       "    <tr>\n",
       "      <th>2</th>\n",
       "      <td>1</td>\n",
       "      <td>1</td>\n",
       "      <td>male</td>\n",
       "      <td>36.0</td>\n",
       "      <td>(0.0, 1.0, 0.0)</td>\n",
       "      <td>(1.0, 0.0)</td>\n",
       "      <td>[0.5923986278997374]</td>\n",
       "      <td>[0.4470972606182458]</td>\n",
       "      <td>[0.0, 1.0, 0.0, 1.0, 0.0, 0.5923986278997374, ...</td>\n",
       "    </tr>\n",
       "    <tr>\n",
       "      <th>3</th>\n",
       "      <td>1</td>\n",
       "      <td>3</td>\n",
       "      <td>male</td>\n",
       "      <td>29.0</td>\n",
       "      <td>(1.0, 0.0, 0.0)</td>\n",
       "      <td>(1.0, 0.0)</td>\n",
       "      <td>[0.058874800854660334]</td>\n",
       "      <td>[0.35913546117114853]</td>\n",
       "      <td>[1.0, 0.0, 0.0, 1.0, 0.0, 0.058874800854660334...</td>\n",
       "    </tr>\n",
       "    <tr>\n",
       "      <th>4</th>\n",
       "      <td>0</td>\n",
       "      <td>2</td>\n",
       "      <td>male</td>\n",
       "      <td>18.0</td>\n",
       "      <td>(0.0, 0.0, 1.0)</td>\n",
       "      <td>(1.0, 0.0)</td>\n",
       "      <td>[-0.7795197845018893]</td>\n",
       "      <td>[0.22090977632570996]</td>\n",
       "      <td>[0.0, 0.0, 1.0, 1.0, 0.0, -0.7795197845018893,...</td>\n",
       "    </tr>\n",
       "    <tr>\n",
       "      <th>...</th>\n",
       "      <td>...</td>\n",
       "      <td>...</td>\n",
       "      <td>...</td>\n",
       "      <td>...</td>\n",
       "      <td>...</td>\n",
       "      <td>...</td>\n",
       "      <td>...</td>\n",
       "      <td>...</td>\n",
       "      <td>...</td>\n",
       "    </tr>\n",
       "    <tr>\n",
       "      <th>618</th>\n",
       "      <td>1</td>\n",
       "      <td>2</td>\n",
       "      <td>female</td>\n",
       "      <td>34.0</td>\n",
       "      <td>(0.0, 0.0, 1.0)</td>\n",
       "      <td>(0.0, 1.0)</td>\n",
       "      <td>[0.43996324874400106]</td>\n",
       "      <td>[0.4219653179190751]</td>\n",
       "      <td>[0.0, 0.0, 1.0, 0.0, 1.0, 0.43996324874400106,...</td>\n",
       "    </tr>\n",
       "    <tr>\n",
       "      <th>619</th>\n",
       "      <td>1</td>\n",
       "      <td>2</td>\n",
       "      <td>female</td>\n",
       "      <td>30.0</td>\n",
       "      <td>(0.0, 0.0, 1.0)</td>\n",
       "      <td>(0.0, 1.0)</td>\n",
       "      <td>[0.1350924904325285]</td>\n",
       "      <td>[0.37170143252073384]</td>\n",
       "      <td>[0.0, 0.0, 1.0, 0.0, 1.0, 0.1350924904325285, ...</td>\n",
       "    </tr>\n",
       "    <tr>\n",
       "      <th>620</th>\n",
       "      <td>0</td>\n",
       "      <td>3</td>\n",
       "      <td>male</td>\n",
       "      <td>32.0</td>\n",
       "      <td>(1.0, 0.0, 0.0)</td>\n",
       "      <td>(1.0, 0.0)</td>\n",
       "      <td>[0.28752786958826476]</td>\n",
       "      <td>[0.39683337521990447]</td>\n",
       "      <td>[1.0, 0.0, 0.0, 1.0, 0.0, 0.28752786958826476,...</td>\n",
       "    </tr>\n",
       "    <tr>\n",
       "      <th>621</th>\n",
       "      <td>0</td>\n",
       "      <td>3</td>\n",
       "      <td>male</td>\n",
       "      <td>30.0</td>\n",
       "      <td>(1.0, 0.0, 0.0)</td>\n",
       "      <td>(1.0, 0.0)</td>\n",
       "      <td>[0.1350924904325285]</td>\n",
       "      <td>[0.37170143252073384]</td>\n",
       "      <td>[1.0, 0.0, 0.0, 1.0, 0.0, 0.1350924904325285, ...</td>\n",
       "    </tr>\n",
       "    <tr>\n",
       "      <th>622</th>\n",
       "      <td>1</td>\n",
       "      <td>3</td>\n",
       "      <td>male</td>\n",
       "      <td>29.0</td>\n",
       "      <td>(1.0, 0.0, 0.0)</td>\n",
       "      <td>(1.0, 0.0)</td>\n",
       "      <td>[0.058874800854660334]</td>\n",
       "      <td>[0.35913546117114853]</td>\n",
       "      <td>[1.0, 0.0, 0.0, 1.0, 0.0, 0.058874800854660334...</td>\n",
       "    </tr>\n",
       "  </tbody>\n",
       "</table>\n",
       "<p>623 rows × 9 columns</p>\n",
       "</div>"
      ],
      "text/plain": [
       "     Survived  Pclass     Sex   Age       Pclass_ohe     Sex_ohe  \\\n",
       "0           1       2  female  34.0  (0.0, 0.0, 1.0)  (0.0, 1.0)   \n",
       "1           1       2  female  31.0  (0.0, 0.0, 1.0)  (0.0, 1.0)   \n",
       "2           1       1    male  36.0  (0.0, 1.0, 0.0)  (1.0, 0.0)   \n",
       "3           1       3    male  29.0  (1.0, 0.0, 0.0)  (1.0, 0.0)   \n",
       "4           0       2    male  18.0  (0.0, 0.0, 1.0)  (1.0, 0.0)   \n",
       "..        ...     ...     ...   ...              ...         ...   \n",
       "618         1       2  female  34.0  (0.0, 0.0, 1.0)  (0.0, 1.0)   \n",
       "619         1       2  female  30.0  (0.0, 0.0, 1.0)  (0.0, 1.0)   \n",
       "620         0       3    male  32.0  (1.0, 0.0, 0.0)  (1.0, 0.0)   \n",
       "621         0       3    male  30.0  (1.0, 0.0, 0.0)  (1.0, 0.0)   \n",
       "622         1       3    male  29.0  (1.0, 0.0, 0.0)  (1.0, 0.0)   \n",
       "\n",
       "              zscore_scaled         min_max_scaled  \\\n",
       "0     [0.43996324874400106]   [0.4219653179190751]   \n",
       "1     [0.21131018001039664]  [0.38426740387031916]   \n",
       "2      [0.5923986278997374]   [0.4470972606182458]   \n",
       "3    [0.058874800854660334]  [0.35913546117114853]   \n",
       "4     [-0.7795197845018893]  [0.22090977632570996]   \n",
       "..                      ...                    ...   \n",
       "618   [0.43996324874400106]   [0.4219653179190751]   \n",
       "619    [0.1350924904325285]  [0.37170143252073384]   \n",
       "620   [0.28752786958826476]  [0.39683337521990447]   \n",
       "621    [0.1350924904325285]  [0.37170143252073384]   \n",
       "622  [0.058874800854660334]  [0.35913546117114853]   \n",
       "\n",
       "                                              features  \n",
       "0    [0.0, 0.0, 1.0, 0.0, 1.0, 0.43996324874400106,...  \n",
       "1    [0.0, 0.0, 1.0, 0.0, 1.0, 0.21131018001039664,...  \n",
       "2    [0.0, 1.0, 0.0, 1.0, 0.0, 0.5923986278997374, ...  \n",
       "3    [1.0, 0.0, 0.0, 1.0, 0.0, 0.058874800854660334...  \n",
       "4    [0.0, 0.0, 1.0, 1.0, 0.0, -0.7795197845018893,...  \n",
       "..                                                 ...  \n",
       "618  [0.0, 0.0, 1.0, 0.0, 1.0, 0.43996324874400106,...  \n",
       "619  [0.0, 0.0, 1.0, 0.0, 1.0, 0.1350924904325285, ...  \n",
       "620  [1.0, 0.0, 0.0, 1.0, 0.0, 0.28752786958826476,...  \n",
       "621  [1.0, 0.0, 0.0, 1.0, 0.0, 0.1350924904325285, ...  \n",
       "622  [1.0, 0.0, 0.0, 1.0, 0.0, 0.058874800854660334...  \n",
       "\n",
       "[623 rows x 9 columns]"
      ]
     },
     "execution_count": 20,
     "metadata": {},
     "output_type": "execute_result"
    }
   ],
   "source": [
    "processor = SparkPreprocessor({'zscore': 'Age', 'min_max': 'Age'}, ['Pclass', 'Sex'], impute_strategy = 'mode')\n",
    "processor.fit_transform(df_train).toPandas()"
   ]
  },
  {
   "cell_type": "markdown",
   "id": "feaab29f-cbe3-4084-a3a2-3fd052e04bd0",
   "metadata": {},
   "source": [
    "### TextVectorizer"
   ]
  },
  {
   "cell_type": "code",
   "execution_count": 7,
   "id": "36574a73-fdec-4d4c-ac29-f7dad811c7ca",
   "metadata": {},
   "outputs": [
    {
     "data": {
      "text/html": [
       "<div>\n",
       "<style scoped>\n",
       "    .dataframe tbody tr th:only-of-type {\n",
       "        vertical-align: middle;\n",
       "    }\n",
       "\n",
       "    .dataframe tbody tr th {\n",
       "        vertical-align: top;\n",
       "    }\n",
       "\n",
       "    .dataframe thead th {\n",
       "        text-align: right;\n",
       "    }\n",
       "</style>\n",
       "<table border=\"1\" class=\"dataframe\">\n",
       "  <thead>\n",
       "    <tr style=\"text-align: right;\">\n",
       "      <th></th>\n",
       "      <th>questions</th>\n",
       "    </tr>\n",
       "  </thead>\n",
       "  <tbody>\n",
       "    <tr>\n",
       "      <th>0</th>\n",
       "      <td>For the last 8 years of his life, Galileo was ...</td>\n",
       "    </tr>\n",
       "    <tr>\n",
       "      <th>1</th>\n",
       "      <td>No. 2: 1912 Olympian; football star at Carlisl...</td>\n",
       "    </tr>\n",
       "    <tr>\n",
       "      <th>2</th>\n",
       "      <td>The city of Yuma in this state has a record av...</td>\n",
       "    </tr>\n",
       "    <tr>\n",
       "      <th>3</th>\n",
       "      <td>In 1963, live on The Art Linkletter Show</td>\n",
       "    </tr>\n",
       "    <tr>\n",
       "      <th>4</th>\n",
       "      <td>Signer of the Dec. of Indep., framer of the Co...</td>\n",
       "    </tr>\n",
       "  </tbody>\n",
       "</table>\n",
       "</div>"
      ],
      "text/plain": [
       "                                           questions\n",
       "0  For the last 8 years of his life, Galileo was ...\n",
       "1  No. 2: 1912 Olympian; football star at Carlisl...\n",
       "2  The city of Yuma in this state has a record av...\n",
       "3           In 1963, live on The Art Linkletter Show\n",
       "4  Signer of the Dec. of Indep., framer of the Co..."
      ]
     },
     "execution_count": 7,
     "metadata": {},
     "output_type": "execute_result"
    }
   ],
   "source": [
    "df_text = spark.read.csv('D:/projects/pyspark_dev/JEOPARDY_CSV.csv', header=True).select(f.regexp_replace(f.col(\" Question\"), '\"', '').alias('questions'))\n",
    "df_text.limit(5).toPandas()"
   ]
  },
  {
   "cell_type": "code",
   "execution_count": 8,
   "id": "dca825a2-d929-407e-9186-4fc895aaa699",
   "metadata": {},
   "outputs": [],
   "source": [
    "vectorizer = SparkVectorizer('questions', 'word2vec')"
   ]
  },
  {
   "cell_type": "code",
   "execution_count": 9,
   "id": "d85113c7-75b9-4804-a033-49d7f7d5f971",
   "metadata": {},
   "outputs": [
    {
     "data": {
      "text/plain": [
       "<class 'src.ml.preprocessing.text_vectorizer.SparkVectorizer'>"
      ]
     },
     "execution_count": 9,
     "metadata": {},
     "output_type": "execute_result"
    }
   ],
   "source": [
    "vectorizer.fit(df_text)"
   ]
  },
  {
   "cell_type": "code",
   "execution_count": 10,
   "id": "3b596cd5-3c7b-4fee-8c96-dd35ac158245",
   "metadata": {},
   "outputs": [
    {
     "data": {
      "text/html": [
       "<div>\n",
       "<style scoped>\n",
       "    .dataframe tbody tr th:only-of-type {\n",
       "        vertical-align: middle;\n",
       "    }\n",
       "\n",
       "    .dataframe tbody tr th {\n",
       "        vertical-align: top;\n",
       "    }\n",
       "\n",
       "    .dataframe thead th {\n",
       "        text-align: right;\n",
       "    }\n",
       "</style>\n",
       "<table border=\"1\" class=\"dataframe\">\n",
       "  <thead>\n",
       "    <tr style=\"text-align: right;\">\n",
       "      <th></th>\n",
       "      <th>questions</th>\n",
       "      <th>tokens</th>\n",
       "      <th>word_vectors</th>\n",
       "    </tr>\n",
       "  </thead>\n",
       "  <tbody>\n",
       "    <tr>\n",
       "      <th>0</th>\n",
       "      <td>For the last 8 years of his life, Galileo was ...</td>\n",
       "      <td>[for, the, last, 8, years, of, his, life,, gal...</td>\n",
       "      <td>[-0.049276250220524766, -0.057339279322251156,...</td>\n",
       "    </tr>\n",
       "    <tr>\n",
       "      <th>1</th>\n",
       "      <td>No. 2: 1912 Olympian; football star at Carlisl...</td>\n",
       "      <td>[no., 2:, 1912, olympian;, football, star, at,...</td>\n",
       "      <td>[0.02357846268109585, 0.021539972549745517, 0....</td>\n",
       "    </tr>\n",
       "    <tr>\n",
       "      <th>2</th>\n",
       "      <td>The city of Yuma in this state has a record av...</td>\n",
       "      <td>[the, city, of, yuma, in, this, state, has, a,...</td>\n",
       "      <td>[-0.027824673594699964, 0.04066374671432034, 0...</td>\n",
       "    </tr>\n",
       "    <tr>\n",
       "      <th>3</th>\n",
       "      <td>In 1963, live on The Art Linkletter Show</td>\n",
       "      <td>[in, 1963,, live, on, the, art, linkletter, show]</td>\n",
       "      <td>[-0.06398377195000648, 0.024480896769091487, 0...</td>\n",
       "    </tr>\n",
       "    <tr>\n",
       "      <th>4</th>\n",
       "      <td>Signer of the Dec. of Indep., framer of the Co...</td>\n",
       "      <td>[signer, of, the, dec., of, indep.,, framer, o...</td>\n",
       "      <td>[-0.025025326241221692, 0.029145835072591175, ...</td>\n",
       "    </tr>\n",
       "  </tbody>\n",
       "</table>\n",
       "</div>"
      ],
      "text/plain": [
       "                                           questions  \\\n",
       "0  For the last 8 years of his life, Galileo was ...   \n",
       "1  No. 2: 1912 Olympian; football star at Carlisl...   \n",
       "2  The city of Yuma in this state has a record av...   \n",
       "3           In 1963, live on The Art Linkletter Show   \n",
       "4  Signer of the Dec. of Indep., framer of the Co...   \n",
       "\n",
       "                                              tokens  \\\n",
       "0  [for, the, last, 8, years, of, his, life,, gal...   \n",
       "1  [no., 2:, 1912, olympian;, football, star, at,...   \n",
       "2  [the, city, of, yuma, in, this, state, has, a,...   \n",
       "3  [in, 1963,, live, on, the, art, linkletter, show]   \n",
       "4  [signer, of, the, dec., of, indep.,, framer, o...   \n",
       "\n",
       "                                        word_vectors  \n",
       "0  [-0.049276250220524766, -0.057339279322251156,...  \n",
       "1  [0.02357846268109585, 0.021539972549745517, 0....  \n",
       "2  [-0.027824673594699964, 0.04066374671432034, 0...  \n",
       "3  [-0.06398377195000648, 0.024480896769091487, 0...  \n",
       "4  [-0.025025326241221692, 0.029145835072591175, ...  "
      ]
     },
     "execution_count": 10,
     "metadata": {},
     "output_type": "execute_result"
    }
   ],
   "source": [
    "vectorizer.transform(df_text).limit(5).toPandas()"
   ]
  },
  {
   "cell_type": "code",
   "execution_count": 11,
   "id": "0bdfb0ef-38ec-4e21-821a-b1373436fad7",
   "metadata": {},
   "outputs": [
    {
     "data": {
      "text/html": [
       "<div>\n",
       "<style scoped>\n",
       "    .dataframe tbody tr th:only-of-type {\n",
       "        vertical-align: middle;\n",
       "    }\n",
       "\n",
       "    .dataframe tbody tr th {\n",
       "        vertical-align: top;\n",
       "    }\n",
       "\n",
       "    .dataframe thead th {\n",
       "        text-align: right;\n",
       "    }\n",
       "</style>\n",
       "<table border=\"1\" class=\"dataframe\">\n",
       "  <thead>\n",
       "    <tr style=\"text-align: right;\">\n",
       "      <th></th>\n",
       "      <th>questions</th>\n",
       "      <th>tokens</th>\n",
       "      <th>word_vectors</th>\n",
       "    </tr>\n",
       "  </thead>\n",
       "  <tbody>\n",
       "    <tr>\n",
       "      <th>0</th>\n",
       "      <td>For the last 8 years of his life, Galileo was ...</td>\n",
       "      <td>[for, the, last, 8, years, of, his, life,, gal...</td>\n",
       "      <td>(0.0, 0.0, 0.0, 0.0, 0.0, 0.0, 0.0, 0.0, 0.0, ...</td>\n",
       "    </tr>\n",
       "    <tr>\n",
       "      <th>1</th>\n",
       "      <td>No. 2: 1912 Olympian; football star at Carlisl...</td>\n",
       "      <td>[no., 2:, 1912, olympian;, football, star, at,...</td>\n",
       "      <td>(0.0, 0.0, 0.0, 0.0, 0.0, 0.0, 0.0, 0.0, 0.0, ...</td>\n",
       "    </tr>\n",
       "    <tr>\n",
       "      <th>2</th>\n",
       "      <td>The city of Yuma in this state has a record av...</td>\n",
       "      <td>[the, city, of, yuma, in, this, state, has, a,...</td>\n",
       "      <td>(0.0, 0.0, 0.0, 0.0, 0.0, 0.0, 0.0, 0.0, 0.0, ...</td>\n",
       "    </tr>\n",
       "    <tr>\n",
       "      <th>3</th>\n",
       "      <td>In 1963, live on The Art Linkletter Show</td>\n",
       "      <td>[in, 1963,, live, on, the, art, linkletter, show]</td>\n",
       "      <td>(0.0, 0.0, 0.0, 0.0, 0.0, 0.0, 0.0, 0.0, 0.0, ...</td>\n",
       "    </tr>\n",
       "    <tr>\n",
       "      <th>4</th>\n",
       "      <td>Signer of the Dec. of Indep., framer of the Co...</td>\n",
       "      <td>[signer, of, the, dec., of, indep.,, framer, o...</td>\n",
       "      <td>(0.0, 0.0, 0.0, 0.0, 0.0, 0.0, 0.0, 0.0, 0.0, ...</td>\n",
       "    </tr>\n",
       "  </tbody>\n",
       "</table>\n",
       "</div>"
      ],
      "text/plain": [
       "                                           questions  \\\n",
       "0  For the last 8 years of his life, Galileo was ...   \n",
       "1  No. 2: 1912 Olympian; football star at Carlisl...   \n",
       "2  The city of Yuma in this state has a record av...   \n",
       "3           In 1963, live on The Art Linkletter Show   \n",
       "4  Signer of the Dec. of Indep., framer of the Co...   \n",
       "\n",
       "                                              tokens  \\\n",
       "0  [for, the, last, 8, years, of, his, life,, gal...   \n",
       "1  [no., 2:, 1912, olympian;, football, star, at,...   \n",
       "2  [the, city, of, yuma, in, this, state, has, a,...   \n",
       "3  [in, 1963,, live, on, the, art, linkletter, show]   \n",
       "4  [signer, of, the, dec., of, indep.,, framer, o...   \n",
       "\n",
       "                                        word_vectors  \n",
       "0  (0.0, 0.0, 0.0, 0.0, 0.0, 0.0, 0.0, 0.0, 0.0, ...  \n",
       "1  (0.0, 0.0, 0.0, 0.0, 0.0, 0.0, 0.0, 0.0, 0.0, ...  \n",
       "2  (0.0, 0.0, 0.0, 0.0, 0.0, 0.0, 0.0, 0.0, 0.0, ...  \n",
       "3  (0.0, 0.0, 0.0, 0.0, 0.0, 0.0, 0.0, 0.0, 0.0, ...  \n",
       "4  (0.0, 0.0, 0.0, 0.0, 0.0, 0.0, 0.0, 0.0, 0.0, ...  "
      ]
     },
     "execution_count": 11,
     "metadata": {},
     "output_type": "execute_result"
    }
   ],
   "source": [
    "vectorizer = SparkVectorizer('questions', 'hashing_tfidf')\n",
    "vectorizer.fit_transform(df_text).limit(5).toPandas()"
   ]
  },
  {
   "cell_type": "code",
   "execution_count": 12,
   "id": "fde4e00d-967d-4952-8517-367bff831f1b",
   "metadata": {},
   "outputs": [
    {
     "data": {
      "text/html": [
       "<div>\n",
       "<style scoped>\n",
       "    .dataframe tbody tr th:only-of-type {\n",
       "        vertical-align: middle;\n",
       "    }\n",
       "\n",
       "    .dataframe tbody tr th {\n",
       "        vertical-align: top;\n",
       "    }\n",
       "\n",
       "    .dataframe thead th {\n",
       "        text-align: right;\n",
       "    }\n",
       "</style>\n",
       "<table border=\"1\" class=\"dataframe\">\n",
       "  <thead>\n",
       "    <tr style=\"text-align: right;\">\n",
       "      <th></th>\n",
       "      <th>questions</th>\n",
       "      <th>tokens</th>\n",
       "      <th>word_vectors</th>\n",
       "    </tr>\n",
       "  </thead>\n",
       "  <tbody>\n",
       "    <tr>\n",
       "      <th>0</th>\n",
       "      <td>For the last 8 years of his life, Galileo was ...</td>\n",
       "      <td>[for, the, last, 8, years, of, his, life,, gal...</td>\n",
       "      <td>(0.6199042418410315, 0.6284836274800071, 0.914...</td>\n",
       "    </tr>\n",
       "    <tr>\n",
       "      <th>1</th>\n",
       "      <td>No. 2: 1912 Olympian; football star at Carlisl...</td>\n",
       "      <td>[no., 2:, 1912, olympian;, football, star, at,...</td>\n",
       "      <td>(0.6199042418410315, 0.0, 0.0, 0.0, 0.0, 0.0, ...</td>\n",
       "    </tr>\n",
       "    <tr>\n",
       "      <th>2</th>\n",
       "      <td>The city of Yuma in this state has a record av...</td>\n",
       "      <td>[the, city, of, yuma, in, this, state, has, a,...</td>\n",
       "      <td>(0.6199042418410315, 0.6284836274800071, 2.743...</td>\n",
       "    </tr>\n",
       "    <tr>\n",
       "      <th>3</th>\n",
       "      <td>In 1963, live on The Art Linkletter Show</td>\n",
       "      <td>[in, 1963,, live, on, the, art, linkletter, show]</td>\n",
       "      <td>(0.6199042418410315, 0.0, 0.0, 0.9836374634432...</td>\n",
       "    </tr>\n",
       "    <tr>\n",
       "      <th>4</th>\n",
       "      <td>Signer of the Dec. of Indep., framer of the Co...</td>\n",
       "      <td>[signer, of, the, dec., of, indep.,, framer, o...</td>\n",
       "      <td>(1.8597127255230945, 0.0, 4.57301340068142, 0....</td>\n",
       "    </tr>\n",
       "  </tbody>\n",
       "</table>\n",
       "</div>"
      ],
      "text/plain": [
       "                                           questions  \\\n",
       "0  For the last 8 years of his life, Galileo was ...   \n",
       "1  No. 2: 1912 Olympian; football star at Carlisl...   \n",
       "2  The city of Yuma in this state has a record av...   \n",
       "3           In 1963, live on The Art Linkletter Show   \n",
       "4  Signer of the Dec. of Indep., framer of the Co...   \n",
       "\n",
       "                                              tokens  \\\n",
       "0  [for, the, last, 8, years, of, his, life,, gal...   \n",
       "1  [no., 2:, 1912, olympian;, football, star, at,...   \n",
       "2  [the, city, of, yuma, in, this, state, has, a,...   \n",
       "3  [in, 1963,, live, on, the, art, linkletter, show]   \n",
       "4  [signer, of, the, dec., of, indep.,, framer, o...   \n",
       "\n",
       "                                        word_vectors  \n",
       "0  (0.6199042418410315, 0.6284836274800071, 0.914...  \n",
       "1  (0.6199042418410315, 0.0, 0.0, 0.0, 0.0, 0.0, ...  \n",
       "2  (0.6199042418410315, 0.6284836274800071, 2.743...  \n",
       "3  (0.6199042418410315, 0.0, 0.0, 0.9836374634432...  \n",
       "4  (1.8597127255230945, 0.0, 4.57301340068142, 0....  "
      ]
     },
     "execution_count": 12,
     "metadata": {},
     "output_type": "execute_result"
    }
   ],
   "source": [
    "vectorizer = SparkVectorizer('questions', 'tfidf')\n",
    "vectorizer.fit_transform(df_text).limit(5).toPandas()"
   ]
  },
  {
   "cell_type": "code",
   "execution_count": 13,
   "id": "5167e42d-78ea-4059-8bd9-55aa21eb7b58",
   "metadata": {},
   "outputs": [
    {
     "ename": "Exception",
     "evalue": "Method not supported. Choose one from `hashing_tfidf`, `tfidf`, `word2vec`.",
     "output_type": "error",
     "traceback": [
      "\u001b[1;31m---------------------------------------------------------------------------\u001b[0m",
      "\u001b[1;31mException\u001b[0m                                 Traceback (most recent call last)",
      "\u001b[1;32m<ipython-input-13-fcea6ceda8b6>\u001b[0m in \u001b[0;36m<module>\u001b[1;34m\u001b[0m\n\u001b[1;32m----> 1\u001b[1;33m \u001b[0mvectorizer\u001b[0m \u001b[1;33m=\u001b[0m \u001b[0mSparkVectorizer\u001b[0m\u001b[1;33m(\u001b[0m\u001b[1;34m'questions'\u001b[0m\u001b[1;33m,\u001b[0m \u001b[1;34m'teste'\u001b[0m\u001b[1;33m)\u001b[0m\u001b[1;33m\u001b[0m\u001b[1;33m\u001b[0m\u001b[0m\n\u001b[0m\u001b[0;32m      2\u001b[0m \u001b[0mvectorizer\u001b[0m\u001b[1;33m.\u001b[0m\u001b[0mfit_transform\u001b[0m\u001b[1;33m(\u001b[0m\u001b[0mdf_text\u001b[0m\u001b[1;33m)\u001b[0m\u001b[1;33m.\u001b[0m\u001b[0mlimit\u001b[0m\u001b[1;33m(\u001b[0m\u001b[1;36m5\u001b[0m\u001b[1;33m)\u001b[0m\u001b[1;33m.\u001b[0m\u001b[0mtoPandas\u001b[0m\u001b[1;33m(\u001b[0m\u001b[1;33m)\u001b[0m\u001b[1;33m\u001b[0m\u001b[1;33m\u001b[0m\u001b[0m\n",
      "\u001b[1;32m~\\Documents\\projects\\hermione\\hermione\\module_templates\\__IMPLEMENTED_PYSPARK__\\src\\ml\\preprocessing\\text_vectorizer.py\u001b[0m in \u001b[0;36m__init__\u001b[1;34m(self, inputCol, method, tokenized, **kwargs)\u001b[0m\n\u001b[0;32m     29\u001b[0m             \u001b[1;34m'word2vec'\u001b[0m\u001b[1;33m:\u001b[0m \u001b[0mWord2Vec\u001b[0m\u001b[1;33m,\u001b[0m\u001b[1;33m\u001b[0m\u001b[1;33m\u001b[0m\u001b[0m\n\u001b[0;32m     30\u001b[0m         }\n\u001b[1;32m---> 31\u001b[1;33m         \u001b[0mself\u001b[0m\u001b[1;33m.\u001b[0m\u001b[0massert_method\u001b[0m\u001b[1;33m(\u001b[0m\u001b[0mmethods_dict\u001b[0m\u001b[1;33m.\u001b[0m\u001b[0mkeys\u001b[0m\u001b[1;33m(\u001b[0m\u001b[1;33m)\u001b[0m\u001b[1;33m,\u001b[0m \u001b[0mmethod\u001b[0m\u001b[1;33m)\u001b[0m\u001b[1;33m\u001b[0m\u001b[1;33m\u001b[0m\u001b[0m\n\u001b[0m\u001b[0;32m     32\u001b[0m         \u001b[0mself\u001b[0m\u001b[1;33m.\u001b[0m\u001b[0malgorithm\u001b[0m \u001b[1;33m=\u001b[0m \u001b[0mmethods_dict\u001b[0m\u001b[1;33m[\u001b[0m\u001b[0mmethod\u001b[0m\u001b[1;33m]\u001b[0m\u001b[1;33m(\u001b[0m\u001b[0minputCol\u001b[0m\u001b[1;33m=\u001b[0m\u001b[0minputCol\u001b[0m\u001b[1;33m,\u001b[0m \u001b[0moutputCol\u001b[0m\u001b[1;33m=\u001b[0m\u001b[1;34m'word_vectors'\u001b[0m\u001b[1;33m,\u001b[0m \u001b[1;33m**\u001b[0m\u001b[0mkwargs\u001b[0m\u001b[1;33m)\u001b[0m\u001b[1;33m\u001b[0m\u001b[1;33m\u001b[0m\u001b[0m\n\u001b[0;32m     33\u001b[0m         \u001b[0mself\u001b[0m\u001b[1;33m.\u001b[0m\u001b[0mestimator_cols\u001b[0m \u001b[1;33m=\u001b[0m \u001b[1;33m[\u001b[0m\u001b[0minputCol\u001b[0m\u001b[1;33m]\u001b[0m\u001b[1;33m\u001b[0m\u001b[1;33m\u001b[0m\u001b[0m\n",
      "\u001b[1;32m~\\Documents\\projects\\hermione\\hermione\\module_templates\\__IMPLEMENTED_PYSPARK__\\src\\ml\\preprocessing\\_base.py\u001b[0m in \u001b[0;36massert_method\u001b[1;34m(self, valid_methods, method)\u001b[0m\n\u001b[0;32m     24\u001b[0m         \u001b[0moptions\u001b[0m \u001b[1;33m=\u001b[0m \u001b[1;34m'`'\u001b[0m \u001b[1;33m+\u001b[0m \u001b[1;34m'`, `'\u001b[0m\u001b[1;33m.\u001b[0m\u001b[0mjoin\u001b[0m\u001b[1;33m(\u001b[0m\u001b[0mvalid_methods\u001b[0m\u001b[1;33m)\u001b[0m \u001b[1;33m+\u001b[0m \u001b[1;34m'`.'\u001b[0m\u001b[1;33m\u001b[0m\u001b[1;33m\u001b[0m\u001b[0m\n\u001b[0;32m     25\u001b[0m         \u001b[1;32mif\u001b[0m \u001b[0mmethod\u001b[0m \u001b[1;32mnot\u001b[0m \u001b[1;32min\u001b[0m \u001b[0mvalid_methods\u001b[0m\u001b[1;33m:\u001b[0m\u001b[1;33m\u001b[0m\u001b[1;33m\u001b[0m\u001b[0m\n\u001b[1;32m---> 26\u001b[1;33m             \u001b[1;32mraise\u001b[0m \u001b[0mException\u001b[0m\u001b[1;33m(\u001b[0m\u001b[1;34mf'Method not supported. Choose one from {options}'\u001b[0m\u001b[1;33m)\u001b[0m\u001b[1;33m\u001b[0m\u001b[1;33m\u001b[0m\u001b[0m\n\u001b[0m\u001b[0;32m     27\u001b[0m \u001b[1;33m\u001b[0m\u001b[0m\n\u001b[0;32m     28\u001b[0m     \u001b[1;32mdef\u001b[0m \u001b[0massert_columns\u001b[0m\u001b[1;33m(\u001b[0m\u001b[0mself\u001b[0m\u001b[1;33m,\u001b[0m \u001b[0mdf_columns\u001b[0m\u001b[1;33m)\u001b[0m\u001b[1;33m:\u001b[0m\u001b[1;33m\u001b[0m\u001b[1;33m\u001b[0m\u001b[0m\n",
      "\u001b[1;31mException\u001b[0m: Method not supported. Choose one from `hashing_tfidf`, `tfidf`, `word2vec`."
     ]
    }
   ],
   "source": [
    "vectorizer = SparkVectorizer('questions', 'teste')\n",
    "vectorizer.fit_transform(df_text).limit(5).toPandas()"
   ]
  },
  {
   "cell_type": "markdown",
   "id": "ff9a98c4-3b61-4e84-b3cf-91590b4d618b",
   "metadata": {},
   "source": [
    "## Model"
   ]
  },
  {
   "cell_type": "markdown",
   "id": "d5588f7f-97a4-4a43-8e3f-738f69108eff",
   "metadata": {},
   "source": [
    "### Binary Classification"
   ]
  },
  {
   "cell_type": "code",
   "execution_count": 59,
   "id": "81f49241-27f1-4412-aef3-6febd3334c05",
   "metadata": {},
   "outputs": [],
   "source": [
    "from pyspark.ml.classification import LogisticRegression"
   ]
  },
  {
   "cell_type": "code",
   "execution_count": 60,
   "id": "1a025842-d2ca-4dd6-84a3-aabc6b0efa9d",
   "metadata": {},
   "outputs": [],
   "source": [
    "trainer = SparkTrainer()"
   ]
  },
  {
   "cell_type": "code",
   "execution_count": 61,
   "id": "dcb501a5-6e15-4503-8f8f-51908f189356",
   "metadata": {},
   "outputs": [],
   "source": [
    "df = df_train.unionByName(df_test)"
   ]
  },
  {
   "cell_type": "code",
   "execution_count": 62,
   "id": "d260594f-2069-4232-9627-980218ff91de",
   "metadata": {},
   "outputs": [],
   "source": [
    "processor = SparkPreprocessor({'zscore': 'Age'}, ['Pclass', 'Sex'], impute_strategy = 'mean')\n",
    "df = processor.fit_transform(df)"
   ]
  },
  {
   "cell_type": "code",
   "execution_count": 63,
   "id": "79cc70c3-3f68-4bfd-9987-e38ac1695767",
   "metadata": {},
   "outputs": [
    {
     "name": "stdout",
     "output_type": "stream",
     "text": [
      "Confusion Matrix\n",
      "+-------+---+---+\n",
      "|Outcome|  0|  1|\n",
      "+-------+---+---+\n",
      "|      0| 89| 18|\n",
      "|      1| 14| 50|\n",
      "+-------+---+---+\n",
      "\n",
      "\n",
      "Results\n",
      "+------------+-----------+\n",
      "|   Accuracy |   ROC AUC |\n",
      "+============+===========+\n",
      "|   0.812865 |  0.879308 |\n",
      "+------------+-----------+\n",
      "\n",
      "+-----------+-------------+----------+----------+\n",
      "|   Outcome |   Precision |   Recall |       F1 |\n",
      "+===========+=============+==========+==========+\n",
      "|         0 |    0.864078 | 0.831776 | 0.847619 |\n",
      "+-----------+-------------+----------+----------+\n",
      "|         1 |    0.735294 | 0.78125  | 0.757576 |\n",
      "+-----------+-------------+----------+----------+\n"
     ]
    }
   ],
   "source": [
    "model = trainer.train(df, True, LogisticRegression,  data_split=('train_test', {'test_size': 0.2}), labelCol = 'Survived')"
   ]
  },
  {
   "cell_type": "code",
   "execution_count": 64,
   "id": "4c44d34f-2ad4-47e2-b45d-27a5117576f2",
   "metadata": {},
   "outputs": [
    {
     "data": {
      "text/plain": [
       "{'model': LogisticRegressionModel: uid=LogisticRegression_7e9b6e6c4cc4, numClasses=2, numFeatures=6,\n",
       " 'model_instance': pyspark.ml.classification.LogisticRegressionModel,\n",
       " 'metrics': {'labels': {0: {'precision': 0.8640776699029126,\n",
       "    'recall': 0.8317757009345794,\n",
       "    'f1': 0.8476190476190476},\n",
       "   1: {'precision': 0.7352941176470589,\n",
       "    'recall': 0.78125,\n",
       "    'f1': 0.7575757575757576}},\n",
       "  'accuracy': 0.8128654970760234,\n",
       "  'roc_auc': 0.879307827102804},\n",
       " 'creation_date': datetime.date(2021, 10, 7)}"
      ]
     },
     "execution_count": 64,
     "metadata": {},
     "output_type": "execute_result"
    }
   ],
   "source": [
    "model.artifacts"
   ]
  },
  {
   "cell_type": "markdown",
   "id": "1db26084-baf8-44e3-aa3c-b04dc154ca1a",
   "metadata": {},
   "source": [
    "### Multiclass Classification"
   ]
  },
  {
   "cell_type": "code",
   "execution_count": 65,
   "id": "6d5c5537-6642-4de5-b5fd-58a8faf75379",
   "metadata": {},
   "outputs": [],
   "source": [
    "from pyspark.ml.classification import LogisticRegression"
   ]
  },
  {
   "cell_type": "code",
   "execution_count": 66,
   "id": "6875973f-0c49-4497-9220-c8f925c93742",
   "metadata": {},
   "outputs": [],
   "source": [
    "trainer = SparkTrainer()"
   ]
  },
  {
   "cell_type": "code",
   "execution_count": 67,
   "id": "caece989-ead7-4688-be26-4d5e8f49f7d0",
   "metadata": {},
   "outputs": [],
   "source": [
    "df = df_train.unionByName(df_test).withColumn('Survived', f.expr('case when rand() >= 0.7 then 2 else Survived end'))"
   ]
  },
  {
   "cell_type": "code",
   "execution_count": 68,
   "id": "04710e58-27f1-4740-884c-8ae6cbf00129",
   "metadata": {},
   "outputs": [
    {
     "data": {
      "text/html": [
       "<div>\n",
       "<style scoped>\n",
       "    .dataframe tbody tr th:only-of-type {\n",
       "        vertical-align: middle;\n",
       "    }\n",
       "\n",
       "    .dataframe tbody tr th {\n",
       "        vertical-align: top;\n",
       "    }\n",
       "\n",
       "    .dataframe thead th {\n",
       "        text-align: right;\n",
       "    }\n",
       "</style>\n",
       "<table border=\"1\" class=\"dataframe\">\n",
       "  <thead>\n",
       "    <tr style=\"text-align: right;\">\n",
       "      <th></th>\n",
       "      <th>Survived</th>\n",
       "      <th>count</th>\n",
       "    </tr>\n",
       "  </thead>\n",
       "  <tbody>\n",
       "    <tr>\n",
       "      <th>0</th>\n",
       "      <td>1</td>\n",
       "      <td>243</td>\n",
       "    </tr>\n",
       "    <tr>\n",
       "      <th>1</th>\n",
       "      <td>2</td>\n",
       "      <td>268</td>\n",
       "    </tr>\n",
       "    <tr>\n",
       "      <th>2</th>\n",
       "      <td>0</td>\n",
       "      <td>380</td>\n",
       "    </tr>\n",
       "  </tbody>\n",
       "</table>\n",
       "</div>"
      ],
      "text/plain": [
       "   Survived  count\n",
       "0         1    243\n",
       "1         2    268\n",
       "2         0    380"
      ]
     },
     "execution_count": 68,
     "metadata": {},
     "output_type": "execute_result"
    }
   ],
   "source": [
    "df.groupby('Survived').count().toPandas()"
   ]
  },
  {
   "cell_type": "code",
   "execution_count": 69,
   "id": "ca54ab65-d0ab-4aa4-a3e2-10be5ebaa130",
   "metadata": {},
   "outputs": [],
   "source": [
    "processor = SparkPreprocessor({'zscore': 'Age'}, ['Pclass', 'Sex'], impute_strategy = 'mean')\n",
    "df = processor.fit_transform(df)"
   ]
  },
  {
   "cell_type": "code",
   "execution_count": 70,
   "id": "f93275a6-13bb-43d8-9f01-e5799153ab9c",
   "metadata": {},
   "outputs": [
    {
     "name": "stdout",
     "output_type": "stream",
     "text": [
      "Confusion Matrix\n",
      "+-------+---+---+---+\n",
      "|Outcome|  0|  1|  2|\n",
      "+-------+---+---+---+\n",
      "|      0| 57|  4|  9|\n",
      "|      1| 10| 34|  9|\n",
      "|      2| 28| 12|  8|\n",
      "+-------+---+---+---+\n",
      "\n",
      "\n",
      "Results\n",
      "+------------+\n",
      "|   Accuracy |\n",
      "+============+\n",
      "|   0.578947 |\n",
      "+------------+\n",
      "\n",
      "+-----------+-------------+----------+----------+\n",
      "|   Outcome |   Precision |   Recall |       F1 |\n",
      "+===========+=============+==========+==========+\n",
      "|         0 |    0.6      | 0.814286 | 0.690909 |\n",
      "+-----------+-------------+----------+----------+\n",
      "|         1 |    0.68     | 0.641509 | 0.660194 |\n",
      "+-----------+-------------+----------+----------+\n",
      "|         2 |    0.307692 | 0.166667 | 0.216216 |\n",
      "+-----------+-------------+----------+----------+\n"
     ]
    }
   ],
   "source": [
    "model = trainer.train(df, True, LogisticRegression,  data_split=('train_test', {'test_size': 0.2}), labelCol = 'Survived', family='multinomial')"
   ]
  },
  {
   "cell_type": "code",
   "execution_count": 71,
   "id": "0b250be1-15d1-4510-8b86-d431d5f8f5bb",
   "metadata": {},
   "outputs": [
    {
     "data": {
      "text/plain": [
       "{'model': LogisticRegressionModel: uid=LogisticRegression_958eac7b4d1d, numClasses=3, numFeatures=6,\n",
       " 'model_instance': pyspark.ml.classification.LogisticRegressionModel,\n",
       " 'metrics': {0: {'f1': 0.6909090909090909,\n",
       "   'precision': 0.6,\n",
       "   'recall': 0.8142857142857143},\n",
       "  1: {'f1': 0.6601941747572816,\n",
       "   'precision': 0.68,\n",
       "   'recall': 0.6415094339622641},\n",
       "  2: {'f1': 0.21621621621621623,\n",
       "   'precision': 0.3076923076923077,\n",
       "   'recall': 0.16666666666666666}},\n",
       " 'creation_date': datetime.date(2021, 10, 7)}"
      ]
     },
     "execution_count": 71,
     "metadata": {},
     "output_type": "execute_result"
    }
   ],
   "source": [
    "model.artifacts"
   ]
  },
  {
   "cell_type": "markdown",
   "id": "bc2e8adf-3d13-4706-90ff-e8bbadd455f3",
   "metadata": {},
   "source": [
    "### Regression"
   ]
  },
  {
   "cell_type": "code",
   "execution_count": null,
   "id": "256f5a85-783f-4870-9cbc-1293ce0af021",
   "metadata": {},
   "outputs": [],
   "source": [
    "from pyspark.ml.regression import LinearRegression"
   ]
  },
  {
   "cell_type": "code",
   "execution_count": null,
   "id": "e4f58d8c-963d-4fca-98df-7eed0b5cc74d",
   "metadata": {},
   "outputs": [],
   "source": [
    "trainer = SparkTrainer()"
   ]
  },
  {
   "cell_type": "code",
   "execution_count": null,
   "id": "b4334d07-c009-44dd-8955-be39fd93f73e",
   "metadata": {},
   "outputs": [],
   "source": [
    "df = df_train.unionByName(df_test)"
   ]
  },
  {
   "cell_type": "code",
   "execution_count": null,
   "id": "45c9a582-649b-4bb8-bf77-667e5ab3345f",
   "metadata": {},
   "outputs": [],
   "source": [
    "processor = SparkPreprocessor(cat_cols = ['Pclass', 'Sex'], impute_strategy = 'mean')\n",
    "df = processor.fit_transform(df)"
   ]
  },
  {
   "cell_type": "code",
   "execution_count": null,
   "id": "b70555ad-d6d9-4458-afec-909f568a8de3",
   "metadata": {},
   "outputs": [],
   "source": [
    "from pyspark.ml.feature import Imputer\n",
    "\n",
    "imputer = Imputer(inputCol='Age', outputCol='Age')\n",
    "df = imputer.fit(df).transform(df)"
   ]
  },
  {
   "cell_type": "code",
   "execution_count": null,
   "id": "fc080f00-8566-4c22-a1ba-87d042622c4d",
   "metadata": {},
   "outputs": [],
   "source": [
    "model = trainer.train(df, False, LinearRegression,  data_split=('train_test', {'test_size': 0.2}), labelCol = 'Age')"
   ]
  },
  {
   "cell_type": "code",
   "execution_count": null,
   "id": "ebb76d3b-5ffb-4d09-87cb-984811330634",
   "metadata": {},
   "outputs": [],
   "source": [
    "model.artifacts"
   ]
  },
  {
   "cell_type": "markdown",
   "id": "d525fe36-39d6-4c94-964d-461ca3469685",
   "metadata": {},
   "source": [
    "#### Cross Validation"
   ]
  },
  {
   "cell_type": "code",
   "execution_count": null,
   "id": "fa3ddc0b-68e7-47e5-9656-3b11dbb171d4",
   "metadata": {},
   "outputs": [],
   "source": [
    "model = trainer.train(df, False, LinearRegression,  data_split=('cv', {'numFolds': 4, 'param_grid': {'regParam': [0, 1, 2]}}), labelCol = 'Age')"
   ]
  },
  {
   "cell_type": "code",
   "execution_count": null,
   "id": "1917fc7a-6efa-4ff1-825a-d78062c152dc",
   "metadata": {},
   "outputs": [],
   "source": [
    "model.artifacts"
   ]
  },
  {
   "cell_type": "code",
   "execution_count": null,
   "id": "bbcd286e-431d-4538-b550-d693a7dbd4e2",
   "metadata": {},
   "outputs": [],
   "source": [
    "evaluator = CustomRegressionEvaluator('mape', 'Age')\n",
    "split = ('cv', {'numFolds': 4, 'param_grid': {'regParam': [0, 1, 2], 'elasticNetParam': [0, 0.5, 1]}, 'evaluator': evaluator, })"
   ]
  },
  {
   "cell_type": "code",
   "execution_count": null,
   "id": "e4cf0ffb-5ad6-49d2-8cd9-11a4a6721242",
   "metadata": {},
   "outputs": [],
   "source": [
    "model = trainer.train(df, False, LinearRegression,  data_split=split, labelCol = 'Age')"
   ]
  },
  {
   "cell_type": "code",
   "execution_count": null,
   "id": "ca773bec-ea2c-4794-b805-8684a3afabd0",
   "metadata": {},
   "outputs": [],
   "source": [
    "model.artifacts"
   ]
  },
  {
   "cell_type": "markdown",
   "id": "a1f85ae9-9482-4fe5-8b19-a156c67ec71d",
   "metadata": {},
   "source": [
    "### Unsupervised Trainer"
   ]
  },
  {
   "cell_type": "code",
   "execution_count": null,
   "id": "db6d9a8b-5f6c-424f-88cf-5b172826988e",
   "metadata": {},
   "outputs": [],
   "source": [
    "from pyspark.ml.clustering import KMeans"
   ]
  },
  {
   "cell_type": "code",
   "execution_count": null,
   "id": "64b10861-89fc-40c9-a026-5670ad19ffdf",
   "metadata": {},
   "outputs": [],
   "source": [
    "trainer = SparkUnsupTrainer()"
   ]
  },
  {
   "cell_type": "code",
   "execution_count": null,
   "id": "56bfeff9-6a7a-46d3-96a8-c1d32394bf17",
   "metadata": {},
   "outputs": [],
   "source": [
    "df = df_train.unionByName(df_test)"
   ]
  },
  {
   "cell_type": "code",
   "execution_count": null,
   "id": "fe053fbc-cd71-4508-90fd-d00518c431b5",
   "metadata": {},
   "outputs": [],
   "source": [
    "processor = SparkPreprocessor({'robust': 'Age'}, impute_strategy = 'mean')\n",
    "df = processor.fit_transform(df)"
   ]
  },
  {
   "cell_type": "code",
   "execution_count": null,
   "id": "647d5121-85ac-463f-a05b-ab7fb2ba239d",
   "metadata": {},
   "outputs": [],
   "source": [
    "model = trainer.train(df, KMeans)"
   ]
  },
  {
   "cell_type": "code",
   "execution_count": null,
   "id": "658b2c83-56d9-4ae0-8dca-acb74979cb49",
   "metadata": {},
   "outputs": [],
   "source": [
    "model.artifacts"
   ]
  },
  {
   "cell_type": "markdown",
   "id": "5c32283e-fa8d-483a-b739-6f7a060665a6",
   "metadata": {},
   "source": [
    "#### Mudando a métrica de distância da validação"
   ]
  },
  {
   "cell_type": "code",
   "execution_count": null,
   "id": "aa9ecbca-c9ec-4a9e-aae9-9bdb9b666f74",
   "metadata": {},
   "outputs": [],
   "source": [
    "model = trainer.train(df, KMeans, metric_params={'distanceMeasure': 'cosine'})"
   ]
  },
  {
   "cell_type": "code",
   "execution_count": null,
   "id": "3cef4bf7-18cc-4732-8a75-d008ea4563f9",
   "metadata": {},
   "outputs": [],
   "source": [
    "model.artifacts"
   ]
  },
  {
   "cell_type": "markdown",
   "id": "44750b41-6140-4a6a-8dca-bd6b4e826621",
   "metadata": {},
   "source": [
    "#### Mudando a métrica de distância da clusterização"
   ]
  },
  {
   "cell_type": "code",
   "execution_count": null,
   "id": "39520601-58d6-447b-b9c6-2a1bf71bff93",
   "metadata": {},
   "outputs": [],
   "source": [
    "df = df_train.unionByName(df_test).withColumn('rand', f.rand())\n",
    "\n",
    "processor = SparkPreprocessor({'robust': ['Age', 'rand']}, impute_strategy = 'mean')\n",
    "df = processor.fit_transform(df)\n",
    "\n",
    "model = trainer.train(df, KMeans, metric_params={'distanceMeasure': 'cosine'}, k = 5, distanceMeasure = 'cosine')"
   ]
  },
  {
   "cell_type": "code",
   "execution_count": null,
   "id": "71131f07-ff3b-4fb7-80e0-16ac9a57b594",
   "metadata": {},
   "outputs": [],
   "source": [
    "model.artifacts"
   ]
  },
  {
   "cell_type": "markdown",
   "id": "bc012211-2bbf-4325-8461-42e69f823cb4",
   "metadata": {},
   "source": [
    "### Custom Metrics"
   ]
  },
  {
   "cell_type": "markdown",
   "id": "e08fe3e9-aa35-4b02-8bc6-c1fd6f5517e2",
   "metadata": {},
   "source": [
    "#### Binary Classification"
   ]
  },
  {
   "cell_type": "code",
   "execution_count": null,
   "id": "844979a3-811b-4f57-87f3-3599bb9cbc4e",
   "metadata": {},
   "outputs": [],
   "source": [
    "from pyspark.ml.classification import LogisticRegression"
   ]
  },
  {
   "cell_type": "code",
   "execution_count": null,
   "id": "d16de188-e3c6-4aab-aa71-50b15317c4c3",
   "metadata": {},
   "outputs": [],
   "source": [
    "metrics = ['accuracy','roc_auc', 'precision', 'recall', 'f1']"
   ]
  },
  {
   "cell_type": "code",
   "execution_count": null,
   "id": "a4b17c20-9b9e-45a2-aad8-7a7b6bad6e17",
   "metadata": {},
   "outputs": [],
   "source": [
    "processor = SparkPreprocessor({'robust': ['Age']}, ['Sex', 'Pclass'], impute_strategy = 'mean')\n",
    "df = processor.fit_transform(df_train)\n",
    "lr = LogisticRegression(labelCol = 'Survived')\n",
    "\n",
    "df_pred = lr.fit(df).transform(df)\n",
    "df_pred.limit(5).toPandas()"
   ]
  },
  {
   "cell_type": "code",
   "execution_count": null,
   "id": "dc286d23-5317-4da0-847d-b97621670982",
   "metadata": {},
   "outputs": [],
   "source": [
    "for metric in metrics:\n",
    "    evaluator = CustomBinaryEvaluator(metric, 'Survived')\n",
    "    print(metric, evaluator.evaluate(df_pred))"
   ]
  },
  {
   "cell_type": "code",
   "execution_count": null,
   "id": "8b1bf303-3b66-450c-bdef-39f67dd3c045",
   "metadata": {},
   "outputs": [],
   "source": [
    "for metric in metrics:\n",
    "    if metric not in ['accuracy', 'roc_auc']:\n",
    "        evaluator = CustomBinaryEvaluator(metric, 'Survived', 1)\n",
    "        print(metric, evaluator.evaluate(df_pred))"
   ]
  },
  {
   "cell_type": "markdown",
   "id": "d0b94161-8d03-49ec-979d-547aac11d0f6",
   "metadata": {},
   "source": [
    "#### Regression"
   ]
  },
  {
   "cell_type": "code",
   "execution_count": null,
   "id": "aa9c508a-b2c6-4784-bc07-40a15d3a5874",
   "metadata": {},
   "outputs": [],
   "source": [
    "from pyspark.ml.regression import LinearRegression\n",
    "from pyspark.ml.feature import Imputer"
   ]
  },
  {
   "cell_type": "code",
   "execution_count": null,
   "id": "8038e9ff-57cb-4bba-b66d-0d10779f48cf",
   "metadata": {},
   "outputs": [],
   "source": [
    "metrics = ['mape', 'smape', 'weighted_mape']"
   ]
  },
  {
   "cell_type": "code",
   "execution_count": null,
   "id": "0bb6bc66-b576-42b7-b9ec-9ee79232e4af",
   "metadata": {},
   "outputs": [],
   "source": [
    "processor = SparkPreprocessor(cat_cols = ['Sex', 'Pclass'], impute_strategy = 'mean')\n",
    "df = processor.fit_transform(df_train)\n",
    "\n",
    "imputer = Imputer(inputCol='Age', outputCol='Age')\n",
    "df = imputer.fit(df).transform(df)\n",
    "\n",
    "lr = LinearRegression(labelCol = 'Age')\n",
    "\n",
    "df_pred = lr.fit(df).transform(df)\n",
    "df_pred.limit(5).toPandas()"
   ]
  },
  {
   "cell_type": "code",
   "execution_count": null,
   "id": "8634c922-1647-47b5-b7ca-4ca841a7f578",
   "metadata": {},
   "outputs": [],
   "source": [
    "for metric in metrics:\n",
    "    evaluator = CustomRegressionEvaluator(metric, 'Age')\n",
    "    print(metric, evaluator.evaluate(df_pred))"
   ]
  },
  {
   "cell_type": "markdown",
   "id": "77f27c01-de58-4c3c-b24f-888dce2cf9cd",
   "metadata": {},
   "source": [
    "### Wrapper"
   ]
  },
  {
   "cell_type": "code",
   "execution_count": null,
   "id": "91829cd3-c5cd-4d90-85f8-77aea51c9551",
   "metadata": {},
   "outputs": [],
   "source": [
    "from pyspark.ml.classification import LogisticRegression"
   ]
  },
  {
   "cell_type": "code",
   "execution_count": null,
   "id": "681ec8da-1798-48de-9462-d211cc68884d",
   "metadata": {},
   "outputs": [],
   "source": [
    "trainer = SparkTrainer()"
   ]
  },
  {
   "cell_type": "code",
   "execution_count": null,
   "id": "ea819442-859d-487a-b177-c62e3d40582f",
   "metadata": {},
   "outputs": [],
   "source": [
    "df = df_train.unionByName(df_test)"
   ]
  },
  {
   "cell_type": "code",
   "execution_count": null,
   "id": "6fae9742-6411-44eb-be1d-1ee612996eb7",
   "metadata": {},
   "outputs": [],
   "source": [
    "processor = SparkPreprocessor({'zscore': 'Age'}, ['Pclass', 'Sex'], impute_strategy = 'mean')\n",
    "df = processor.fit_transform(df)"
   ]
  },
  {
   "cell_type": "code",
   "execution_count": null,
   "id": "1d5cdd0d-952c-4b5e-abfc-d20feeda9012",
   "metadata": {},
   "outputs": [],
   "source": [
    "model = trainer.train(df, True, LogisticRegression,  data_split=('train_test', {'test_size': 0.2}), labelCol = 'Survived')"
   ]
  },
  {
   "cell_type": "code",
   "execution_count": null,
   "id": "d619b03b-a342-4705-be78-23912c514c07",
   "metadata": {},
   "outputs": [],
   "source": [
    "model.artifacts"
   ]
  },
  {
   "cell_type": "code",
   "execution_count": null,
   "id": "15dd2baf-d0c1-488f-8eaa-ff828ca995d5",
   "metadata": {},
   "outputs": [],
   "source": [
    "model.predict(df).toPandas()"
   ]
  },
  {
   "cell_type": "code",
   "execution_count": null,
   "id": "2cc7ad5a-0f1d-44da-b3dc-ba4e9e9a81bd",
   "metadata": {},
   "outputs": [],
   "source": [
    "model.predict_proba(df).toPandas()"
   ]
  },
  {
   "cell_type": "code",
   "execution_count": null,
   "id": "1d1fcd32-06da-4e3d-8ce6-8d8133dbdfd5",
   "metadata": {},
   "outputs": [],
   "source": [
    "model.predict_proba(df, True).toPandas()"
   ]
  },
  {
   "cell_type": "code",
   "execution_count": null,
   "id": "27c5d5fc-fe2f-4890-8953-e65ab8fd0c5f",
   "metadata": {},
   "outputs": [],
   "source": [
    "model.save('teste')"
   ]
  },
  {
   "cell_type": "code",
   "execution_count": null,
   "id": "d7651206-7a4b-447d-a87b-2cfc9f4dd24f",
   "metadata": {},
   "outputs": [],
   "source": [
    "model.load('teste')"
   ]
  },
  {
   "cell_type": "code",
   "execution_count": null,
   "id": "829bdf68-7669-44af-a3f1-99afdad0bcc2",
   "metadata": {},
   "outputs": [],
   "source": [
    "model.get_metrics()"
   ]
  },
  {
   "cell_type": "code",
   "execution_count": null,
   "id": "d501ec54-486e-4f83-add2-55588ba840bc",
   "metadata": {},
   "outputs": [],
   "source": [
    "model.get_model()"
   ]
  },
  {
   "cell_type": "code",
   "execution_count": null,
   "id": "8f0d4e00-6d06-410f-b2b9-2d0563332e3c",
   "metadata": {},
   "outputs": [],
   "source": [
    "model.get_model_instance()"
   ]
  },
  {
   "cell_type": "markdown",
   "id": "bb376dd5-18a9-4a71-a312-e28b62f6119a",
   "metadata": {},
   "source": [
    "## Analysis"
   ]
  },
  {
   "cell_type": "markdown",
   "id": "a0aae547-419a-428a-a348-a0659969e7d8",
   "metadata": {},
   "source": [
    "### Cluster"
   ]
  },
  {
   "cell_type": "code",
   "execution_count": null,
   "id": "4599388a-c8f1-4d96-ab20-ddc3b8ae2fd0",
   "metadata": {},
   "outputs": [],
   "source": [
    "from pyspark.ml.clustering import KMeans"
   ]
  },
  {
   "cell_type": "code",
   "execution_count": null,
   "id": "802228f1-9e47-46c0-b029-215d04a5b782",
   "metadata": {},
   "outputs": [],
   "source": [
    "df = df_train.unionByName(df_test).withColumn('rand', f.rand())"
   ]
  },
  {
   "cell_type": "code",
   "execution_count": null,
   "id": "2930311f-19ed-48fa-b292-01f854b729cf",
   "metadata": {},
   "outputs": [],
   "source": [
    "processor = SparkPreprocessor({'robust': ['Age', 'rand']}, impute_strategy = 'mean')\n",
    "df = processor.fit_transform(df)"
   ]
  },
  {
   "cell_type": "code",
   "execution_count": null,
   "id": "1bab22b3-7912-4d92-a10e-469bb7ee6453",
   "metadata": {},
   "outputs": [],
   "source": [
    "cluster = SparkCluster()"
   ]
  },
  {
   "cell_type": "code",
   "execution_count": 91,
   "id": "ba5d0bf3-1801-4b88-9da9-a599704395e9",
   "metadata": {},
   "outputs": [
    {
     "data": {
      "image/png": "[encoded data removed]",
      "text/plain": [
       "<Figure size 432x288 with 1 Axes>"
      ]
     },
     "metadata": {
      "needs_background": "light"
     },
     "output_type": "display_data"
    },
    {
     "data": {
      "image/png": "[encoded data removed]",
      "text/plain": [
       "<Figure size 432x288 with 1 Axes>"
      ]
     },
     "metadata": {
      "needs_background": "light"
     },
     "output_type": "display_data"
    }
   ],
   "source": [
    "cluster.analyzeK(df)"
   ]
  },
  {
   "cell_type": "code",
   "execution_count": null,
   "id": "13b4c398-7f45-41a5-95f5-36872371dfac",
   "metadata": {},
   "outputs": [],
   "source": [
    "trainer = SparkUnsupTrainer()\n",
    "\n",
    "df_pred = trainer.train(df, KMeans).artifacts['model'].transform(df)"
   ]
  },
  {
   "cell_type": "code",
   "execution_count": null,
   "id": "30feeef1-6c22-4476-9a48-5e9910d0f07a",
   "metadata": {},
   "outputs": [],
   "source": [
    "df_pred.toPandas()"
   ]
  },
  {
   "cell_type": "code",
   "execution_count": null,
   "id": "ad591b81-8db6-4fc6-885b-4b58117597a0",
   "metadata": {},
   "outputs": [],
   "source": [
    "pdf = df_pred.toPandas()\n",
    "cluster.plot_cluster(pdf, 'Age', 'rand', 'prediction')"
   ]
  },
  {
   "cell_type": "markdown",
   "id": "dabe0258-5ed9-4111-a4ef-dfd540db7edd",
   "metadata": {},
   "source": [
    "### PCA"
   ]
  },
  {
   "cell_type": "code",
   "execution_count": null,
   "id": "3d9319f6-399a-46e0-998d-3a41bc31493b",
   "metadata": {},
   "outputs": [],
   "source": [
    "df = df_train.unionByName(df_test).withColumn('rand', f.rand()).withColumn('rand2', f.rand())\n",
    "\n",
    "processor = SparkPreprocessor({'robust': ['Age', 'rand', 'rand2']}, impute_strategy = 'mean')\n",
    "df = processor.fit_transform(df)\n",
    "df.toPandas()"
   ]
  },
  {
   "cell_type": "code",
   "execution_count": null,
   "id": "8feb50d9-57b5-4e9e-92c1-34783dd5872f",
   "metadata": {},
   "outputs": [],
   "source": [
    "pca = SparkPCA('features', k = 2)\n",
    "pca.fit_transform(df).toPandas()"
   ]
  },
  {
   "cell_type": "code",
   "execution_count": null,
   "id": "ca1ecb9c-886f-4c4b-8879-a83694bbf4a6",
   "metadata": {},
   "outputs": [],
   "source": [
    "pca = SparkPCA('features', k = 0.9)\n",
    "pca.fit_transform(df).toPandas()"
   ]
  },
  {
   "cell_type": "markdown",
   "id": "26333c11-7378-4362-aaf3-706c16166bdc",
   "metadata": {},
   "source": [
    "### Feature Selection"
   ]
  },
  {
   "cell_type": "code",
   "execution_count": null,
   "id": "9d7d2d3f-c79a-4daa-8112-a7ace73e3149",
   "metadata": {},
   "outputs": [],
   "source": [
    "df = df_train.unionByName(df_test)\n",
    "processor = SparkPreprocessor(cat_cols=['Pclass', 'Sex'])\n",
    "scaler = SparkScaler('Age', 'robust')\n",
    "\n",
    "df = (\n",
    "    scaler.fit_transform(processor.fit_transform(df))\n",
    "    .withColumnRenamed('features', 'cat_features')\n",
    "    .withColumnRenamed('robust_scaled', 'num_features')\n",
    ")\n",
    "df.toPandas()"
   ]
  },
  {
   "cell_type": "code",
   "execution_count": null,
   "id": "5702f717-ef74-435f-bd75-7637314e7878",
   "metadata": {},
   "outputs": [],
   "source": [
    "selector = SparkFS('num_features', 'cat_features', 'Survived', 'categorical')\n",
    "selector.transform(df).toPandas()"
   ]
  },
  {
   "cell_type": "code",
   "execution_count": null,
   "id": "133be753-830e-4807-8960-d64013b2dcfe",
   "metadata": {},
   "outputs": [],
   "source": [
    "selector = SparkFS('num_features', 'cat_features', 'Survived', 'categorical', selectionThreshold=1)\n",
    "selector.transform(df).select('features').toPandas()"
   ]
  },
  {
   "cell_type": "code",
   "execution_count": null,
   "id": "92292110-c814-4e7d-9504-37139acf5ba0",
   "metadata": {},
   "outputs": [],
   "source": [
    "df = df_train.unionByName(df_test).withColumn('rand', f.rand()).withColumn('rand2', f.rand())\n",
    "processor = SparkPreprocessor(cat_cols=['Pclass', 'Sex'])\n",
    "scaler = SparkScaler(['Age', 'rand', 'rand2'], 'robust')\n",
    "\n",
    "df = (\n",
    "    scaler.fit_transform(processor.fit_transform(df))\n",
    "    .withColumnRenamed('features', 'cat_features')\n",
    "    .withColumnRenamed('robust_scaled', 'num_features')\n",
    ")\n",
    "\n",
    "selector = SparkFS('num_features', 'cat_features', 'Survived', 'categorical', 'fpr')\n",
    "selector.transform(df).select('num_features', 'cat_features', 'selected_continuous', 'selected_categorical', 'features').toPandas()"
   ]
  }
 ],
 "metadata": {
  "kernelspec": {
   "display_name": "Python 3",
   "language": "python",
   "name": "python3"
  },
  "language_info": {
   "codemirror_mode": {
    "name": "ipython",
    "version": 3
   },
   "file_extension": ".py",
   "mimetype": "text/x-python",
   "name": "python",
   "nbconvert_exporter": "python",
   "pygments_lexer": "ipython3",
   "version": "3.8.8"
  }
 },
 "nbformat": 4,
 "nbformat_minor": 5
}
